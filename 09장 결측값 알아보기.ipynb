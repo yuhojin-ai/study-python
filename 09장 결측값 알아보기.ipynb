{
 "cells": [
  {
   "cell_type": "markdown",
   "id": "b429c576",
   "metadata": {},
   "source": [
    "## 09-1 결측값이란?"
   ]
  },
  {
   "cell_type": "code",
   "execution_count": null,
   "id": "c0d99b41",
   "metadata": {},
   "outputs": [],
   "source": [
    "import numpy as np"
   ]
  },
  {
   "cell_type": "code",
   "execution_count": null,
   "id": "5462ba53",
   "metadata": {},
   "outputs": [
    {
     "name": "stdout",
     "output_type": "stream",
     "text": [
      "False\n",
      "False\n",
      "False\n"
     ]
    }
   ],
   "source": [
    "from matplotlib.pylab import nan\n",
    "\n",
    "print(nan == True)\n",
    "print(nan == 0)\n",
    "print(nan == '')\n",
    "# print(NaN == NaN)\n",
    "# print(NaN == NAN)\n",
    "# print(NaN == nan)\n",
    "# print(nan == NAN)"
   ]
  },
  {
   "cell_type": "code",
   "execution_count": 49,
   "id": "46b33378",
   "metadata": {},
   "outputs": [
    {
     "name": "stdout",
     "output_type": "stream",
     "text": [
      "True\n"
     ]
    }
   ],
   "source": [
    "import pandas as pd\n",
    "\n",
    "# isnull(): 결측값을 예측한다다\n",
    "print(pd.isnull(nan))\n"
   ]
  },
  {
   "cell_type": "code",
   "execution_count": null,
   "id": "246821a1",
   "metadata": {},
   "outputs": [],
   "source": [
    "print(pd.notnull(NaN))\n",
    "print(pd.notnull(42))\n",
    "print(pd.notnull('missing'))"
   ]
  },
  {
   "cell_type": "markdown",
   "id": "43321e65",
   "metadata": {},
   "source": [
    "## 09-2 결측값은 왜 생길까?"
   ]
  },
  {
   "cell_type": "markdown",
   "id": "75db7078",
   "metadata": {},
   "source": [
    "### 데이터를 불러올 때 생기는 결측값"
   ]
  },
  {
   "cell_type": "code",
   "execution_count": null,
   "id": "b70f3791",
   "metadata": {},
   "outputs": [
    {
     "name": "stdout",
     "output_type": "stream",
     "text": [
      "   ident   site       dated\n",
      "0    619   DR-1  1927-02-08\n",
      "1    622   DR-1  1927-02-10\n",
      "2    734   DR-3  1939-01-07\n",
      "3    735   DR-3  1930-01-12\n",
      "4    751   DR-3  1930-02-26\n",
      "5    752   DR-3         NaN\n",
      "6    837  MSK-4  1932-01-14\n",
      "7    844   DR-1  1932-03-22\n"
     ]
    }
   ],
   "source": [
    "# read_csv()함수에는 결측값을 읽어 오는 방법 3가지\n",
    "# na_values, keep_default_na, na_filter\n",
    "# pd.read_csv(\"파일.csv\", na_values=[\"없음\", \"모름\", \"N/A\"])\n",
    "# na_filter=True: 자동 감지 nan,빈칸\n",
    "\n",
    "visited_file = '../data/survey_visited.csv'\n",
    "print(pd.read_csv(visited_file))"
   ]
  },
  {
   "cell_type": "code",
   "execution_count": null,
   "id": "98e9efc1",
   "metadata": {},
   "outputs": [
    {
     "name": "stdout",
     "output_type": "stream",
     "text": [
      "   ident   site       dated\n",
      "0    619   DR-1  1927-02-08\n",
      "1    622   DR-1  1927-02-10\n",
      "2    734   DR-3  1939-01-07\n",
      "3    735   DR-3  1930-01-12\n",
      "4    751   DR-3  1930-02-26\n",
      "5    752   DR-3            \n",
      "6    837  MSK-4  1932-01-14\n",
      "7    844   DR-1  1932-03-22\n"
     ]
    }
   ],
   "source": [
    "# keep_default_na = True 면\n",
    "# 'NaN', 'nan', 'NULL', 'null', '#N/A', ''(빈 문자열), 'N/A', 'NA', 'na', '--' 인식\n",
    "print(pd.read_csv(visited_file, keep_default_na=False))"
   ]
  },
  {
   "cell_type": "code",
   "execution_count": 20,
   "id": "7563aa04",
   "metadata": {},
   "outputs": [
    {
     "name": "stdout",
     "output_type": "stream",
     "text": [
      "   ident   site       dated\n",
      "0    619   DR-1  1927-02-08\n",
      "1    622   DR-1  1927-02-10\n",
      "2    734   DR-3  1939-01-07\n",
      "3    735   DR-3  1930-01-12\n",
      "4    751   DR-3  1930-02-26\n",
      "5    752   DR-3         NaN\n",
      "6    837  MSK-4  1932-01-14\n",
      "7    844   DR-1  1932-03-22\n"
     ]
    }
   ],
   "source": [
    "print(\n",
    "    pd.read_csv(visited_file, na_values=[\"\"], keep_default_na=False)\n",
    ")"
   ]
  },
  {
   "cell_type": "markdown",
   "id": "6fefe3d3",
   "metadata": {},
   "source": [
    "### 데이터를 연결할 때 생기는 결측값"
   ]
  },
  {
   "cell_type": "code",
   "execution_count": 21,
   "id": "85885456",
   "metadata": {},
   "outputs": [
    {
     "name": "stdout",
     "output_type": "stream",
     "text": [
      "   ident   site       dated\n",
      "0    619   DR-1  1927-02-08\n",
      "1    622   DR-1  1927-02-10\n",
      "2    734   DR-3  1939-01-07\n",
      "3    735   DR-3  1930-01-12\n",
      "4    751   DR-3  1930-02-26\n",
      "5    752   DR-3         NaN\n",
      "6    837  MSK-4  1932-01-14\n",
      "7    844   DR-1  1932-03-22\n"
     ]
    }
   ],
   "source": [
    "visited = pd.read_csv('../data/survey_visited.csv')\n",
    "survey = pd.read_csv('../data/survey_survey.csv')\n",
    "print(visited)"
   ]
  },
  {
   "cell_type": "code",
   "execution_count": 22,
   "id": "e3fdfd4c",
   "metadata": {},
   "outputs": [
    {
     "name": "stdout",
     "output_type": "stream",
     "text": [
      "    taken person quant  reading\n",
      "0     619   dyer   rad     9.82\n",
      "1     619   dyer   sal     0.13\n",
      "2     622   dyer   rad     7.80\n",
      "3     622   dyer   sal     0.09\n",
      "4     734     pb   rad     8.41\n",
      "5     734   lake   sal     0.05\n",
      "6     734     pb  temp   -21.50\n",
      "7     735     pb   rad     7.22\n",
      "8     735    NaN   sal     0.06\n",
      "9     735    NaN  temp   -26.00\n",
      "10    751     pb   rad     4.35\n",
      "11    751     pb  temp   -18.50\n",
      "12    751   lake   sal     0.10\n",
      "13    752   lake   rad     2.19\n",
      "14    752   lake   sal     0.09\n",
      "15    752   lake  temp   -16.00\n",
      "16    752    roe   sal    41.60\n",
      "17    837   lake   rad     1.46\n",
      "18    837   lake   sal     0.21\n",
      "19    837    roe   sal    22.50\n",
      "20    844    roe   rad    11.25\n"
     ]
    }
   ],
   "source": [
    "print(survey)"
   ]
  },
  {
   "cell_type": "code",
   "execution_count": 23,
   "id": "70053dda",
   "metadata": {},
   "outputs": [
    {
     "name": "stdout",
     "output_type": "stream",
     "text": [
      "    ident   site       dated  taken person quant  reading\n",
      "0     619   DR-1  1927-02-08    619   dyer   rad     9.82\n",
      "1     619   DR-1  1927-02-08    619   dyer   sal     0.13\n",
      "2     622   DR-1  1927-02-10    622   dyer   rad     7.80\n",
      "3     622   DR-1  1927-02-10    622   dyer   sal     0.09\n",
      "4     734   DR-3  1939-01-07    734     pb   rad     8.41\n",
      "5     734   DR-3  1939-01-07    734   lake   sal     0.05\n",
      "6     734   DR-3  1939-01-07    734     pb  temp   -21.50\n",
      "7     735   DR-3  1930-01-12    735     pb   rad     7.22\n",
      "8     735   DR-3  1930-01-12    735    NaN   sal     0.06\n",
      "9     735   DR-3  1930-01-12    735    NaN  temp   -26.00\n",
      "10    751   DR-3  1930-02-26    751     pb   rad     4.35\n",
      "11    751   DR-3  1930-02-26    751     pb  temp   -18.50\n",
      "12    751   DR-3  1930-02-26    751   lake   sal     0.10\n",
      "13    752   DR-3         NaN    752   lake   rad     2.19\n",
      "14    752   DR-3         NaN    752   lake   sal     0.09\n",
      "15    752   DR-3         NaN    752   lake  temp   -16.00\n",
      "16    752   DR-3         NaN    752    roe   sal    41.60\n",
      "17    837  MSK-4  1932-01-14    837   lake   rad     1.46\n",
      "18    837  MSK-4  1932-01-14    837   lake   sal     0.21\n",
      "19    837  MSK-4  1932-01-14    837    roe   sal    22.50\n",
      "20    844   DR-1  1932-03-22    844    roe   rad    11.25\n"
     ]
    }
   ],
   "source": [
    "vs = visited.merge(survey, left_on='ident', right_on='taken')\n",
    "print(vs)"
   ]
  },
  {
   "cell_type": "markdown",
   "id": "00745361",
   "metadata": {},
   "source": [
    "### 직접 입력한 결측값"
   ]
  },
  {
   "cell_type": "code",
   "execution_count": 24,
   "id": "c877f1cb",
   "metadata": {},
   "outputs": [
    {
     "name": "stdout",
     "output_type": "stream",
     "text": [
      "goat      4.0\n",
      "amoeba    NaN\n",
      "dtype: float64\n"
     ]
    }
   ],
   "source": [
    "num_legs = pd.Series({'goat': 4, 'amoeba': nan})\n",
    "print(num_legs)"
   ]
  },
  {
   "cell_type": "code",
   "execution_count": 43,
   "id": "ced6c3c0",
   "metadata": {},
   "outputs": [
    {
     "name": "stdout",
     "output_type": "stream",
     "text": [
      "                Name    Occupation        Born        Died  missing\n",
      "0  Rosaline Franklin       Chemist  1920-07-25  1958-04-16      NaN\n",
      "1     William Gosset  Statistician  1876-06-13  1937-10-16      NaN\n"
     ]
    }
   ],
   "source": [
    "scientists = pd.DataFrame(\n",
    "    {\n",
    "        \"Name\": [\"Rosaline Franklin\", \"William Gosset\"],\n",
    "        \"Occupation\": [\"Chemist\", \"Statistician\"],\n",
    "        \"Born\": [\"1920-07-25\", \"1876-06-13\"],\n",
    "        \"Died\": [\"1958-04-16\", \"1937-10-16\"],\n",
    "        \"missing\": [nan, nan],\n",
    "    }\n",
    ")\n",
    "\n",
    "print(scientists)"
   ]
  },
  {
   "cell_type": "code",
   "execution_count": 44,
   "id": "8f79e95a",
   "metadata": {},
   "outputs": [
    {
     "name": "stdout",
     "output_type": "stream",
     "text": [
      "Name           object\n",
      "Occupation     object\n",
      "Born           object\n",
      "Died           object\n",
      "missing       float64\n",
      "dtype: object\n"
     ]
    }
   ],
   "source": [
    "print(scientists.dtypes)"
   ]
  },
  {
   "cell_type": "code",
   "execution_count": 45,
   "id": "b5c4624c",
   "metadata": {},
   "outputs": [
    {
     "name": "stdout",
     "output_type": "stream",
     "text": [
      "                Name    Occupation        Born        Died  missing\n",
      "0  Rosaline Franklin       Chemist  1920-07-25  1958-04-16      NaN\n",
      "1     William Gosset  Statistician  1876-06-13  1937-10-16      NaN\n"
     ]
    }
   ],
   "source": [
    "scientists = pd.DataFrame(\n",
    "    {\n",
    "        \"Name\": [\"Rosaline Franklin\", \"William Gosset\"],\n",
    "        \"Occupation\": [\"Chemist\", \"Statistician\"],\n",
    "        \"Born\": [\"1920-07-25\", \"1876-06-13\"],\n",
    "        \"Died\": [\"1958-04-16\", \"1937-10-16\"],\n",
    "    }\n",
    ")\n",
    "\n",
    "scientists[\"missing\"] = nan\n",
    "print(scientists)"
   ]
  },
  {
   "cell_type": "markdown",
   "id": "30065be1",
   "metadata": {},
   "source": [
    "### 인덱스를 다시 설정할 때 생기는 결측값"
   ]
  },
  {
   "cell_type": "code",
   "execution_count": 46,
   "id": "39d139f1",
   "metadata": {},
   "outputs": [
    {
     "name": "stdout",
     "output_type": "stream",
     "text": [
      "year\n",
      "1952    49.057620\n",
      "1957    51.507401\n",
      "1962    53.609249\n",
      "1967    55.678290\n",
      "1972    57.647386\n",
      "1977    59.570157\n",
      "1982    61.533197\n",
      "1987    63.212613\n",
      "1992    64.160338\n",
      "1997    65.014676\n",
      "2002    65.694923\n",
      "2007    67.007423\n",
      "Name: lifeExp, dtype: float64\n"
     ]
    }
   ],
   "source": [
    "gapminder = pd.read_csv('../data/gapminder.tsv', sep='\\t')\n",
    "\n",
    "life_exp = gapminder.groupby(['year'])['lifeExp'].mean()\n",
    "print(life_exp)"
   ]
  },
  {
   "cell_type": "code",
   "execution_count": 47,
   "id": "adaf713b",
   "metadata": {},
   "outputs": [
    {
     "name": "stdout",
     "output_type": "stream",
     "text": [
      "year\n",
      "2002    65.694923\n",
      "2007    67.007423\n",
      "Name: lifeExp, dtype: float64\n"
     ]
    }
   ],
   "source": [
    "y2000 = life_exp[life_exp.index > 2000]\n",
    "print(y2000)"
   ]
  },
  {
   "cell_type": "code",
   "execution_count": null,
   "id": "c1dacc84",
   "metadata": {},
   "outputs": [
    {
     "name": "stdout",
     "output_type": "stream",
     "text": [
      "year\n",
      "2000          NaN\n",
      "2001          NaN\n",
      "2002    65.694923\n",
      "2003          NaN\n",
      "2004          NaN\n",
      "2005          NaN\n",
      "2006          NaN\n",
      "2007    67.007423\n",
      "2008          NaN\n",
      "2009          NaN\n",
      "Name: lifeExp, dtype: float64\n"
     ]
    }
   ],
   "source": [
    "# reindex(): 인덱스 새로 부여여\n",
    "print(y2000.reindex(range(2000, 2010)))"
   ]
  },
  {
   "cell_type": "markdown",
   "id": "dd493f1e",
   "metadata": {},
   "source": [
    "## 09-3 결측값 다루기"
   ]
  },
  {
   "cell_type": "markdown",
   "id": "206af377",
   "metadata": {},
   "source": [
    "### 결측값 처리하기"
   ]
  },
  {
   "cell_type": "markdown",
   "id": "eeb2cb0e",
   "metadata": {},
   "source": [
    "#### [Do It! 실습] 결측값 개수 구하기"
   ]
  },
  {
   "cell_type": "code",
   "execution_count": 50,
   "id": "44df9df2",
   "metadata": {},
   "outputs": [
    {
     "name": "stdout",
     "output_type": "stream",
     "text": [
      "           Date  Day  Cases_Guinea  Cases_Liberia  Cases_SierraLeone  \\\n",
      "0      1/5/2015  289        2776.0            NaN            10030.0   \n",
      "1      1/4/2015  288        2775.0            NaN             9780.0   \n",
      "2      1/3/2015  287        2769.0         8166.0             9722.0   \n",
      "3      1/2/2015  286           NaN         8157.0                NaN   \n",
      "4    12/31/2014  284        2730.0         8115.0             9633.0   \n",
      "..          ...  ...           ...            ...                ...   \n",
      "117   3/27/2014    5         103.0            8.0                6.0   \n",
      "118   3/26/2014    4          86.0            NaN                NaN   \n",
      "119   3/25/2014    3          86.0            NaN                NaN   \n",
      "120   3/24/2014    2          86.0            NaN                NaN   \n",
      "121   3/22/2014    0          49.0            NaN                NaN   \n",
      "\n",
      "     Cases_Nigeria  Cases_Senegal  Cases_UnitedStates  Cases_Spain  \\\n",
      "0              NaN            NaN                 NaN          NaN   \n",
      "1              NaN            NaN                 NaN          NaN   \n",
      "2              NaN            NaN                 NaN          NaN   \n",
      "3              NaN            NaN                 NaN          NaN   \n",
      "4              NaN            NaN                 NaN          NaN   \n",
      "..             ...            ...                 ...          ...   \n",
      "117            NaN            NaN                 NaN          NaN   \n",
      "118            NaN            NaN                 NaN          NaN   \n",
      "119            NaN            NaN                 NaN          NaN   \n",
      "120            NaN            NaN                 NaN          NaN   \n",
      "121            NaN            NaN                 NaN          NaN   \n",
      "\n",
      "     Cases_Mali  Deaths_Guinea  Deaths_Liberia  Deaths_SierraLeone  \\\n",
      "0           NaN         1786.0             NaN              2977.0   \n",
      "1           NaN         1781.0             NaN              2943.0   \n",
      "2           NaN         1767.0          3496.0              2915.0   \n",
      "3           NaN            NaN          3496.0                 NaN   \n",
      "4           NaN         1739.0          3471.0              2827.0   \n",
      "..          ...            ...             ...                 ...   \n",
      "117         NaN           66.0             6.0                 5.0   \n",
      "118         NaN           62.0             NaN                 NaN   \n",
      "119         NaN           60.0             NaN                 NaN   \n",
      "120         NaN           59.0             NaN                 NaN   \n",
      "121         NaN           29.0             NaN                 NaN   \n",
      "\n",
      "     Deaths_Nigeria  Deaths_Senegal  Deaths_UnitedStates  Deaths_Spain  \\\n",
      "0               NaN             NaN                  NaN           NaN   \n",
      "1               NaN             NaN                  NaN           NaN   \n",
      "2               NaN             NaN                  NaN           NaN   \n",
      "3               NaN             NaN                  NaN           NaN   \n",
      "4               NaN             NaN                  NaN           NaN   \n",
      "..              ...             ...                  ...           ...   \n",
      "117             NaN             NaN                  NaN           NaN   \n",
      "118             NaN             NaN                  NaN           NaN   \n",
      "119             NaN             NaN                  NaN           NaN   \n",
      "120             NaN             NaN                  NaN           NaN   \n",
      "121             NaN             NaN                  NaN           NaN   \n",
      "\n",
      "     Deaths_Mali  \n",
      "0            NaN  \n",
      "1            NaN  \n",
      "2            NaN  \n",
      "3            NaN  \n",
      "4            NaN  \n",
      "..           ...  \n",
      "117          NaN  \n",
      "118          NaN  \n",
      "119          NaN  \n",
      "120          NaN  \n",
      "121          NaN  \n",
      "\n",
      "[122 rows x 18 columns]\n"
     ]
    }
   ],
   "source": [
    "ebola = pd.read_csv('../data/country_timeseries.csv')\n",
    "\n",
    "print(ebola)"
   ]
  },
  {
   "cell_type": "code",
   "execution_count": 51,
   "id": "2bcf1a43",
   "metadata": {},
   "outputs": [
    {
     "name": "stdout",
     "output_type": "stream",
     "text": [
      "Date                   122\n",
      "Day                    122\n",
      "Cases_Guinea            93\n",
      "Cases_Liberia           83\n",
      "Cases_SierraLeone       87\n",
      "Cases_Nigeria           38\n",
      "Cases_Senegal           25\n",
      "Cases_UnitedStates      18\n",
      "Cases_Spain             16\n",
      "Cases_Mali              12\n",
      "Deaths_Guinea           92\n",
      "Deaths_Liberia          81\n",
      "Deaths_SierraLeone      87\n",
      "Deaths_Nigeria          38\n",
      "Deaths_Senegal          22\n",
      "Deaths_UnitedStates     18\n",
      "Deaths_Spain            16\n",
      "Deaths_Mali             12\n",
      "dtype: int64\n"
     ]
    }
   ],
   "source": [
    "print(ebola.count())"
   ]
  },
  {
   "cell_type": "code",
   "execution_count": 28,
   "id": "60bb7b4c",
   "metadata": {},
   "outputs": [
    {
     "name": "stdout",
     "output_type": "stream",
     "text": [
      "<class 'pandas.core.frame.DataFrame'>\n",
      "RangeIndex: 122 entries, 0 to 121\n",
      "Data columns (total 18 columns):\n",
      " #   Column               Non-Null Count  Dtype  \n",
      "---  ------               --------------  -----  \n",
      " 0   Date                 122 non-null    object \n",
      " 1   Day                  122 non-null    int64  \n",
      " 2   Cases_Guinea         93 non-null     float64\n",
      " 3   Cases_Liberia        83 non-null     float64\n",
      " 4   Cases_SierraLeone    87 non-null     float64\n",
      " 5   Cases_Nigeria        38 non-null     float64\n",
      " 6   Cases_Senegal        25 non-null     float64\n",
      " 7   Cases_UnitedStates   18 non-null     float64\n",
      " 8   Cases_Spain          16 non-null     float64\n",
      " 9   Cases_Mali           12 non-null     float64\n",
      " 10  Deaths_Guinea        92 non-null     float64\n",
      " 11  Deaths_Liberia       81 non-null     float64\n",
      " 12  Deaths_SierraLeone   87 non-null     float64\n",
      " 13  Deaths_Nigeria       38 non-null     float64\n",
      " 14  Deaths_Senegal       22 non-null     float64\n",
      " 15  Deaths_UnitedStates  18 non-null     float64\n",
      " 16  Deaths_Spain         16 non-null     float64\n",
      " 17  Deaths_Mali          12 non-null     float64\n",
      "dtypes: float64(16), int64(1), object(1)\n",
      "memory usage: 17.3+ KB\n"
     ]
    }
   ],
   "source": [
    "ebola.info()"
   ]
  },
  {
   "cell_type": "code",
   "execution_count": 29,
   "id": "af6bc5c7",
   "metadata": {},
   "outputs": [
    {
     "name": "stdout",
     "output_type": "stream",
     "text": [
      "Date                     0\n",
      "Day                      0\n",
      "Cases_Guinea            29\n",
      "Cases_Liberia           39\n",
      "Cases_SierraLeone       35\n",
      "Cases_Nigeria           84\n",
      "Cases_Senegal           97\n",
      "Cases_UnitedStates     104\n",
      "Cases_Spain            106\n",
      "Cases_Mali             110\n",
      "Deaths_Guinea           30\n",
      "Deaths_Liberia          41\n",
      "Deaths_SierraLeone      35\n",
      "Deaths_Nigeria          84\n",
      "Deaths_Senegal         100\n",
      "Deaths_UnitedStates    104\n",
      "Deaths_Spain           106\n",
      "Deaths_Mali            110\n",
      "dtype: int64\n"
     ]
    }
   ],
   "source": [
    "num_rows = ebola.shape[0]\n",
    "num_missing = num_rows - ebola.count()\n",
    "print(num_missing)"
   ]
  },
  {
   "cell_type": "code",
   "execution_count": 52,
   "id": "391e4535",
   "metadata": {},
   "outputs": [
    {
     "name": "stdout",
     "output_type": "stream",
     "text": [
      "1214\n"
     ]
    }
   ],
   "source": [
    "import numpy as np\n",
    "\n",
    "print(np.count_nonzero(ebola.isnull()))"
   ]
  },
  {
   "cell_type": "code",
   "execution_count": 58,
   "id": "08487d7b",
   "metadata": {},
   "outputs": [
    {
     "name": "stdout",
     "output_type": "stream",
     "text": [
      "      Date    Day  Cases_Guinea  Cases_Liberia  Cases_SierraLeone  \\\n",
      "0    False  False         False           True              False   \n",
      "1    False  False         False           True              False   \n",
      "2    False  False         False          False              False   \n",
      "3    False  False          True          False               True   \n",
      "4    False  False         False          False              False   \n",
      "..     ...    ...           ...            ...                ...   \n",
      "117  False  False         False          False              False   \n",
      "118  False  False         False           True               True   \n",
      "119  False  False         False           True               True   \n",
      "120  False  False         False           True               True   \n",
      "121  False  False         False           True               True   \n",
      "\n",
      "     Cases_Nigeria  Cases_Senegal  Cases_UnitedStates  Cases_Spain  \\\n",
      "0             True           True                True         True   \n",
      "1             True           True                True         True   \n",
      "2             True           True                True         True   \n",
      "3             True           True                True         True   \n",
      "4             True           True                True         True   \n",
      "..             ...            ...                 ...          ...   \n",
      "117           True           True                True         True   \n",
      "118           True           True                True         True   \n",
      "119           True           True                True         True   \n",
      "120           True           True                True         True   \n",
      "121           True           True                True         True   \n",
      "\n",
      "     Cases_Mali  Deaths_Guinea  Deaths_Liberia  Deaths_SierraLeone  \\\n",
      "0          True          False            True               False   \n",
      "1          True          False            True               False   \n",
      "2          True          False           False               False   \n",
      "3          True           True           False                True   \n",
      "4          True          False           False               False   \n",
      "..          ...            ...             ...                 ...   \n",
      "117        True          False           False               False   \n",
      "118        True          False            True                True   \n",
      "119        True          False            True                True   \n",
      "120        True          False            True                True   \n",
      "121        True          False            True                True   \n",
      "\n",
      "     Deaths_Nigeria  Deaths_Senegal  Deaths_UnitedStates  Deaths_Spain  \\\n",
      "0              True            True                 True          True   \n",
      "1              True            True                 True          True   \n",
      "2              True            True                 True          True   \n",
      "3              True            True                 True          True   \n",
      "4              True            True                 True          True   \n",
      "..              ...             ...                  ...           ...   \n",
      "117            True            True                 True          True   \n",
      "118            True            True                 True          True   \n",
      "119            True            True                 True          True   \n",
      "120            True            True                 True          True   \n",
      "121            True            True                 True          True   \n",
      "\n",
      "     Deaths_Mali  \n",
      "0           True  \n",
      "1           True  \n",
      "2           True  \n",
      "3           True  \n",
      "4           True  \n",
      "..           ...  \n",
      "117         True  \n",
      "118         True  \n",
      "119         True  \n",
      "120         True  \n",
      "121         True  \n",
      "\n",
      "[122 rows x 18 columns]\n"
     ]
    }
   ],
   "source": [
    "print(ebola.isnull())"
   ]
  },
  {
   "cell_type": "code",
   "execution_count": 31,
   "id": "4aab27dd",
   "metadata": {},
   "outputs": [
    {
     "name": "stdout",
     "output_type": "stream",
     "text": [
      "29\n"
     ]
    }
   ],
   "source": [
    "print(np.count_nonzero(ebola['Cases_Guinea'].isnull()))"
   ]
  },
  {
   "cell_type": "code",
   "execution_count": null,
   "id": "6f0b05fa",
   "metadata": {},
   "outputs": [
    {
     "name": "stdout",
     "output_type": "stream",
     "text": [
      "Cases_Guinea\n",
      "NaN      29\n",
      "86.0      3\n",
      "112.0     2\n",
      "495.0     2\n",
      "390.0     2\n",
      "         ..\n",
      "143.0     1\n",
      "122.0     1\n",
      "127.0     1\n",
      "103.0     1\n",
      "49.0      1\n",
      "Name: count, Length: 89, dtype: int64\n"
     ]
    }
   ],
   "source": [
    "# value_counts(dropna=False): 널값도 포함해서 고유값 카운트트\n",
    "cnts = ebola.Cases_Guinea.value_counts(dropna=False)\n",
    "print(cnts)"
   ]
  },
  {
   "cell_type": "code",
   "execution_count": 33,
   "id": "b48c3d16",
   "metadata": {},
   "outputs": [
    {
     "name": "stdout",
     "output_type": "stream",
     "text": [
      "Cases_Guinea\n",
      "NaN    29\n",
      "Name: count, dtype: int64\n"
     ]
    }
   ],
   "source": [
    "print(cnts.loc[pd.isnull(cnts.index)])"
   ]
  },
  {
   "cell_type": "code",
   "execution_count": 59,
   "id": "0bb986c4",
   "metadata": {},
   "outputs": [
    {
     "data": {
      "text/plain": [
       "array([ True, False, False, False, False, False, False, False, False,\n",
       "       False, False, False, False, False, False, False, False, False,\n",
       "       False, False, False, False, False, False, False, False, False,\n",
       "       False, False, False, False, False, False, False, False, False,\n",
       "       False, False, False, False, False, False, False, False, False,\n",
       "       False, False, False, False, False, False, False, False, False,\n",
       "       False, False, False, False, False, False, False, False, False,\n",
       "       False, False, False, False, False, False, False, False, False,\n",
       "       False, False, False, False, False, False, False, False, False,\n",
       "       False, False, False, False, False, False, False, False])"
      ]
     },
     "execution_count": 59,
     "metadata": {},
     "output_type": "execute_result"
    }
   ],
   "source": [
    "pd.isnull(cnts.index)"
   ]
  },
  {
   "cell_type": "code",
   "execution_count": null,
   "id": "57a2274b",
   "metadata": {},
   "outputs": [
    {
     "name": "stdout",
     "output_type": "stream",
     "text": [
      "29\n"
     ]
    }
   ],
   "source": [
    "# isnull()이 참일 경우 sum()이 더해준다\n",
    "print(ebola.Cases_Guinea.isnull().sum())"
   ]
  },
  {
   "cell_type": "markdown",
   "id": "0e7e81a0",
   "metadata": {},
   "source": [
    "#### [Do It! 실습] 결측값 대체하기"
   ]
  },
  {
   "cell_type": "code",
   "execution_count": 35,
   "id": "1dcc453b",
   "metadata": {},
   "outputs": [
    {
     "name": "stdout",
     "output_type": "stream",
     "text": [
      "           Date  Day  Cases_Guinea  Cases_Liberia  Cases_SierraLeone\n",
      "0      1/5/2015  289        2776.0            0.0            10030.0\n",
      "1      1/4/2015  288        2775.0            0.0             9780.0\n",
      "2      1/3/2015  287        2769.0         8166.0             9722.0\n",
      "3      1/2/2015  286           0.0         8157.0                0.0\n",
      "4    12/31/2014  284        2730.0         8115.0             9633.0\n",
      "..          ...  ...           ...            ...                ...\n",
      "117   3/27/2014    5         103.0            8.0                6.0\n",
      "118   3/26/2014    4          86.0            0.0                0.0\n",
      "119   3/25/2014    3          86.0            0.0                0.0\n",
      "120   3/24/2014    2          86.0            0.0                0.0\n",
      "121   3/22/2014    0          49.0            0.0                0.0\n",
      "\n",
      "[122 rows x 5 columns]\n"
     ]
    }
   ],
   "source": [
    "print(ebola.fillna(0).iloc[:, 0:5])"
   ]
  },
  {
   "cell_type": "markdown",
   "id": "9d578a48",
   "metadata": {},
   "source": [
    "#### [Do It! 실습] 정방향 채우기"
   ]
  },
  {
   "cell_type": "code",
   "execution_count": null,
   "id": "07f11a74",
   "metadata": {},
   "outputs": [
    {
     "name": "stdout",
     "output_type": "stream",
     "text": [
      "           Date  Day  Cases_Guinea  Cases_Liberia  Cases_SierraLeone\n",
      "0      1/5/2015  289        2776.0            NaN            10030.0\n",
      "1      1/4/2015  288        2775.0            NaN             9780.0\n",
      "2      1/3/2015  287        2769.0         8166.0             9722.0\n",
      "3      1/2/2015  286        2769.0         8157.0             9722.0\n",
      "4    12/31/2014  284        2730.0         8115.0             9633.0\n",
      "..          ...  ...           ...            ...                ...\n",
      "117   3/27/2014    5         103.0            8.0                6.0\n",
      "118   3/26/2014    4          86.0            8.0                6.0\n",
      "119   3/25/2014    3          86.0            8.0                6.0\n",
      "120   3/24/2014    2          86.0            8.0                6.0\n",
      "121   3/22/2014    0          49.0            8.0                6.0\n",
      "\n",
      "[122 rows x 5 columns]\n"
     ]
    },
    {
     "name": "stderr",
     "output_type": "stream",
     "text": [
      "C:\\Users\\asia\\AppData\\Local\\Temp\\ipykernel_20976\\2061892795.py:1: FutureWarning: DataFrame.fillna with 'method' is deprecated and will raise in a future version. Use obj.ffill() or obj.bfill() instead.\n",
      "  print(ebola.fillna(method='ffill').iloc[:, 0:5])\n"
     ]
    }
   ],
   "source": [
    "# fillna(method='ffill')는 **NaN(결측값)**을 그 위(앞)에 있는 값으로 채워라는 의미\n",
    "print(ebola.fillna(method='ffill').iloc[:, 0:5])"
   ]
  },
  {
   "cell_type": "markdown",
   "id": "3c90f770",
   "metadata": {},
   "source": [
    "#### [Do It! 실습] 역방향 채우기"
   ]
  },
  {
   "cell_type": "code",
   "execution_count": 37,
   "id": "8ca9e447",
   "metadata": {},
   "outputs": [
    {
     "name": "stdout",
     "output_type": "stream",
     "text": [
      "           Date  Day  Cases_Guinea  Cases_Liberia  Cases_SierraLeone\n",
      "0      1/5/2015  289        2776.0         8166.0            10030.0\n",
      "1      1/4/2015  288        2775.0         8166.0             9780.0\n",
      "2      1/3/2015  287        2769.0         8166.0             9722.0\n",
      "3      1/2/2015  286        2730.0         8157.0             9633.0\n",
      "4    12/31/2014  284        2730.0         8115.0             9633.0\n",
      "..          ...  ...           ...            ...                ...\n",
      "117   3/27/2014    5         103.0            8.0                6.0\n",
      "118   3/26/2014    4          86.0            NaN                NaN\n",
      "119   3/25/2014    3          86.0            NaN                NaN\n",
      "120   3/24/2014    2          86.0            NaN                NaN\n",
      "121   3/22/2014    0          49.0            NaN                NaN\n",
      "\n",
      "[122 rows x 5 columns]\n"
     ]
    },
    {
     "name": "stderr",
     "output_type": "stream",
     "text": [
      "C:\\Users\\asia\\AppData\\Local\\Temp\\ipykernel_20976\\3966631446.py:1: FutureWarning: DataFrame.fillna with 'method' is deprecated and will raise in a future version. Use obj.ffill() or obj.bfill() instead.\n",
      "  print(ebola.fillna(method='bfill').iloc[:, 0:5])\n"
     ]
    }
   ],
   "source": [
    "print(ebola.fillna(method='bfill').iloc[:, 0:5])"
   ]
  },
  {
   "cell_type": "markdown",
   "id": "96196daf",
   "metadata": {},
   "source": [
    "#### [Do It! 실습] 보간법으로 채우기"
   ]
  },
  {
   "cell_type": "code",
   "execution_count": null,
   "id": "9ff00845",
   "metadata": {},
   "outputs": [
    {
     "name": "stdout",
     "output_type": "stream",
     "text": [
      "           Date  Day  Cases_Guinea  Cases_Liberia  Cases_SierraLeone\n",
      "0      1/5/2015  289        2776.0            NaN            10030.0\n",
      "1      1/4/2015  288        2775.0            NaN             9780.0\n",
      "2      1/3/2015  287        2769.0         8166.0             9722.0\n",
      "3      1/2/2015  286        2749.5         8157.0             9677.5\n",
      "4    12/31/2014  284        2730.0         8115.0             9633.0\n",
      "..          ...  ...           ...            ...                ...\n",
      "117   3/27/2014    5         103.0            8.0                6.0\n",
      "118   3/26/2014    4          86.0            8.0                6.0\n",
      "119   3/25/2014    3          86.0            8.0                6.0\n",
      "120   3/24/2014    2          86.0            8.0                6.0\n",
      "121   3/22/2014    0          49.0            8.0                6.0\n",
      "\n",
      "[122 rows x 5 columns]\n"
     ]
    },
    {
     "name": "stderr",
     "output_type": "stream",
     "text": [
      "C:\\Users\\asia\\AppData\\Local\\Temp\\ipykernel_20976\\3754662095.py:1: FutureWarning: DataFrame.interpolate with object dtype is deprecated and will raise in a future version. Call obj.infer_objects(copy=False) before interpolating instead.\n",
      "  print(ebola.interpolate().iloc[:, 0:5])\n"
     ]
    }
   ],
   "source": [
    "# .interpolate()는 결측값(NaN)을 앞뒤 숫자 값을 기준으로 “선형적으로 계산해서” 채워준다\n",
    "print(ebola.interpolate().iloc[:, 0:5])"
   ]
  },
  {
   "cell_type": "markdown",
   "id": "7f05df81",
   "metadata": {},
   "source": [
    "#### [Do It! 실습] 결측값 삭제하기"
   ]
  },
  {
   "cell_type": "code",
   "execution_count": 62,
   "id": "9cc10790",
   "metadata": {},
   "outputs": [
    {
     "name": "stdout",
     "output_type": "stream",
     "text": [
      "(122, 18)\n"
     ]
    }
   ],
   "source": [
    "print(ebola.shape)"
   ]
  },
  {
   "cell_type": "code",
   "execution_count": null,
   "id": "480e70dd",
   "metadata": {},
   "outputs": [
    {
     "name": "stdout",
     "output_type": "stream",
     "text": [
      "(1, 18)\n"
     ]
    }
   ],
   "source": [
    "# 결측값있는 행 모두 제거\n",
    "ebola_dropna = ebola.dropna()\n",
    "print(ebola_dropna.shape)"
   ]
  },
  {
   "cell_type": "code",
   "execution_count": 64,
   "id": "6f45f80a",
   "metadata": {},
   "outputs": [
    {
     "name": "stdout",
     "output_type": "stream",
     "text": [
      "          Date  Day  Cases_Guinea  Cases_Liberia  Cases_SierraLeone  \\\n",
      "19  11/18/2014  241        2047.0         7082.0             6190.0   \n",
      "\n",
      "    Cases_Nigeria  Cases_Senegal  Cases_UnitedStates  Cases_Spain  Cases_Mali  \\\n",
      "19           20.0            1.0                 4.0          1.0         6.0   \n",
      "\n",
      "    Deaths_Guinea  Deaths_Liberia  Deaths_SierraLeone  Deaths_Nigeria  \\\n",
      "19         1214.0          2963.0              1267.0             8.0   \n",
      "\n",
      "    Deaths_Senegal  Deaths_UnitedStates  Deaths_Spain  Deaths_Mali  \n",
      "19             0.0                  1.0           0.0          6.0  \n"
     ]
    }
   ],
   "source": [
    "print(ebola_dropna)"
   ]
  },
  {
   "cell_type": "markdown",
   "id": "a22b75df",
   "metadata": {},
   "source": [
    "### 결측값이 있는 데이터 계산하기"
   ]
  },
  {
   "cell_type": "code",
   "execution_count": 67,
   "id": "1bf68419",
   "metadata": {},
   "outputs": [],
   "source": [
    "ebola[\"Cases_multiple\"] = (\n",
    "    ebola[\"Cases_Guinea\"]\n",
    "    + ebola[\"Cases_Liberia\"]\n",
    "    + ebola[\"Cases_SierraLeone\"]\n",
    ")"
   ]
  },
  {
   "cell_type": "code",
   "execution_count": 70,
   "id": "c5fb8fc4",
   "metadata": {},
   "outputs": [
    {
     "name": "stdout",
     "output_type": "stream",
     "text": [
      "Index(['Date', 'Day', 'Cases_Guinea', 'Cases_Liberia', 'Cases_SierraLeone',\n",
      "       'Cases_Nigeria', 'Cases_Senegal', 'Cases_UnitedStates', 'Cases_Spain',\n",
      "       'Cases_Mali', 'Deaths_Guinea', 'Deaths_Liberia', 'Deaths_SierraLeone',\n",
      "       'Deaths_Nigeria', 'Deaths_Senegal', 'Deaths_UnitedStates',\n",
      "       'Deaths_Spain', 'Deaths_Mali', 'Cases_multiple'],\n",
      "      dtype='object')\n"
     ]
    }
   ],
   "source": [
    "print(ebola.columns)"
   ]
  },
  {
   "cell_type": "code",
   "execution_count": 69,
   "id": "f1c9c183",
   "metadata": {},
   "outputs": [
    {
     "name": "stdout",
     "output_type": "stream",
     "text": [
      "   Cases_Guinea  Cases_Liberia  Cases_SierraLeone  Cases_multiple\n",
      "0        2776.0            NaN            10030.0             NaN\n",
      "1        2775.0            NaN             9780.0             NaN\n",
      "2        2769.0         8166.0             9722.0         20657.0\n",
      "3           NaN         8157.0                NaN             NaN\n",
      "4        2730.0         8115.0             9633.0         20478.0\n",
      "5        2706.0         8018.0             9446.0         20170.0\n",
      "6        2695.0            NaN             9409.0             NaN\n",
      "7        2630.0         7977.0             9203.0         19810.0\n",
      "8        2597.0            NaN             9004.0             NaN\n",
      "9        2571.0         7862.0             8939.0         19372.0\n"
     ]
    }
   ],
   "source": [
    "ebola_subset = ebola.loc[\n",
    "    :,\n",
    "    [\n",
    "        \"Cases_Guinea\",\n",
    "        \"Cases_Liberia\",\n",
    "        \"Cases_SierraLeone\",\n",
    "        \"Cases_multiple\",\n",
    "    ],\n",
    "]\n",
    "\n",
    "print(ebola_subset.head(n=10))"
   ]
  },
  {
   "cell_type": "code",
   "execution_count": null,
   "id": "b1c2f36b",
   "metadata": {},
   "outputs": [
    {
     "name": "stdout",
     "output_type": "stream",
     "text": [
      "84729.0\n"
     ]
    }
   ],
   "source": [
    "# skipna=True: 결측값 무시하고 더하기\n",
    "print(ebola.Cases_Guinea.sum(skipna=True))"
   ]
  },
  {
   "cell_type": "code",
   "execution_count": null,
   "id": "b62ad804",
   "metadata": {},
   "outputs": [
    {
     "name": "stdout",
     "output_type": "stream",
     "text": [
      "nan\n"
     ]
    }
   ],
   "source": [
    "# 결측치 하나라도 있으면 nan\n",
    "print(ebola.Cases_Guinea.sum(skipna=False))"
   ]
  },
  {
   "cell_type": "code",
   "execution_count": 74,
   "id": "b1df007a",
   "metadata": {},
   "outputs": [
    {
     "name": "stdout",
     "output_type": "stream",
     "text": [
      "float64\n"
     ]
    }
   ],
   "source": [
    "print(ebola.Cases_Guinea.dtype)"
   ]
  },
  {
   "cell_type": "markdown",
   "id": "95991423",
   "metadata": {},
   "source": [
    "## 09-4 판다스 내장 NA 결측값"
   ]
  },
  {
   "cell_type": "code",
   "execution_count": 77,
   "id": "9314b234",
   "metadata": {},
   "outputs": [
    {
     "name": "stdout",
     "output_type": "stream",
     "text": [
      "                Name    Occupation        Born        Died  Age\n",
      "0  Rosaline Franklin       Chemist  1920-07-25  1958-04-16   37\n",
      "1     William Gosset  Statistician  1876-06-13  1937-10-16   61\n"
     ]
    }
   ],
   "source": [
    "scientists = pd.DataFrame(\n",
    "    {\n",
    "        \"Name\": [\"Rosaline Franklin\", \"William Gosset\"],\n",
    "        \"Occupation\": [\"Chemist\", \"Statistician\"],\n",
    "        \"Born\": [\"1920-07-25\", \"1876-06-13\"],\n",
    "        \"Died\": [\"1958-04-16\", \"1937-10-16\"],\n",
    "        \"Age\": [37, 61]\n",
    "    }\n",
    ")\n",
    "\n",
    "print(scientists)"
   ]
  },
  {
   "cell_type": "code",
   "execution_count": 78,
   "id": "d866de93",
   "metadata": {},
   "outputs": [
    {
     "name": "stdout",
     "output_type": "stream",
     "text": [
      "Name          object\n",
      "Occupation    object\n",
      "Born          object\n",
      "Died          object\n",
      "Age            int64\n",
      "dtype: object\n"
     ]
    }
   ],
   "source": [
    "print(scientists.dtypes)"
   ]
  },
  {
   "cell_type": "code",
   "execution_count": 79,
   "id": "3f340d59",
   "metadata": {},
   "outputs": [
    {
     "name": "stdout",
     "output_type": "stream",
     "text": [
      "                Name    Occupation        Born        Died   Age\n",
      "0  Rosaline Franklin       Chemist  1920-07-25  1958-04-16  37.0\n",
      "1               <NA>  Statistician  1876-06-13  1937-10-16   NaN\n"
     ]
    }
   ],
   "source": [
    "scientists.loc[1, \"Name\"] = pd.NA\n",
    "scientists.loc[1, \"Age\"] = pd.NA\n",
    "print(scientists)"
   ]
  },
  {
   "cell_type": "code",
   "execution_count": 80,
   "id": "96b46d62",
   "metadata": {},
   "outputs": [
    {
     "name": "stdout",
     "output_type": "stream",
     "text": [
      "Name           object\n",
      "Occupation     object\n",
      "Born           object\n",
      "Died           object\n",
      "Age           float64\n",
      "dtype: object\n"
     ]
    }
   ],
   "source": [
    "print(scientists.dtypes)  # 판다스 2.0.3 float64로 바뀜"
   ]
  },
  {
   "cell_type": "code",
   "execution_count": 81,
   "id": "c55b687d",
   "metadata": {},
   "outputs": [
    {
     "name": "stdout",
     "output_type": "stream",
     "text": [
      "Name           object\n",
      "Occupation     object\n",
      "Born           object\n",
      "Died           object\n",
      "Age           float64\n",
      "dtype: object\n"
     ]
    }
   ],
   "source": [
    "scientists = pd.DataFrame(\n",
    "    {\n",
    "        \"Name\": [\"Rosaline Franklin\", \"William Gosset\"],\n",
    "        \"Occupation\": [\"Chemist\", \"Statistician\"],\n",
    "        \"Born\": [\"1920-07-25\", \"1876-06-13\"],\n",
    "        \"Died\": [\"1958-04-16\", \"1937-10-16\"],\n",
    "        \"Age\": [37, 61]\n",
    "    }\n",
    ")\n",
    "\n",
    "scientists.loc[1, \"Name\"] = nan\n",
    "scientists.loc[1, \"Age\"] = nan\n",
    "\n",
    "print(scientists.dtypes)"
   ]
  },
  {
   "cell_type": "code",
   "execution_count": 82,
   "id": "7797bb92",
   "metadata": {},
   "outputs": [
    {
     "name": "stdout",
     "output_type": "stream",
     "text": [
      "                Name    Occupation        Born        Died   Age\n",
      "0  Rosaline Franklin       Chemist  1920-07-25  1958-04-16  37.0\n",
      "1                NaN  Statistician  1876-06-13  1937-10-16   NaN\n"
     ]
    }
   ],
   "source": [
    "print(scientists)"
   ]
  }
 ],
 "metadata": {
  "kernelspec": {
   "display_name": "py312tf2",
   "language": "python",
   "name": "python3"
  },
  "language_info": {
   "codemirror_mode": {
    "name": "ipython",
    "version": 3
   },
   "file_extension": ".py",
   "mimetype": "text/x-python",
   "name": "python",
   "nbconvert_exporter": "python",
   "pygments_lexer": "ipython3",
   "version": "3.12.9"
  },
  "toc": {
   "base_numbering": 1,
   "nav_menu": {},
   "number_sections": false,
   "sideBar": false,
   "skip_h1_title": false,
   "title_cell": "Table of Contents",
   "title_sidebar": "Contents",
   "toc_cell": false,
   "toc_position": {
    "height": "738px",
    "left": "702px",
    "top": "147px",
    "width": "185px"
   },
   "toc_section_display": true,
   "toc_window_display": true
  }
 },
 "nbformat": 4,
 "nbformat_minor": 5
}
