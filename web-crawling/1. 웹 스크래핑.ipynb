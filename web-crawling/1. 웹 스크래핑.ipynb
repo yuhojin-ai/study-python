{
 "cells": [
  {
   "cell_type": "markdown",
   "id": "15cbe1d3-3f7b-4721-8e53-bd7d54ee262a",
   "metadata": {},
   "source": [
    "### 웹 스크랩핑 기본 \n",
    "- 웹사이트에서 데이터를 추출하는 프로세스입니다.\n",
    "- 데이터는 텍스트, 이미지, 비디오 또는 기타 형식과 같은 모든 형식일 수 있습니다.\n",
    "- 그런 다음 이 데이터는 시장 조사, 경쟁 분석 또는 기타 유형의 분석과 같은 다양한 목적으로 사용될 수 있습니다"
   ]
  },
  {
   "cell_type": "markdown",
   "id": "3ba0c648",
   "metadata": {},
   "source": [
    "| 항목       | 웹크롤링 (Web Crawling)               | 웹스크래핑 (Web Scraping)                |\n",
    "|------------|----------------------------------------|-------------------------------------------|\n",
    "| **목적**   | 웹페이지를 수집하는 것                | 웹페이지에서 데이터 추출하는 것          |\n",
    "| **예시**   | 여러 사이트를 돌아다니며 URL 수집     | HTML에서 뉴스 제목만 가져오기            |\n",
    "| **주요 역할** | 페이지 탐색, 링크 따라가기         | 텍스트, 이미지, 테이블 추출              |\n",
    "| **도구 예시** | `Scrapy`, `crawler4j`              | `BeautifulSoup`, `Selenium`, `lxml`      |\n"
   ]
  },
  {
   "cell_type": "code",
   "execution_count": 4,
   "id": "bbae61e1-9684-40ec-9ddf-f3fc70b33da9",
   "metadata": {},
   "outputs": [],
   "source": [
    "# HTML 문서를 문자열 html로 저장\n",
    "\n",
    "html = '''\n",
    "<html>\n",
    "  <head>\n",
    "    <title>자동화 온라인 쇼핑몰</title>\n",
    "  </head>\n",
    "  <body>\n",
    "    <h1> 장바구니\n",
    "      <p id='clothes' class='name' title='가죽자켓'> 가죽자켓 \n",
    "        <span class = 'number'> 25 </span>\n",
    "        <span class = 'price'> 29000 </span> \n",
    "        <span class = 'menu'> 의류</span>\n",
    "        <a href = 'http://www.naver.com'> 바로가기 </a> \n",
    "      </p>\n",
    "      <p id='watch' class='name' title='시계'> 시계 \n",
    "        <span class = 'number'> 28 </span>\n",
    "        <span class = 'price'> 32000 </span> \n",
    "        <span class = 'menu'> 액세서리 </span>\n",
    "        <a href = 'http://www.facebook.com'> 바로가기 </a> \n",
    "      </p>\n",
    "    </h1> \n",
    "  </body>\n",
    "</html> \n",
    "'''"
   ]
  },
  {
   "cell_type": "code",
   "execution_count": 5,
   "id": "a82eb913-4527-46b4-898d-07c9c2c4157b",
   "metadata": {},
   "outputs": [
    {
     "name": "stdout",
     "output_type": "stream",
     "text": [
      "\n",
      "<html>\n",
      "  <head>\n",
      "    <title>자동화 온라인 쇼핑몰</title>\n",
      "  </head>\n",
      "  <body>\n",
      "    <h1> 장바구니\n",
      "      <p id='clothes' class='name' title='가죽자켓'> 가죽자켓 \n",
      "        <span class = 'number'> 25 </span>\n",
      "        <span class = 'price'> 29000 </span> \n",
      "        <span class = 'menu'> 의류</span>\n",
      "        <a href = 'http://www.naver.com'> 바로가기 </a> \n",
      "      </p>\n",
      "      <p id='watch' class='name' title='시계'> 시계 \n",
      "        <span class = 'number'> 28 </span>\n",
      "        <span class = 'price'> 32000 </span> \n",
      "        <span class = 'menu'> 액세서리 </span>\n",
      "        <a href = 'http://www.facebook.com'> 바로가기 </a> \n",
      "      </p>\n",
      "    </h1> \n",
      "  </body>\n",
      "</html> \n",
      "\n"
     ]
    }
   ],
   "source": [
    "print(html)"
   ]
  },
  {
   "cell_type": "code",
   "execution_count": 6,
   "id": "f1010491-f94c-48f4-844c-d1f92d3edd53",
   "metadata": {},
   "outputs": [
    {
     "data": {
      "text/plain": [
       "\n",
       "<html>\n",
       "<head>\n",
       "<title>자동화 온라인 쇼핑몰</title>\n",
       "</head>\n",
       "<body>\n",
       "<h1> 장바구니\n",
       "      <p class=\"name\" id=\"clothes\" title=\"가죽자켓\"> 가죽자켓 \n",
       "        <span class=\"number\"> 25 </span>\n",
       "<span class=\"price\"> 29000 </span>\n",
       "<span class=\"menu\"> 의류</span>\n",
       "<a href=\"http://www.naver.com\"> 바로가기 </a>\n",
       "</p>\n",
       "<p class=\"name\" id=\"watch\" title=\"시계\"> 시계 \n",
       "        <span class=\"number\"> 28 </span>\n",
       "<span class=\"price\"> 32000 </span>\n",
       "<span class=\"menu\"> 액세서리 </span>\n",
       "<a href=\"http://www.facebook.com\"> 바로가기 </a>\n",
       "</p>\n",
       "</h1>\n",
       "</body>\n",
       "</html>"
      ]
     },
     "execution_count": 6,
     "metadata": {},
     "output_type": "execute_result"
    }
   ],
   "source": [
    "# BeautifulSoup 인스턴스 생성\n",
    "import bs4\n",
    "\n",
    "soup = bs4.BeautifulSoup(html, 'html.parser')\n",
    "soup"
   ]
  },
  {
   "cell_type": "markdown",
   "id": "d6e680ee-4d9d-48c4-81f4-be9854dd85e8",
   "metadata": {},
   "source": [
    "### BeautifulSoup `find()` 사용 방법\n",
    "\n",
    "| **사용 방법**                           | **설명**                                                                 |\n",
    "|-----------------------------------------|--------------------------------------------------------------------------|\n",
    "| `soup.find('태그명')`                   | 태그명에 해당하는 첫번째 태그 추출                                        |\n",
    "| `soup.find(속성='속성값')`              | 속성='속성값'과 일치하는 첫번째 태그 추출                                 |\n",
    "| `soup.find(attrs={'속성': '속성값'})`    | 속성='속성값'과 일치하는 첫번째 태그 추출                                 |\n",
    "| `soup.find('태그명', 속성='속성값')`    | 태그명과 일치하면서 속성='속성값'과도 일치하는 첫번째 태그 추출            |\n",
    "| `soup.find('태그명', attrs={'속성': '속성값'})` | 태그명과 일치하면서 속성='속성값'과도 일치하는 첫번째 태그 추출            |\n"
   ]
  },
  {
   "cell_type": "markdown",
   "id": "c50a2a10-f4d8-4e6f-8dfc-243a7a6fef41",
   "metadata": {},
   "source": [
    "### BeautifulSoup `find_all()` 사용 방법\n",
    "\n",
    "| **사용 방법**                                    | **설명**                                                                 |\n",
    "|--------------------------------------------------|--------------------------------------------------------------------------|\n",
    "| `soup.find_all('태그명')`                        | 태그명에 해당하는 모든 태그 추출                                          |\n",
    "| `soup.find_all(속성='속성값')`                   | 속성='속성값'과 일치하는 모든 태그 추출                                   |\n",
    "| `soup.find_all(attrs={'속성': '속성값'})`         | 속성='속성값'과 일치하는 모든 태그 추출                                   |\n",
    "| `soup.find_all('태그명', 속성='속성값')`         | 태그명과 일치하면서 속성='속성값'과도 일치하는 모든 태그 추출             |\n",
    "| `soup.find_all('태그명', attrs={'속성': '속성값'})` | 태그명과 일치하면서 속성='속성값'과도 일치하는 모든 태그 추출             |"
   ]
  },
  {
   "cell_type": "code",
   "execution_count": 7,
   "id": "dbf05e02-09e6-47e3-800a-3dfbe67b37b0",
   "metadata": {
    "scrolled": true
   },
   "outputs": [
    {
     "data": {
      "text/plain": [
       "[<p class=\"name\" id=\"clothes\" title=\"가죽자켓\"> 가죽자켓 \n",
       "         <span class=\"number\"> 25 </span>\n",
       " <span class=\"price\"> 29000 </span>\n",
       " <span class=\"menu\"> 의류</span>\n",
       " <a href=\"http://www.naver.com\"> 바로가기 </a>\n",
       " </p>,\n",
       " <p class=\"name\" id=\"watch\" title=\"시계\"> 시계 \n",
       "         <span class=\"number\"> 28 </span>\n",
       " <span class=\"price\"> 32000 </span>\n",
       " <span class=\"menu\"> 액세서리 </span>\n",
       " <a href=\"http://www.facebook.com\"> 바로가기 </a>\n",
       " </p>]"
      ]
     },
     "execution_count": 7,
     "metadata": {},
     "output_type": "execute_result"
    }
   ],
   "source": [
    "soup.find_all('p')"
   ]
  },
  {
   "cell_type": "code",
   "execution_count": 8,
   "id": "818c9011-9833-4dc7-b7d1-5d714dd80335",
   "metadata": {},
   "outputs": [
    {
     "data": {
      "text/plain": [
       "<p class=\"name\" id=\"clothes\" title=\"가죽자켓\"> 가죽자켓 \n",
       "        <span class=\"number\"> 25 </span>\n",
       "<span class=\"price\"> 29000 </span>\n",
       "<span class=\"menu\"> 의류</span>\n",
       "<a href=\"http://www.naver.com\"> 바로가기 </a>\n",
       "</p>"
      ]
     },
     "execution_count": 8,
     "metadata": {},
     "output_type": "execute_result"
    }
   ],
   "source": [
    "soup.find('p')"
   ]
  },
  {
   "cell_type": "code",
   "execution_count": 9,
   "id": "c8bb6527-efb8-4489-a4d9-47e23783b47e",
   "metadata": {},
   "outputs": [
    {
     "data": {
      "text/plain": [
       "<p class=\"name\" id=\"watch\" title=\"시계\"> 시계 \n",
       "        <span class=\"number\"> 28 </span>\n",
       "<span class=\"price\"> 32000 </span>\n",
       "<span class=\"menu\"> 액세서리 </span>\n",
       "<a href=\"http://www.facebook.com\"> 바로가기 </a>\n",
       "</p>"
      ]
     },
     "execution_count": 9,
     "metadata": {},
     "output_type": "execute_result"
    }
   ],
   "source": [
    "soup.find(id=\"watch\")"
   ]
  },
  {
   "cell_type": "code",
   "execution_count": 10,
   "id": "a2c05ef8-ba2f-4d31-ba2b-e7d9e828e699",
   "metadata": {},
   "outputs": [
    {
     "data": {
      "text/plain": [
       "[<p class=\"name\" id=\"clothes\" title=\"가죽자켓\"> 가죽자켓 \n",
       "         <span class=\"number\"> 25 </span>\n",
       " <span class=\"price\"> 29000 </span>\n",
       " <span class=\"menu\"> 의류</span>\n",
       " <a href=\"http://www.naver.com\"> 바로가기 </a>\n",
       " </p>,\n",
       " <p class=\"name\" id=\"watch\" title=\"시계\"> 시계 \n",
       "         <span class=\"number\"> 28 </span>\n",
       " <span class=\"price\"> 32000 </span>\n",
       " <span class=\"menu\"> 액세서리 </span>\n",
       " <a href=\"http://www.facebook.com\"> 바로가기 </a>\n",
       " </p>]"
      ]
     },
     "execution_count": 10,
     "metadata": {},
     "output_type": "execute_result"
    }
   ],
   "source": [
    "soup.find_all(class_=\"name\")"
   ]
  },
  {
   "cell_type": "code",
   "execution_count": 11,
   "id": "bd0c2ce3-6e68-46d4-bdd2-b7f173a22adc",
   "metadata": {},
   "outputs": [
    {
     "data": {
      "text/plain": [
       "<p class=\"name\" id=\"clothes\" title=\"가죽자켓\"> 가죽자켓 \n",
       "        <span class=\"number\"> 25 </span>\n",
       "<span class=\"price\"> 29000 </span>\n",
       "<span class=\"menu\"> 의류</span>\n",
       "<a href=\"http://www.naver.com\"> 바로가기 </a>\n",
       "</p>"
      ]
     },
     "execution_count": 11,
     "metadata": {},
     "output_type": "execute_result"
    }
   ],
   "source": [
    "soup.find(class_=\"name\")"
   ]
  },
  {
   "cell_type": "code",
   "execution_count": 12,
   "id": "7ab2aec1-40de-49bc-bc9e-d66198967a75",
   "metadata": {},
   "outputs": [
    {
     "data": {
      "text/plain": [
       "[<p class=\"name\" id=\"clothes\" title=\"가죽자켓\"> 가죽자켓 \n",
       "         <span class=\"number\"> 25 </span>\n",
       " <span class=\"price\"> 29000 </span>\n",
       " <span class=\"menu\"> 의류</span>\n",
       " <a href=\"http://www.naver.com\"> 바로가기 </a>\n",
       " </p>]"
      ]
     },
     "execution_count": 12,
     "metadata": {},
     "output_type": "execute_result"
    }
   ],
   "source": [
    "soup.find_all('p', limit=1)"
   ]
  },
  {
   "cell_type": "code",
   "execution_count": 13,
   "id": "e86c7077-49f2-4e07-9494-7fc6edf22b5c",
   "metadata": {},
   "outputs": [
    {
     "data": {
      "text/plain": [
       "<span class=\"number\"> 25 </span>"
      ]
     },
     "execution_count": 13,
     "metadata": {},
     "output_type": "execute_result"
    }
   ],
   "source": [
    "# 첫 번째 p 태그의 하위 태그 중 첫 번째 span 태그 추출\n",
    "soup.find('p').find('span')"
   ]
  },
  {
   "cell_type": "code",
   "execution_count": 14,
   "id": "70a94ad8-eafb-44cd-ad9e-b7e6afe1ba6e",
   "metadata": {},
   "outputs": [
    {
     "data": {
      "text/plain": [
       "[<span class=\"number\"> 25 </span>,\n",
       " <span class=\"price\"> 29000 </span>,\n",
       " <span class=\"menu\"> 의류</span>]"
      ]
     },
     "execution_count": 14,
     "metadata": {},
     "output_type": "execute_result"
    }
   ],
   "source": [
    "# 첫 번째 p 태그의 하위 태그 중 첫 번째 span 태그 추출\n",
    "soup.find('p').find_all('span')"
   ]
  },
  {
   "cell_type": "code",
   "execution_count": 15,
   "id": "347a6597-dd4f-4516-87a3-eba36adb2bd8",
   "metadata": {},
   "outputs": [
    {
     "name": "stdout",
     "output_type": "stream",
     "text": [
      " 25 \n",
      " 29000 \n",
      " 의류\n"
     ]
    }
   ],
   "source": [
    "items = soup.find('p').find_all('span')\n",
    "for item in items:\n",
    "    print(item.text)"
   ]
  },
  {
   "cell_type": "code",
   "execution_count": 16,
   "id": "fa41898c-cd11-42c5-9763-898b811e215b",
   "metadata": {},
   "outputs": [
    {
     "data": {
      "text/plain": [
       "<span class=\"number\"> 25 </span>"
      ]
     },
     "execution_count": 16,
     "metadata": {},
     "output_type": "execute_result"
    }
   ],
   "source": [
    "# 첫 번째 p 태그의 하위 태그 중 첫 번째 span 태그 추출\n",
    "soup.find_all('p')[0].find_all('span')[0]"
   ]
  },
  {
   "cell_type": "code",
   "execution_count": 17,
   "id": "ef46ccb1-3d22-437e-a070-fe5c11ae22e2",
   "metadata": {},
   "outputs": [
    {
     "data": {
      "text/plain": [
       "' 의류'"
      ]
     },
     "execution_count": 17,
     "metadata": {},
     "output_type": "execute_result"
    }
   ],
   "source": [
    "# span 태그 중 클래스가 menu인 첫 태그에서 텍스트 추출\n",
    "soup.find('span', class_='menu').get_text()"
   ]
  },
  {
   "cell_type": "code",
   "execution_count": 18,
   "id": "82c0d7bd-a196-42fe-b7e6-50125f2e6b19",
   "metadata": {},
   "outputs": [
    {
     "data": {
      "text/plain": [
       "' 의류'"
      ]
     },
     "execution_count": 18,
     "metadata": {},
     "output_type": "execute_result"
    }
   ],
   "source": [
    "# span 태그 중 클래스가 menu인 첫 태그에서 텍스트 추출\n",
    "soup.find('span', class_='menu').text"
   ]
  },
  {
   "cell_type": "code",
   "execution_count": 19,
   "id": "f27e5991-4647-4c2f-adb9-0dba3920dac4",
   "metadata": {},
   "outputs": [
    {
     "data": {
      "text/plain": [
       "' 의류'"
      ]
     },
     "execution_count": 19,
     "metadata": {},
     "output_type": "execute_result"
    }
   ],
   "source": [
    "# span 태그 중 클래스가 menu인 첫 태그에서 텍스트 추출\n",
    "soup.find_all('span', class_='menu')[0].get_text()"
   ]
  },
  {
   "cell_type": "markdown",
   "id": "219f8522-b9fb-4225-96e8-e150c76fbae8",
   "metadata": {},
   "source": [
    "### BeautifulSoup `select()` 사용 방법\n",
    "\n",
    "| **사용 방법**                                | **설명**                                                                                       |\n",
    "|----------------------------------------------|-----------------------------------------------------------------------------------------------|\n",
    "| `soup.select('태그명')`                      | 태그명에 해당하는 모든 태그 추출                                                              |\n",
    "| `soup.select('.클래스 속성 값')`             | 클래스 속성과 일치하는 모든 태그 추출                                                         |\n",
    "| `soup.select('#아이디 속성 값')`             | 아이디의 속성과 일치하는 모든 태그 추출                                                       |\n",
    "| `soup.select('상위태그명 > 하위태그명')`     | 상위태그에 포함된 태그들 중 하위태그명이 일치하는 모든 태그 추출(자식 관계)                   |\n",
    "| `soup.select('상위태그명 공백 하위태그명')`  | 상위태그에 포함된 태그들 중 하위태그명이 일치하는 모든 태그 추출(자손 관계)                   |\n",
    "| `soup.select('조건1, 조건2')`               | 태그명, 속성과 등 나열된 조건들 중 하나라도 일치하는 모든 태그 추출                           |\n",
    "| `soup.select('태그명.클래스 속성 값')`       | 태그명과 클래스 속성값이 모두 일치하는 모든 태그 추출                                         |\n",
    "| `soup.select('태그명[속성명=\"속성값\"]')`     | 태그명과 속성명=속성값(아이디와 클래스 외 다른 속성)이 모두 일치하는 모든 태그 추출           |\n"
   ]
  },
  {
   "cell_type": "code",
   "execution_count": 20,
   "id": "d9d2cf12-28e9-40b0-8c86-36ff93edcad4",
   "metadata": {},
   "outputs": [
    {
     "data": {
      "text/plain": [
       "[<body>\n",
       " <h1> 장바구니\n",
       "       <p class=\"name\" id=\"clothes\" title=\"가죽자켓\"> 가죽자켓 \n",
       "         <span class=\"number\"> 25 </span>\n",
       " <span class=\"price\"> 29000 </span>\n",
       " <span class=\"menu\"> 의류</span>\n",
       " <a href=\"http://www.naver.com\"> 바로가기 </a>\n",
       " </p>\n",
       " <p class=\"name\" id=\"watch\" title=\"시계\"> 시계 \n",
       "         <span class=\"number\"> 28 </span>\n",
       " <span class=\"price\"> 32000 </span>\n",
       " <span class=\"menu\"> 액세서리 </span>\n",
       " <a href=\"http://www.facebook.com\"> 바로가기 </a>\n",
       " </p>\n",
       " </h1>\n",
       " </body>]"
      ]
     },
     "execution_count": 20,
     "metadata": {},
     "output_type": "execute_result"
    }
   ],
   "source": [
    "# 태그 이름으로 특정 \n",
    "soup.select('body')"
   ]
  },
  {
   "cell_type": "code",
   "execution_count": 21,
   "id": "a68a6948-2830-47a0-a58e-55f8359347e6",
   "metadata": {},
   "outputs": [
    {
     "data": {
      "text/plain": [
       "[<p class=\"name\" id=\"watch\" title=\"시계\"> 시계 \n",
       "         <span class=\"number\"> 28 </span>\n",
       " <span class=\"price\"> 32000 </span>\n",
       " <span class=\"menu\"> 액세서리 </span>\n",
       " <a href=\"http://www.facebook.com\"> 바로가기 </a>\n",
       " </p>]"
      ]
     },
     "execution_count": 21,
     "metadata": {},
     "output_type": "execute_result"
    }
   ],
   "source": [
    "# 아이디 속성 값으로 특정 \n",
    "soup.select('#watch')"
   ]
  },
  {
   "cell_type": "code",
   "execution_count": 22,
   "id": "5d1de92e-4b88-4f23-b237-be21f1c34249",
   "metadata": {},
   "outputs": [
    {
     "data": {
      "text/plain": [
       "[<p class=\"name\" id=\"clothes\" title=\"가죽자켓\"> 가죽자켓 \n",
       "         <span class=\"number\"> 25 </span>\n",
       " <span class=\"price\"> 29000 </span>\n",
       " <span class=\"menu\"> 의류</span>\n",
       " <a href=\"http://www.naver.com\"> 바로가기 </a>\n",
       " </p>,\n",
       " <p class=\"name\" id=\"watch\" title=\"시계\"> 시계 \n",
       "         <span class=\"number\"> 28 </span>\n",
       " <span class=\"price\"> 32000 </span>\n",
       " <span class=\"menu\"> 액세서리 </span>\n",
       " <a href=\"http://www.facebook.com\"> 바로가기 </a>\n",
       " </p>]"
      ]
     },
     "execution_count": 22,
     "metadata": {},
     "output_type": "execute_result"
    }
   ],
   "source": [
    "# 클래스 속성 값으로 특정 \n",
    "soup.select('.name')"
   ]
  },
  {
   "cell_type": "code",
   "execution_count": 23,
   "id": "07b24bcd-33e2-4d22-87d7-b1b6e7c4ba14",
   "metadata": {},
   "outputs": [
    {
     "data": {
      "text/plain": [
       "[<span class=\"menu\"> 의류</span>, <span class=\"menu\"> 액세서리 </span>]"
      ]
     },
     "execution_count": 23,
     "metadata": {},
     "output_type": "execute_result"
    }
   ],
   "source": [
    "# 자식 관계로 특정 \n",
    "soup.select('p > .menu')"
   ]
  },
  {
   "cell_type": "code",
   "execution_count": 24,
   "id": "75f1cd6c-74dc-42cc-bd0e-8afe032fd187",
   "metadata": {},
   "outputs": [
    {
     "data": {
      "text/plain": [
       "[<span class=\"menu\"> 의류</span>, <span class=\"menu\"> 액세서리 </span>]"
      ]
     },
     "execution_count": 24,
     "metadata": {},
     "output_type": "execute_result"
    }
   ],
   "source": [
    "# 자식 관계로 특정 \n",
    "soup.select('h1 .menu')"
   ]
  },
  {
   "cell_type": "code",
   "execution_count": 25,
   "id": "95399254-cfd2-403a-81ec-520026c55900",
   "metadata": {},
   "outputs": [
    {
     "data": {
      "text/plain": [
       "' 의류'"
      ]
     },
     "execution_count": 25,
     "metadata": {},
     "output_type": "execute_result"
    }
   ],
   "source": [
    "# h1태그의 자손 중 클래스 속성 값이 menu인 태그의 텍스트 추출\n",
    "soup.select_one('h1 .menu').get_text()"
   ]
  },
  {
   "cell_type": "code",
   "execution_count": 26,
   "id": "a60a40ea-9575-4929-a075-0582464eae3c",
   "metadata": {},
   "outputs": [
    {
     "data": {
      "text/plain": [
       "' 의류'"
      ]
     },
     "execution_count": 26,
     "metadata": {},
     "output_type": "execute_result"
    }
   ],
   "source": [
    "# h1태그의 자손 중 클래스 속성 값이 menu인 태그의 텍스트 추출\n",
    "soup.select('h1 .menu')[0].get_text()"
   ]
  },
  {
   "cell_type": "markdown",
   "id": "1b809f6d-5690-4236-98c9-61f1c2b9ff65",
   "metadata": {},
   "source": [
    "### BeautifulSoup 태그 접근 및 속성 추출 방법\n",
    "\n",
    "| **사용 방법**                  | **설명**                                                                 |\n",
    "|--------------------------------|--------------------------------------------------------------------------|\n",
    "| `soup.태그명`                  | 태그명에 해당하는 첫 번째 태그 추출                                       |\n",
    "| `soup.태그명.get('속성명')`    | 태그명에 해당하는 첫 번째 태그의 속성값을 반환                            |\n",
    "| `soup.태그명['속성명']`         | 태그명에 해당하는 첫 번째 태그의 속성값을 반환                            |\n",
    "| `soup.태그명.attrs`            | 태그명에 해당하는 첫 번째 태그의 모든 속성 정보를 딕셔너리로 반환          |\n",
    "| `soup.상위태그명.하위태그명`   | 상위태그명에 해당하는 첫 번째 태그의 하위태그 중 하위태그명과 일치하는 첫 번째 태그 추출 (자식 관계) |"
   ]
  },
  {
   "cell_type": "code",
   "execution_count": 27,
   "id": "3ef65025-5d13-4b03-a14d-3ec9351d1c6c",
   "metadata": {},
   "outputs": [
    {
     "data": {
      "text/plain": [
       "<a href=\"http://www.naver.com\"> 바로가기 </a>"
      ]
     },
     "execution_count": 27,
     "metadata": {},
     "output_type": "execute_result"
    }
   ],
   "source": [
    "# 첫 번째 a태그를 추출\n",
    "soup.a"
   ]
  },
  {
   "cell_type": "code",
   "execution_count": 28,
   "id": "20c61baa-76bd-4989-ba37-4a5084649973",
   "metadata": {},
   "outputs": [
    {
     "data": {
      "text/plain": [
       "<p class=\"name\" id=\"clothes\" title=\"가죽자켓\"> 가죽자켓 \n",
       "        <span class=\"number\"> 25 </span>\n",
       "<span class=\"price\"> 29000 </span>\n",
       "<span class=\"menu\"> 의류</span>\n",
       "<a href=\"http://www.naver.com\"> 바로가기 </a>\n",
       "</p>"
      ]
     },
     "execution_count": 28,
     "metadata": {},
     "output_type": "execute_result"
    }
   ],
   "source": [
    "# 첫 번째 p태그를 추출\n",
    "soup.p"
   ]
  },
  {
   "cell_type": "code",
   "execution_count": 29,
   "id": "45e79bf7-7d76-4649-8e7e-5fa3f2981638",
   "metadata": {},
   "outputs": [
    {
     "data": {
      "text/plain": [
       "'http://www.naver.com'"
      ]
     },
     "execution_count": 29,
     "metadata": {},
     "output_type": "execute_result"
    }
   ],
   "source": [
    "# 첫 번째 a태그의 href 속성값을 반환\n",
    "soup.a.get('href')"
   ]
  },
  {
   "cell_type": "code",
   "execution_count": 30,
   "id": "02674d2f-b6c4-4d44-b84d-55c3e9b2b822",
   "metadata": {},
   "outputs": [
    {
     "data": {
      "text/plain": [
       "'http://www.naver.com'"
      ]
     },
     "execution_count": 30,
     "metadata": {},
     "output_type": "execute_result"
    }
   ],
   "source": [
    "# 첫 번째 a태그의 href 속성값을 반환\n",
    "soup.a['href']"
   ]
  },
  {
   "cell_type": "code",
   "execution_count": 31,
   "id": "83ce993a-27eb-407e-bd03-1b375db44a96",
   "metadata": {},
   "outputs": [
    {
     "data": {
      "text/plain": [
       "{'href': 'http://www.naver.com'}"
      ]
     },
     "execution_count": 31,
     "metadata": {},
     "output_type": "execute_result"
    }
   ],
   "source": [
    "# 첫 번째 a태그의 속성 정보를 추출\n",
    "soup.a.attrs"
   ]
  },
  {
   "cell_type": "code",
   "execution_count": 32,
   "id": "04a2e3b7-e7e3-4b15-ba6f-1e3dcf2039d1",
   "metadata": {},
   "outputs": [
    {
     "data": {
      "text/plain": [
       "{'class': ['number']}"
      ]
     },
     "execution_count": 32,
     "metadata": {},
     "output_type": "execute_result"
    }
   ],
   "source": [
    "# 첫 번째 span 태그의 속성 정보를 추출\n",
    "soup.span.attrs"
   ]
  },
  {
   "cell_type": "code",
   "execution_count": 33,
   "id": "974127fe-c513-4d1e-8a5d-6c215d201c79",
   "metadata": {},
   "outputs": [
    {
     "data": {
      "text/plain": [
       "<p class=\"name\" id=\"clothes\" title=\"가죽자켓\"> 가죽자켓 \n",
       "        <span class=\"number\"> 25 </span>\n",
       "<span class=\"price\"> 29000 </span>\n",
       "<span class=\"menu\"> 의류</span>\n",
       "<a href=\"http://www.naver.com\"> 바로가기 </a>\n",
       "</p>"
      ]
     },
     "execution_count": 33,
     "metadata": {},
     "output_type": "execute_result"
    }
   ],
   "source": [
    "# 첫 번째 h1태그의 자식 태그 중 첫 번째 p태그 추출\n",
    "soup.h1.p"
   ]
  },
  {
   "cell_type": "code",
   "execution_count": 34,
   "id": "cd4a1cef-8862-4a8b-92f9-011891861d90",
   "metadata": {},
   "outputs": [
    {
     "data": {
      "text/plain": [
       "<span class=\"number\"> 25 </span>"
      ]
     },
     "execution_count": 34,
     "metadata": {},
     "output_type": "execute_result"
    }
   ],
   "source": [
    "# 첫 번째 h1태그의 자식 태그 중 첫 번째 p태그의 자식태그 중 첫 번째 span 태그 추출\n",
    "soup.h1.p.span"
   ]
  },
  {
   "cell_type": "code",
   "execution_count": 35,
   "id": "a3bac5aa-8f64-48d3-a650-4672888e4144",
   "metadata": {},
   "outputs": [
    {
     "data": {
      "text/plain": [
       "' 25 '"
      ]
     },
     "execution_count": 35,
     "metadata": {},
     "output_type": "execute_result"
    }
   ],
   "source": [
    "# 첫 번째 h1태그의 자식 태그 중 첫 번째 p태그의 자식태그 중 첫 번째 span 태그 추출\n",
    "soup.h1.p.span.get_text()"
   ]
  },
  {
   "cell_type": "code",
   "execution_count": 98,
   "id": "26d22c7f-d516-4b3e-a61c-27ee6fa2fc37",
   "metadata": {},
   "outputs": [
    {
     "data": {
      "text/plain": [
       "'가죽자켓'"
      ]
     },
     "execution_count": 98,
     "metadata": {},
     "output_type": "execute_result"
    }
   ],
   "source": [
    "# p태그의 title 속성값 추출\n",
    "soup.p['title']"
   ]
  },
  {
   "cell_type": "code",
   "execution_count": 99,
   "id": "0e2c8b30-9f64-4bbb-ac2d-9b17bb0e38e5",
   "metadata": {},
   "outputs": [
    {
     "data": {
      "text/plain": [
       "' 가죽자켓 \\n         25 \\n 29000 \\n 의류\\n 바로가기 \\n'"
      ]
     },
     "execution_count": 99,
     "metadata": {},
     "output_type": "execute_result"
    }
   ],
   "source": [
    "# 첫 번째 p 태그의 텍스트 추출\n",
    "soup.p.get_text()"
   ]
  },
  {
   "cell_type": "code",
   "execution_count": 100,
   "id": "9c362cb3-4fd9-48c1-b881-761699ae5b07",
   "metadata": {},
   "outputs": [
    {
     "name": "stdout",
     "output_type": "stream",
     "text": [
      " 가죽자켓 \n",
      "         25 \n",
      " 29000 \n",
      " 의류\n",
      " 바로가기 \n",
      "\n"
     ]
    }
   ],
   "source": [
    "print(soup.p.get_text())"
   ]
  },
  {
   "cell_type": "code",
   "execution_count": 101,
   "id": "acab3715-4b94-4c14-9942-50980886815e",
   "metadata": {},
   "outputs": [
    {
     "data": {
      "text/plain": [
       "<p class=\"name\" id=\"clothes\" title=\"가죽자켓\"> 가죽자켓 \n",
       "        <span class=\"number\"> 25 </span>\n",
       "<span class=\"price\"> 29000 </span>\n",
       "<span class=\"menu\"> 의류</span>\n",
       "<a href=\"http://www.naver.com\"> 바로가기 </a>\n",
       "</p>"
      ]
     },
     "execution_count": 101,
     "metadata": {},
     "output_type": "execute_result"
    }
   ],
   "source": [
    "# 첫 번째 a태그의 부모태그를 추출\n",
    "soup.a.find_parent()"
   ]
  },
  {
   "cell_type": "code",
   "execution_count": 102,
   "id": "f543eebb-4219-4116-b619-a1185c0173f1",
   "metadata": {},
   "outputs": [
    {
     "data": {
      "text/plain": [
       "[<p class=\"name\" id=\"clothes\" title=\"가죽자켓\"> 가죽자켓 \n",
       "         <span class=\"number\"> 25 </span>\n",
       " <span class=\"price\"> 29000 </span>\n",
       " <span class=\"menu\"> 의류</span>\n",
       " <a href=\"http://www.naver.com\"> 바로가기 </a>\n",
       " </p>,\n",
       " <h1> 장바구니\n",
       "       <p class=\"name\" id=\"clothes\" title=\"가죽자켓\"> 가죽자켓 \n",
       "         <span class=\"number\"> 25 </span>\n",
       " <span class=\"price\"> 29000 </span>\n",
       " <span class=\"menu\"> 의류</span>\n",
       " <a href=\"http://www.naver.com\"> 바로가기 </a>\n",
       " </p>\n",
       " <p class=\"name\" id=\"watch\" title=\"시계\"> 시계 \n",
       "         <span class=\"number\"> 28 </span>\n",
       " <span class=\"price\"> 32000 </span>\n",
       " <span class=\"menu\"> 액세서리 </span>\n",
       " <a href=\"http://www.facebook.com\"> 바로가기 </a>\n",
       " </p>\n",
       " </h1>,\n",
       " <body>\n",
       " <h1> 장바구니\n",
       "       <p class=\"name\" id=\"clothes\" title=\"가죽자켓\"> 가죽자켓 \n",
       "         <span class=\"number\"> 25 </span>\n",
       " <span class=\"price\"> 29000 </span>\n",
       " <span class=\"menu\"> 의류</span>\n",
       " <a href=\"http://www.naver.com\"> 바로가기 </a>\n",
       " </p>\n",
       " <p class=\"name\" id=\"watch\" title=\"시계\"> 시계 \n",
       "         <span class=\"number\"> 28 </span>\n",
       " <span class=\"price\"> 32000 </span>\n",
       " <span class=\"menu\"> 액세서리 </span>\n",
       " <a href=\"http://www.facebook.com\"> 바로가기 </a>\n",
       " </p>\n",
       " </h1>\n",
       " </body>,\n",
       " <html>\n",
       " <head>\n",
       " <title>경영 자동화 온라인 쇼핑몰</title>\n",
       " </head>\n",
       " <body>\n",
       " <h1> 장바구니\n",
       "       <p class=\"name\" id=\"clothes\" title=\"가죽자켓\"> 가죽자켓 \n",
       "         <span class=\"number\"> 25 </span>\n",
       " <span class=\"price\"> 29000 </span>\n",
       " <span class=\"menu\"> 의류</span>\n",
       " <a href=\"http://www.naver.com\"> 바로가기 </a>\n",
       " </p>\n",
       " <p class=\"name\" id=\"watch\" title=\"시계\"> 시계 \n",
       "         <span class=\"number\"> 28 </span>\n",
       " <span class=\"price\"> 32000 </span>\n",
       " <span class=\"menu\"> 액세서리 </span>\n",
       " <a href=\"http://www.facebook.com\"> 바로가기 </a>\n",
       " </p>\n",
       " </h1>\n",
       " </body>\n",
       " </html>,\n",
       " \n",
       " <html>\n",
       " <head>\n",
       " <title>경영 자동화 온라인 쇼핑몰</title>\n",
       " </head>\n",
       " <body>\n",
       " <h1> 장바구니\n",
       "       <p class=\"name\" id=\"clothes\" title=\"가죽자켓\"> 가죽자켓 \n",
       "         <span class=\"number\"> 25 </span>\n",
       " <span class=\"price\"> 29000 </span>\n",
       " <span class=\"menu\"> 의류</span>\n",
       " <a href=\"http://www.naver.com\"> 바로가기 </a>\n",
       " </p>\n",
       " <p class=\"name\" id=\"watch\" title=\"시계\"> 시계 \n",
       "         <span class=\"number\"> 28 </span>\n",
       " <span class=\"price\"> 32000 </span>\n",
       " <span class=\"menu\"> 액세서리 </span>\n",
       " <a href=\"http://www.facebook.com\"> 바로가기 </a>\n",
       " </p>\n",
       " </h1>\n",
       " </body>\n",
       " </html>]"
      ]
     },
     "execution_count": 102,
     "metadata": {},
     "output_type": "execute_result"
    }
   ],
   "source": [
    "# 첫 번째 a태그의 부모태그를 추출\n",
    "soup.a.find_parents()"
   ]
  },
  {
   "cell_type": "code",
   "execution_count": 103,
   "id": "0feef17a-ae9f-486d-a269-1529986925f8",
   "metadata": {},
   "outputs": [
    {
     "data": {
      "text/plain": [
       "<span class=\"price\"> 29000 </span>"
      ]
     },
     "execution_count": 103,
     "metadata": {},
     "output_type": "execute_result"
    }
   ],
   "source": [
    "# 첫 번째 span 태그의 다음에 있는 형제태그 추출\n",
    "soup.span.find_next_sibling()"
   ]
  },
  {
   "cell_type": "code",
   "execution_count": 104,
   "id": "62732f54-be68-43cd-9414-b5e3bd06a26c",
   "metadata": {},
   "outputs": [
    {
     "data": {
      "text/plain": [
       "[<span class=\"price\"> 29000 </span>,\n",
       " <span class=\"menu\"> 의류</span>,\n",
       " <a href=\"http://www.naver.com\"> 바로가기 </a>]"
      ]
     },
     "execution_count": 104,
     "metadata": {},
     "output_type": "execute_result"
    }
   ],
   "source": [
    "# 첫 번째 span 태그의 다음에 있는 형제태그 추출\n",
    "soup.span.find_next_siblings()"
   ]
  },
  {
   "cell_type": "code",
   "execution_count": 105,
   "id": "0592f620-b414-498f-9c6b-c648d5909bf2",
   "metadata": {},
   "outputs": [
    {
     "data": {
      "text/plain": [
       "<a href=\"http://www.naver.com\"> 바로가기 </a>"
      ]
     },
     "execution_count": 105,
     "metadata": {},
     "output_type": "execute_result"
    }
   ],
   "source": [
    "# 첫 번째 span 태그의 다음에 있는 형제 태그 중 a 태그를 추출\n",
    "soup.span.find_next_sibling('a')"
   ]
  },
  {
   "cell_type": "code",
   "execution_count": 106,
   "id": "4ebaf512-5da0-4076-a15c-cefb19721c97",
   "metadata": {},
   "outputs": [
    {
     "data": {
      "text/plain": [
       "[<span class=\"price\"> 29000 </span>, <span class=\"menu\"> 의류</span>]"
      ]
     },
     "execution_count": 106,
     "metadata": {},
     "output_type": "execute_result"
    }
   ],
   "source": [
    "# 첫 번째 span 태그의 다음에 있는 형제태그들 중 span 태그만 추출\n",
    "soup.span.find_next_siblings('span')"
   ]
  },
  {
   "cell_type": "code",
   "execution_count": 107,
   "id": "8407fe10-0280-45ae-bee6-afb32642eccb",
   "metadata": {},
   "outputs": [
    {
     "data": {
      "text/plain": [
       "[<span class=\"menu\"> 의류</span>,\n",
       " <span class=\"price\"> 29000 </span>,\n",
       " <span class=\"number\"> 25 </span>]"
      ]
     },
     "execution_count": 107,
     "metadata": {},
     "output_type": "execute_result"
    }
   ],
   "source": [
    "# 첫 번째 a태그의 이전에 있는 모든 형제태그 추출\n",
    "soup.a.find_previous_siblings()"
   ]
  },
  {
   "cell_type": "code",
   "execution_count": 108,
   "id": "f0bbb43b-0b70-4a94-8053-3540ce1e50e2",
   "metadata": {},
   "outputs": [
    {
     "data": {
      "text/plain": [
       "<span class=\"number\"> 25 </span>"
      ]
     },
     "execution_count": 108,
     "metadata": {},
     "output_type": "execute_result"
    }
   ],
   "source": [
    "# 첫 번째 a태그의 이전에 있는 형제태그 중 속성값이 number인 형제태그 추출\n",
    "soup.a.find_previous_sibling('span', class_='number')"
   ]
  },
  {
   "cell_type": "code",
   "execution_count": 109,
   "id": "e5fe5f71-c8f6-442a-b3f0-900fa4568f40",
   "metadata": {},
   "outputs": [
    {
     "data": {
      "text/plain": [
       "' 25 '"
      ]
     },
     "execution_count": 109,
     "metadata": {},
     "output_type": "execute_result"
    }
   ],
   "source": [
    "# 첫 번째 a태그의 이전에 있는 형제태그 중 속성값이 number인 형제태그의 텍스트만 추출\n",
    "soup.a.find_previous_sibling('span', class_='number').get_text()"
   ]
  },
  {
   "cell_type": "code",
   "execution_count": 110,
   "id": "2ec41a2d-32c7-4b64-87e9-f010b069c529",
   "metadata": {},
   "outputs": [
    {
     "data": {
      "text/plain": [
       "'25'"
      ]
     },
     "execution_count": 110,
     "metadata": {},
     "output_type": "execute_result"
    }
   ],
   "source": [
    "# 첫 번째 a태그의 이전에 있는 형제태그 중 속성값이 number인 형제태그의 텍스트만 추출\n",
    "soup.a.find_previous_sibling('span', class_='number').get_text(strip=True)"
   ]
  },
  {
   "cell_type": "markdown",
   "id": "98e743d3-eb23-4e23-8e42-3735a50108a8",
   "metadata": {},
   "source": [
    "### BeautifulSoup을 이용해 주기적으로 환율 정보 업데이트하기"
   ]
  },
  {
   "cell_type": "code",
   "execution_count": 9,
   "id": "07feb50b-92d8-43fc-998b-211f86263fd3",
   "metadata": {},
   "outputs": [
    {
     "name": "stdout",
     "output_type": "stream",
     "text": [
      "[            구분    금리   등락율\n",
      "0    CD금리(91일)  2.71  0.01\n",
      "1         콜 금리  2.78  0.03\n",
      "2     국고채 (3년)  2.38  0.03\n",
      "3     회사채 (3년)  2.96  0.02\n",
      "4     COFIX 잔액  3.30  0.06\n",
      "5  COFIX 신규취급액  2.84  0.13,        구분     금리   등락율\n",
      "0  달러 인덱스  99.12  0.02, Empty DataFrame\n",
      "Columns: [업체명, 거래량, 전일비]\n",
      "Index: []]\n"
     ]
    }
   ],
   "source": [
    "# 전체 통화 환율 리스트 가져오기\n",
    "import pandas as pd\n",
    "import requests\n",
    "from io import StringIO\n",
    "\n",
    "url = 'https://finance.naver.com/marketindex'\n",
    "response = requests.get(url)\n",
    "#response.encoding = 'cp949'\n",
    "\n",
    "html_content = StringIO(response.text)\n",
    "exchange_lists = pd.read_html(html_content , flavor='lxml')\n",
    "print(exchange_lists)"
   ]
  },
  {
   "cell_type": "code",
   "execution_count": 112,
   "id": "e981b08a-d686-4120-ab8f-0075ac02c223",
   "metadata": {},
   "outputs": [
    {
     "data": {
      "text/html": [
       "<div>\n",
       "<style scoped>\n",
       "    .dataframe tbody tr th:only-of-type {\n",
       "        vertical-align: middle;\n",
       "    }\n",
       "\n",
       "    .dataframe tbody tr th {\n",
       "        vertical-align: top;\n",
       "    }\n",
       "\n",
       "    .dataframe thead th {\n",
       "        text-align: right;\n",
       "    }\n",
       "</style>\n",
       "<table border=\"1\" class=\"dataframe\">\n",
       "  <thead>\n",
       "    <tr style=\"text-align: right;\">\n",
       "      <th></th>\n",
       "      <th>구분</th>\n",
       "      <th>금리</th>\n",
       "      <th>등락율</th>\n",
       "    </tr>\n",
       "  </thead>\n",
       "  <tbody>\n",
       "    <tr>\n",
       "      <th>0</th>\n",
       "      <td>CD금리(91일)</td>\n",
       "      <td>2.71</td>\n",
       "      <td>0.01</td>\n",
       "    </tr>\n",
       "    <tr>\n",
       "      <th>1</th>\n",
       "      <td>콜 금리</td>\n",
       "      <td>2.78</td>\n",
       "      <td>0.03</td>\n",
       "    </tr>\n",
       "    <tr>\n",
       "      <th>2</th>\n",
       "      <td>국고채 (3년)</td>\n",
       "      <td>2.38</td>\n",
       "      <td>0.03</td>\n",
       "    </tr>\n",
       "    <tr>\n",
       "      <th>3</th>\n",
       "      <td>회사채 (3년)</td>\n",
       "      <td>2.96</td>\n",
       "      <td>0.02</td>\n",
       "    </tr>\n",
       "    <tr>\n",
       "      <th>4</th>\n",
       "      <td>COFIX 잔액</td>\n",
       "      <td>3.30</td>\n",
       "      <td>0.06</td>\n",
       "    </tr>\n",
       "    <tr>\n",
       "      <th>5</th>\n",
       "      <td>COFIX 신규취급액</td>\n",
       "      <td>2.84</td>\n",
       "      <td>0.13</td>\n",
       "    </tr>\n",
       "  </tbody>\n",
       "</table>\n",
       "</div>"
      ],
      "text/plain": [
       "            구분    금리   등락율\n",
       "0    CD금리(91일)  2.71  0.01\n",
       "1         콜 금리  2.78  0.03\n",
       "2     국고채 (3년)  2.38  0.03\n",
       "3     회사채 (3년)  2.96  0.02\n",
       "4     COFIX 잔액  3.30  0.06\n",
       "5  COFIX 신규취급액  2.84  0.13"
      ]
     },
     "execution_count": 112,
     "metadata": {},
     "output_type": "execute_result"
    }
   ],
   "source": [
    "df = exchange_lists[0]\n",
    "df "
   ]
  },
  {
   "cell_type": "code",
   "execution_count": 10,
   "id": "19a5b81b-0ac2-4ba4-b8cd-de2cd025b6a2",
   "metadata": {},
   "outputs": [
    {
     "name": "stdout",
     "output_type": "stream",
     "text": [
      "[              통화명    매매기준율       현찰                송금           미화환산율\n",
      "              통화명    매매기준율     사실 때     파실 때    보내실 때    받으실 때  미화환산율\n",
      "0          미국 USD  1422.50  1447.39  1397.61  1436.40  1408.60  1.000\n",
      "1        유럽연합 EUR  1617.81  1650.00  1585.62  1633.98  1601.64  1.137\n",
      "2   일본 JPY (100엔)   999.09  1016.57   981.61  1008.88   989.30  0.702\n",
      "3          중국 CNY   194.83   204.57   185.09   196.77   192.89  0.137\n",
      "4          홍콩 HKD   183.26   186.87   179.65   185.09   181.43  0.129\n",
      "5          대만 TWD    43.63    49.34    39.27      NaN      NaN  0.031\n",
      "6          영국 GBP  1887.66  1924.84  1850.48  1906.53  1868.79  1.327\n",
      "7          오만 OMR  3694.81  3953.44  3436.18      NaN      NaN  2.597\n",
      "8         캐나다 CAD  1026.08  1046.29  1005.87  1036.34  1015.82  0.721\n",
      "9         스위스 CHF  1737.40  1771.62  1703.18  1754.77  1720.03  1.221\n",
      "10        스웨덴 SEK   147.85   152.72   139.43   149.32   146.38  0.104\n",
      "11         호주 AUD   907.27   925.14   889.40   916.34   898.20  0.638\n",
      "12       뉴질랜드 NZD   844.47   861.10   827.84   852.91   836.03  0.594\n",
      "13         체코 CZK    64.57    70.05    58.76    65.28    63.86  0.045\n",
      "14         칠레 CLP     1.47     1.61     1.33      NaN      NaN  0.001\n",
      "15       튀르키예 TRY    37.35      NaN      NaN    37.76    36.94  0.026\n",
      "16         몽골 MNT     0.40      NaN      NaN      NaN      NaN  0.000\n",
      "17       이스라엘 ILS   386.09   424.69   355.21      NaN      NaN  0.271\n",
      "18        덴마크 DKK   216.66   223.80   204.32   218.82   214.50  0.152\n",
      "19       노르웨이 NOK   135.87   140.35   128.13   137.22   134.52  0.096\n",
      "20    사우디아라비아 SAR   379.11   402.99   352.96   382.90   375.32  0.267\n",
      "21       쿠웨이트 KWD  4639.60  4941.17  4268.44  4685.99  4593.21  3.262\n",
      "22        바레인 BHD  3773.91  4015.44  3472.00  3811.64  3736.18  2.653\n",
      "23     아랍에미리트 AED   387.29   408.59   360.57   391.16   383.42  0.272\n",
      "24        요르단 JOD  2006.35  2184.91  1845.85      NaN      NaN  1.410\n",
      "25        이집트 EGP    27.82      NaN      NaN      NaN      NaN  0.020\n",
      "26         태국 THB    42.59    44.71    40.04    43.01    42.17  0.030\n",
      "27       싱가포르 SGD  1083.97  1105.54  1062.40  1094.80  1073.14  0.762\n",
      "28      말레이시아 MYR   322.67   346.54   298.80      NaN   319.45  0.227\n",
      "29  인도네시아 IDR 100     8.46     9.30     7.62     8.54     8.38  0.006\n",
      "30        카타르 QAR   390.26      NaN      NaN      NaN      NaN  0.274\n",
      "31      카자흐스탄 KZT     2.73      NaN      NaN      NaN      NaN  0.002\n",
      "32       브루나이 BND  1083.97  1127.32  1018.94      NaN      NaN  0.762\n",
      "33         인도 INR    16.65      NaN      NaN    16.84    16.46  0.012\n",
      "34       파키스탄 PKR     5.07      NaN      NaN      NaN      NaN  0.004\n",
      "35      방글라데시 BDT    11.71      NaN      NaN      NaN      NaN  0.008\n",
      "36        필리핀 PHP    25.09    27.59    23.04    25.34    24.84  0.018\n",
      "37        멕시코 MXN    72.14    79.71    64.57    72.86    71.42  0.051\n",
      "38        브라질 BRL   244.76   269.72   220.29      NaN   241.83  0.172\n",
      "39    베트남 VND 100     5.49     6.13     4.85     5.54     5.44  0.004\n",
      "40  남아프리카 공화국 ZAR    75.62    81.66    69.58    76.52    74.72  0.053\n",
      "41        러시아 RUB    17.45    19.10    14.40    18.06    16.84  0.012\n",
      "42        헝가리 HUF     3.96     4.32     3.65     4.00     3.92  0.003\n",
      "43        폴란드 PLN   378.17   408.42   347.92   382.32   374.02  0.266\n",
      "44       스리랑카 LKR     4.76      NaN      NaN      NaN      NaN  0.003\n",
      "45        알제리 DZD    10.73      NaN      NaN      NaN      NaN  0.008\n",
      "46         케냐 KES    10.97      NaN      NaN      NaN      NaN  0.008\n",
      "47       콜롬비아 COP     0.33      NaN      NaN      NaN      NaN  0.000\n",
      "48       탄자니아 TZS     0.53      NaN      NaN      NaN      NaN  0.000\n",
      "49         네팔 NPR    10.41      NaN      NaN      NaN      NaN  0.007\n",
      "50       루마니아 RON   324.99      NaN      NaN   328.56   321.42  0.229\n",
      "51        리비아 LYD   259.83      NaN      NaN   262.42   257.24  0.183\n",
      "52        마카오 MOP   177.79      NaN      NaN      NaN      NaN  0.125\n",
      "53        미얀마 MMK     0.68      NaN      NaN      NaN      NaN  0.001\n",
      "54      에티오피아 ETB    10.66      NaN      NaN      NaN      NaN  0.008\n",
      "55     우즈베키스탄 UZS     0.11      NaN      NaN      NaN      NaN  0.000\n",
      "56       캄보디아 KHR     0.36      NaN      NaN      NaN      NaN  0.000\n",
      "57         피지 FJD   621.70      NaN      NaN      NaN      NaN  0.437]\n"
     ]
    }
   ],
   "source": [
    "url = 'https://finance.naver.com/marketindex/exchangeList.naver'\n",
    "response = requests.get(url)\n",
    "#response.encoding = 'cp949'\n",
    "\n",
    "html_content = StringIO(response.text)\n",
    "exchange_lists = pd.read_html(html_content , flavor='lxml')\n",
    "print(exchange_lists)"
   ]
  },
  {
   "cell_type": "code",
   "execution_count": 114,
   "id": "d547f950-a45d-4c4f-bfea-39f767cbf7fb",
   "metadata": {},
   "outputs": [
    {
     "data": {
      "text/html": [
       "<div>\n",
       "<style scoped>\n",
       "    .dataframe tbody tr th:only-of-type {\n",
       "        vertical-align: middle;\n",
       "    }\n",
       "\n",
       "    .dataframe tbody tr th {\n",
       "        vertical-align: top;\n",
       "    }\n",
       "\n",
       "    .dataframe thead tr th {\n",
       "        text-align: left;\n",
       "    }\n",
       "</style>\n",
       "<table border=\"1\" class=\"dataframe\">\n",
       "  <thead>\n",
       "    <tr>\n",
       "      <th></th>\n",
       "      <th>통화명</th>\n",
       "      <th>매매기준율</th>\n",
       "      <th colspan=\"2\" halign=\"left\">현찰</th>\n",
       "      <th colspan=\"2\" halign=\"left\">송금</th>\n",
       "      <th>미화환산율</th>\n",
       "    </tr>\n",
       "    <tr>\n",
       "      <th></th>\n",
       "      <th>통화명</th>\n",
       "      <th>매매기준율</th>\n",
       "      <th>사실 때</th>\n",
       "      <th>파실 때</th>\n",
       "      <th>보내실 때</th>\n",
       "      <th>받으실 때</th>\n",
       "      <th>미화환산율</th>\n",
       "    </tr>\n",
       "  </thead>\n",
       "  <tbody>\n",
       "    <tr>\n",
       "      <th>0</th>\n",
       "      <td>미국 USD</td>\n",
       "      <td>1421.60</td>\n",
       "      <td>1446.47</td>\n",
       "      <td>1396.73</td>\n",
       "      <td>1435.50</td>\n",
       "      <td>1407.70</td>\n",
       "      <td>1.000</td>\n",
       "    </tr>\n",
       "    <tr>\n",
       "      <th>1</th>\n",
       "      <td>유럽연합 EUR</td>\n",
       "      <td>1616.43</td>\n",
       "      <td>1648.59</td>\n",
       "      <td>1584.27</td>\n",
       "      <td>1632.59</td>\n",
       "      <td>1600.27</td>\n",
       "      <td>1.137</td>\n",
       "    </tr>\n",
       "    <tr>\n",
       "      <th>2</th>\n",
       "      <td>일본 JPY (100엔)</td>\n",
       "      <td>998.81</td>\n",
       "      <td>1016.28</td>\n",
       "      <td>981.34</td>\n",
       "      <td>1008.59</td>\n",
       "      <td>989.03</td>\n",
       "      <td>0.703</td>\n",
       "    </tr>\n",
       "    <tr>\n",
       "      <th>3</th>\n",
       "      <td>중국 CNY</td>\n",
       "      <td>194.73</td>\n",
       "      <td>204.46</td>\n",
       "      <td>185.00</td>\n",
       "      <td>196.67</td>\n",
       "      <td>192.79</td>\n",
       "      <td>0.137</td>\n",
       "    </tr>\n",
       "    <tr>\n",
       "      <th>4</th>\n",
       "      <td>홍콩 HKD</td>\n",
       "      <td>183.13</td>\n",
       "      <td>186.73</td>\n",
       "      <td>179.53</td>\n",
       "      <td>184.96</td>\n",
       "      <td>181.30</td>\n",
       "      <td>0.129</td>\n",
       "    </tr>\n",
       "    <tr>\n",
       "      <th>5</th>\n",
       "      <td>대만 TWD</td>\n",
       "      <td>43.59</td>\n",
       "      <td>49.30</td>\n",
       "      <td>39.24</td>\n",
       "      <td>NaN</td>\n",
       "      <td>NaN</td>\n",
       "      <td>0.031</td>\n",
       "    </tr>\n",
       "    <tr>\n",
       "      <th>6</th>\n",
       "      <td>영국 GBP</td>\n",
       "      <td>1886.04</td>\n",
       "      <td>1923.19</td>\n",
       "      <td>1848.89</td>\n",
       "      <td>1904.90</td>\n",
       "      <td>1867.18</td>\n",
       "      <td>1.327</td>\n",
       "    </tr>\n",
       "    <tr>\n",
       "      <th>7</th>\n",
       "      <td>오만 OMR</td>\n",
       "      <td>3692.66</td>\n",
       "      <td>3951.14</td>\n",
       "      <td>3434.18</td>\n",
       "      <td>NaN</td>\n",
       "      <td>NaN</td>\n",
       "      <td>2.598</td>\n",
       "    </tr>\n",
       "    <tr>\n",
       "      <th>8</th>\n",
       "      <td>캐나다 CAD</td>\n",
       "      <td>1025.87</td>\n",
       "      <td>1046.07</td>\n",
       "      <td>1005.67</td>\n",
       "      <td>1036.12</td>\n",
       "      <td>1015.62</td>\n",
       "      <td>0.722</td>\n",
       "    </tr>\n",
       "    <tr>\n",
       "      <th>9</th>\n",
       "      <td>스위스 CHF</td>\n",
       "      <td>1738.00</td>\n",
       "      <td>1772.23</td>\n",
       "      <td>1703.77</td>\n",
       "      <td>1755.38</td>\n",
       "      <td>1720.62</td>\n",
       "      <td>1.223</td>\n",
       "    </tr>\n",
       "    <tr>\n",
       "      <th>10</th>\n",
       "      <td>스웨덴 SEK</td>\n",
       "      <td>147.77</td>\n",
       "      <td>152.64</td>\n",
       "      <td>139.35</td>\n",
       "      <td>149.24</td>\n",
       "      <td>146.30</td>\n",
       "      <td>0.104</td>\n",
       "    </tr>\n",
       "    <tr>\n",
       "      <th>11</th>\n",
       "      <td>호주 AUD</td>\n",
       "      <td>906.70</td>\n",
       "      <td>924.56</td>\n",
       "      <td>888.84</td>\n",
       "      <td>915.76</td>\n",
       "      <td>897.64</td>\n",
       "      <td>0.638</td>\n",
       "    </tr>\n",
       "    <tr>\n",
       "      <th>12</th>\n",
       "      <td>뉴질랜드 NZD</td>\n",
       "      <td>844.08</td>\n",
       "      <td>860.70</td>\n",
       "      <td>827.46</td>\n",
       "      <td>852.52</td>\n",
       "      <td>835.64</td>\n",
       "      <td>0.594</td>\n",
       "    </tr>\n",
       "    <tr>\n",
       "      <th>13</th>\n",
       "      <td>체코 CZK</td>\n",
       "      <td>64.51</td>\n",
       "      <td>69.99</td>\n",
       "      <td>58.71</td>\n",
       "      <td>65.21</td>\n",
       "      <td>63.81</td>\n",
       "      <td>0.045</td>\n",
       "    </tr>\n",
       "    <tr>\n",
       "      <th>14</th>\n",
       "      <td>칠레 CLP</td>\n",
       "      <td>1.47</td>\n",
       "      <td>1.61</td>\n",
       "      <td>1.33</td>\n",
       "      <td>NaN</td>\n",
       "      <td>NaN</td>\n",
       "      <td>0.001</td>\n",
       "    </tr>\n",
       "    <tr>\n",
       "      <th>15</th>\n",
       "      <td>튀르키예 TRY</td>\n",
       "      <td>37.32</td>\n",
       "      <td>NaN</td>\n",
       "      <td>NaN</td>\n",
       "      <td>37.73</td>\n",
       "      <td>36.91</td>\n",
       "      <td>0.026</td>\n",
       "    </tr>\n",
       "    <tr>\n",
       "      <th>16</th>\n",
       "      <td>몽골 MNT</td>\n",
       "      <td>0.40</td>\n",
       "      <td>NaN</td>\n",
       "      <td>NaN</td>\n",
       "      <td>NaN</td>\n",
       "      <td>NaN</td>\n",
       "      <td>0.000</td>\n",
       "    </tr>\n",
       "    <tr>\n",
       "      <th>17</th>\n",
       "      <td>이스라엘 ILS</td>\n",
       "      <td>385.75</td>\n",
       "      <td>424.32</td>\n",
       "      <td>354.89</td>\n",
       "      <td>NaN</td>\n",
       "      <td>NaN</td>\n",
       "      <td>0.271</td>\n",
       "    </tr>\n",
       "    <tr>\n",
       "      <th>18</th>\n",
       "      <td>덴마크 DKK</td>\n",
       "      <td>216.50</td>\n",
       "      <td>223.64</td>\n",
       "      <td>204.16</td>\n",
       "      <td>218.66</td>\n",
       "      <td>214.34</td>\n",
       "      <td>0.152</td>\n",
       "    </tr>\n",
       "    <tr>\n",
       "      <th>19</th>\n",
       "      <td>노르웨이 NOK</td>\n",
       "      <td>135.71</td>\n",
       "      <td>140.18</td>\n",
       "      <td>127.98</td>\n",
       "      <td>137.06</td>\n",
       "      <td>134.36</td>\n",
       "      <td>0.096</td>\n",
       "    </tr>\n",
       "    <tr>\n",
       "      <th>20</th>\n",
       "      <td>사우디아라비아 SAR</td>\n",
       "      <td>378.87</td>\n",
       "      <td>402.73</td>\n",
       "      <td>352.73</td>\n",
       "      <td>382.65</td>\n",
       "      <td>375.09</td>\n",
       "      <td>0.267</td>\n",
       "    </tr>\n",
       "    <tr>\n",
       "      <th>21</th>\n",
       "      <td>쿠웨이트 KWD</td>\n",
       "      <td>4636.21</td>\n",
       "      <td>4937.56</td>\n",
       "      <td>4265.32</td>\n",
       "      <td>4682.57</td>\n",
       "      <td>4589.85</td>\n",
       "      <td>3.261</td>\n",
       "    </tr>\n",
       "    <tr>\n",
       "      <th>22</th>\n",
       "      <td>바레인 BHD</td>\n",
       "      <td>3771.42</td>\n",
       "      <td>4012.79</td>\n",
       "      <td>3469.71</td>\n",
       "      <td>3809.13</td>\n",
       "      <td>3733.71</td>\n",
       "      <td>2.653</td>\n",
       "    </tr>\n",
       "    <tr>\n",
       "      <th>23</th>\n",
       "      <td>아랍에미리트 AED</td>\n",
       "      <td>387.04</td>\n",
       "      <td>408.32</td>\n",
       "      <td>360.34</td>\n",
       "      <td>390.91</td>\n",
       "      <td>383.17</td>\n",
       "      <td>0.272</td>\n",
       "    </tr>\n",
       "    <tr>\n",
       "      <th>24</th>\n",
       "      <td>요르단 JOD</td>\n",
       "      <td>2005.08</td>\n",
       "      <td>2183.53</td>\n",
       "      <td>1844.68</td>\n",
       "      <td>NaN</td>\n",
       "      <td>NaN</td>\n",
       "      <td>1.410</td>\n",
       "    </tr>\n",
       "    <tr>\n",
       "      <th>25</th>\n",
       "      <td>이집트 EGP</td>\n",
       "      <td>27.80</td>\n",
       "      <td>NaN</td>\n",
       "      <td>NaN</td>\n",
       "      <td>NaN</td>\n",
       "      <td>NaN</td>\n",
       "      <td>0.020</td>\n",
       "    </tr>\n",
       "    <tr>\n",
       "      <th>26</th>\n",
       "      <td>태국 THB</td>\n",
       "      <td>42.58</td>\n",
       "      <td>44.70</td>\n",
       "      <td>40.03</td>\n",
       "      <td>43.00</td>\n",
       "      <td>42.16</td>\n",
       "      <td>0.030</td>\n",
       "    </tr>\n",
       "    <tr>\n",
       "      <th>27</th>\n",
       "      <td>싱가포르 SGD</td>\n",
       "      <td>1083.41</td>\n",
       "      <td>1104.96</td>\n",
       "      <td>1061.86</td>\n",
       "      <td>1094.24</td>\n",
       "      <td>1072.58</td>\n",
       "      <td>0.762</td>\n",
       "    </tr>\n",
       "    <tr>\n",
       "      <th>28</th>\n",
       "      <td>말레이시아 MYR</td>\n",
       "      <td>322.43</td>\n",
       "      <td>346.28</td>\n",
       "      <td>298.58</td>\n",
       "      <td>NaN</td>\n",
       "      <td>319.21</td>\n",
       "      <td>0.227</td>\n",
       "    </tr>\n",
       "    <tr>\n",
       "      <th>29</th>\n",
       "      <td>인도네시아 IDR 100</td>\n",
       "      <td>8.45</td>\n",
       "      <td>9.29</td>\n",
       "      <td>7.61</td>\n",
       "      <td>8.53</td>\n",
       "      <td>8.37</td>\n",
       "      <td>0.006</td>\n",
       "    </tr>\n",
       "    <tr>\n",
       "      <th>30</th>\n",
       "      <td>카타르 QAR</td>\n",
       "      <td>390.01</td>\n",
       "      <td>NaN</td>\n",
       "      <td>NaN</td>\n",
       "      <td>NaN</td>\n",
       "      <td>NaN</td>\n",
       "      <td>0.274</td>\n",
       "    </tr>\n",
       "    <tr>\n",
       "      <th>31</th>\n",
       "      <td>카자흐스탄 KZT</td>\n",
       "      <td>2.72</td>\n",
       "      <td>NaN</td>\n",
       "      <td>NaN</td>\n",
       "      <td>NaN</td>\n",
       "      <td>NaN</td>\n",
       "      <td>0.002</td>\n",
       "    </tr>\n",
       "    <tr>\n",
       "      <th>32</th>\n",
       "      <td>브루나이 BND</td>\n",
       "      <td>1083.41</td>\n",
       "      <td>1126.74</td>\n",
       "      <td>1018.41</td>\n",
       "      <td>NaN</td>\n",
       "      <td>NaN</td>\n",
       "      <td>0.762</td>\n",
       "    </tr>\n",
       "    <tr>\n",
       "      <th>33</th>\n",
       "      <td>인도 INR</td>\n",
       "      <td>16.63</td>\n",
       "      <td>NaN</td>\n",
       "      <td>NaN</td>\n",
       "      <td>16.82</td>\n",
       "      <td>16.44</td>\n",
       "      <td>0.012</td>\n",
       "    </tr>\n",
       "    <tr>\n",
       "      <th>34</th>\n",
       "      <td>파키스탄 PKR</td>\n",
       "      <td>5.07</td>\n",
       "      <td>NaN</td>\n",
       "      <td>NaN</td>\n",
       "      <td>NaN</td>\n",
       "      <td>NaN</td>\n",
       "      <td>0.004</td>\n",
       "    </tr>\n",
       "    <tr>\n",
       "      <th>35</th>\n",
       "      <td>방글라데시 BDT</td>\n",
       "      <td>11.70</td>\n",
       "      <td>NaN</td>\n",
       "      <td>NaN</td>\n",
       "      <td>NaN</td>\n",
       "      <td>NaN</td>\n",
       "      <td>0.008</td>\n",
       "    </tr>\n",
       "    <tr>\n",
       "      <th>36</th>\n",
       "      <td>필리핀 PHP</td>\n",
       "      <td>25.07</td>\n",
       "      <td>27.57</td>\n",
       "      <td>23.02</td>\n",
       "      <td>25.32</td>\n",
       "      <td>24.82</td>\n",
       "      <td>0.018</td>\n",
       "    </tr>\n",
       "    <tr>\n",
       "      <th>37</th>\n",
       "      <td>멕시코 MXN</td>\n",
       "      <td>72.11</td>\n",
       "      <td>79.68</td>\n",
       "      <td>64.54</td>\n",
       "      <td>72.83</td>\n",
       "      <td>71.39</td>\n",
       "      <td>0.051</td>\n",
       "    </tr>\n",
       "    <tr>\n",
       "      <th>38</th>\n",
       "      <td>브라질 BRL</td>\n",
       "      <td>244.60</td>\n",
       "      <td>269.54</td>\n",
       "      <td>220.14</td>\n",
       "      <td>NaN</td>\n",
       "      <td>241.67</td>\n",
       "      <td>0.172</td>\n",
       "    </tr>\n",
       "    <tr>\n",
       "      <th>39</th>\n",
       "      <td>베트남 VND 100</td>\n",
       "      <td>5.48</td>\n",
       "      <td>6.12</td>\n",
       "      <td>4.84</td>\n",
       "      <td>5.53</td>\n",
       "      <td>5.43</td>\n",
       "      <td>0.004</td>\n",
       "    </tr>\n",
       "    <tr>\n",
       "      <th>40</th>\n",
       "      <td>남아프리카 공화국 ZAR</td>\n",
       "      <td>75.63</td>\n",
       "      <td>81.68</td>\n",
       "      <td>69.58</td>\n",
       "      <td>76.53</td>\n",
       "      <td>74.73</td>\n",
       "      <td>0.053</td>\n",
       "    </tr>\n",
       "    <tr>\n",
       "      <th>41</th>\n",
       "      <td>러시아 RUB</td>\n",
       "      <td>17.30</td>\n",
       "      <td>18.94</td>\n",
       "      <td>14.28</td>\n",
       "      <td>17.90</td>\n",
       "      <td>16.70</td>\n",
       "      <td>0.012</td>\n",
       "    </tr>\n",
       "    <tr>\n",
       "      <th>42</th>\n",
       "      <td>헝가리 HUF</td>\n",
       "      <td>3.96</td>\n",
       "      <td>4.32</td>\n",
       "      <td>3.65</td>\n",
       "      <td>4.00</td>\n",
       "      <td>3.92</td>\n",
       "      <td>0.003</td>\n",
       "    </tr>\n",
       "    <tr>\n",
       "      <th>43</th>\n",
       "      <td>폴란드 PLN</td>\n",
       "      <td>377.93</td>\n",
       "      <td>408.16</td>\n",
       "      <td>347.70</td>\n",
       "      <td>382.08</td>\n",
       "      <td>373.78</td>\n",
       "      <td>0.266</td>\n",
       "    </tr>\n",
       "    <tr>\n",
       "      <th>44</th>\n",
       "      <td>스리랑카 LKR</td>\n",
       "      <td>4.75</td>\n",
       "      <td>NaN</td>\n",
       "      <td>NaN</td>\n",
       "      <td>NaN</td>\n",
       "      <td>NaN</td>\n",
       "      <td>0.003</td>\n",
       "    </tr>\n",
       "    <tr>\n",
       "      <th>45</th>\n",
       "      <td>알제리 DZD</td>\n",
       "      <td>10.72</td>\n",
       "      <td>NaN</td>\n",
       "      <td>NaN</td>\n",
       "      <td>NaN</td>\n",
       "      <td>NaN</td>\n",
       "      <td>0.008</td>\n",
       "    </tr>\n",
       "    <tr>\n",
       "      <th>46</th>\n",
       "      <td>케냐 KES</td>\n",
       "      <td>10.96</td>\n",
       "      <td>NaN</td>\n",
       "      <td>NaN</td>\n",
       "      <td>NaN</td>\n",
       "      <td>NaN</td>\n",
       "      <td>0.008</td>\n",
       "    </tr>\n",
       "    <tr>\n",
       "      <th>47</th>\n",
       "      <td>콜롬비아 COP</td>\n",
       "      <td>0.33</td>\n",
       "      <td>NaN</td>\n",
       "      <td>NaN</td>\n",
       "      <td>NaN</td>\n",
       "      <td>NaN</td>\n",
       "      <td>0.000</td>\n",
       "    </tr>\n",
       "    <tr>\n",
       "      <th>48</th>\n",
       "      <td>탄자니아 TZS</td>\n",
       "      <td>0.53</td>\n",
       "      <td>NaN</td>\n",
       "      <td>NaN</td>\n",
       "      <td>NaN</td>\n",
       "      <td>NaN</td>\n",
       "      <td>0.000</td>\n",
       "    </tr>\n",
       "    <tr>\n",
       "      <th>49</th>\n",
       "      <td>네팔 NPR</td>\n",
       "      <td>10.41</td>\n",
       "      <td>NaN</td>\n",
       "      <td>NaN</td>\n",
       "      <td>NaN</td>\n",
       "      <td>NaN</td>\n",
       "      <td>0.007</td>\n",
       "    </tr>\n",
       "    <tr>\n",
       "      <th>50</th>\n",
       "      <td>루마니아 RON</td>\n",
       "      <td>324.74</td>\n",
       "      <td>NaN</td>\n",
       "      <td>NaN</td>\n",
       "      <td>328.31</td>\n",
       "      <td>321.17</td>\n",
       "      <td>0.228</td>\n",
       "    </tr>\n",
       "    <tr>\n",
       "      <th>51</th>\n",
       "      <td>리비아 LYD</td>\n",
       "      <td>259.67</td>\n",
       "      <td>NaN</td>\n",
       "      <td>NaN</td>\n",
       "      <td>262.26</td>\n",
       "      <td>257.08</td>\n",
       "      <td>0.183</td>\n",
       "    </tr>\n",
       "    <tr>\n",
       "      <th>52</th>\n",
       "      <td>마카오 MOP</td>\n",
       "      <td>177.67</td>\n",
       "      <td>NaN</td>\n",
       "      <td>NaN</td>\n",
       "      <td>NaN</td>\n",
       "      <td>NaN</td>\n",
       "      <td>0.125</td>\n",
       "    </tr>\n",
       "    <tr>\n",
       "      <th>53</th>\n",
       "      <td>미얀마 MMK</td>\n",
       "      <td>0.68</td>\n",
       "      <td>NaN</td>\n",
       "      <td>NaN</td>\n",
       "      <td>NaN</td>\n",
       "      <td>NaN</td>\n",
       "      <td>0.001</td>\n",
       "    </tr>\n",
       "    <tr>\n",
       "      <th>54</th>\n",
       "      <td>에티오피아 ETB</td>\n",
       "      <td>10.65</td>\n",
       "      <td>NaN</td>\n",
       "      <td>NaN</td>\n",
       "      <td>NaN</td>\n",
       "      <td>NaN</td>\n",
       "      <td>0.008</td>\n",
       "    </tr>\n",
       "    <tr>\n",
       "      <th>55</th>\n",
       "      <td>우즈베키스탄 UZS</td>\n",
       "      <td>0.11</td>\n",
       "      <td>NaN</td>\n",
       "      <td>NaN</td>\n",
       "      <td>NaN</td>\n",
       "      <td>NaN</td>\n",
       "      <td>0.000</td>\n",
       "    </tr>\n",
       "    <tr>\n",
       "      <th>56</th>\n",
       "      <td>캄보디아 KHR</td>\n",
       "      <td>0.35</td>\n",
       "      <td>NaN</td>\n",
       "      <td>NaN</td>\n",
       "      <td>NaN</td>\n",
       "      <td>NaN</td>\n",
       "      <td>0.000</td>\n",
       "    </tr>\n",
       "    <tr>\n",
       "      <th>57</th>\n",
       "      <td>피지 FJD</td>\n",
       "      <td>621.31</td>\n",
       "      <td>NaN</td>\n",
       "      <td>NaN</td>\n",
       "      <td>NaN</td>\n",
       "      <td>NaN</td>\n",
       "      <td>0.437</td>\n",
       "    </tr>\n",
       "  </tbody>\n",
       "</table>\n",
       "</div>"
      ],
      "text/plain": [
       "              통화명    매매기준율       현찰                송금           미화환산율\n",
       "              통화명    매매기준율     사실 때     파실 때    보내실 때    받으실 때  미화환산율\n",
       "0          미국 USD  1421.60  1446.47  1396.73  1435.50  1407.70  1.000\n",
       "1        유럽연합 EUR  1616.43  1648.59  1584.27  1632.59  1600.27  1.137\n",
       "2   일본 JPY (100엔)   998.81  1016.28   981.34  1008.59   989.03  0.703\n",
       "3          중국 CNY   194.73   204.46   185.00   196.67   192.79  0.137\n",
       "4          홍콩 HKD   183.13   186.73   179.53   184.96   181.30  0.129\n",
       "5          대만 TWD    43.59    49.30    39.24      NaN      NaN  0.031\n",
       "6          영국 GBP  1886.04  1923.19  1848.89  1904.90  1867.18  1.327\n",
       "7          오만 OMR  3692.66  3951.14  3434.18      NaN      NaN  2.598\n",
       "8         캐나다 CAD  1025.87  1046.07  1005.67  1036.12  1015.62  0.722\n",
       "9         스위스 CHF  1738.00  1772.23  1703.77  1755.38  1720.62  1.223\n",
       "10        스웨덴 SEK   147.77   152.64   139.35   149.24   146.30  0.104\n",
       "11         호주 AUD   906.70   924.56   888.84   915.76   897.64  0.638\n",
       "12       뉴질랜드 NZD   844.08   860.70   827.46   852.52   835.64  0.594\n",
       "13         체코 CZK    64.51    69.99    58.71    65.21    63.81  0.045\n",
       "14         칠레 CLP     1.47     1.61     1.33      NaN      NaN  0.001\n",
       "15       튀르키예 TRY    37.32      NaN      NaN    37.73    36.91  0.026\n",
       "16         몽골 MNT     0.40      NaN      NaN      NaN      NaN  0.000\n",
       "17       이스라엘 ILS   385.75   424.32   354.89      NaN      NaN  0.271\n",
       "18        덴마크 DKK   216.50   223.64   204.16   218.66   214.34  0.152\n",
       "19       노르웨이 NOK   135.71   140.18   127.98   137.06   134.36  0.096\n",
       "20    사우디아라비아 SAR   378.87   402.73   352.73   382.65   375.09  0.267\n",
       "21       쿠웨이트 KWD  4636.21  4937.56  4265.32  4682.57  4589.85  3.261\n",
       "22        바레인 BHD  3771.42  4012.79  3469.71  3809.13  3733.71  2.653\n",
       "23     아랍에미리트 AED   387.04   408.32   360.34   390.91   383.17  0.272\n",
       "24        요르단 JOD  2005.08  2183.53  1844.68      NaN      NaN  1.410\n",
       "25        이집트 EGP    27.80      NaN      NaN      NaN      NaN  0.020\n",
       "26         태국 THB    42.58    44.70    40.03    43.00    42.16  0.030\n",
       "27       싱가포르 SGD  1083.41  1104.96  1061.86  1094.24  1072.58  0.762\n",
       "28      말레이시아 MYR   322.43   346.28   298.58      NaN   319.21  0.227\n",
       "29  인도네시아 IDR 100     8.45     9.29     7.61     8.53     8.37  0.006\n",
       "30        카타르 QAR   390.01      NaN      NaN      NaN      NaN  0.274\n",
       "31      카자흐스탄 KZT     2.72      NaN      NaN      NaN      NaN  0.002\n",
       "32       브루나이 BND  1083.41  1126.74  1018.41      NaN      NaN  0.762\n",
       "33         인도 INR    16.63      NaN      NaN    16.82    16.44  0.012\n",
       "34       파키스탄 PKR     5.07      NaN      NaN      NaN      NaN  0.004\n",
       "35      방글라데시 BDT    11.70      NaN      NaN      NaN      NaN  0.008\n",
       "36        필리핀 PHP    25.07    27.57    23.02    25.32    24.82  0.018\n",
       "37        멕시코 MXN    72.11    79.68    64.54    72.83    71.39  0.051\n",
       "38        브라질 BRL   244.60   269.54   220.14      NaN   241.67  0.172\n",
       "39    베트남 VND 100     5.48     6.12     4.84     5.53     5.43  0.004\n",
       "40  남아프리카 공화국 ZAR    75.63    81.68    69.58    76.53    74.73  0.053\n",
       "41        러시아 RUB    17.30    18.94    14.28    17.90    16.70  0.012\n",
       "42        헝가리 HUF     3.96     4.32     3.65     4.00     3.92  0.003\n",
       "43        폴란드 PLN   377.93   408.16   347.70   382.08   373.78  0.266\n",
       "44       스리랑카 LKR     4.75      NaN      NaN      NaN      NaN  0.003\n",
       "45        알제리 DZD    10.72      NaN      NaN      NaN      NaN  0.008\n",
       "46         케냐 KES    10.96      NaN      NaN      NaN      NaN  0.008\n",
       "47       콜롬비아 COP     0.33      NaN      NaN      NaN      NaN  0.000\n",
       "48       탄자니아 TZS     0.53      NaN      NaN      NaN      NaN  0.000\n",
       "49         네팔 NPR    10.41      NaN      NaN      NaN      NaN  0.007\n",
       "50       루마니아 RON   324.74      NaN      NaN   328.31   321.17  0.228\n",
       "51        리비아 LYD   259.67      NaN      NaN   262.26   257.08  0.183\n",
       "52        마카오 MOP   177.67      NaN      NaN      NaN      NaN  0.125\n",
       "53        미얀마 MMK     0.68      NaN      NaN      NaN      NaN  0.001\n",
       "54      에티오피아 ETB    10.65      NaN      NaN      NaN      NaN  0.008\n",
       "55     우즈베키스탄 UZS     0.11      NaN      NaN      NaN      NaN  0.000\n",
       "56       캄보디아 KHR     0.35      NaN      NaN      NaN      NaN  0.000\n",
       "57         피지 FJD   621.31      NaN      NaN      NaN      NaN  0.437"
      ]
     },
     "execution_count": 114,
     "metadata": {},
     "output_type": "execute_result"
    }
   ],
   "source": [
    "df = exchange_lists[0]\n",
    "df"
   ]
  },
  {
   "cell_type": "markdown",
   "id": "b6a7bad6-2ba5-47f4-9e0a-03ef09b58473",
   "metadata": {},
   "source": [
    "### 통화별 환율 가져오기¶"
   ]
  },
  {
   "cell_type": "code",
   "execution_count": 11,
   "id": "0ff8a990-19a9-4f3b-bf98-4f79fad0f770",
   "metadata": {},
   "outputs": [],
   "source": [
    "currency_code = 'USD'\n",
    "url = 'https://finance.naver.com/marketindex/exchangeDetail.naver?marketindexCd=FX_' + currency_code +'KRW'\n",
    "\n",
    "response = requests.get(url) \n",
    "html_content = response.text\n",
    "soup = bs4.BeautifulSoup(html_content, 'html.parser')"
   ]
  },
  {
   "cell_type": "code",
   "execution_count": 116,
   "id": "54d185d2-0abf-466d-854b-60cd45cb8ee2",
   "metadata": {},
   "outputs": [
    {
     "data": {
      "text/plain": [
       "\n",
       "<script language=\"javascript\" src=\"/template/head_js.naver?referer=info.finance.naver.com&amp;menu=marketindex&amp;submenu=marketend\"></script>\n",
       "<script src=\"https://ssl.pstatic.net/imgstock/static.pc/20250411170222/js/info/jindo.min.ns.1.5.3.euckr.js\" type=\"text/javascript\"></script>\n",
       "<script src=\"https://ssl.pstatic.net/imgstock/static.pc/20250411170222/js/jindo.1.5.3.element-text-patch.js\" type=\"text/javascript\"></script>\n",
       "<div id=\"container\" style=\"padding-bottom:0px;\">\n",
       "<div class=\"h_company\">\n",
       "<h2><img alt=\"국기이미지\" height=\"13\" src=\"https://ssl.pstatic.net/imgfinance/nfinance/flag/flag_USD.png\" width=\"19\"/> 미국</h2>\n",
       "<div class=\"description\">\n",
       "<span class=\"code2\">USDKRW</span>\n",
       "<a class=\"pad_btn\" href=\"/marketindex/?tabSel=exchange#tab_section\"><span class=\"blind\">환율</span></a>\n",
       "</div>\n",
       "<div class=\"tab_content\">\n",
       "<ul class=\"tab_list\">\n",
       "<!-- [D] 선택한 li에 on 클래스 추가 -->\n",
       "<li class=\"tab_item on\">\n",
       "<a>하나은행</a>\n",
       "</li>\n",
       "<li class=\"tab_item\">\n",
       "<a href=\"/marketindex/exchangeDetail.naver?marketindexCd=FX_USDKRW_SHB\">신한은행</a>\n",
       "</li>\n",
       "</ul>\n",
       "<span class=\"border\"></span>\n",
       "</div>\n",
       "</div>\n",
       "<div id=\"content\">\n",
       "<div class=\"spot\">\n",
       "<div class=\"today\">\n",
       "<p class=\"no_today\">\n",
       "<em class=\"no_up\"><!-- no_down(blue), X(black) -->\n",
       "<em class=\"no_up\">\n",
       "<span class=\"no1\">1</span><span class=\"shim\">,</span><span class=\"no4\">4</span><span class=\"no2\">2</span><span class=\"no1\">1</span><span class=\"jum\">.</span><span class=\"no8\">8</span><span class=\"no0\">0</span>\n",
       "</em>\n",
       "</em>\n",
       "<span class=\"txt_won\">원</span>\n",
       "</p>\n",
       "<p class=\"no_exday\">\n",
       "<span class=\"txt_comparison\">전일대비</span>\n",
       "<em class=\"no_up\">\n",
       "<span class=\"ico up\"></span>\n",
       "<span class=\"no2\">2</span><span class=\"jum\">.</span><span class=\"no3\">3</span><span class=\"no0\">0</span>\n",
       "</em>\n",
       "<em class=\"no_up\">\n",
       "<span class=\"parenthesis1\">(</span><span class=\"ico plus\">+</span>\n",
       "<span class=\"no0\">0</span><span class=\"jum\">.</span><span class=\"no1\">1</span><span class=\"no6\">6</span><span class=\"per\">%</span>\n",
       "<span class=\"parenthesis2\">)</span>\n",
       "</em>\n",
       "</p>\n",
       "</div>\n",
       "<div class=\"exchange_info\">\n",
       "<span class=\"date\">2025.04.18 12:42</span>\n",
       "<span class=\"standard\">하나은행</span>\n",
       "<span class=\"round\">고시회차 <em>175</em>회</span>\n",
       "</div>\n",
       "<!-- 차트 컨트롤 영역 -->\n",
       "<div class=\"chart_control_area\">\n",
       "<dl class=\"line\">\n",
       "<dd>\n",
       "<ul>\n",
       "<li class=\"month\"><a href=\"#\" onclick=\"showChart('month');\">1개월</a></li>\n",
       "<li class=\"month3\"><a class=\"on\" href=\"#\" onclick=\"showChart('month3');\">3개월</a></li>\n",
       "<li class=\"year\"><a href=\"#\" onclick=\"showChart('year');\">1년</a></li>\n",
       "<li class=\"year3\"><a href=\"#\" onclick=\"showChart('year3');\">3년</a></li>\n",
       "<li class=\"year5\"><a href=\"#\" onclick=\"showChart('year5');\">5년</a></li>\n",
       "<li class=\"year10\"><a href=\"#\" onclick=\"showChart('year10');\">10년</a></li>\n",
       "</ul>\n",
       "</dd>\n",
       "</dl>\n",
       "</div>\n",
       "<!-- //차트 컨트롤 영역 -->\n",
       "<!-- 차트 -->\n",
       "<div class=\"flash_area\">\n",
       "<img alt=\"차트\" onerror=\"this.src='https://ssl.pstatic.net/imgstock/chart3/world2008/error_700x243.gif'\" src=\"https://ssl.pstatic.net/imgfinance/chart/marketindex/area/month3/FX_USDKRW.png\" width=\"700\">\n",
       "</img></div>\n",
       "<!-- //차트 -->\n",
       "</div>\n",
       "<div class=\"section_calculator\">\n",
       "<h3 class=\"h_calculator\"><span>환율계산기 (매매기준율 기준)</span></h3>\n",
       "<div class=\"calculator\">\n",
       "<div class=\"inner\">\n",
       "<div class=\"input\">\n",
       "<div class=\"selectbox-noscript\" id=\"sInput\">\n",
       "<select class=\"selectbox-source\" id=\"select_from\">\n",
       "<option label=\"1\" value=\"1\">대한민국 원 KRW</option>\n",
       "<option class=\"selectbox-default\" label=\"1\" selected=\"selected\" value=\"1421.8\"> 미국 달러 USD</option>\n",
       "<option label=\"1\" value=\"1421.8\"> 미국 달러 USD</option>\n",
       "<option label=\"1\" value=\"1616.8\"> 유럽연합 유로 EUR</option>\n",
       "<option label=\"100\" value=\"9.9898\"> 일본 엔 JPY</option>\n",
       "<option label=\"1\" value=\"194.78\"> 중국 위안 CNY</option>\n",
       "<option label=\"1\" value=\"183.16\"> 홍콩 달러 HKD</option>\n",
       "<option label=\"1\" value=\"43.6\"> 대만 달러 TWD</option>\n",
       "<option label=\"1\" value=\"1886.37\"> 영국 파운드 GBP</option>\n",
       "<option label=\"1\" value=\"3693.18\"> 오만 리알 OMR</option>\n",
       "<option label=\"1\" value=\"1026.2\"> 캐나다 달러 CAD</option>\n",
       "<option label=\"1\" value=\"1738.25\"> 스위스 프랑 CHF</option>\n",
       "<option label=\"1\" value=\"147.82\"> 스웨덴 크로나 SEK</option>\n",
       "<option label=\"1\" value=\"906.97\"> 호주 달러 AUD</option>\n",
       "<option label=\"1\" value=\"844.34\"> 뉴질랜드 달러 NZD</option>\n",
       "<option label=\"1\" value=\"64.52\"> 체코 코루나 CZK</option>\n",
       "<option label=\"1\" value=\"1.47\"> 칠레 페소 CLP</option>\n",
       "<option label=\"1\" value=\"37.33\"> 튀르키예 뉴리라 TRY</option>\n",
       "<option label=\"1\" value=\"0.4\"> 몽골 투그릭 MNT</option>\n",
       "<option label=\"1\" value=\"385.71\"> 이스라엘 세켈 ILS</option>\n",
       "<option label=\"1\" value=\"216.55\"> 덴마크 크로네 DKK</option>\n",
       "<option label=\"1\" value=\"135.72\"> 노르웨이 크로네 NOK</option>\n",
       "<option label=\"1\" value=\"378.92\"> 사우디아라비아 리얄 SAR</option>\n",
       "<option label=\"1\" value=\"4636.86\"> 쿠웨이트 디나르 KWD</option>\n",
       "<option label=\"1\" value=\"3771.95\"> 바레인 디나르 BHD</option>\n",
       "<option label=\"1\" value=\"387.1\"> 아랍에미리트 디르함 AED</option>\n",
       "<option label=\"1\" value=\"2005.36\"> 요르단 디나르 JOD</option>\n",
       "<option label=\"1\" value=\"27.81\"> 이집트 파운드 EGP</option>\n",
       "<option label=\"1\" value=\"42.59\"> 태국 바트 THB</option>\n",
       "<option label=\"1\" value=\"1083.85\"> 싱가포르 달러 SGD</option>\n",
       "<option label=\"1\" value=\"322.48\"> 말레이시아 링깃 MYR</option>\n",
       "<option label=\"100\" value=\"0.08449999999999999\"> 인도네시아 루피아 IDR</option>\n",
       "<option label=\"1\" value=\"390.07\"> 카타르 리얄 QAR</option>\n",
       "<option label=\"1\" value=\"2.72\"> 카자흐스탄 텡게 KZT</option>\n",
       "<option label=\"1\" value=\"1083.85\"> 브루나이 달러 BND</option>\n",
       "<option label=\"1\" value=\"16.63\"> 인도 루피 INR</option>\n",
       "<option label=\"1\" value=\"5.07\"> 파키스탄 루피 PKR</option>\n",
       "<option label=\"1\" value=\"11.7\"> 방글라데시 타카 BDT</option>\n",
       "<option label=\"1\" value=\"25.07\"> 필리핀 페소 PHP</option>\n",
       "<option label=\"1\" value=\"72.12\"> 멕시코 페소 MXN</option>\n",
       "<option label=\"1\" value=\"244.64\"> 브라질 레알 BRL</option>\n",
       "<option label=\"100\" value=\"0.0548\"> 베트남 동 VND</option>\n",
       "<option label=\"1\" value=\"75.59\"> 남아프리카 공화국 랜드 ZAR</option>\n",
       "<option label=\"1\" value=\"17.3\"> 러시아 루블 RUB</option>\n",
       "<option label=\"1\" value=\"3.96\"> 헝가리 포린트 HUF</option>\n",
       "<option label=\"1\" value=\"377.99\"> 폴란드 즈워티 PLN</option>\n",
       "<option label=\"1\" value=\"4.75\"> 스리랑카 루피 LKR</option>\n",
       "<option label=\"1\" value=\"10.73\"> 알제리 알제리 디나르 DZD</option>\n",
       "<option label=\"1\" value=\"10.96\"> 케냐 실링 KES</option>\n",
       "<option label=\"1\" value=\"0.33\"> 콜롬비아 페소 COP</option>\n",
       "<option label=\"1\" value=\"0.53\"> 탄자니아 실링 TZS</option>\n",
       "<option label=\"1\" value=\"10.41\"> 네팔 루피 NPR</option>\n",
       "<option label=\"1\" value=\"324.71\"> 루마니아 레우 RON</option>\n",
       "<option label=\"1\" value=\"259.71\"> 리비아 리비아 디나르 LYD</option>\n",
       "<option label=\"1\" value=\"177.7\"> 마카오 파타카 MOP</option>\n",
       "<option label=\"1\" value=\"0.68\"> 미얀마 짯 MMK</option>\n",
       "<option label=\"1\" value=\"10.65\"> 에티오피아 비르 ETB</option>\n",
       "<option label=\"1\" value=\"0.11\"> 우즈베키스탄 숨 UZS</option>\n",
       "<option label=\"1\" value=\"0.36\"> 캄보디아 리엘 KHR</option>\n",
       "<option label=\"1\" value=\"621.4\"> 피지 피지 달러 FJD</option>\n",
       "</select>\n",
       "<div class=\"selectbox-box\" onclick=\"clickcr(this, 'cal.clist1', '', '', event);\">\n",
       "<div class=\"selectbox-label\"></div>\n",
       "</div>\n",
       "<div class=\"selectbox-layer ly_calculator\">\n",
       "<div class=\"selectbox-list\"></div>\n",
       "</div>\n",
       "</div>\n",
       "<div class=\"input_area\" id=\"input_from\">\n",
       "<input id=\"input_from_money\" maxlength=\"10\" onclick=\"clickcr(this, 'cal.unit1', '', '', event);\" onfocus=\"changeActiveInput('from', 'to'); return false;\" onkeyup=\"calcExchange('from', 'to', 'on', event);\" type=\"text\" value=\"1\"/>\n",
       "<img alt=\"\" height=\"13\" id=\"img_from_monetary\" src=\"https://ssl.pstatic.net/static/nfinance/img_money_USD.gif\" width=\"26\"/>\n",
       "</div>\n",
       "</div>\n",
       "<div class=\"same\"><img alt=\"\" height=\"15\" src=\"https://ssl.pstatic.net/static/nfinance/ico_same.gif\" width=\"28\"/></div>\n",
       "<div class=\"view\">\n",
       "<div class=\"selectbox-noscript\" id=\"sView\">\n",
       "<select class=\"selectbox-source\" id=\"select_to\">\n",
       "<option class=\"selectbox-default\" label=\"1\" value=\"1\">대한민국 원 KRW</option>\n",
       "<option label=\"1\" value=\"1\">대한민국 원 KRW</option>\n",
       "<option label=\"1\" value=\"1421.8\">미국 달러 USD</option>\n",
       "<option label=\"1\" value=\"1616.8\">유럽연합 유로 EUR</option>\n",
       "<option label=\"100\" value=\"9.9898\">일본 엔 JPY</option>\n",
       "<option label=\"1\" value=\"194.78\">중국 위안 CNY</option>\n",
       "<option label=\"1\" value=\"183.16\">홍콩 달러 HKD</option>\n",
       "<option label=\"1\" value=\"43.6\">대만 달러 TWD</option>\n",
       "<option label=\"1\" value=\"1886.37\">영국 파운드 GBP</option>\n",
       "<option label=\"1\" value=\"3693.18\">오만 리알 OMR</option>\n",
       "<option label=\"1\" value=\"1026.2\">캐나다 달러 CAD</option>\n",
       "<option label=\"1\" value=\"1738.25\">스위스 프랑 CHF</option>\n",
       "<option label=\"1\" value=\"147.82\">스웨덴 크로나 SEK</option>\n",
       "<option label=\"1\" value=\"906.97\">호주 달러 AUD</option>\n",
       "<option label=\"1\" value=\"844.34\">뉴질랜드 달러 NZD</option>\n",
       "<option label=\"1\" value=\"64.52\">체코 코루나 CZK</option>\n",
       "<option label=\"1\" value=\"1.47\">칠레 페소 CLP</option>\n",
       "<option label=\"1\" value=\"37.33\">튀르키예 뉴리라 TRY</option>\n",
       "<option label=\"1\" value=\"0.4\">몽골 투그릭 MNT</option>\n",
       "<option label=\"1\" value=\"385.71\">이스라엘 세켈 ILS</option>\n",
       "<option label=\"1\" value=\"216.55\">덴마크 크로네 DKK</option>\n",
       "<option label=\"1\" value=\"135.72\">노르웨이 크로네 NOK</option>\n",
       "<option label=\"1\" value=\"378.92\">사우디아라비아 리얄 SAR</option>\n",
       "<option label=\"1\" value=\"4636.86\">쿠웨이트 디나르 KWD</option>\n",
       "<option label=\"1\" value=\"3771.95\">바레인 디나르 BHD</option>\n",
       "<option label=\"1\" value=\"387.1\">아랍에미리트 디르함 AED</option>\n",
       "<option label=\"1\" value=\"2005.36\">요르단 디나르 JOD</option>\n",
       "<option label=\"1\" value=\"27.81\">이집트 파운드 EGP</option>\n",
       "<option label=\"1\" value=\"42.59\">태국 바트 THB</option>\n",
       "<option label=\"1\" value=\"1083.85\">싱가포르 달러 SGD</option>\n",
       "<option label=\"1\" value=\"322.48\">말레이시아 링깃 MYR</option>\n",
       "<option label=\"100\" value=\"0.08449999999999999\">인도네시아 루피아 IDR</option>\n",
       "<option label=\"1\" value=\"390.07\">카타르 리얄 QAR</option>\n",
       "<option label=\"1\" value=\"2.72\">카자흐스탄 텡게 KZT</option>\n",
       "<option label=\"1\" value=\"1083.85\">브루나이 달러 BND</option>\n",
       "<option label=\"1\" value=\"16.63\">인도 루피 INR</option>\n",
       "<option label=\"1\" value=\"5.07\">파키스탄 루피 PKR</option>\n",
       "<option label=\"1\" value=\"11.7\">방글라데시 타카 BDT</option>\n",
       "<option label=\"1\" value=\"25.07\">필리핀 페소 PHP</option>\n",
       "<option label=\"1\" value=\"72.12\">멕시코 페소 MXN</option>\n",
       "<option label=\"1\" value=\"244.64\">브라질 레알 BRL</option>\n",
       "<option label=\"100\" value=\"0.0548\">베트남 동 VND</option>\n",
       "<option label=\"1\" value=\"75.59\">남아프리카 공화국 랜드 ZAR</option>\n",
       "<option label=\"1\" value=\"17.3\">러시아 루블 RUB</option>\n",
       "<option label=\"1\" value=\"3.96\">헝가리 포린트 HUF</option>\n",
       "<option label=\"1\" value=\"377.99\">폴란드 즈워티 PLN</option>\n",
       "<option label=\"1\" value=\"4.75\">스리랑카 루피 LKR</option>\n",
       "<option label=\"1\" value=\"10.73\">알제리 알제리 디나르 DZD</option>\n",
       "<option label=\"1\" value=\"10.96\">케냐 실링 KES</option>\n",
       "<option label=\"1\" value=\"0.33\">콜롬비아 페소 COP</option>\n",
       "<option label=\"1\" value=\"0.53\">탄자니아 실링 TZS</option>\n",
       "<option label=\"1\" value=\"10.41\">네팔 루피 NPR</option>\n",
       "<option label=\"1\" value=\"324.71\">루마니아 레우 RON</option>\n",
       "<option label=\"1\" value=\"259.71\">리비아 리비아 디나르 LYD</option>\n",
       "<option label=\"1\" value=\"177.7\">마카오 파타카 MOP</option>\n",
       "<option label=\"1\" value=\"0.68\">미얀마 짯 MMK</option>\n",
       "<option label=\"1\" value=\"10.65\">에티오피아 비르 ETB</option>\n",
       "<option label=\"1\" value=\"0.11\">우즈베키스탄 숨 UZS</option>\n",
       "<option label=\"1\" value=\"0.36\">캄보디아 리엘 KHR</option>\n",
       "<option label=\"1\" value=\"621.4\">피지 피지 달러 FJD</option>\n",
       "</select>\n",
       "<div class=\"selectbox-box\" onclick=\"clickcr(this, 'cal.clist2', '', '', event);\">\n",
       "<div class=\"selectbox-label\"></div>\n",
       "</div>\n",
       "<div class=\"selectbox-layer ly_calculator\">\n",
       "<div class=\"selectbox-list\"></div>\n",
       "</div>\n",
       "</div>\n",
       "<div class=\"input_area\" id=\"input_to\">\n",
       "<input id=\"input_to_money\" maxlength=\"10\" onclick=\"clickcr(this, 'cal.unit2', '', '', event);\" onfocus=\"changeActiveInput('to', 'from'); return false;\" onkeyup=\"calcExchange('to', 'from', 'on', event);\" type=\"text\"/>\n",
       "<img alt=\"\" height=\"13\" id=\"img_to_monetary\" src=\"https://ssl.pstatic.net/static/nfinance/img_money_KRW.gif\" width=\"26\"/>\n",
       "</div>\n",
       "</div>\n",
       "</div>\n",
       "</div>\n",
       "<h3 class=\"h_txt\">미국 달러 기준</h3>\n",
       "<table border=\"1\" class=\"tbl_calculator\" summary=\"미국 환율 기준\">\n",
       "<caption>미국 환율 기준</caption>\n",
       "<colgroup>\n",
       "<col width=\"100\"/>\n",
       "<col width=\"99\"/>\n",
       "<col width=\"99\"/>\n",
       "<col width=\"99\"/>\n",
       "<col width=\"99\"/>\n",
       "<col width=\"99\"/>\n",
       "<col width=\"100\"/>\n",
       "</colgroup>\n",
       "<thead>\n",
       "<tr>\n",
       "<th>1<img alt=\"\" src=\"https://ssl.pstatic.net/static/nfinance/th_money_USD.gif\"/></th>\n",
       "<th>5<img alt=\"\" src=\"https://ssl.pstatic.net/static/nfinance/th_money_USD.gif\"/></th>\n",
       "<th>10\n",
       "                    <img alt=\"\" src=\"https://ssl.pstatic.net/static/nfinance/th_money_USD.gif\"/></th>\n",
       "<th>50\n",
       "                    <img alt=\"\" src=\"https://ssl.pstatic.net/static/nfinance/th_money_USD.gif\"/></th>\n",
       "<th>100\n",
       "                    <img alt=\"\" src=\"https://ssl.pstatic.net/static/nfinance/th_money_USD.gif\"/></th>\n",
       "<th>250\n",
       "                    <img alt=\"\" src=\"https://ssl.pstatic.net/static/nfinance/th_money_USD.gif\"/></th>\n",
       "<th>500\n",
       "                    <img alt=\"\" src=\"https://ssl.pstatic.net/static/nfinance/th_money_USD.gif\"/></th>\n",
       "</tr>\n",
       "</thead>\n",
       "<tbody>\n",
       "<tr>\n",
       "<td>1,421.80<img alt=\"\" src=\"https://ssl.pstatic.net/static/nfinance/td_money_KRW.gif\"/></td>\n",
       "<td>7,109.00<img alt=\"\" src=\"https://ssl.pstatic.net/static/nfinance/td_money_KRW.gif\"/></td>\n",
       "<td>14,218.00<img alt=\"\" src=\"https://ssl.pstatic.net/static/nfinance/td_money_KRW.gif\"/></td>\n",
       "<td>71,090.00<img alt=\"\" src=\"https://ssl.pstatic.net/static/nfinance/td_money_KRW.gif\"/></td>\n",
       "<td>142,180.00<img alt=\"\" src=\"https://ssl.pstatic.net/static/nfinance/td_money_KRW.gif\"/></td>\n",
       "<td>355,450.00<img alt=\"\" src=\"https://ssl.pstatic.net/static/nfinance/td_money_KRW.gif\"/></td>\n",
       "<td>710,900.00<img alt=\"\" src=\"https://ssl.pstatic.net/static/nfinance/td_money_KRW.gif\"/></td>\n",
       "</tr>\n",
       "</tbody>\n",
       "</table>\n",
       "<h3 class=\"h_txt2\">대한민국 원 기준</h3>\n",
       "<table border=\"1\" class=\"tbl_calculator\" summary=\"대한민국 환율 기준\">\n",
       "<caption>대한민국 환율 기준</caption>\n",
       "<colgroup>\n",
       "<col width=\"100\"/>\n",
       "<col width=\"99\"/>\n",
       "<col width=\"99\"/>\n",
       "<col width=\"99\"/>\n",
       "<col width=\"99\"/>\n",
       "<col width=\"99\"/>\n",
       "<col width=\"100\"/>\n",
       "</colgroup>\n",
       "<thead>\n",
       "<tr>\n",
       "<th>1,000<img alt=\"\" src=\"https://ssl.pstatic.net/static/nfinance/th_money_KRW.gif\"/></th>\n",
       "<th>5,000<img alt=\"\" src=\"https://ssl.pstatic.net/static/nfinance/th_money_KRW.gif\"/></th>\n",
       "<th>10,000<img alt=\"\" src=\"https://ssl.pstatic.net/static/nfinance/th_money_KRW.gif\"/></th>\n",
       "<th>25,000<img alt=\"\" src=\"https://ssl.pstatic.net/static/nfinance/th_money_KRW.gif\"/></th>\n",
       "<th>50,000<img alt=\"\" src=\"https://ssl.pstatic.net/static/nfinance/th_money_KRW.gif\"/></th>\n",
       "<th>100,000<img alt=\"\" src=\"https://ssl.pstatic.net/static/nfinance/th_money_KRW.gif\"/></th>\n",
       "<th>500,000<img alt=\"\" src=\"https://ssl.pstatic.net/static/nfinance/th_money_KRW.gif\"/></th>\n",
       "</tr>\n",
       "</thead>\n",
       "<tbody>\n",
       "<tr>\n",
       "<td>0.70<img alt=\"\" src=\"https://ssl.pstatic.net/static/nfinance/td_money_USD.gif\"/></td>\n",
       "<td>3.52<img alt=\"\" src=\"https://ssl.pstatic.net/static/nfinance/td_money_USD.gif\"/></td>\n",
       "<td>7.03<img alt=\"\" src=\"https://ssl.pstatic.net/static/nfinance/td_money_USD.gif\"/></td>\n",
       "<td>17.58<img alt=\"\" src=\"https://ssl.pstatic.net/static/nfinance/td_money_USD.gif\"/></td>\n",
       "<td>35.17<img alt=\"\" src=\"https://ssl.pstatic.net/static/nfinance/td_money_USD.gif\"/></td>\n",
       "<td>70.33<img alt=\"\" src=\"https://ssl.pstatic.net/static/nfinance/td_money_USD.gif\"/></td>\n",
       "<td>351.67<img alt=\"\" src=\"https://ssl.pstatic.net/static/nfinance/td_money_USD.gif\"/></td>\n",
       "</tr>\n",
       "</tbody>\n",
       "</table>\n",
       "</div>\n",
       "<div class=\"section_news _replaceNewsLink\">\n",
       "<h3 class=\"h_news\"><span>관련 뉴스</span></h3>\n",
       "<ul>\n",
       "<li>\n",
       "<dl>\n",
       "<dt>\n",
       "<a href=\"/marketindex/news/newsRead.naver?officeId=001&amp;articleId=0015338417&amp;category=exchange\" onclick=\"clickcr(this, 'men.list', '0015338417', '1', event);\">\"'관세 협상 개시' 미일, 환율 문제는 4월 하순 논의할 듯\"</a>\n",
       "</dt>\n",
       "<dd>\n",
       "                                경수현 특파원 = 관세 협상을 개시한 미국과 일본이 환율 문제는 4월 하순에 논의할 전망이라고 니혼게이자이신문(닛케이)이 18일 보도했다. 닛케이는 가토 가쓰노부 재무상이 국제통화기금(IMF) 및 세계은행 회의에 참\n",
       "                            <span class=\"writing\"></span>\n",
       "<span class=\"date\">2025-04-18 11:30:32</span>\n",
       "</dd>\n",
       "</dl>\n",
       "</li>\n",
       "<li>\n",
       "<dl>\n",
       "<dt>\n",
       "<a href=\"/marketindex/news/newsRead.naver?officeId=001&amp;articleId=0015338305&amp;category=exchange\" onclick=\"clickcr(this, 'men.list', '0015338305', '2', event);\">中관영매체 \"무역전쟁 확전은 달러 위기 초래\"…美에 경고</a>\n",
       "</dt>\n",
       "<dd>\n",
       "                                \"美 국가부채 5경1천조원…무분별한 관세 부과로 국가 신뢰도 갉아먹어\" 트럼프 행정부가 대(對)중국 경제·무역 압박 수위를 높여가는 가운데 중국 당국이 관영매체를 통해 미국의 막대한 국가부채를 지적하며 무역전쟁 확전\n",
       "                            <span class=\"writing\"></span>\n",
       "<span class=\"date\">2025-04-18 11:08:56</span>\n",
       "</dd>\n",
       "</dl>\n",
       "</li>\n",
       "<li>\n",
       "<dl>\n",
       "<dt>\n",
       "<a href=\"/marketindex/news/newsRead.naver?officeId=001&amp;articleId=0015337930&amp;category=exchange\" onclick=\"clickcr(this, 'men.list', '0015337930', '3', event);\">환율, 달러 반등에 소폭 상승…1,420원 선 등락</a>\n",
       "</dt>\n",
       "<dd>\n",
       "                                원/달러 환율이 18일 간밤 달러 반등에 소폭 상승했다. 이날 서울 외환시장에서 미국 달러화 대비 원화 환율은 오전 9시 24분 현재 전날 주간 거래 종가(오후 3시 30분 기준가)보다 0.5원 오른 1,419.4원\n",
       "                            <span class=\"writing\"></span>\n",
       "<span class=\"date\">2025-04-18 09:36:00</span>\n",
       "</dd>\n",
       "</dl>\n",
       "</li>\n",
       "</ul>\n",
       "<a class=\"btn_more\" href=\"/news/news_list.naver?mode=LSS3D§ion_id=101§ion_id2=258§ion_id3=429\" onclick=\"clickcr(this, 'men.more', '', '', event);\"><img alt=\"더보기\" height=\"18\" src=\"https://ssl.pstatic.net/static/nfinance/btn_more.gif\" width=\"34\"/></a>\n",
       "</div>\n",
       "<iframe frameborder=\"0\" height=\"415px\" id=\"exchangeDegreeCountQuote\" marginheight=\"0\" marginwidth=\"0\" scrolling=\"no\" src=\"/marketindex/exchangeDegreeCountQuote.naver?marketindexCd=FX_USDKRW\" title=\"고시회차별 시세\" width=\"700px\"></iframe>\n",
       "<iframe frameborder=\"0\" height=\"415px\" id=\"exchangeDailyQuote\" marginheight=\"0\" marginwidth=\"0\" scrolling=\"no\" src=\"/marketindex/exchangeDailyQuote.naver?marketindexCd=FX_USDKRW\" title=\"일별시세\" width=\"700px\"></iframe>\n",
       "</div>\n",
       "<script src=\"https://ssl.pstatic.net/imgstock/static.pc/20250411170222/js/jindo.1.5.3.element-text-patch.js\" type=\"text/javascript\"></script>\n",
       "<script src=\"https://ssl.pstatic.net/imgstock/static.pc/20250411170222/js/jindoComponent/jindo.Component.1.0.3.js\" type=\"text/javascript\"></script>\n",
       "<script src=\"https://ssl.pstatic.net/imgstock/static.pc/20250411170222/js/jindoComponent/jindo.UIComponent.1.0.1.js\" type=\"text/javascript\"></script>\n",
       "<script src=\"https://ssl.pstatic.net/imgstock/static.pc/20250411170222/js/jindoComponent/jindo.HTMLComponent.1.0.1.js\" type=\"text/javascript\"></script>\n",
       "<script src=\"https://ssl.pstatic.net/imgstock/static.pc/20250411170222/js/jindoComponent/jindo.Timer.1.0.3.js\" type=\"text/javascript\"></script>\n",
       "<script src=\"https://ssl.pstatic.net/imgstock/static.pc/20250411170222/js/jindoComponent/jindo.LayerManager.1.0.1.js\" type=\"text/javascript\"></script>\n",
       "<script src=\"https://ssl.pstatic.net/imgstock/static.pc/20250411170222/js/jindoComponent/jindo.LayerPosition.1.0.1.js\" type=\"text/javascript\"></script>\n",
       "<script src=\"https://ssl.pstatic.net/imgstock/static.pc/20250411170222/js/jindoComponent/jindo.RolloverArea.1.0.1.js\" type=\"text/javascript\"></script>\n",
       "<script src=\"https://ssl.pstatic.net/imgstock/static.pc/20250411170222/js/jindoComponent/jindo.RolloverClick.1.0.1.js\" type=\"text/javascript\"></script>\n",
       "<script src=\"https://ssl.pstatic.net/imgstock/static.pc/20250411170222/js/jindoComponent/jindo.SelectBox.1.0.1.js\" type=\"text/javascript\"></script>\n",
       "<script charset=\"euckr\" src=\"https://ssl.pstatic.net/imgstock/static.pc/20250411170222/js/jindoComponent/jindo.TextRange.1.0.1.js\" type=\"text/javascript\"></script>\n",
       "<script charset=\"euckr\" src=\"https://ssl.pstatic.net/imgstock/static.pc/20250411170222/js/jindoComponent/jindo.WatchInput.1.0.1.js\" type=\"text/javascript\"></script>\n",
       "<script charset=\"euckr\" src=\"https://ssl.pstatic.net/imgstock/static.pc/20250411170222/js/jindoComponent/jindo.Formatter.1.1.0.js\" type=\"text/javascript\"></script>\n",
       "<script charset=\"euckr\" src=\"https://ssl.pstatic.net/imgstock/static.pc/20250411170222/js/jindoComponent/jindo.NumberFormatter.1.0.1.js\" type=\"text/javascript\"></script>\n",
       "<script src=\"https://ssl.pstatic.net/imgstock/static.pc/20250411170222/js/exchange.js\" type=\"text/javascript\"></script>\n",
       "<script src=\"https://ssl.pstatic.net/imgstock/static.pc/20250411170222/js/ichart.js\" type=\"text/javascript\"></script>\n",
       "<script type=\"text/javascript\">\n",
       "    //exchangeMain.jsp에도 동일 스크립트 있음 - 로딩시 디자인이 0.5초간 디자인이 안뜬다는 이슈로 include하지 않고 같은 스크립트를 두벌로 관리함\n",
       "\n",
       "    //환율 계산\n",
       "    function calcExchange(str1, str2, cssOn, event) {\n",
       "        var oEvent = event || window.event;\n",
       "        var sKeyCode = (undefined === oEvent) ? undefined : jindo.$Event(oEvent).key().keyCode;\n",
       "\n",
       "        if (sKeyCode != 13 && sKeyCode != 27 && sKeyCode != 37 && sKeyCode != 38 && sKeyCode != 110 && sKeyCode != 229) {\n",
       "            if (str1 == '' && str2 == '') {\n",
       "                if (jindo.$('input_to').className == 'input_area') {\n",
       "                    str1 = 'from';\n",
       "                    str2 = 'to';\n",
       "                } else {\n",
       "                    str1 = 'to';\n",
       "                    str2 = 'from';\n",
       "                }\n",
       "            }\n",
       "\n",
       "            var regExp = new RegExp(\"[^0-9\\.\\,]\");\n",
       "            var sInputValue = jindo.$('input_' + str1 + '_money').value;\n",
       "\n",
       "            if (regExp.test(sInputValue)) {\n",
       "                alert('숫자, 소수점(.)만 입력하실 수 있습니다.');\n",
       "                jindo.$('input_' + str1 + '_money').value = revertInputText(sInputValue);\n",
       "                return false;\n",
       "            }\n",
       "\n",
       "            // 사용자가 입력한 콤마(,) 제거\n",
       "            if (sInputValue.substr(sInputValue.length - 1, 1) == ',') {\n",
       "                jindo.$('input_' + str1 + '_money').value = revertInputText(sInputValue);\n",
       "                return false;\n",
       "            }\n",
       "\n",
       "            // 맨 앞에 있는 숫자 0 없애기\n",
       "            if (sInputValue == '0' || sInputValue == '.' || sInputValue == ',') {\n",
       "                jindo.$('input_' + str1 + '_money').value = revertInputText(sInputValue);\n",
       "                return false;\n",
       "            }\n",
       "\n",
       "            // 소수점 2개가 없도록\n",
       "            var match = sInputValue.match(/\\./g);\n",
       "            if (match != null && match.length >= 2) {\n",
       "                jindo.$('input_' + str1 + '_money').value = revertInputText(sInputValue);\n",
       "                return false;\n",
       "            }\n",
       "\n",
       "            // 소수점을 입력한 경우, 일단 대기\n",
       "            var pointPosIndex = sInputValue.indexOf('.');\n",
       "            if (pointPosIndex != -1 && pointPosIndex == sInputValue.length - 1) {\n",
       "                return false;\n",
       "            }\n",
       "\n",
       "            // 소수점 2자리 유지\n",
       "            if (pointPosIndex != -1 && sInputValue.substring(pointPosIndex + 1, sInputValue.length).length > 2) {\n",
       "                jindo.$('input_' + str1 + '_money').value = revertInputText(sInputValue);\n",
       "                return false;\n",
       "            }\n",
       "\n",
       "            var e_select_from = jindo.$('select_' + str1);\n",
       "            var e_select_to = jindo.$('select_' + str2);\n",
       "\n",
       "            var input_from_money = jindo.$('input_' + str1 + '_money').value;\n",
       "            var input_from = e_select_from.options[e_select_from.selectedIndex].value;\n",
       "            var input_to = e_select_to.options[e_select_to.selectedIndex].value;\n",
       "            var unit_from = e_select_from.options[e_select_from.selectedIndex].text;\n",
       "            var unit_to = e_select_to.options[e_select_to.selectedIndex].text;\n",
       "            input_from_money = input_from_money.replace(/ |,|\\t/g, \"\");\n",
       "            input_from = input_from.replace(/ |,|\\t/g, \"\");\n",
       "            input_to = input_to.replace(/ |,|\\t/g, \"\");\n",
       "            unit_from = unit_from.substr(unit_from.length - 3, 3);\n",
       "            unit_to = unit_to.substr(unit_to.length - 3, 3);\n",
       "\n",
       "            var str1_result = input_from_money * 1;\n",
       "            var str1_str = str1_result.toFixed(0);\n",
       "            var str1_len = str1_str.length;\n",
       "            var str1_result_str = new String(\"\");\n",
       "\n",
       "            if (str1_str > str1_result)\n",
       "                str1_str = new String(str1_str - 1);\n",
       "\n",
       "            if (str1_len >= 3) {\n",
       "                for (i = str1_len - 3; i > 0; i -= 3)\n",
       "                    str1_result_str = \",\" + str1_str.substr(i, 3) + str1_result_str;\n",
       "\n",
       "                str1_result_str = str1_str.substr(0, 3 + i) + str1_result_str;\n",
       "\n",
       "                for (var i = 0; i < input_from_money.length; i++) {\n",
       "                    if (input_from_money.substr(i, 1) != '0') {\n",
       "                        input_from_money = input_from_money.substring(i, input_from_money.length);\n",
       "                        break;\n",
       "                    }\n",
       "                }\n",
       "\n",
       "                if (str1_str != input_from_money) {\n",
       "                    str1_result_str += str1_result.toFixed(input_from_money.split(\".\")[1].length).substr(str1_len, input_from_money.split(\".\")[1].length + 1);\n",
       "                }\n",
       "            } else\n",
       "                str1_result_str = input_from_money;\n",
       "\n",
       "            var str2_result = input_from_money * input_from / input_to;\n",
       "            var str2_str = str2_result.toFixed(0);\n",
       "            var str2_len = str2_str.length;\n",
       "            var str2_result_str = new String(\"\");\n",
       "\n",
       "            if (str2_str > str2_result)\n",
       "                str2_str = new String(str2_str - 1);\n",
       "\n",
       "            if (str2_len >= 3) {\n",
       "                for (i = str2_len - 3; i > 0; i -= 3)\n",
       "                    str2_result_str = \",\" + str2_str.substr(i, 3) + str2_result_str;\n",
       "\n",
       "                str2_result_str = str2_str.substr(0, 3 + i) + str2_result_str;\n",
       "                str2_result_str += str2_result.toFixed(2).substr(str2_len, 3);\n",
       "            } else\n",
       "                str2_result_str = str2_result.toFixed(2);\n",
       "\n",
       "            \n",
       "            if (unit_from == null || unit_from == '') {\n",
       "                unit_from == 'FX_USDKRW';\n",
       "            }\n",
       "\n",
       "            jindo.$('input_' + str1 + '_money').value = str1_result_str;\n",
       "            jindo.$('input_' + str2 + '_money').value = str2_result_str;\n",
       "            jindo.$('img_' + str1 + '_monetary').src = \"https://ssl.pstatic.net/static/nfinance/img_money_\" + unit_from + \".gif\";\n",
       "            if (unit_from == 'MOP') {\n",
       "                jindo.$('img_' + str1 + '_monetary').width = \"35\";\n",
       "            } else {\n",
       "                jindo.$('img_' + str1 + '_monetary').width = \"26\";\n",
       "            }\n",
       "\n",
       "            jindo.$('img_' + str2 + '_monetary').src = \"https://ssl.pstatic.net/static/nfinance/img_money_\" + unit_to + \".gif\";\n",
       "            if (unit_to == 'MOP') {\n",
       "                jindo.$('img_' + str2 + '_monetary').width = \"35\";\n",
       "            } else {\n",
       "                jindo.$('img_' + str2 + '_monetary').width = \"26\";\n",
       "            }\n",
       "            jindo.$Element(jindo.$('input_' + str1)).addClass(\"on\");\n",
       "            jindo.$Element(jindo.$('input_' + str2)).removeClass(\"on\");\n",
       "            if (cssOn == \"off\") {\n",
       "                jindo.$Element(jindo.$('input_' + str1)).removeClass(\"on\");\n",
       "            }\n",
       "        }\n",
       "    }\n",
       "\n",
       "    function revertInputText(sOrgText) {\n",
       "        var sResult = sOrgText;\n",
       "\n",
       "        if (sOrgText != '') {\n",
       "            sResult = sOrgText.substr(0, sOrgText.length - 1);\n",
       "        }\n",
       "\n",
       "        return sResult;\n",
       "    }\n",
       "\n",
       "    jindo.$Fn(function () {\n",
       "        jindo.$$('title')[0].innerHTML = \"미국 달러 : 네이버페이 증권\";\n",
       "    }).attach(document, \"domready\");\n",
       "\n",
       "    // 선 차트 노출\n",
       "    function showChart(target) {\n",
       "        jindo.$A(jindo.$$(\"dl.line dd ul li\")).forEach(function (v) {\n",
       "            if (jindo.$Element(v).className() == target) {\n",
       "                jindo.$Element(v).child()[0].addClass(\"on\");\n",
       "                var welChart = jindo.$Element(jindo.$$.getSingle(\"div.flash_area img\"));\n",
       "                welChart.attr(\"src\", \"https://ssl.pstatic.net/imgfinance/chart/marketindex/area/\" + target + \"/FX_USDKRW.png?sidcode=\" + jindo.$Date(new Date()).format(\"Ymd\"));\n",
       "            } else {\n",
       "                jindo.$Element(v).child()[0].removeClass(\"on\");\n",
       "            }\n",
       "        });\n",
       "    }\n",
       "\n",
       "</script>\n",
       "<div class=\"aside\">\n",
       "<div class=\"spot_aside\">\n",
       "<h3 class=\"h_exchange\"><span>고시환율 (단위 / 원)</span></h3>\n",
       "<table class=\"tbl_exchange\" summary=\"고시환율 (단위 / 원) 리스트\">\n",
       "<caption>고시환율 (단위 / 원)</caption>\n",
       "<colgroup>\n",
       "<col/>\n",
       "<col width=\"120\"/>\n",
       "</colgroup>\n",
       "<thead>\n",
       "<tr>\n",
       "<th>구분</th>\n",
       "<th>환율</th>\n",
       "</tr>\n",
       "</thead>\n",
       "<tbody>\n",
       "<tr>\n",
       "<th class=\"th_ex2\"><span>현찰 사실때</span></th>\n",
       "<td>\n",
       "\t\t\t\t\t\n",
       "\t\t\t\t\t\t\n",
       "\t\t\t\t\t\t1,446.68\n",
       "\t\t\t\t\t\n",
       "\t\t\t\t</td>\n",
       "</tr>\n",
       "<tr>\n",
       "<th class=\"th_ex3\"><span>현찰 파실때</span></th>\n",
       "<td>\n",
       "\t\t\t\t\t\n",
       "\t\t\t\t\t\t\n",
       "\t\t\t\t\t\t1,396.92\n",
       "\t\t\t\t\t\n",
       "\t\t\t\t</td>\n",
       "</tr>\n",
       "<tr>\n",
       "<th class=\"th_ex4\"><span>송금 보내실때</span></th>\n",
       "<td>\n",
       "\t\t\t\t\t\n",
       "\t\t\t\t\t\t\n",
       "\t\t\t\t\t\t1,435.70\n",
       "\t\t\t\t\t\n",
       "\t\t\t\t</td>\n",
       "</tr>\n",
       "<tr>\n",
       "<th class=\"th_ex5\"><span>송금 받으실때</span></th>\n",
       "<td>\n",
       "\t\t\t\t\t\n",
       "\t\t\t\t\t\t\n",
       "\t\t\t\t\t\t1,407.90\n",
       "\t\t\t\t\t\n",
       "\t\t\t\t</td>\n",
       "</tr>\n",
       "<tr>\n",
       "<th class=\"th_ex6\"><span>T/C 사실때</span></th>\n",
       "<td>\n",
       "\t\t\t\t\n",
       "\t\t\t\t\tN/A\n",
       "\t\t\t\t\t\n",
       "\t\t\t\t\n",
       "\t\t\t\t</td>\n",
       "</tr>\n",
       "<tr>\n",
       "<th class=\"th_ex7\"><span>외화수표 파실때</span></th>\n",
       "<td>\n",
       "\t\t\t\t\n",
       "\t\t\t\t\tN/A\n",
       "\t\t\t\t\t\n",
       "\t\t\t\t\n",
       "\t\t\t\t</td>\n",
       "</tr>\n",
       "</tbody>\n",
       "</table>\n",
       "<h3 class=\"h_product\"><span>관련상품</span></h3>\n",
       "<div class=\"product_area\">\n",
       "<div class=\"thumb\">\n",
       "<a href=\"https://www.kebhana.com/foreign/index.do?contentUrl=/foreign/best/wpfxd650_01i.do\" onclick=\"clickcr(this, 'met.11', '', '1', event);\" target=\"_blank\"><img alt=\"\" height=\"40\" src=\"https://ssl.pstatic.net/static/nfinance/@tmp_product.gif\" width=\"52\"/><span class=\"mask\"></span></a>\n",
       "</div>\n",
       "<dl>\n",
       "<dt><a href=\"https://www.kebhana.com/foreign/index.do?contentUrl=/foreign/best/wpfxd650_01i.do\" onclick=\"clickcr(this, 'met.11', '', '2', event);\" target=\"_blank\">하나은행 Best외환</a></dt>\n",
       "<dd><a href=\"https://www.kebhana.com/foreign/index.do?contentUrl=/foreign/best/wpfxd650_01i.do\" onclick=\"clickcr(this, 'met.11', '', '3', event);\" target=\"_blank\">환전, 송금, 외환예금</a></dd>\n",
       "</dl>\n",
       "</div>\n",
       "<h3 class=\"h_exchange_info\"><span>환전용 고시환율 관련 안내</span></h3>\n",
       "<p class=\"info\">고시환율은 하루에도 여러번 재고시 될 수 있습니다. 현재가 및 차트는 매매 기준율로 제공됩니다. </p>\n",
       "</div>\n",
       "<div class=\"section_aside\">\n",
       "<h3 class=\"h_market_indi\"><span>주요 시장지표</span></h3>\n",
       "<table class=\"tbl_indicator\" summary=\"주요 시장 지표 리스트\">\n",
       "<caption>주요 시장 지표</caption>\n",
       "<colgroup>\n",
       "<col width=\"40\"/>\n",
       "<col width=\"60\"/>\n",
       "<col width=\"81\"/>\n",
       "<col width=\"54\"/>\n",
       "</colgroup>\n",
       "<thead>\n",
       "<tr>\n",
       "<th>구분</th>\n",
       "<th>종목</th>\n",
       "<th>거래량</th>\n",
       "<th>전일비</th>\n",
       "</tr>\n",
       "</thead>\n",
       "<tbody>\n",
       "<tr class=\"up\">\n",
       "<th class=\"th_indi8\">\n",
       "<a href=\"exchangeMain.naver\" onclick=\"clickcr(this, 'meh.1', '', '', event);\"><span>환율</span></a></th>\n",
       "<th class=\"th_type1\"><a href=\"exchangeDetail.naver?marketindexCd=FX_USDKRW\" onclick=\"clickcr(this, 'meh.2', '', '', event);\"><span>미국USD</span></a></th>\n",
       "<td>1,421.60<span>원</span></td>\n",
       "<td><img alt=\"상승\" height=\"6\" src=\"https://ssl.pstatic.net/static/nfinance/ico_up.gif\" width=\"7\"/> 2.10</td>\n",
       "</tr>\n",
       "<tr class=\"down\">\n",
       "<th class=\"th_indi9\">\n",
       "<a href=\" goldMain.naver\" onclick=\"clickcr(this, 'meh.3', '', '', event);\"><span> 금시세</span></a></th>\n",
       "<th class=\"th_type2\"><a href=\" worldGoldDetail.naver?fdtc=2&amp;marketindexCd=CMDT_GC\" onclick=\"clickcr(this, 'meh.4', '', '', event);\"><span>국제 금</span></a></th>\n",
       "<td>3,328.40<span> 달러</span></td>\n",
       "<td><img alt=\"하락\" height=\"6\" src=\"https://ssl.pstatic.net/static/nfinance/ico_down.gif\" width=\"7\"/>  18.00</td>\n",
       "</tr>\n",
       "<tr class=\"up\">\n",
       "<th class=\"th_indi10\">\n",
       "<a href=\" oilMain.naver\" onclick=\"clickcr(this, 'meh.5', '', '', event);\"><span> 유가</span></a></th>\n",
       "<th class=\"th_type3\"><a href=\" worldOilDetail.naver?fdtc=2&amp;marketindexCd=OIL_DU\" onclick=\"clickcr(this, 'meh.6', '', '', event);\"><span>두바이유</span></a></th>\n",
       "<td>68.77<span> 달러</span></td>\n",
       "<td><img alt=\"상승\" height=\"6\" src=\"https://ssl.pstatic.net/static/nfinance/ico_up.gif\" width=\"7\"/> 0.87</td>\n",
       "</tr>\n",
       "<tr class=\"down\">\n",
       "<th class=\"th_indi11\">\n",
       "<a href=\" interestMain.naver\" onclick=\"clickcr(this, 'meh.7', '', '', event);\"><span> 금리</span></a></th>\n",
       "<th class=\"th_type4\"><a href=\" interestDetail.naver?marketindexCd=IRR_CD91\" onclick=\"clickcr(this, 'meh.8', '', '', event);\"><span>CD(91일)</span></a></th>\n",
       "<td>2.71<span> %</span></td>\n",
       "<td><img alt=\"하락\" height=\"6\" src=\"https://ssl.pstatic.net/static/nfinance/ico_down.gif\" width=\"7\"/>  0.01</td>\n",
       "</tr>\n",
       "<tr class=\"up\">\n",
       "<th class=\"th_indi12\">\n",
       "<a href=\" materialMain.naver\" onclick=\"clickcr(this, 'meh.9', '', '', event);\"><span> 원자재</span></a></th>\n",
       "<th class=\"th_type5\"><a href=\" materialDetail.naver?marketindexCd=CMDT_CDY\" onclick=\"clickcr(this, 'meh.10', '', '', event);\"><span>구리</span></a></th>\n",
       "<td>9,104.00<span> 달러</span></td>\n",
       "<td><img alt=\"상승\" height=\"6\" src=\"https://ssl.pstatic.net/static/nfinance/ico_up.gif\" width=\"7\"/> 21.00</td>\n",
       "</tr>\n",
       "</tbody>\n",
       "</table>\n",
       "</div>\n",
       "<div class=\"section_aside\">\n",
       "<div class=\"tab_search search3\">\n",
       "<a href=\"#\" onclick=\"clickcr(this, 'rch.1', '', '', event); return false;\"><span>최근조회</span></a>\n",
       "<a href=\"#\" onclick=\"clickcr(this, 'rch.3', '', '', event); return false;\"><span>MY STOCK</span></a>\n",
       "</div>\n",
       "<h3 class=\"blind\">최근조회</h3>\n",
       "<table class=\"tbl_search\" summary=\"최근조회 리스트\">\n",
       "<caption>최근조회</caption>\n",
       "<colgroup>\n",
       "<col/>\n",
       "<col width=\"55\"/>\n",
       "<col width=\"87\"/>\n",
       "</colgroup>\n",
       "<thead>\n",
       "<tr>\n",
       "<th>업체명</th>\n",
       "<th>거래량</th>\n",
       "<th>전일비</th>\n",
       "</tr>\n",
       "</thead>\n",
       "<tbody>\n",
       "</tbody>\n",
       "</table>\n",
       "<div class=\"more_info\">\n",
       "<span>\n",
       "<a href=\"#\" onclick=\"clickcr(this, 'rch.5', '', '', event); return false;\"><img alt=\"이전\" height=\"15\" src=\"https://ssl.pstatic.net/static/nfinance/btn_prev2.gif\" width=\"17\"/></a>\n",
       "<a href=\"#\" onclick=\"clickcr(this, 'rch.6', '', '', event); return false;\"><img alt=\"다음\" height=\"15\" src=\"https://ssl.pstatic.net/static/nfinance/btn_next2.gif\" width=\"17\"/></a>\n",
       "</span>\n",
       "<a class=\"btn_more _mystock_more_info\" href=\"#\" onclick=\"javascript:openMyitemNew('https://' + window.location.hostname); clickcr(this, 'rch.7', '', '', event);\"><img alt=\"더보기\" height=\"10\" src=\"https://ssl.pstatic.net/static/nfinance/btn_more5.gif\" width=\"33\"/></a>\n",
       "</div>\n",
       "</div>\n",
       "<div class=\"section_aside\">\n",
       "<h3 class=\"h_notice\"><span>공지사항</span></h3>\n",
       "<ul class=\"list_report\">\n",
       "</ul>\n",
       "<a class=\"btn_more\" href=\"/notice.naver\" onclick=\"clickcr(this, 'nob.more', '', '', event);\"><img alt=\"공지사항 더보기\" height=\"18\" src=\"https://ssl.pstatic.net/static/nfinance/btn_more.gif\" width=\"34\"/></a>\n",
       "</div>\n",
       "</div>\n",
       "<script language=\"javascript\" src=\"https://ssl.pstatic.net/imgstock/static.pc/20250411170222/js/info/myStock.js\" type=\"text/javascript\"></script>\n",
       "<script language=\"javascript\" src=\"https://ssl.pstatic.net/imgstock/static.pc/20250411170222/js/util.js\" type=\"text/javascript\"></script>\n",
       "<script language=\"javascript\">\n",
       "\n",
       "function toggleTabSearch(e){\n",
       "\tvar currentElement = jindo.$Element(jindo.$Event(e).currentElement);\n",
       "\tvar parentElement = currentElement.parent();\n",
       "\tvar id = currentElement.className();\n",
       "\tvar order = parentElement.indexOf(currentElement) + 3;\n",
       "\tparentElement.className(\"tab_search search\"+ order);\n",
       "\n",
       "\t// 페이징을 위해서 order값에 따라 최근조회인지 mystock인지 type을 저장\n",
       "\tif (order == 3) {\n",
       "\t\tcurrentType = \"recent\";\n",
       "\t} else {\n",
       "\t\tcurrentType = \"mystock\";\n",
       "\t}\n",
       "}\n",
       "\n",
       "jindo.$Fn(function(){\n",
       "\tif ('true' == 'true') {\n",
       "\t\tgetStockRightMenuData('000000', 'recent', 1, 'https://' + window.location.hostname, 'https://ssl.pstatic.net/static/nfinance');\n",
       "\n",
       "\t\tvar tabSearchArea = jindo.$$.getSingle('.tab_search');\n",
       "\t\tvar moreInfoArea = jindo.$Element(jindo.$$.getSingle('.tbl_search')).next().$value();\n",
       "\n",
       "\t\tjindo.$Fn(function(e) {toggleTabSearch(e); getStockRightMenuData('000000', 'recent', 1, 'https://' + window.location.hostname, 'https://ssl.pstatic.net/static/nfinance'); }).attach(jindo.$$.getSingle('a' ,tabSearchArea), 'click');\n",
       "\t\tjindo.$Fn(function(e) {toggleTabSearch(e); getStockRightMenuData('000000', 'mystock', 1, 'https://' + window.location.hostname, 'https://ssl.pstatic.net/static/nfinance'); }).attach(jindo.$$('a' ,tabSearchArea)[1], 'click');\n",
       "\t\tjindo.$Fn(function(e) {updatePageForPaging (currentType, 'up', 'https://' + window.location.hostname, 'https://ssl.pstatic.net/static/nfinance'); }).attach(jindo.$$.getSingle('a', moreInfoArea), 'click');\n",
       "\t\tjindo.$Fn(function(e) {updatePageForPaging (currentType, 'down', 'https://' + window.location.hostname, 'https://ssl.pstatic.net/static/nfinance'); }).attach(jindo.$$('a', moreInfoArea)[1], 'click');\n",
       "\t}\n",
       "\n",
       "}).attach(document,\"domready\");\n",
       "\n",
       "function openMyitemNew(stockHost) {\n",
       "\tvar selectedElement = jindo.$Element(jindo.$$.getSingle(\".tab_search\"));\n",
       "\tif (selectedElement != null) {\n",
       "\t\tif (selectedElement.hasClass(\"search1\")) {\n",
       "\t\t\tdocument.location.href = stockHost + '/mystock/recentSearchItemList.naver';\n",
       "\t\t} else {\n",
       "\t\t\tdocument.location.href = stockHost + '/mystock/itemList.naver';\n",
       "\t\t}\n",
       "\t}\n",
       "}\n",
       "\n",
       "</script>\n",
       "</div>\n",
       "<div id=\"footer\">\n",
       "<ul>\n",
       "<li class=\"first\">\n",
       "<a href=\"https://new-m.pay.naver.com/member/terms-policy/naver-financial-service\" onclick=\"clickcr(this, 'fot.service', '', '', event);\" target=\"_blank\">이용약관</a>\n",
       "</li>\n",
       "<li>\n",
       "<a href=\"https://new-m.pay.naver.com/member/terms-policy/privacy\" onclick=\"clickcr(this, 'fot.privacy', '', '', event);\" target=\"_blank\"><strong>개인정보처리방침</strong></a>\n",
       "</li>\n",
       "<li>\n",
       "<a href=\"/rules.naver\" onclick=\"clickcr(this, 'fot.policy', '', '', event);\" target=\"_blank\">게시판 운영원칙</a>\n",
       "</li>\n",
       "<li>\n",
       "<a href=\"https://help.naver.com/alias/contents2/finance/finance_1.naver\" onclick=\"clickcr(this, 'fot.help', '', '', event);\" target=\"_blank\">증권 고객센터</a>\n",
       "</li>\n",
       "</ul>\n",
       "<p class=\"desc\">\n",
       "\t\t네이버파이낸셜(주)이 제공하는 금융 정보는 <a class=\"desc_help\" href=\"javascript:;\" onclick=\"togglePanelFooter('footerPanel0');\">콘텐츠 제공업체</a>로부터 받는 투자 참고사항이며, 오류가 발생하거나 지연될 수 있습니다.<br/>\n",
       "\t\t네이버파이낸셜(주)과 콘텐츠 제공업체는 제공된 정보에 의한 투자 결과에 법적인 책임을 지지 않습니다. 게시된 정보는 무단으로 배포할 수 없습니다.\n",
       "\t</p>\n",
       "<p class=\"info\">국내 증시 기본 데이터는 한국거래소(KRX)에서 제공합니다.</p>\n",
       "<div class=\"provider_layer\" id=\"footerPanel0\" onblur=\"hidePannel('footerPanel0')\" style=\"display:none\" tabindex=\"0\">\n",
       "<strong class=\"provider_layer__tit\">네이버파이낸셜에 콘텐츠 제공</strong>\n",
       "<div class=\"provider_layer__txt\">\n",
       "<strong>에프앤가이드</strong> 기업 및 재무정보<br/>\n",
       "<strong>KG제로인</strong> 해외 시세, 시장지표 정보<br/>\n",
       "<strong>한국예탁결제원</strong> 주주총회일, 전자투표 정보<br/>\n",
       "<strong>인포스탁</strong> 국내 테마 정보\n",
       "\t\t</div>\n",
       "<div class=\"provider_layer__info\">\n",
       "<strong class=\"provider_layer__tit\">네이버에 콘텐츠 제공</strong>\n",
       "<div class=\"provider_layer__txt\">\n",
       "<strong>코스콤</strong> 국내 시세 정보\n",
       "\t\t\t</div>\n",
       "</div>\n",
       "<button class=\"button_close\" onclick=\"hidePannel('footerPanel0')\" type=\"button\">\n",
       "<img alt=\"닫기\" height=\"20\" src=\"https://ssl.pstatic.net/static/nfinance/2022/footer_close.png\" width=\"20\"/>\n",
       "</button>\n",
       "</div>\n",
       "<address>\n",
       "<a class=\"logo\" href=\"https://www.naverfincorp.com/\" onclick=\"clickcr(this, 'fot.nhn', '', '', event);\" target=\"_blank\"><img alt=\"NAVER FINANCIAL\" height=\"12\" src=\"https://ssl.pstatic.net/static/nfinance/img/logo_financial.png\" width=\"160\"/></a>\n",
       "</address>\n",
       "</div>\n",
       "<script type=\"text/javascript\">\n",
       "function isVisible(obj) {\n",
       "    if (obj == document) return true\n",
       " \n",
       "    if (!obj) return false\n",
       "    if (!obj.parentNode) return false\n",
       "    if (obj.style) {\n",
       "        if (obj.style.display == 'none') return false\n",
       "        if (obj.style.visibility == 'hidden') return false\n",
       "    }\n",
       " \n",
       "    if (window.getComputedStyle) {\n",
       "        var style = window.getComputedStyle(obj, \"\")\n",
       "        if (style.display == 'none') return false\n",
       "        if (style.visibility == 'hidden') return false\n",
       "    }\n",
       " \n",
       "    var style = obj.currentStyle\n",
       "    if (style) {\n",
       "        if (style['display'] == 'none') return false\n",
       "        if (style['visibility'] == 'hidden') return false\n",
       "    }\n",
       " \n",
       "    return isVisible(obj.parentNode)\n",
       "}\n",
       "\n",
       "function isChildOf(myobj, containerObj) {\n",
       "\twhile(myobj != undefined) {\n",
       "\t\tif (myobj == document.body) {\n",
       "\t\t\tbreak;\n",
       "\t\t} \n",
       "\t\tif (myobj == containerObj) {\n",
       "\t\t\treturn true;\n",
       "\t\t}\n",
       "\t\tmyobj = myobj.parentElement;\n",
       "\t}\n",
       "\treturn false;\t\n",
       "}\n",
       "\n",
       "function gnbLayerClose(e){\n",
       "\tvar target = e.target ? e.target : e.srcElement;\n",
       "\tif (isVisible(document.getElementById('gnb_service_lyr')) || isVisible(document.getElementById('gnb_notice_lyr')) ||isVisible(document.getElementById('gnb_my_lyr')) ) {\n",
       "\t\tif (!isChildOf(target, document.getElementById('gnb'))) {\n",
       "\t\t\tgnbAllLayerClose();\n",
       "\t\t}\n",
       "\t}\t\n",
       "}\n",
       "\n",
       "function showPannel(layerId){\n",
       "\tvar layer = jindo.$(layerId);\n",
       "\tlayer.style.display='block';\n",
       "\n",
       "\tif (layerId == \"summary_lyr\") {\n",
       "\t\tvar layerHeight = jindo.$Element(layer).height();\n",
       "\t\tjindo.$Element(\"summary_ifr\").height(layerHeight);\n",
       "\t}\n",
       "}\n",
       "\n",
       "function hidePannel(layerId){\n",
       "\tvar layer = jindo.$(layerId);\n",
       "\tlayer.style.display='none';\n",
       "}\n",
       "\n",
       "function togglePanelFooter(layerId) {\n",
       "\tvar elTargetLayer = jindo.$Element(jindo.$$.getSingle(\"#\" + layerId));\n",
       "\n",
       "\tif (elTargetLayer != null) {\n",
       "\t\tif (elTargetLayer.visible()) {\n",
       "\t\t\thidePannel(layerId);\n",
       "\t\t} else {\n",
       "\t\t\tshowPannel(layerId);\n",
       "\t\t}\n",
       "\t}\n",
       "}\n",
       "\n",
       "var isIE = (navigator.userAgent.toLowerCase().indexOf(\"msie\")!=-1 && window.document.all) ? true:false;\n",
       "if (isIE) {\n",
       "\tdocument.attachEvent('onmousedown', gnbLayerClose);\n",
       "} else {\n",
       "\twindow.addEventListener('mousedown', gnbLayerClose);\n",
       "}\n",
       "\n",
       "// _replaceNewsLink class 하위의 a 태그 조회 후 redirect\n",
       "jindo.$Fn(function () {\n",
       "\tjindo.$$(\"._replaceNewsLink a\").forEach(function(ele){\n",
       "\t\tvar urls = ele.href.split(\"?\");\n",
       "\t\tif (urls[0].indexOf(\"/news_read.naver\") > 0 || urls[0].indexOf(\"/newsRead.naver\") > 0) {\n",
       "\t\t\tvar param = jindo.$S(urls[1]).parseString();\n",
       "\t\t\tvar oid = param.office_id ? param.office_id : param.officeId;\n",
       "\t\t\tvar aid = param.article_id ? param.article_id : param.articleId;\n",
       "\n",
       "\t\t\tele.target = \"_blank\";\n",
       "\t\t\tele.href = jindo.$S(\"https://n.news.naver.com/mnews/article/%s/%s\").format(oid, aid);\n",
       "\t\t}\n",
       "\t});\n",
       "}).attach(document, \"domready\");\n",
       "</script>\n",
       "\n"
      ]
     },
     "execution_count": 116,
     "metadata": {},
     "output_type": "execute_result"
    }
   ],
   "source": [
    "soup"
   ]
  },
  {
   "cell_type": "code",
   "execution_count": 117,
   "id": "7ece2087-5f97-4729-8b88-6fcf883ceef9",
   "metadata": {},
   "outputs": [
    {
     "data": {
      "text/plain": [
       "'1,421.80원'"
      ]
     },
     "execution_count": 117,
     "metadata": {},
     "output_type": "execute_result"
    }
   ],
   "source": [
    "# 환율 정보 추출 후 줄바꿈 문자 제거하기\n",
    "rate_info = soup.find('p', class_='no_today').get_text().replace('\\n', '')\n",
    "rate_info"
   ]
  },
  {
   "cell_type": "code",
   "execution_count": 118,
   "id": "b406957b-50e0-4b29-997f-3da27819cc54",
   "metadata": {},
   "outputs": [
    {
     "data": {
      "text/plain": [
       "'전일대비2.30(+0.16%)'"
      ]
     },
     "execution_count": 118,
     "metadata": {},
     "output_type": "execute_result"
    }
   ],
   "source": [
    "exday_info = soup.find('p', class_='no_exday').get_text().replace('\\n', '')\n",
    "exday_info"
   ]
  },
  {
   "cell_type": "code",
   "execution_count": 12,
   "id": "e9f86ad1-123d-46e3-ac9c-a9dc615bcc15",
   "metadata": {},
   "outputs": [],
   "source": [
    "def get_exchange_rate(currency_code):\n",
    "    url = 'https://finance.naver.com/marketindex/exchangeDetail.naver?marketindexCd=FX_' + currency_code + 'KRW'\n",
    "\n",
    "    # 웹페이지 요청 및 HTML 내용 가져오기\n",
    "    response = requests.get(url) \n",
    "    html_content = response.text\n",
    "\n",
    "    # Beautiful Soup을 사용하여 HTML 내용 파싱\n",
    "    soup = bs4.BeautifulSoup(html_content, 'html.parser')\n",
    "\n",
    "    # 국가명 추출 및 공백 제거\n",
    "    country = soup.find('h2').get_text().replace(' ', '')\n",
    "\n",
    "    # 환율 정보 추출 및 줄바꿈 문자 제거\n",
    "    rate_info = soup.find('p', class_='no_today').get_text().replace('\\n', '')\n",
    "\n",
    "    # 환율 변동 아이콘 찾기\n",
    "    change_icon = soup.find('span', class_='ico')\n",
    "\n",
    "    # if문으로 전일 대비 환율 변동 기호 확인하기\n",
    "    if change_icon:\n",
    "        if 'up' in change_icon['class']:\n",
    "            change_sign = '▲'  # 환율이 상승했을 때\n",
    "        elif 'down' in change_icon['class']:\n",
    "            change_sign = '▼'  # 환율이 하락했을 때\n",
    "        elif 'same' in change_icon['class']:\n",
    "            change_sign = ''  # 환율이 변동 없을 때\n",
    "\n",
    "    # 전일 대비 정보 추출 및 문자열 정리\n",
    "    exday_info = soup.find('p', class_='no_exday').get_text().replace('\\n', '').replace('전일대비', '')\n",
    "\n",
    "    # 결과 출력\n",
    "    print(country, currency_code, \"실시간 환율\", rate_info, '｜ 전일대비', change_sign, exday_info)"
   ]
  },
  {
   "cell_type": "code",
   "execution_count": 13,
   "id": "0686c416-606d-41aa-8511-25ef1f63dba1",
   "metadata": {},
   "outputs": [
    {
     "name": "stdout",
     "output_type": "stream",
     "text": [
      "미국 USD 실시간 환율 1,422.50원 ｜ 전일대비 ▲ 3.00(+0.21%)\n",
      "홍콩 HKD 실시간 환율 183.28원 ｜ 전일대비 ▲ 0.43(+0.24%)\n",
      "태국 THB 실시간 환율 42.60원 ｜ 전일대비 ▲ 0.05(+0.12%)\n"
     ]
    }
   ],
   "source": [
    "# USD, HKD, THB 환율 확인하기\n",
    "get_exchange_rate('USD')\n",
    "get_exchange_rate('HKD')\n",
    "get_exchange_rate('THB')"
   ]
  },
  {
   "cell_type": "code",
   "execution_count": 16,
   "id": "f40511d8-5153-4f9e-8cc1-f8b20a318fc3",
   "metadata": {},
   "outputs": [
    {
     "name": "stdout",
     "output_type": "stream",
     "text": [
      " KRW 실시간 환율 원 ｜ 전일대비  (%)\n"
     ]
    }
   ],
   "source": [
    "get_exchange_rate('KRW')"
   ]
  },
  {
   "cell_type": "code",
   "execution_count": null,
   "id": "bbd476ee-8788-4a2e-a128-63a095a73901",
   "metadata": {},
   "outputs": [],
   "source": []
  },
  {
   "cell_type": "code",
   "execution_count": null,
   "id": "54af6ff6-3d66-4921-a634-e7aa6120e805",
   "metadata": {},
   "outputs": [],
   "source": []
  },
  {
   "cell_type": "code",
   "execution_count": null,
   "id": "e8ec1f9c-ef7a-432d-b9be-29907fdf5523",
   "metadata": {},
   "outputs": [],
   "source": []
  }
 ],
 "metadata": {
  "kernelspec": {
   "display_name": "py312tf2",
   "language": "python",
   "name": "python3"
  },
  "language_info": {
   "codemirror_mode": {
    "name": "ipython",
    "version": 3
   },
   "file_extension": ".py",
   "mimetype": "text/x-python",
   "name": "python",
   "nbconvert_exporter": "python",
   "pygments_lexer": "ipython3",
   "version": "3.12.9"
  }
 },
 "nbformat": 4,
 "nbformat_minor": 5
}
