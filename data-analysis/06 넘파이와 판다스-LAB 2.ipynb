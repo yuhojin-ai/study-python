{
 "cells": [
  {
   "cell_type": "code",
   "execution_count": null,
   "metadata": {
    "id": "8vA_Suf34XT7"
   },
   "outputs": [
    {
     "name": "stdout",
     "output_type": "stream",
     "text": [
      "차원: 2\n",
      "모양: (1795, 4)\n",
      "원소 수: 7180\n",
      "[[1.000e+00 2.016e+03 6.300e-01 3.750e+00]\n",
      " [2.000e+00 2.015e+03 7.000e-01 2.750e+00]\n",
      " [3.000e+00 2.015e+03 7.000e-01 3.000e+00]\n",
      " ...\n",
      " [1.793e+03 2.011e+03 6.500e-01 3.500e+00]\n",
      " [1.794e+03 2.011e+03 6.200e-01 3.250e+00]\n",
      " [1.795e+03 2.010e+03 6.500e-01 3.000e+00]]\n"
     ]
    }
   ],
   "source": [
    "import numpy as np\n",
    "data = np.loadtxt(\"C:\\\\Users\\\\asia\\\\Downloads\\\\source\\\\source_4672\\\\06장\\\\chocolate_rating.csv\", delimiter=',')\n",
    "print('차원:', data.ndim)\n",
    "print('모양:', data.shape)\n",
    "print('원소 수:', data.size)\n",
    "print(data)\n",
    "\n",
    "# 첫 번째 열: 초콜릿 번호, 두 번째 열: 평점을 기록한 연도\n",
    "# 세 번째 열: 카카오 함유율, 네 번째 열: 평점"
   ]
  },
  {
   "cell_type": "markdown",
   "metadata": {},
   "source": [
    "### 📊 NumPy 기반 CSV 파일 읽기 함수 정리\n",
    "\n",
    "| 함수명              | 설명                                                                 | 문자열 처리 | 결측치 처리 | 반환 형식           | 사용 예시                                          |\n",
    "|---------------------|----------------------------------------------------------------------|--------------|---------------|--------------------|----------------------------------------------------|\n",
    "| `np.loadtxt()`      | 숫자만 있는 단순한 텍스트/CSV 파일을 배열로 읽음                    | ❌ 불가능     | ❌ 불가능       | `ndarray`          | `np.loadtxt('data.csv', delimiter=',')`            |\n",
    "| `np.genfromtxt()`   | 문자열, 결측치 등을 처리할 수 있는 유연한 텍스트/CSV 로더           | ✅ 가능       | ✅ 가능         | `ndarray`          | `np.genfromtxt('data.csv', delimiter=',', dtype=None, encoding='utf-8')` |\n",
    "| `np.recfromcsv()`   | 컬럼명을 필드 이름으로 하는 구조화 배열 생성 (genfromtxt 기반)       | ✅ 가능       | ✅ 가능         | `structured array` | `np.recfromcsv('data.csv', encoding='utf-8')`      |\n"
   ]
  },
  {
   "cell_type": "code",
   "execution_count": null,
   "metadata": {
    "id": "kX6h26Pt5KT0"
   },
   "outputs": [
    {
     "name": "stdout",
     "output_type": "stream",
     "text": [
      "3.185933147632312\n"
     ]
    }
   ],
   "source": [
    "# 모든 초콜릿 평균평점\n",
    "ratings_mean = data[:,3].mean()\n",
    "print(ratings_mean)"
   ]
  },
  {
   "cell_type": "code",
   "execution_count": null,
   "metadata": {
    "id": "YC_fpcYA5hxt"
   },
   "outputs": [
    {
     "name": "stdout",
     "output_type": "stream",
     "text": [
      "우수 초콜릿 수: 100\n",
      "[  10   18   21   55   57   77   78   79   84   87   88   93  108  109\n",
      "  118  124  153  180  181  187  223  232  233  240  243  244  245  248\n",
      "  257  312  316  317  358  437  503  567  573  574  582  601  650  687\n",
      "  690  691  701  720  730  800  828  862  864  865  866  883  919  993\n",
      " 1088 1089 1118 1119 1120 1204 1241 1245 1247 1274 1277 1278 1289 1291\n",
      " 1293 1295 1323 1331 1336 1378 1394 1426 1428 1433 1479 1488 1513 1516\n",
      " 1529 1530 1531 1533 1536 1537 1544 1545 1664 1683 1686 1688 1694 1700\n",
      " 1740 1757]\n"
     ]
    }
   ],
   "source": [
    "# 평점 4점 이상 초콜릿 번호 알아내기\n",
    "high_level = data[data[:,3] >= 4]\n",
    "high_id = high_level[:,0].astype(np.int64)\n",
    "print('우수 초콜릿 수:', high_id.size)\n",
    "print(high_id)"
   ]
  },
  {
   "cell_type": "code",
   "execution_count": null,
   "metadata": {
    "id": "tPZILWO-5hvw"
   },
   "outputs": [
    {
     "name": "stdout",
     "output_type": "stream",
     "text": [
      "4점 이상 카카오 함유율\n",
      " [0.7  0.7  0.63 0.7  0.7  0.7  0.75 0.7  0.7  0.7  0.66 0.6  0.7  0.7\n",
      " 0.7  0.72 0.7  0.73 0.72 0.72 0.75 0.75 0.75 0.75 0.75 0.75 0.75 0.75\n",
      " 0.7  0.71 0.7  0.7  0.72 0.75 0.7  0.7  0.7  0.7  0.7  0.7  0.68 0.7\n",
      " 0.74 0.69 0.7  0.74 0.7  0.72 0.7  0.74 0.7  0.72 0.72 0.7  0.7  0.63\n",
      " 0.68 0.74 0.67 0.65 0.64 0.75 0.7  0.7  0.7  0.75 0.7  0.67 0.7  0.72\n",
      " 0.72 0.72 0.75 0.75 0.8  0.75 0.75 0.7  0.78 0.65 0.7  0.72 0.7  0.75\n",
      " 0.88 0.7  0.67 0.7  0.7  0.7  0.64 0.7  0.7  0.63 0.69 0.64 0.64 0.7\n",
      " 0.7  0.7 ]\n",
      "카카오 함유량: [0.6  0.63 0.64 0.65 0.66 0.67 0.68 0.69 0.7  0.71 0.72 0.73 0.74 0.75\n",
      " 0.78 0.8  0.88]\n",
      "함유량별 빈도수: [ 1  3  4  2  1  3  2  2 45  1 11  1  4 17  1  1  1]\n"
     ]
    }
   ],
   "source": [
    "# 4점 이상 초콜릿 카카오 함유량별 빈도수\n",
    "high_kakao = high_level[:,2]\n",
    "print(\"4점 이상 카카오 함유율\\n\", high_kakao)\n",
    "# return_counts=True: 교유한 값 count\n",
    "unique_values, value_counts = np.unique(high_kakao, return_counts=True)\n",
    "print('카카오 함유량:', unique_values)\n",
    "print('함유량별 빈도수:', value_counts)"
   ]
  },
  {
   "cell_type": "code",
   "execution_count": null,
   "metadata": {
    "id": "TmjSDCNP5hty"
   },
   "outputs": [
    {
     "name": "stdout",
     "output_type": "stream",
     "text": [
      "0.7\n",
      "우수 초콜릿 100 가지 중 45 가지의 카카오 함유량이 70.0 %입니다.\n"
     ]
    }
   ],
   "source": [
    "# np.argmax(): 가장 큰 값의 인덱스 반환\n",
    "max_index = np.argmax(value_counts)\n",
    "print(unique_values[max_index])\n",
    "print('우수 초콜릿', high_id.size, '가지 중', value_counts[max_index],\\\n",
    "      '가지의 카카오 함유량이', unique_values[max_index] * 100, '%입니다.')"
   ]
  },
  {
   "cell_type": "code",
   "execution_count": 14,
   "metadata": {},
   "outputs": [
    {
     "name": "stdout",
     "output_type": "stream",
     "text": [
      "[ 1  3  4  2  1  3  2  2 45  1 11  1  4 17  1  1  1]\n"
     ]
    }
   ],
   "source": [
    "print(value_counts)"
   ]
  }
 ],
 "metadata": {
  "colab": {
   "authorship_tag": "ABX9TyMM4lixDGVtVOBn54ITjJPk",
   "provenance": []
  },
  "kernelspec": {
   "display_name": "py312tf2",
   "language": "python",
   "name": "python3"
  },
  "language_info": {
   "codemirror_mode": {
    "name": "ipython",
    "version": 3
   },
   "file_extension": ".py",
   "mimetype": "text/x-python",
   "name": "python",
   "nbconvert_exporter": "python",
   "pygments_lexer": "ipython3",
   "version": "3.12.9"
  }
 },
 "nbformat": 4,
 "nbformat_minor": 0
}
