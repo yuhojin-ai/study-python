{
 "cells": [
  {
   "cell_type": "code",
   "execution_count": 2,
   "id": "0f49daf0",
   "metadata": {},
   "outputs": [
    {
     "data": {
      "text/plain": [
       "array([[ 0,  1,  2,  3],\n",
       "       [ 4,  5,  6,  7],\n",
       "       [ 8,  9, 10, 11]])"
      ]
     },
     "execution_count": 2,
     "metadata": {},
     "output_type": "execute_result"
    }
   ],
   "source": [
    "# 연습문제\n",
    "\n",
    "# 01. 0 ~ 11 정수를 채운 (3, 4) 넘파이 배열 생성\n",
    "import numpy as np\n",
    "a = np.arange(12).reshape(3, 4)\n",
    "a"
   ]
  },
  {
   "cell_type": "code",
   "execution_count": 3,
   "id": "8c5153fb",
   "metadata": {},
   "outputs": [
    {
     "name": "stdout",
     "output_type": "stream",
     "text": [
      "[[1 2]\n",
      " [4 5]]\n",
      "[[5 6]\n",
      " [8 9]]\n"
     ]
    }
   ],
   "source": [
    "# 02\n",
    "import numpy as np\n",
    "list1 = [[1, 2, 3], [4, 5, 6], [7, 8, 9]]\n",
    "a = np.array(list1)\n",
    "b = a[0:2, 0:2]\n",
    "print(b)\n",
    "c = a[1:, 1:]\n",
    "print(c)\n"
   ]
  },
  {
   "cell_type": "code",
   "execution_count": 4,
   "id": "d92d2e99",
   "metadata": {},
   "outputs": [
    {
     "name": "stdout",
     "output_type": "stream",
     "text": [
      "(1, 4, 3)\n"
     ]
    }
   ],
   "source": [
    "# 03\n",
    "import numpy as np\n",
    "arr = np.array([[[1, 2, 3], \n",
    "                 [4, 5, 6], \n",
    "                 [7, 8, 9],\n",
    "                 [10, 11, 12]]])\n",
    "\n",
    "print(arr.shape)"
   ]
  },
  {
   "cell_type": "code",
   "execution_count": 5,
   "id": "54d59b75",
   "metadata": {},
   "outputs": [
    {
     "name": "stdout",
     "output_type": "stream",
     "text": [
      "[0 2 3 4 5 6]\n",
      "[0 2 3 4 5 6]\n",
      "[1 2 3 4 5 6]\n"
     ]
    }
   ],
   "source": [
    "# 04\n",
    "import numpy as np\n",
    "a = np.array([[1, 2, 3],\n",
    "              [4, 5, 6]])\n",
    "\n",
    "b = a.reshape(-1) # 유연 / 원본 영향이 미침\n",
    "c = a.ravel() # 성능 / 원본 영향이 미침\n",
    "d = a.flatten() # 독립된 배열\n",
    "\n",
    "a[0][0] = 0\n",
    "\n",
    "print(b)\n",
    "print(c)\n",
    "print(d)"
   ]
  },
  {
   "cell_type": "code",
   "execution_count": 6,
   "id": "27bc98f3",
   "metadata": {},
   "outputs": [
    {
     "name": "stdout",
     "output_type": "stream",
     "text": [
      "[[0 1]\n",
      " [2 3]\n",
      " [4 5]\n",
      " [6 7]]\n"
     ]
    }
   ],
   "source": [
    "# 05\n",
    "import numpy as np\n",
    "\n",
    "a = np.arange(8)\n",
    "a.shape = (4, 2)\n",
    "print(a)"
   ]
  },
  {
   "cell_type": "code",
   "execution_count": 19,
   "id": "a1bf1a71",
   "metadata": {},
   "outputs": [
    {
     "name": "stdout",
     "output_type": "stream",
     "text": [
      "    이름  성별  나이    키\n",
      "0  허준호  남자  30  183\n",
      "1  이가원  여자  24  162\n",
      "2  배규민  남자  23  179\n",
      "3  고고림  남자  21  182\n",
      "4  이새봄  여자  28  160\n",
      "5  이보람  여자  26  163\n",
      "6  이루리  여자  24  157\n",
      "7  오다현  여자  24  172\n"
     ]
    },
    {
     "data": {
      "text/html": [
       "<div>\n",
       "<style scoped>\n",
       "    .dataframe tbody tr th:only-of-type {\n",
       "        vertical-align: middle;\n",
       "    }\n",
       "\n",
       "    .dataframe tbody tr th {\n",
       "        vertical-align: top;\n",
       "    }\n",
       "\n",
       "    .dataframe thead th {\n",
       "        text-align: right;\n",
       "    }\n",
       "</style>\n",
       "<table border=\"1\" class=\"dataframe\">\n",
       "  <thead>\n",
       "    <tr style=\"text-align: right;\">\n",
       "      <th></th>\n",
       "      <th>이름</th>\n",
       "      <th>성별</th>\n",
       "      <th>나이</th>\n",
       "      <th>키</th>\n",
       "    </tr>\n",
       "  </thead>\n",
       "  <tbody>\n",
       "    <tr>\n",
       "      <th>4</th>\n",
       "      <td>이새봄</td>\n",
       "      <td>여자</td>\n",
       "      <td>28</td>\n",
       "      <td>160</td>\n",
       "    </tr>\n",
       "    <tr>\n",
       "      <th>5</th>\n",
       "      <td>이보람</td>\n",
       "      <td>여자</td>\n",
       "      <td>26</td>\n",
       "      <td>163</td>\n",
       "    </tr>\n",
       "  </tbody>\n",
       "</table>\n",
       "</div>"
      ],
      "text/plain": [
       "    이름  성별  나이    키\n",
       "4  이새봄  여자  28  160\n",
       "5  이보람  여자  26  163"
      ]
     },
     "execution_count": 19,
     "metadata": {},
     "output_type": "execute_result"
    }
   ],
   "source": [
    "# 06\n",
    "import pandas as pd\n",
    "\n",
    "data = {\n",
    "    \"이름\": [\"허준호\", \"이가원\", \"배규민\", \"고고림\", \"이새봄\", \"이보람\", \"이루리\", \"오다현\"],\n",
    "    \"성별\": [\"남자\", \"여자\", \"남자\", \"남자\", \"여자\", \"여자\", \"여자\", \"여자\"],\n",
    "    \"나이\": [30, 24, 23, 21, 28, 26, 24, 24],\n",
    "    \"키\": [183, 162, 179, 182, 160, 163, 157, 172]\n",
    "}\n",
    "\n",
    "df = pd.DataFrame(data)\n",
    "\n",
    "df = df.astype({'나이': 'str',\n",
    "                '키': 'str'})\n",
    "\n",
    "print(df)\n",
    "df[(df['나이'] > '24') & (df['성별'] == '여자')]"
   ]
  },
  {
   "cell_type": "code",
   "execution_count": 20,
   "id": "b20629e9",
   "metadata": {},
   "outputs": [
    {
     "data": {
      "text/html": [
       "<div>\n",
       "<style scoped>\n",
       "    .dataframe tbody tr th:only-of-type {\n",
       "        vertical-align: middle;\n",
       "    }\n",
       "\n",
       "    .dataframe tbody tr th {\n",
       "        vertical-align: top;\n",
       "    }\n",
       "\n",
       "    .dataframe thead th {\n",
       "        text-align: right;\n",
       "    }\n",
       "</style>\n",
       "<table border=\"1\" class=\"dataframe\">\n",
       "  <thead>\n",
       "    <tr style=\"text-align: right;\">\n",
       "      <th></th>\n",
       "      <th>이름</th>\n",
       "      <th>성별</th>\n",
       "      <th>나이</th>\n",
       "      <th>키</th>\n",
       "    </tr>\n",
       "  </thead>\n",
       "  <tbody>\n",
       "    <tr>\n",
       "      <th>count</th>\n",
       "      <td>8</td>\n",
       "      <td>8</td>\n",
       "      <td>8</td>\n",
       "      <td>8</td>\n",
       "    </tr>\n",
       "    <tr>\n",
       "      <th>unique</th>\n",
       "      <td>8</td>\n",
       "      <td>2</td>\n",
       "      <td>6</td>\n",
       "      <td>8</td>\n",
       "    </tr>\n",
       "    <tr>\n",
       "      <th>top</th>\n",
       "      <td>허준호</td>\n",
       "      <td>여자</td>\n",
       "      <td>24</td>\n",
       "      <td>183</td>\n",
       "    </tr>\n",
       "    <tr>\n",
       "      <th>freq</th>\n",
       "      <td>1</td>\n",
       "      <td>5</td>\n",
       "      <td>3</td>\n",
       "      <td>1</td>\n",
       "    </tr>\n",
       "  </tbody>\n",
       "</table>\n",
       "</div>"
      ],
      "text/plain": [
       "         이름  성별  나이    키\n",
       "count     8   8   8    8\n",
       "unique    8   2   6    8\n",
       "top     허준호  여자  24  183\n",
       "freq      1   5   3    1"
      ]
     },
     "execution_count": 20,
     "metadata": {},
     "output_type": "execute_result"
    }
   ],
   "source": [
    "# 07\n",
    "df.describe()"
   ]
  },
  {
   "cell_type": "code",
   "execution_count": 21,
   "id": "369723ac",
   "metadata": {},
   "outputs": [
    {
     "data": {
      "text/html": [
       "<div>\n",
       "<style scoped>\n",
       "    .dataframe tbody tr th:only-of-type {\n",
       "        vertical-align: middle;\n",
       "    }\n",
       "\n",
       "    .dataframe tbody tr th {\n",
       "        vertical-align: top;\n",
       "    }\n",
       "\n",
       "    .dataframe thead th {\n",
       "        text-align: right;\n",
       "    }\n",
       "</style>\n",
       "<table border=\"1\" class=\"dataframe\">\n",
       "  <thead>\n",
       "    <tr style=\"text-align: right;\">\n",
       "      <th></th>\n",
       "      <th>성별</th>\n",
       "      <th>나이</th>\n",
       "      <th>키</th>\n",
       "    </tr>\n",
       "    <tr>\n",
       "      <th>이름</th>\n",
       "      <th></th>\n",
       "      <th></th>\n",
       "      <th></th>\n",
       "    </tr>\n",
       "  </thead>\n",
       "  <tbody>\n",
       "    <tr>\n",
       "      <th>허준호</th>\n",
       "      <td>남자</td>\n",
       "      <td>30</td>\n",
       "      <td>183</td>\n",
       "    </tr>\n",
       "    <tr>\n",
       "      <th>이가원</th>\n",
       "      <td>여자</td>\n",
       "      <td>24</td>\n",
       "      <td>162</td>\n",
       "    </tr>\n",
       "    <tr>\n",
       "      <th>배규민</th>\n",
       "      <td>남자</td>\n",
       "      <td>23</td>\n",
       "      <td>179</td>\n",
       "    </tr>\n",
       "    <tr>\n",
       "      <th>고고림</th>\n",
       "      <td>남자</td>\n",
       "      <td>21</td>\n",
       "      <td>182</td>\n",
       "    </tr>\n",
       "    <tr>\n",
       "      <th>이새봄</th>\n",
       "      <td>여자</td>\n",
       "      <td>28</td>\n",
       "      <td>160</td>\n",
       "    </tr>\n",
       "    <tr>\n",
       "      <th>이보람</th>\n",
       "      <td>여자</td>\n",
       "      <td>26</td>\n",
       "      <td>163</td>\n",
       "    </tr>\n",
       "    <tr>\n",
       "      <th>이루리</th>\n",
       "      <td>여자</td>\n",
       "      <td>24</td>\n",
       "      <td>157</td>\n",
       "    </tr>\n",
       "    <tr>\n",
       "      <th>오다현</th>\n",
       "      <td>여자</td>\n",
       "      <td>24</td>\n",
       "      <td>172</td>\n",
       "    </tr>\n",
       "  </tbody>\n",
       "</table>\n",
       "</div>"
      ],
      "text/plain": [
       "     성별  나이    키\n",
       "이름              \n",
       "허준호  남자  30  183\n",
       "이가원  여자  24  162\n",
       "배규민  남자  23  179\n",
       "고고림  남자  21  182\n",
       "이새봄  여자  28  160\n",
       "이보람  여자  26  163\n",
       "이루리  여자  24  157\n",
       "오다현  여자  24  172"
      ]
     },
     "execution_count": 21,
     "metadata": {},
     "output_type": "execute_result"
    }
   ],
   "source": [
    "# 08\n",
    "df.set_index('이름', inplace=True)\n",
    "df"
   ]
  },
  {
   "cell_type": "code",
   "execution_count": 28,
   "id": "c7fe5ebc",
   "metadata": {},
   "outputs": [
    {
     "name": "stdout",
     "output_type": "stream",
     "text": [
      "[[1 2]\n",
      " [3 4]]\n",
      "[[False  True]\n",
      " [False  True]]\n",
      "짝수\n",
      " [2 4]\n",
      "홀수\n",
      " [1 3]\n"
     ]
    }
   ],
   "source": [
    "# 09\n",
    "import numpy as np\n",
    "\n",
    "list1 = [\n",
    "    [1,2],\n",
    "    [3,4]\n",
    "]\n",
    "\n",
    "arr = np.array(list1)\n",
    "print(arr)\n",
    "bool_index = (arr % 2 == 0)\n",
    "print(bool_index) # 마스킹\n",
    "\n",
    "print('짝수\\n', arr[bool_index])\n",
    "\n",
    "res = arr[arr % 2 == 1]\n",
    "print('홀수\\n',res)"
   ]
  },
  {
   "cell_type": "code",
   "execution_count": 31,
   "id": "5ead7a0e",
   "metadata": {},
   "outputs": [
    {
     "name": "stdout",
     "output_type": "stream",
     "text": [
      "arr1\n",
      " [[1 2 3 4]\n",
      " [5 6 7 8]]\n",
      "arr2\n",
      " [[1 2 3 4]\n",
      " [5 6 7 8]]\n",
      "==========\n",
      "변경 후 -> arr1\n",
      " [[10  2  3  4]\n",
      " [ 5  6  7  8]]\n",
      "변경 후 -> arr2\n",
      " [[1 2 3 4]\n",
      " [5 6 7 8]]\n"
     ]
    }
   ],
   "source": [
    "# 10\n",
    "arr1 = np.array([[1, 2, 3, 4],[5, 6, 7, 8]])\n",
    "\n",
    "arr2 = arr1.copy()\n",
    "print('arr1\\n', arr1)\n",
    "print('arr2\\n', arr2)\n",
    "\n",
    "arr1[0,0] = 10\n",
    "print('='*10)\n",
    "print(\"변경 후 -> arr1\\n\", arr1)\n",
    "print(\"변경 후 -> arr2\\n\", arr2)"
   ]
  }
 ],
 "metadata": {
  "kernelspec": {
   "display_name": "py312tf2",
   "language": "python",
   "name": "python3"
  },
  "language_info": {
   "codemirror_mode": {
    "name": "ipython",
    "version": 3
   },
   "file_extension": ".py",
   "mimetype": "text/x-python",
   "name": "python",
   "nbconvert_exporter": "python",
   "pygments_lexer": "ipython3",
   "version": "3.12.9"
  }
 },
 "nbformat": 4,
 "nbformat_minor": 5
}
