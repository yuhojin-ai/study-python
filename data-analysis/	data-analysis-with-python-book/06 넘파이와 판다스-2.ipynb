{
 "cells": [
  {
   "cell_type": "markdown",
   "metadata": {
    "id": "86kbxZSgpIgW"
   },
   "source": [
    "### **1. 넘파이 배열 생성**"
   ]
  },
  {
   "cell_type": "code",
   "execution_count": 2,
   "metadata": {
    "id": "EIQqx2OLdHHH"
   },
   "outputs": [
    {
     "name": "stdout",
     "output_type": "stream",
     "text": [
      "a.shape:  (4,)\n",
      "a[0]:  1\n"
     ]
    }
   ],
   "source": [
    "#코드 6-1\n",
    "import numpy as np\n",
    "\n",
    "#리스트를 생성하고 배열로 변환하기\n",
    "list1 = [1, 2, 3, 4]\n",
    "a = np.array(list1)\n",
    "print('a.shape: ', a.shape)\n",
    "print('a[0]: ', a[0])"
   ]
  },
  {
   "cell_type": "code",
   "execution_count": 2,
   "metadata": {},
   "outputs": [
    {
     "name": "stdout",
     "output_type": "stream",
     "text": [
      "b.shape:  (2, 3)\n",
      "b[0,0]:  1\n",
      "b[0]:  [1 2 3]\n"
     ]
    }
   ],
   "source": [
    "#2차원 배열 생성하기\n",
    "b = np.array([[1, 2, 3], [4, 5, 6]])\n",
    "print('b.shape: ', b.shape)\n",
    "print('b[0,0]: ', b[0,0])\n",
    "print('b[0]: ', b[0])"
   ]
  },
  {
   "cell_type": "code",
   "execution_count": 3,
   "metadata": {},
   "outputs": [
    {
     "name": "stdout",
     "output_type": "stream",
     "text": [
      "array: [1 2 3]\n",
      "arange: [0 2 4 6 8]\n",
      "ones:\n",
      " [[1. 1. 1.]\n",
      " [1. 1. 1.]]\n",
      "zeros:\n",
      " [[0. 0.]\n",
      " [0. 0.]\n",
      " [0. 0.]]\n",
      "empty:\n",
      " [[4.9e-324 9.9e-324]\n",
      " [1.5e-323 2.0e-323]]\n",
      "eye:\n",
      " [[1. 0. 0.]\n",
      " [0. 1. 0.]\n",
      " [0. 0. 1.]]\n",
      "identity:\n",
      " [[1. 0. 0.]\n",
      " [0. 1. 0.]\n",
      " [0. 0. 1.]]\n",
      "linspace: [0.   0.25 0.5  0.75 1.  ]\n",
      "full:\n",
      " [[7 7 7]\n",
      " [7 7 7]]\n"
     ]
    }
   ],
   "source": [
    "# 1. array() - 리스트를 배열로 변환\n",
    "a = np.array([1, 2, 3])\n",
    "print(\"array:\", a)\n",
    "\n",
    "# 2. arange() - 일정한 간격의 수를 ndarray 배열로\n",
    "b = np.arange(0, 10, 2)  # 0부터 10 미만까지 2 간격\n",
    "print(\"arange:\", b)\n",
    "\n",
    "# 3. ones() - 1로 채운 배열 생성\n",
    "c = np.ones((2, 3))  # 2행 3열\n",
    "print(\"ones:\\n\", c)\n",
    "\n",
    "# 4. zeros() - 0으로 채운 배열 생성\n",
    "d = np.zeros((3, 2))  # 3행 2열\n",
    "print(\"zeros:\\n\", d)\n",
    "\n",
    "# 5. empty() - 초기화되지 않은 빈 배열 생성\n",
    "e = np.empty((2, 2))  # 값이 초기화되지 않음 (랜덤값)\n",
    "print(\"empty:\\n\", e)\n",
    "\n",
    "# 6. eye() 또는 identity() - 단위 행렬 생성\n",
    "f = np.eye(3)  # 3x3 단위 행렬\n",
    "print(\"eye:\\n\", f)\n",
    "\n",
    "g = np.identity(3)  # 3x3 단위 행렬\n",
    "print(\"identity:\\n\", g)\n",
    "\n",
    "# 7. linspace() - 지정한 구간을 균일하게 나눈 값 생성\n",
    "h = np.linspace(0, 1, 5)  # 0부터 1까지 5개의 균등한 값\n",
    "print(\"linspace:\", h)\n",
    "\n",
    "# 8. full() - 지정한 값으로 채운 배열 생성\n",
    "i = np.full((2, 3), 7)  # 2행 3열 배열을 7로 채움\n",
    "print(\"full:\\n\", i)"
   ]
  },
  {
   "cell_type": "code",
   "execution_count": 4,
   "metadata": {
    "id": "DlMRazoYe437"
   },
   "outputs": [
    {
     "name": "stdout",
     "output_type": "stream",
     "text": [
      "a\n",
      " [0. 0.]\n",
      "b\n",
      " [[0. 0.]\n",
      " [0. 0.]]\n",
      "c\n",
      " [[1. 1. 1.]\n",
      " [1. 1. 1.]]\n",
      "d\n",
      " [[5 5 5]\n",
      " [5 5 5]]\n",
      "e\n",
      " [[1. 0. 0.]\n",
      " [0. 1. 0.]\n",
      " [0. 0. 1.]]\n"
     ]
    }
   ],
   "source": [
    "#코드 6-2\n",
    "a = np.zeros(2)\n",
    "print('a\\n', a)\n",
    "b = np.zeros((2,2))\n",
    "print('b\\n', b)\n",
    "c = np.ones((2,3))\n",
    "print('c\\n', c)\n",
    "d = np.full((2,3), 5)\n",
    "print('d\\n', d)\n",
    "e = np.eye(3)\n",
    "print('e\\n', e)"
   ]
  },
  {
   "cell_type": "code",
   "execution_count": 5,
   "metadata": {
    "id": "nXhXM08Ye_GP"
   },
   "outputs": [
    {
     "name": "stdout",
     "output_type": "stream",
     "text": [
      "float64\n",
      "int8\n"
     ]
    }
   ],
   "source": [
    "#코드 6-3\n",
    "#실수형 배열 생성하기\n",
    "a = np.array([1, 2], dtype=np.float64)\n",
    "print(a.dtype)\n",
    "\n",
    "#정수형 배열로 변환하기\n",
    "a_i8 = a.astype(np.int8)\n",
    "print(a_i8.dtype)"
   ]
  },
  {
   "cell_type": "markdown",
   "metadata": {},
   "source": [
    "| 속성          | 설명                                                  | 예시 값             |\n",
    "|---------------|-------------------------------------------------------|---------------------|\n",
    "| `ndim`        | 배열의 차원 수 (차원 수가 몇 개인지)                  | 1, 2, 3 ...         |\n",
    "| `shape`       | 배열의 모양(각 차원의 크기를 튜플로 표시)             | (3,), (2, 3), (4, 2, 5) 등 |\n",
    "| `size`        | 배열에 포함된 전체 원소의 개수                         | 6, 12 등            |\n",
    "| `dtype`       | 배열 원소의 데이터 타입                                | `int32`, `float64` 등 |\n",
    "| `itemsize`    | 배열의 각 원소가 차지하는 바이트 수                    | 4, 8 등             |\n",
    "| `nbytes`      | 배열 전체가 차지하는 메모리 크기 (바이트)             | 24, 48 등           |\n",
    "| `T`           | 배열의 전치(transpose), 즉 행과 열을 교환한 배열       | 배열 형태에 따라 다름 |\n",
    "| `data`        | 실제 배열 데이터를 담고 있는 버퍼 (일반적으로 직접 사용하지 않음) | `<memory at 0x...>` |\n"
   ]
  },
  {
   "cell_type": "code",
   "execution_count": 6,
   "metadata": {
    "id": "brgig0Q9fseP"
   },
   "outputs": [
    {
     "name": "stdout",
     "output_type": "stream",
     "text": [
      "type(arr): <class 'numpy.ndarray'>\n",
      "arr.ndim: 2\n",
      "arr.dtype: int64\n",
      "arr.itemsize: 8\n",
      "arr.size: 6\n",
      "arr.nbytes: 48\n",
      "arr.T:\n",
      " [[0 3]\n",
      " [1 4]\n",
      " [2 5]]\n",
      "arr.shape: (2, 3)\n"
     ]
    }
   ],
   "source": [
    "#코드 6-4\n",
    "arr = np.array([[0, 1, 2], [3, 4, 5]])\n",
    "\n",
    "print('type(arr):',type(arr))\n",
    "print('arr.ndim:',arr.ndim)\n",
    "print('arr.dtype:',arr.dtype)\n",
    "print('arr.itemsize:',arr.itemsize)\n",
    "print('arr.size:',arr.size)\n",
    "print('arr.nbytes:',arr.nbytes)\n",
    "print('arr.T:\\n',arr.T)\n",
    "print('arr.shape:',arr.shape)"
   ]
  },
  {
   "cell_type": "markdown",
   "metadata": {},
   "source": [
    "### 📌 넘파이 배열 모양을 변경하는 주요 함수/메서드\n",
    "\n",
    "| 함수/메서드        | 설명                                                                 | 예시 사용법                        |\n",
    "|--------------------|----------------------------------------------------------------------|------------------------------------|\n",
    "| `reshape(shape)`   | 배열의 형태를 지정된 `shape`으로 변경 (원소 개수는 같아야 함)        | `a.reshape(2, 3)`                  |\n",
    "| `flatten()`        | 다차원 배열을 1차원으로 평탄화함 (복사본 반환)                       | `a.flatten()`                      |\n",
    "| `ravel()`          | 다차원 배열을 1차원으로 평탄화함 (가능하면 원본과 연결된 뷰 반환)    | `a.ravel()`                        |\n",
    "| `transpose()`      | 배열의 차원 순서를 뒤바꿈 (행렬의 전치 포함)                         | `a.transpose()` 또는 `a.T`         |\n",
    "| `swapaxes(a1, a2)` | 지정한 두 축의 위치를 바꿈                                            | `a.swapaxes(0, 1)`                 |\n",
    "| `resize(new_shape)`| 배열을 새로운 크기로 직접 변경 (원본 배열 자체를 수정함)             | `a.resize((3, 2))`                 |\n",
    "| `expand_dims()`    | 지정한 위치에 새 축(차원)을 추가함                                   | `np.expand_dims(a, axis=0)`       |\n",
    "| `squeeze()`        | 차원이 1인 축을 제거함                                               | `np.squeeze(a)`                   |\n"
   ]
  },
  {
   "cell_type": "code",
   "execution_count": null,
   "metadata": {
    "id": "yrE4CI1shOVr"
   },
   "outputs": [
    {
     "name": "stdout",
     "output_type": "stream",
     "text": [
      "a\n",
      " [0 1 2 3 4 5 6 7]\n",
      "shape\n",
      " [[0 1 2 3]\n",
      " [4 5 6 7]]\n",
      "flatten\n",
      " [0 1 2 3 4 5 6 7]\n",
      "resize\n",
      " [[0 1]\n",
      " [2 3]\n",
      " [4 5]\n",
      " [6 7]]\n"
     ]
    }
   ],
   "source": [
    "#코드 6-5\n",
    "#1차원 배열 생성하기\n",
    "a = np.arange(8)\n",
    "print('a\\n', a)\n",
    "\n",
    "#다차원 배열로 변경하기\n",
    "a.shape = (2,4)\n",
    "print('shape\\n', a)\n",
    "\n",
    "#1차원 배열로 변경하기\n",
    "print('flatten\\n', a.flatten())\n",
    "\n",
    "#resize 함수로 모양 변경하기 (원본 배열 자체를 수정함)\n",
    "a.resize((4,2))\n",
    "print('resize\\n', a)"
   ]
  },
  {
   "cell_type": "code",
   "execution_count": null,
   "metadata": {},
   "outputs": [
    {
     "name": "stdout",
     "output_type": "stream",
     "text": [
      "reshape:\n",
      " [[0 1]\n",
      " [2 3]\n",
      " [4 5]]\n",
      "flatten: [0 1 2 3 4 5]\n",
      "ravel: [0 1 2 3 4 5]\n",
      "transpose:\n",
      " [[0 3]\n",
      " [1 4]\n",
      " [2 5]]\n",
      "swapaxes:\n",
      " [[0 3]\n",
      " [1 4]\n",
      " [2 5]]\n",
      "expand_dims: [[[0 1 2]\n",
      "  [3 4 5]]]\n",
      "squeeze: [1 2 3]\n"
     ]
    }
   ],
   "source": [
    "print(\"reshape:\\n\", a.reshape(3, 2))\n",
    "print(\"ravel:\", a.ravel())\n",
    "print(\"transpose:\\n\", a.transpose())\n",
    "print(\"swapaxes:\\n\", a.swapaxes(0, 1))\n",
    "print(\"expand_dims:\", np.expand_dims(a, axis=0))  # (1, 2, 3)\n",
    "print(\"squeeze:\", np.squeeze(np.array([[[1, 2, 3]]])))  # -> [1 2 3]"
   ]
  },
  {
   "cell_type": "code",
   "execution_count": null,
   "metadata": {},
   "outputs": [],
   "source": [
    "a = np.array([[1, 2], [3, 4]])\n",
    "\n",
    "# flatten: 복사본 생성\n",
    "f = a.flatten()\n",
    "f[0] = 100\n",
    "print(\"flatten 결과:\", f)      # [100   2   3   4]\n",
    "print(\"원본 배열 a:\", a)        # [[1 2]\n",
    "                                #  [3 4]]  → 원본 영향 없음\n",
    "\n",
    "# ravel: 가능한 경우 뷰 반환\n",
    "r = a.ravel()\n",
    "r[0] = 200\n",
    "print(\"ravel 결과:\", r)        # [200   2   3   4]\n",
    "print(\"원본 배열 a:\", a)        # [[200 2]\n",
    "                                #  [ 3  4]] → 원본 영향 있음"
   ]
  },
  {
   "cell_type": "code",
   "execution_count": 9,
   "metadata": {
    "id": "RlRodY8Ji1YX"
   },
   "outputs": [
    {
     "name": "stdout",
     "output_type": "stream",
     "text": [
      "a\n",
      " [[0 1 2]\n",
      " [3 4 5]]\n",
      "b\n",
      " [[0 3]\n",
      " [1 4]\n",
      " [2 5]]\n",
      "c\n",
      " [[0 3]\n",
      " [1 4]\n",
      " [2 5]]\n"
     ]
    }
   ],
   "source": [
    "#코드 6-6\n",
    "a = np.array([[0, 1, 2], [3, 4, 5]])\n",
    "print('a\\n', a)\n",
    "\n",
    "b = a.transpose()\n",
    "print('b\\n', b)\n",
    "c = a.T\n",
    "print('c\\n', c)"
   ]
  },
  {
   "cell_type": "code",
   "execution_count": null,
   "metadata": {},
   "outputs": [
    {
     "name": "stdout",
     "output_type": "stream",
     "text": [
      "a \n",
      " [0 1 2 3 4 5 6 7 8 9]\n",
      "b \n",
      " [[0 1 2 3 4]\n",
      " [5 6 7 8 9]]\n",
      "c \n",
      " [[0 5]\n",
      " [1 6]\n",
      " [2 7]\n",
      " [3 8]\n",
      " [4 9]]\n"
     ]
    }
   ],
   "source": [
    "# 확인문제-1\n",
    "# 0~9까지 정수데이터를 넣은 넘파이 1차원 배열 생성\n",
    "# 2행 5열로 변형하고 결과를 출력력\n",
    "\n",
    "a = np.array(range(10), dtype=int)\n",
    "print(\"a \\n\",a)\n",
    "b = a.reshape(2,5)\n",
    "print(\"b \\n\",b)\n",
    "c = b.T\n",
    "print(\"c \\n\",c)"
   ]
  },
  {
   "cell_type": "code",
   "execution_count": 8,
   "metadata": {},
   "outputs": [
    {
     "name": "stdout",
     "output_type": "stream",
     "text": [
      "[[4 5 6]\n",
      " [7 8 9]]\n"
     ]
    }
   ],
   "source": [
    "# 확인문제-2\n",
    "# 리스트를 넘파일 배열로 변환하여\n",
    "# 두 번째 행부터 세 번째 행까지, 첫 번째 열부터 두 번째 열까지 내용을 출력\n",
    "\n",
    "list = [\n",
    "    [1, 2, 3],\n",
    "    [4, 5, 6],\n",
    "    [7, 8, 9]\n",
    "]\n",
    "\n",
    "a = np.array(list)\n",
    "\n",
    "print(a[1:3,0:3])"
   ]
  },
  {
   "cell_type": "markdown",
   "metadata": {
    "id": "eQNGPseMra2P"
   },
   "source": [
    "### **2. 배열 원소 조회 및 정렬**"
   ]
  },
  {
   "cell_type": "code",
   "execution_count": null,
   "metadata": {
    "id": "hi0sEWQxgAZ-"
   },
   "outputs": [
    {
     "name": "stdout",
     "output_type": "stream",
     "text": [
      "[False  True  True False]\n",
      "\n",
      "data 출력\n",
      " [[ 0.37505151 -0.79107744]\n",
      " [-0.82063619  1.28912088]\n",
      " [-0.34448555 -0.88634748]\n",
      " [-2.57677751 -0.07705192]]\n",
      "\n",
      "마스킹된 데이터 출력\n",
      " [[-0.82063619  1.28912088]\n",
      " [-0.34448555 -0.88634748]]\n",
      "\n",
      "마스킹 역전된 데이터 출력\n",
      " [[ 0.37505151 -0.79107744]\n",
      " [-2.57677751 -0.07705192]]\n"
     ]
    }
   ],
   "source": [
    "#코드 6-7\n",
    "# 마스킹: 조건에 맞는 값을 출력하는 기능능\n",
    "mask = np.array([0, 1, 1, 0], dtype=bool)\n",
    "print(mask)\n",
    "\n",
    "# randn(): 평균이 0, 표준편차가 1인 정규분포를 따르는 난수 생성성\n",
    "data = np.random.randn(4,2)\n",
    "print('\\ndata 출력\\n',data) #랜덤 데이터 배열 data는 책과 다르게 나타남\n",
    "\n",
    "print('\\n마스킹된 데이터 출력\\n',data[mask])\n",
    "print('\\n마스킹 역전된 데이터 출력\\n',data[~mask])"
   ]
  },
  {
   "cell_type": "code",
   "execution_count": 10,
   "metadata": {
    "id": "kL5QakYRg7YJ"
   },
   "outputs": [
    {
     "name": "stdout",
     "output_type": "stream",
     "text": [
      "양수 데이터 출력 \n",
      " [0.37505151 1.28912088]\n",
      "두 번째 행의 양수 데이터 출력 \n",
      " [1.28912088]\n"
     ]
    }
   ],
   "source": [
    "#코드 6-8\n",
    "posit = data[data > 0]\n",
    "print('양수 데이터 출력', '\\n',posit)\n",
    "\n",
    "#다중 조건\n",
    "over1 = data[1][data[1] > 0]\n",
    "print('두 번째 행의 양수 데이터 출력','\\n',over1)"
   ]
  },
  {
   "cell_type": "code",
   "execution_count": null,
   "metadata": {
    "id": "ZixHiGU1j8QN"
   },
   "outputs": [
    {
     "name": "stdout",
     "output_type": "stream",
     "text": [
      "[0 1 2 3 4 5]\n",
      "True\n",
      "[10  1  2  3  4  5]\n"
     ]
    }
   ],
   "source": [
    "#코드 6-9\n",
    "a = np.arange(6)\n",
    "b = a\n",
    "print(a)\n",
    "print(b is a)\n",
    "\n",
    "# b배열을 바꾸면 a배열도 바뀐다.\n",
    "b[0] = 10\n",
    "print(a)"
   ]
  },
  {
   "cell_type": "code",
   "execution_count": null,
   "metadata": {
    "id": "pZokePGDkpiE"
   },
   "outputs": [
    {
     "name": "stdout",
     "output_type": "stream",
     "text": [
      "A:  [0 1 2 3 4 5]\n",
      "C:  [20  1  2  3  4  5]\n"
     ]
    }
   ],
   "source": [
    "#코드 6-10\n",
    "a = np.arange(6)\n",
    "c = a.copy()\n",
    "\n",
    "# 주소가 다르다.\n",
    "c[0] = 20\n",
    "print('A: ', a)\n",
    "print('C: ', c)"
   ]
  },
  {
   "cell_type": "code",
   "execution_count": 13,
   "metadata": {
    "colab": {
     "base_uri": "https://localhost:8080/"
    },
    "executionInfo": {
     "elapsed": 24,
     "status": "ok",
     "timestamp": 1678324715614,
     "user": {
      "displayName": "안비단",
      "userId": "14578315619824770276"
     },
     "user_tz": -540
    },
    "id": "uexuKioWkuJ8",
    "outputId": "8f8e475d-3d88-4bf5-ceeb-556d5d522331"
   },
   "outputs": [
    {
     "name": "stdout",
     "output_type": "stream",
     "text": [
      "원본\n",
      " [3 2 5 1 4]\n",
      "정렬 후\n",
      " [1 2 3 4 5]\n",
      "원본\n",
      " [3 2 5 1 4]\n",
      "정렬한 인덱스\n",
      " [3 1 0 4 2]\n",
      "원본\n",
      " [1 2 3 4 5]\n"
     ]
    }
   ],
   "source": [
    "#코드 6-11\n",
    "a = np.array([3, 2, 5, 1, 4])\n",
    "\n",
    "print('원본\\n',a)\n",
    "print('정렬 후\\n',np.sort(a)) # 원본유지\n",
    "\n",
    "print('원본\\n',a)\n",
    "print('정렬한 인덱스\\n',np.argsort(a)) # 정렬된 배열의 원래 인덱스 값\n",
    "\n",
    "a.sort() # 원본 정렬\n",
    "print('원본\\n',a)"
   ]
  },
  {
   "cell_type": "code",
   "execution_count": 15,
   "metadata": {},
   "outputs": [
    {
     "name": "stdout",
     "output_type": "stream",
     "text": [
      "a\n",
      " [1 2 3]\n",
      "b\n",
      " [4]\n",
      "c\n",
      " [5 6 7]\n"
     ]
    }
   ],
   "source": [
    "# 확인문제-3\n",
    "a = np.array([1, 2, 3])\n",
    "print(\"a\\n\", a)\n",
    "b = np.array([4])\n",
    "print(\"b\\n\", b)\n",
    "c = a + b\n",
    "print(\"c\\n\", c)"
   ]
  }
 ],
 "metadata": {
  "colab": {
   "authorship_tag": "ABX9TyM0ag2ez3md0ZFuk07r40lb",
   "provenance": []
  },
  "kernelspec": {
   "display_name": "py312tf2",
   "language": "python",
   "name": "python3"
  },
  "language_info": {
   "codemirror_mode": {
    "name": "ipython",
    "version": 3
   },
   "file_extension": ".py",
   "mimetype": "text/x-python",
   "name": "python",
   "nbconvert_exporter": "python",
   "pygments_lexer": "ipython3",
   "version": "3.12.9"
  }
 },
 "nbformat": 4,
 "nbformat_minor": 0
}
