{
 "cells": [
  {
   "cell_type": "markdown",
   "metadata": {
    "id": "Z9QRVmM03LKL"
   },
   "source": [
    "### **1. 상관관계 분석과 상관계수**"
   ]
  },
  {
   "cell_type": "markdown",
   "metadata": {
    "id": "IjMLvRO53SYj"
   },
   "source": [
    "### **2. 상관관계 분석의 세 가지 방법**"
   ]
  },
  {
   "cell_type": "markdown",
   "metadata": {},
   "source": [
    "| 구분 | 피어슨 상관계수 | 스피어만 상관계수 | 켄달 순위 상관계수 |\n",
    "|:---|:---|:---|:---|\n",
    "| 핵심 개념 | **값의 크기 관계(선형성)** | **순위 관계(비선형까지 포함)** | **순위 일치 정도** |\n",
    "| 데이터 조건 | 수치형, 정규성 가정 필요 | 서열형 가능, 정규성 필요 없음 | 서열형 가능, 정규성 필요 없음 |\n",
    "| 민감도 | 이상치에 **민감** | 이상치에 **덜 민감** | 이상치에 **더 둔감** |\n",
    "| 설명 방식 | 두 변수의 값이 **직선 관계**를 따르는 정도 | 두 변수의 **순위 간 관계** | 두 변수의 **순위 일치/불일치** 빈도 |\n",
    "| 값 범위 | -1 ~ 1 | -1 ~ 1 | -1 ~ 1 |\n",
    "| 예시 상황 | 시험 점수 간 관계 (수학 점수 ↔ 과학 점수) | 고객 만족도 순위 ↔ 재구매율 순위 | 영화 평점 순위 ↔ 흥행 순위 |"
   ]
  },
  {
   "cell_type": "code",
   "execution_count": 1,
   "metadata": {
    "id": "94BT6Pb69GUK"
   },
   "outputs": [
    {
     "name": "stdout",
     "output_type": "stream",
     "text": [
      "              engListening  engScore\n",
      "engListening           1.0       1.0\n",
      "engScore               1.0       1.0\n"
     ]
    }
   ],
   "source": [
    "#코드 9-1\n",
    "import pandas as pd\n",
    "#리스트에 데이터 삽입하기\n",
    "engListening = [30, 60, 90]\n",
    "engScore = [70, 80, 90]\n",
    "\n",
    "#리스트를 데이터프레임으로 변환하기\n",
    "data = {'engListening':engListening, 'engScore':engScore}\n",
    "df = pd.DataFrame(data)\n",
    "\n",
    "#상관분석 수행하기\n",
    "coef = df.corr(method='pearson')\n",
    "print(coef)"
   ]
  },
  {
   "cell_type": "code",
   "execution_count": 2,
   "metadata": {
    "id": "wVrQbY6YK5Hs"
   },
   "outputs": [
    {
     "data": {
      "image/png": "[encoded data removed]",
      "text/plain": [
       "<Figure size 640x480 with 1 Axes>"
      ]
     },
     "metadata": {},
     "output_type": "display_data"
    }
   ],
   "source": [
    "#코드 9-2\n",
    "import matplotlib.pyplot as plt\n",
    "\n",
    "#데이터 추가하기\n",
    "engListening = [30, 60, 90, 31, 32, 69, 92, 99]\n",
    "engScore = [70, 80, 90, 70, 71, 85, 90, 92]\n",
    "data2 = {'engListening':engListening, 'engScore':engScore}\n",
    "df2 = pd.DataFrame(data2)\n",
    "\n",
    "#산점도 그래프의 x좌표와 y좌표 설정하기\n",
    "plt.scatter(df2['engListening'], df2['engScore'])\n",
    "plt.show()"
   ]
  },
  {
   "cell_type": "code",
   "execution_count": 3,
   "metadata": {
    "id": "HOFGOqHzRz_5"
   },
   "outputs": [
    {
     "name": "stdout",
     "output_type": "stream",
     "text": [
      "              engListening  engScore\n",
      "engListening      1.000000  0.995829\n",
      "engScore          0.995829  1.000000\n"
     ]
    }
   ],
   "source": [
    "#코드 9-3\n",
    "coef = df2.corr(method='pearson')\n",
    "print(coef)"
   ]
  },
  {
   "cell_type": "code",
   "execution_count": 4,
   "metadata": {
    "id": "V4yfebxQWQN2"
   },
   "outputs": [
    {
     "name": "stdout",
     "output_type": "stream",
     "text": [
      "              engListening  engScore\n",
      "engListening           1.0       1.0\n",
      "engScore               1.0       1.0\n",
      "              engListening  engScore\n",
      "engListening           1.0       1.0\n",
      "engScore               1.0       1.0\n"
     ]
    }
   ],
   "source": [
    "#코드 9-4\n",
    "#스피어만 상관분석\n",
    "spearmanCoef = df.corr(method='spearman')\n",
    "print(spearmanCoef)\n",
    "\n",
    "#켄달 상관분석\n",
    "kendallCoef = df.corr(method='kendall')\n",
    "print(kendallCoef)"
   ]
  },
  {
   "cell_type": "code",
   "execution_count": 5,
   "metadata": {
    "id": "e71TTPqlWW5q"
   },
   "outputs": [],
   "source": [
    "#코드 9-5\n",
    "engListening = [30, 60, 90, 31, 32, 69, 92, 99]\n",
    "engReading = [40, 45, 60, 20, 15, 70, 60, 80]\n",
    "engClass = [60, 120, 120, 60, 60, 180, 120, 120]\n",
    "engScore = [70, 80, 90, 70, 71, 85, 90, 92]\n",
    "\n",
    "data3 = {'engListening':engListening, 'engReading':engReading, 'endClass':engClass,\n",
    "         'engScore':engScore}\n",
    "df3 = pd.DataFrame(data3)"
   ]
  },
  {
   "cell_type": "code",
   "execution_count": 6,
   "metadata": {
    "id": "_x0HVW-dW-P6"
   },
   "outputs": [
    {
     "name": "stdout",
     "output_type": "stream",
     "text": [
      "              engListening  engReading  endClass  engScore\n",
      "engListening      1.000000    0.877201  0.703028  0.995829\n",
      "engReading        0.877201    1.000000  0.808755  0.894111\n",
      "endClass          0.703028    0.808755  1.000000  0.759453\n",
      "engScore          0.995829    0.894111  0.759453  1.000000\n",
      "              engListening  engReading  endClass  engScore\n",
      "engListening      1.000000    0.826362  0.717256  0.988024\n",
      "engReading        0.826362    1.000000  0.852757  0.848500\n",
      "endClass          0.717256    0.852757  1.000000  0.725950\n",
      "engScore          0.988024    0.848500  0.725950  1.000000\n",
      "              engListening  engReading  endClass  engScore\n",
      "engListening      1.000000    0.618284  0.563621  0.963624\n",
      "engReading        0.618284    1.000000  0.750568  0.679366\n",
      "endClass          0.563621    0.750568  1.000000  0.584898\n",
      "engScore          0.963624    0.679366  0.584898  1.000000\n"
     ]
    }
   ],
   "source": [
    "#코드 9-6\n",
    "#피어슨 상관분석\n",
    "pearsonCoef = df3.corr(method='pearson')\n",
    "print(pearsonCoef)\n",
    "\n",
    "#스피어만 상관분석\n",
    "spearmanCoef = df3.corr(method='spearman')\n",
    "print(spearmanCoef)\n",
    "\n",
    "#켄달 상관분석\n",
    "kendallCoef = df3.corr(method='kendall')\n",
    "print(kendallCoef)"
   ]
  }
 ],
 "metadata": {
  "colab": {
   "authorship_tag": "ABX9TyOn9P6F6FI2sFs8kNeA/qv4",
   "provenance": []
  },
  "kernelspec": {
   "display_name": "py312tf2",
   "language": "python",
   "name": "python3"
  },
  "language_info": {
   "codemirror_mode": {
    "name": "ipython",
    "version": 3
   },
   "file_extension": ".py",
   "mimetype": "text/x-python",
   "name": "python",
   "nbconvert_exporter": "python",
   "pygments_lexer": "ipython3",
   "version": "3.12.9"
  }
 },
 "nbformat": 4,
 "nbformat_minor": 0
}
