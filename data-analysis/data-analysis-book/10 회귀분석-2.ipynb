{
 "cells": [
  {
   "cell_type": "markdown",
   "metadata": {
    "id": "g3E-NjkfzBmE"
   },
   "source": [
    "### **1. 연봉과 직장 만족도**"
   ]
  },
  {
   "cell_type": "code",
   "execution_count": 1,
   "metadata": {
    "id": "Lp52TYWiGHqw"
   },
   "outputs": [
    {
     "data": {
      "image/png": "[encoded data removed]",
      "text/plain": [
       "<Figure size 640x480 with 1 Axes>"
      ]
     },
     "metadata": {},
     "output_type": "display_data"
    }
   ],
   "source": [
    "#코드 10-1\n",
    "import pandas as pd\n",
    "import matplotlib.pyplot as plt\n",
    "\n",
    "x = [3000, 4200, 4000, 5000, 6000, 3800, 3500, 6200, 3900, 4500]\n",
    "y = [60, 75, 70, 85, 90, 70, 65, 95, 70, 80]\n",
    "data = {'x': x, 'y': y}\n",
    "df = pd.DataFrame(data)\n",
    "plt.scatter(df['x'], df['y'])\n",
    "plt.show()"
   ]
  },
  {
   "cell_type": "code",
   "execution_count": null,
   "metadata": {
    "id": "4gM4-rLN1yBy"
   },
   "outputs": [
    {
     "name": "stdout",
     "output_type": "stream",
     "text": [
      "                            OLS Regression Results                            \n",
      "==============================================================================\n",
      "Dep. Variable:                      y   R-squared:                       0.971\n",
      "Model:                            OLS   Adj. R-squared:                  0.968\n",
      "Method:                 Least Squares   F-statistic:                     271.0\n",
      "Date:                Sun, 27 Apr 2025   Prob (F-statistic):           1.87e-07\n",
      "Time:                        16:58:05   Log-Likelihood:                -20.111\n",
      "No. Observations:                  10   AIC:                             44.22\n",
      "Df Residuals:                       8   BIC:                             44.83\n",
      "Df Model:                           1                                         \n",
      "Covariance Type:            nonrobust                                         \n",
      "==============================================================================\n",
      "                 coef    std err          t      P>|t|      [0.025      0.975]\n",
      "------------------------------------------------------------------------------\n",
      "Intercept     29.0004      2.926      9.913      0.000      22.254      35.747\n",
      "x              0.0107      0.001     16.463      0.000       0.009       0.012\n",
      "==============================================================================\n",
      "Omnibus:                        0.346   Durbin-Watson:                   2.871\n",
      "Prob(Omnibus):                  0.841   Jarque-Bera (JB):                0.447\n",
      "Skew:                           0.286   Prob(JB):                        0.800\n",
      "Kurtosis:                       2.136   Cond. No.                     2.07e+04\n",
      "==============================================================================\n",
      "\n",
      "Notes:\n",
      "[1] Standard Errors assume that the covariance matrix of the errors is correctly specified.\n",
      "[2] The condition number is large, 2.07e+04. This might indicate that there are\n",
      "strong multicollinearity or other numerical problems.\n"
     ]
    },
    {
     "name": "stderr",
     "output_type": "stream",
     "text": [
      "C:\\Users\\asia\\AppData\\Roaming\\Python\\Python312\\site-packages\\scipy\\stats\\_axis_nan_policy.py:430: UserWarning: `kurtosistest` p-value may be inaccurate with fewer than 20 observations; only n=10 observations were given.\n",
      "  return hypotest_fun_in(*args, **kwds)\n"
     ]
    }
   ],
   "source": [
    "#코드 10-2\n",
    "from statsmodels.formula.api import ols\n",
    "from sklearn.linear_model import LinearRegression\n",
    "\n",
    "# ols(): 선형 회귀분석하는 함수\n",
    "fit = ols('y ~ x', data=df).fit()\n",
    "print(fit.summary())"
   ]
  },
  {
   "cell_type": "markdown",
   "metadata": {
    "id": "g6_rDj1r5Eta"
   },
   "source": [
    "### **2. 직장 만족도의 요인 분석**"
   ]
  },
  {
   "cell_type": "code",
   "execution_count": 3,
   "metadata": {
    "id": "PjddH38KzA3K"
   },
   "outputs": [
    {
     "name": "stdout",
     "output_type": "stream",
     "text": [
      "                             OLS Regression Results                            \n",
      "===============================================================================\n",
      "Dep. Variable:     companySatisfaction   R-squared:                       0.988\n",
      "Model:                             OLS   Adj. R-squared:                  0.982\n",
      "Method:                  Least Squares   F-statistic:                     164.0\n",
      "Date:                 Sun, 27 Apr 2025   Prob (F-statistic):           3.81e-06\n",
      "Time:                         17:02:45   Log-Likelihood:                -15.777\n",
      "No. Observations:                   10   AIC:                             39.55\n",
      "Df Residuals:                        6   BIC:                             40.77\n",
      "Df Model:                            3                                         \n",
      "Covariance Type:             nonrobust                                         \n",
      "===============================================================================\n",
      "                  coef    std err          t      P>|t|      [0.025      0.975]\n",
      "-------------------------------------------------------------------------------\n",
      "Intercept      24.9819      5.353      4.667      0.003      11.884      38.080\n",
      "salary          0.0120      0.001     15.895      0.000       0.010       0.014\n",
      "breakTime       0.0668      0.027      2.491      0.047       0.001       0.132\n",
      "workingTime    -0.9718      0.412     -2.356      0.057      -1.981       0.037\n",
      "==============================================================================\n",
      "Omnibus:                        0.929   Durbin-Watson:                   2.500\n",
      "Prob(Omnibus):                  0.628   Jarque-Bera (JB):                0.752\n",
      "Skew:                          -0.441   Prob(JB):                        0.686\n",
      "Kurtosis:                       1.986   Cond. No.                     5.06e+04\n",
      "==============================================================================\n",
      "\n",
      "Notes:\n",
      "[1] Standard Errors assume that the covariance matrix of the errors is correctly specified.\n",
      "[2] The condition number is large, 5.06e+04. This might indicate that there are\n",
      "strong multicollinearity or other numerical problems.\n"
     ]
    },
    {
     "name": "stderr",
     "output_type": "stream",
     "text": [
      "C:\\Users\\asia\\AppData\\Roaming\\Python\\Python312\\site-packages\\scipy\\stats\\_axis_nan_policy.py:430: UserWarning: `kurtosistest` p-value may be inaccurate with fewer than 20 observations; only n=10 observations were given.\n",
      "  return hypotest_fun_in(*args, **kwds)\n"
     ]
    }
   ],
   "source": [
    "#코드 10-3\n",
    "from statsmodels.formula.api import ols\n",
    "from sklearn.linear_model import LinearRegression\n",
    "\n",
    "salary = [3000, 4200, 4000, 5000, 6000, 3800, 3500, 6200, 3900, 4500]\n",
    "breakTime = [120, 60, 100, 100, 50, 120, 90, 40, 120, 120]\n",
    "workingTime = [8, 6, 10, 8, 10, 10, 9, 7, 8, 9]\n",
    "companySatisfaction = [60, 75, 70, 85, 90, 70, 65, 95, 70, 80]\n",
    "\n",
    "data = {'salary': salary, 'breakTime': breakTime, 'workingTime': workingTime,\n",
    "        'companySatisfaction': companySatisfaction}\n",
    "df = pd.DataFrame(data)\n",
    "\n",
    "fit = ols('companySatisfaction ~ salary + breakTime + workingTime', data=df).fit()\n",
    "print(fit.summary())"
   ]
  },
  {
   "cell_type": "code",
   "execution_count": 6,
   "metadata": {},
   "outputs": [
    {
     "data": {
      "text/html": [
       "<div>\n",
       "<style scoped>\n",
       "    .dataframe tbody tr th:only-of-type {\n",
       "        vertical-align: middle;\n",
       "    }\n",
       "\n",
       "    .dataframe tbody tr th {\n",
       "        vertical-align: top;\n",
       "    }\n",
       "\n",
       "    .dataframe thead th {\n",
       "        text-align: right;\n",
       "    }\n",
       "</style>\n",
       "<table border=\"1\" class=\"dataframe\">\n",
       "  <thead>\n",
       "    <tr style=\"text-align: right;\">\n",
       "      <th></th>\n",
       "      <th>workingTime</th>\n",
       "      <th>companySatisfaction</th>\n",
       "    </tr>\n",
       "  </thead>\n",
       "  <tbody>\n",
       "    <tr>\n",
       "      <th>workingTime</th>\n",
       "      <td>1.000000</td>\n",
       "      <td>-0.164058</td>\n",
       "    </tr>\n",
       "    <tr>\n",
       "      <th>companySatisfaction</th>\n",
       "      <td>-0.164058</td>\n",
       "      <td>1.000000</td>\n",
       "    </tr>\n",
       "  </tbody>\n",
       "</table>\n",
       "</div>"
      ],
      "text/plain": [
       "                     workingTime  companySatisfaction\n",
       "workingTime             1.000000            -0.164058\n",
       "companySatisfaction    -0.164058             1.000000"
      ]
     },
     "execution_count": 6,
     "metadata": {},
     "output_type": "execute_result"
    }
   ],
   "source": [
    "df2 = df[['workingTime', 'companySatisfaction']]\n",
    "workingTime_coef = df2.corr(method='spearman')\n",
    "workingTime_coef"
   ]
  }
 ],
 "metadata": {
  "colab": {
   "authorship_tag": "ABX9TyNKheDdhnEl8NKDsyxK2H4H",
   "provenance": []
  },
  "kernelspec": {
   "display_name": "py312tf2",
   "language": "python",
   "name": "python3"
  },
  "language_info": {
   "codemirror_mode": {
    "name": "ipython",
    "version": 3
   },
   "file_extension": ".py",
   "mimetype": "text/x-python",
   "name": "python",
   "nbconvert_exporter": "python",
   "pygments_lexer": "ipython3",
   "version": "3.12.9"
  }
 },
 "nbformat": 4,
 "nbformat_minor": 0
}
