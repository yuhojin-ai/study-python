{
 "cells": [
  {
   "cell_type": "markdown",
   "metadata": {
    "id": "a8UL1ExEPtHk"
   },
   "source": [
    "### **1. 지하수 데이터 수집**"
   ]
  },
  {
   "cell_type": "code",
   "execution_count": 1,
   "metadata": {
    "id": "4hcS3ty-QrSn"
   },
   "outputs": [],
   "source": [
    "#코드 8-11\n",
    "import os\n",
    "import pandas as pd\n",
    "import numpy as np\n",
    "import matplotlib.pyplot as plt\n",
    "import warnings\n",
    "from datetime import datetime, date, time\n",
    "\n",
    "warnings.filterwarnings('ignore')"
   ]
  },
  {
   "cell_type": "code",
   "execution_count": 5,
   "metadata": {
    "id": "IvLCAHW2QLva"
   },
   "outputs": [
    {
     "data": {
      "text/plain": [
       "['대전태평(암반)_2009_hr.xlsx',\n",
       " '대전태평(암반)_2010_hr.xlsx',\n",
       " '대전태평(암반)_2011_hr.xlsx',\n",
       " '대전태평(암반)_2012_hr.xlsx',\n",
       " '대전태평(암반)_2013_hr.xlsx',\n",
       " '대전태평(암반)_2014_hr.xlsx',\n",
       " '대전태평(암반)_2015_hr.xlsx',\n",
       " '대전태평(암반)_2016_hr.xlsx']"
      ]
     },
     "execution_count": 5,
     "metadata": {},
     "output_type": "execute_result"
    }
   ],
   "source": [
    "#코드 8-12\n",
    "path = './대전태평(암반)/'\n",
    "file_list = os.listdir(path)\n",
    "file_list_py = [file for file in file_list if file.endswith('.xlsx')]\n",
    "file_list_py"
   ]
  },
  {
   "cell_type": "code",
   "execution_count": 9,
   "metadata": {},
   "outputs": [
    {
     "data": {
      "text/plain": [
       "['./대전태평(암반)\\\\대전태평(암반)_2009_hr.xlsx',\n",
       " './대전태평(암반)\\\\대전태평(암반)_2010_hr.xlsx',\n",
       " './대전태평(암반)\\\\대전태평(암반)_2011_hr.xlsx',\n",
       " './대전태평(암반)\\\\대전태평(암반)_2012_hr.xlsx',\n",
       " './대전태평(암반)\\\\대전태평(암반)_2013_hr.xlsx',\n",
       " './대전태평(암반)\\\\대전태평(암반)_2014_hr.xlsx',\n",
       " './대전태평(암반)\\\\대전태평(암반)_2015_hr.xlsx',\n",
       " './대전태평(암반)\\\\대전태평(암반)_2016_hr.xlsx']"
      ]
     },
     "execution_count": 9,
     "metadata": {},
     "output_type": "execute_result"
    }
   ],
   "source": [
    "import glob\n",
    "\n",
    "path = './대전태평(암반)/*.xlsx'\n",
    "file_list = glob.glob(path)\n",
    "file_list"
   ]
  },
  {
   "cell_type": "code",
   "execution_count": 6,
   "metadata": {
    "id": "gSae3NkUQtik"
   },
   "outputs": [
    {
     "data": {
      "text/html": [
       "<div>\n",
       "<style scoped>\n",
       "    .dataframe tbody tr th:only-of-type {\n",
       "        vertical-align: middle;\n",
       "    }\n",
       "\n",
       "    .dataframe tbody tr th {\n",
       "        vertical-align: top;\n",
       "    }\n",
       "\n",
       "    .dataframe thead th {\n",
       "        text-align: right;\n",
       "    }\n",
       "</style>\n",
       "<table border=\"1\" class=\"dataframe\">\n",
       "  <thead>\n",
       "    <tr style=\"text-align: right;\">\n",
       "      <th></th>\n",
       "      <th>관측소</th>\n",
       "      <th>구분</th>\n",
       "      <th>날짜</th>\n",
       "      <th>시간</th>\n",
       "      <th>수온(℃)</th>\n",
       "      <th>수위(el.m)</th>\n",
       "      <th>EC(㎲/㎝)</th>\n",
       "    </tr>\n",
       "  </thead>\n",
       "  <tbody>\n",
       "    <tr>\n",
       "      <th>0</th>\n",
       "      <td>대전태평</td>\n",
       "      <td>(암반)</td>\n",
       "      <td>20090101</td>\n",
       "      <td>0</td>\n",
       "      <td>16.1</td>\n",
       "      <td>44.47</td>\n",
       "      <td>749</td>\n",
       "    </tr>\n",
       "    <tr>\n",
       "      <th>1</th>\n",
       "      <td>대전태평</td>\n",
       "      <td>(암반)</td>\n",
       "      <td>20090101</td>\n",
       "      <td>1</td>\n",
       "      <td>16.1</td>\n",
       "      <td>44.47</td>\n",
       "      <td>749</td>\n",
       "    </tr>\n",
       "    <tr>\n",
       "      <th>2</th>\n",
       "      <td>대전태평</td>\n",
       "      <td>(암반)</td>\n",
       "      <td>20090101</td>\n",
       "      <td>2</td>\n",
       "      <td>16.1</td>\n",
       "      <td>44.47</td>\n",
       "      <td>749</td>\n",
       "    </tr>\n",
       "    <tr>\n",
       "      <th>3</th>\n",
       "      <td>대전태평</td>\n",
       "      <td>(암반)</td>\n",
       "      <td>20090101</td>\n",
       "      <td>3</td>\n",
       "      <td>16.1</td>\n",
       "      <td>44.47</td>\n",
       "      <td>749</td>\n",
       "    </tr>\n",
       "    <tr>\n",
       "      <th>4</th>\n",
       "      <td>대전태평</td>\n",
       "      <td>(암반)</td>\n",
       "      <td>20090101</td>\n",
       "      <td>4</td>\n",
       "      <td>16.1</td>\n",
       "      <td>44.47</td>\n",
       "      <td>749</td>\n",
       "    </tr>\n",
       "    <tr>\n",
       "      <th>...</th>\n",
       "      <td>...</td>\n",
       "      <td>...</td>\n",
       "      <td>...</td>\n",
       "      <td>...</td>\n",
       "      <td>...</td>\n",
       "      <td>...</td>\n",
       "      <td>...</td>\n",
       "    </tr>\n",
       "    <tr>\n",
       "      <th>8761</th>\n",
       "      <td>대전태평</td>\n",
       "      <td>(암반)</td>\n",
       "      <td>20161231</td>\n",
       "      <td>19</td>\n",
       "      <td>16.2</td>\n",
       "      <td>44.49</td>\n",
       "      <td>725</td>\n",
       "    </tr>\n",
       "    <tr>\n",
       "      <th>8762</th>\n",
       "      <td>대전태평</td>\n",
       "      <td>(암반)</td>\n",
       "      <td>20161231</td>\n",
       "      <td>20</td>\n",
       "      <td>16.2</td>\n",
       "      <td>44.49</td>\n",
       "      <td>725</td>\n",
       "    </tr>\n",
       "    <tr>\n",
       "      <th>8763</th>\n",
       "      <td>대전태평</td>\n",
       "      <td>(암반)</td>\n",
       "      <td>20161231</td>\n",
       "      <td>21</td>\n",
       "      <td>16.2</td>\n",
       "      <td>44.49</td>\n",
       "      <td>725</td>\n",
       "    </tr>\n",
       "    <tr>\n",
       "      <th>8764</th>\n",
       "      <td>대전태평</td>\n",
       "      <td>(암반)</td>\n",
       "      <td>20161231</td>\n",
       "      <td>22</td>\n",
       "      <td>16.2</td>\n",
       "      <td>44.49</td>\n",
       "      <td>725</td>\n",
       "    </tr>\n",
       "    <tr>\n",
       "      <th>8765</th>\n",
       "      <td>대전태평</td>\n",
       "      <td>(암반)</td>\n",
       "      <td>20161231</td>\n",
       "      <td>23</td>\n",
       "      <td>16.2</td>\n",
       "      <td>44.49</td>\n",
       "      <td>725</td>\n",
       "    </tr>\n",
       "  </tbody>\n",
       "</table>\n",
       "<p>69548 rows × 7 columns</p>\n",
       "</div>"
      ],
      "text/plain": [
       "       관측소    구분        날짜  시간  수온(℃)  수위(el.m)  EC(㎲/㎝)\n",
       "0     대전태평  (암반)  20090101   0   16.1     44.47      749\n",
       "1     대전태평  (암반)  20090101   1   16.1     44.47      749\n",
       "2     대전태평  (암반)  20090101   2   16.1     44.47      749\n",
       "3     대전태평  (암반)  20090101   3   16.1     44.47      749\n",
       "4     대전태평  (암반)  20090101   4   16.1     44.47      749\n",
       "...    ...   ...       ...  ..    ...       ...      ...\n",
       "8761  대전태평  (암반)  20161231  19   16.2     44.49      725\n",
       "8762  대전태평  (암반)  20161231  20   16.2     44.49      725\n",
       "8763  대전태평  (암반)  20161231  21   16.2     44.49      725\n",
       "8764  대전태평  (암반)  20161231  22   16.2     44.49      725\n",
       "8765  대전태평  (암반)  20161231  23   16.2     44.49      725\n",
       "\n",
       "[69548 rows x 7 columns]"
      ]
     },
     "execution_count": 6,
     "metadata": {},
     "output_type": "execute_result"
    }
   ],
   "source": [
    "#코드 8-13\n",
    "df = pd.DataFrame()\n",
    "for i in file_list_py:\n",
    "  data = pd.read_excel(path + i)\n",
    "  df = pd.concat([df, data])\n",
    "df"
   ]
  },
  {
   "cell_type": "code",
   "execution_count": 10,
   "metadata": {},
   "outputs": [
    {
     "data": {
      "text/html": [
       "<div>\n",
       "<style scoped>\n",
       "    .dataframe tbody tr th:only-of-type {\n",
       "        vertical-align: middle;\n",
       "    }\n",
       "\n",
       "    .dataframe tbody tr th {\n",
       "        vertical-align: top;\n",
       "    }\n",
       "\n",
       "    .dataframe thead th {\n",
       "        text-align: right;\n",
       "    }\n",
       "</style>\n",
       "<table border=\"1\" class=\"dataframe\">\n",
       "  <thead>\n",
       "    <tr style=\"text-align: right;\">\n",
       "      <th></th>\n",
       "      <th>관측소</th>\n",
       "      <th>구분</th>\n",
       "      <th>날짜</th>\n",
       "      <th>시간</th>\n",
       "      <th>수온(℃)</th>\n",
       "      <th>수위(el.m)</th>\n",
       "      <th>EC(㎲/㎝)</th>\n",
       "    </tr>\n",
       "  </thead>\n",
       "  <tbody>\n",
       "    <tr>\n",
       "      <th>0</th>\n",
       "      <td>대전태평</td>\n",
       "      <td>(암반)</td>\n",
       "      <td>20090101</td>\n",
       "      <td>0</td>\n",
       "      <td>16.1</td>\n",
       "      <td>44.47</td>\n",
       "      <td>749</td>\n",
       "    </tr>\n",
       "    <tr>\n",
       "      <th>1</th>\n",
       "      <td>대전태평</td>\n",
       "      <td>(암반)</td>\n",
       "      <td>20090101</td>\n",
       "      <td>1</td>\n",
       "      <td>16.1</td>\n",
       "      <td>44.47</td>\n",
       "      <td>749</td>\n",
       "    </tr>\n",
       "    <tr>\n",
       "      <th>2</th>\n",
       "      <td>대전태평</td>\n",
       "      <td>(암반)</td>\n",
       "      <td>20090101</td>\n",
       "      <td>2</td>\n",
       "      <td>16.1</td>\n",
       "      <td>44.47</td>\n",
       "      <td>749</td>\n",
       "    </tr>\n",
       "    <tr>\n",
       "      <th>3</th>\n",
       "      <td>대전태평</td>\n",
       "      <td>(암반)</td>\n",
       "      <td>20090101</td>\n",
       "      <td>3</td>\n",
       "      <td>16.1</td>\n",
       "      <td>44.47</td>\n",
       "      <td>749</td>\n",
       "    </tr>\n",
       "    <tr>\n",
       "      <th>4</th>\n",
       "      <td>대전태평</td>\n",
       "      <td>(암반)</td>\n",
       "      <td>20090101</td>\n",
       "      <td>4</td>\n",
       "      <td>16.1</td>\n",
       "      <td>44.47</td>\n",
       "      <td>749</td>\n",
       "    </tr>\n",
       "    <tr>\n",
       "      <th>...</th>\n",
       "      <td>...</td>\n",
       "      <td>...</td>\n",
       "      <td>...</td>\n",
       "      <td>...</td>\n",
       "      <td>...</td>\n",
       "      <td>...</td>\n",
       "      <td>...</td>\n",
       "    </tr>\n",
       "    <tr>\n",
       "      <th>69543</th>\n",
       "      <td>대전태평</td>\n",
       "      <td>(암반)</td>\n",
       "      <td>20161231</td>\n",
       "      <td>19</td>\n",
       "      <td>16.2</td>\n",
       "      <td>44.49</td>\n",
       "      <td>725</td>\n",
       "    </tr>\n",
       "    <tr>\n",
       "      <th>69544</th>\n",
       "      <td>대전태평</td>\n",
       "      <td>(암반)</td>\n",
       "      <td>20161231</td>\n",
       "      <td>20</td>\n",
       "      <td>16.2</td>\n",
       "      <td>44.49</td>\n",
       "      <td>725</td>\n",
       "    </tr>\n",
       "    <tr>\n",
       "      <th>69545</th>\n",
       "      <td>대전태평</td>\n",
       "      <td>(암반)</td>\n",
       "      <td>20161231</td>\n",
       "      <td>21</td>\n",
       "      <td>16.2</td>\n",
       "      <td>44.49</td>\n",
       "      <td>725</td>\n",
       "    </tr>\n",
       "    <tr>\n",
       "      <th>69546</th>\n",
       "      <td>대전태평</td>\n",
       "      <td>(암반)</td>\n",
       "      <td>20161231</td>\n",
       "      <td>22</td>\n",
       "      <td>16.2</td>\n",
       "      <td>44.49</td>\n",
       "      <td>725</td>\n",
       "    </tr>\n",
       "    <tr>\n",
       "      <th>69547</th>\n",
       "      <td>대전태평</td>\n",
       "      <td>(암반)</td>\n",
       "      <td>20161231</td>\n",
       "      <td>23</td>\n",
       "      <td>16.2</td>\n",
       "      <td>44.49</td>\n",
       "      <td>725</td>\n",
       "    </tr>\n",
       "  </tbody>\n",
       "</table>\n",
       "<p>69548 rows × 7 columns</p>\n",
       "</div>"
      ],
      "text/plain": [
       "        관측소    구분        날짜  시간  수온(℃)  수위(el.m)  EC(㎲/㎝)\n",
       "0      대전태평  (암반)  20090101   0   16.1     44.47      749\n",
       "1      대전태평  (암반)  20090101   1   16.1     44.47      749\n",
       "2      대전태평  (암반)  20090101   2   16.1     44.47      749\n",
       "3      대전태평  (암반)  20090101   3   16.1     44.47      749\n",
       "4      대전태평  (암반)  20090101   4   16.1     44.47      749\n",
       "...     ...   ...       ...  ..    ...       ...      ...\n",
       "69543  대전태평  (암반)  20161231  19   16.2     44.49      725\n",
       "69544  대전태평  (암반)  20161231  20   16.2     44.49      725\n",
       "69545  대전태평  (암반)  20161231  21   16.2     44.49      725\n",
       "69546  대전태평  (암반)  20161231  22   16.2     44.49      725\n",
       "69547  대전태평  (암반)  20161231  23   16.2     44.49      725\n",
       "\n",
       "[69548 rows x 7 columns]"
      ]
     },
     "execution_count": 10,
     "metadata": {},
     "output_type": "execute_result"
    }
   ],
   "source": [
    "df_list = [pd.read_excel(file) for file in file_list]\n",
    "final_df = pd.concat(df_list, ignore_index=True)\n",
    "\n",
    "final_df"
   ]
  },
  {
   "cell_type": "code",
   "execution_count": 12,
   "metadata": {
    "id": "16aGFuDqRuug"
   },
   "outputs": [
    {
     "data": {
      "text/html": [
       "<div>\n",
       "<style scoped>\n",
       "    .dataframe tbody tr th:only-of-type {\n",
       "        vertical-align: middle;\n",
       "    }\n",
       "\n",
       "    .dataframe tbody tr th {\n",
       "        vertical-align: top;\n",
       "    }\n",
       "\n",
       "    .dataframe thead th {\n",
       "        text-align: right;\n",
       "    }\n",
       "</style>\n",
       "<table border=\"1\" class=\"dataframe\">\n",
       "  <thead>\n",
       "    <tr style=\"text-align: right;\">\n",
       "      <th></th>\n",
       "      <th>관측소</th>\n",
       "      <th>구분</th>\n",
       "      <th>날짜</th>\n",
       "      <th>시간</th>\n",
       "      <th>수온(℃)</th>\n",
       "      <th>수위(el.m)</th>\n",
       "      <th>EC(㎲/㎝)</th>\n",
       "    </tr>\n",
       "  </thead>\n",
       "  <tbody>\n",
       "    <tr>\n",
       "      <th>0</th>\n",
       "      <td>대전태평</td>\n",
       "      <td>(암반)</td>\n",
       "      <td>20090101</td>\n",
       "      <td>0</td>\n",
       "      <td>16.1</td>\n",
       "      <td>44.47</td>\n",
       "      <td>749</td>\n",
       "    </tr>\n",
       "    <tr>\n",
       "      <th>1</th>\n",
       "      <td>대전태평</td>\n",
       "      <td>(암반)</td>\n",
       "      <td>20090101</td>\n",
       "      <td>1</td>\n",
       "      <td>16.1</td>\n",
       "      <td>44.47</td>\n",
       "      <td>749</td>\n",
       "    </tr>\n",
       "    <tr>\n",
       "      <th>2</th>\n",
       "      <td>대전태평</td>\n",
       "      <td>(암반)</td>\n",
       "      <td>20090101</td>\n",
       "      <td>2</td>\n",
       "      <td>16.1</td>\n",
       "      <td>44.47</td>\n",
       "      <td>749</td>\n",
       "    </tr>\n",
       "    <tr>\n",
       "      <th>3</th>\n",
       "      <td>대전태평</td>\n",
       "      <td>(암반)</td>\n",
       "      <td>20090101</td>\n",
       "      <td>3</td>\n",
       "      <td>16.1</td>\n",
       "      <td>44.47</td>\n",
       "      <td>749</td>\n",
       "    </tr>\n",
       "    <tr>\n",
       "      <th>4</th>\n",
       "      <td>대전태평</td>\n",
       "      <td>(암반)</td>\n",
       "      <td>20090101</td>\n",
       "      <td>4</td>\n",
       "      <td>16.1</td>\n",
       "      <td>44.47</td>\n",
       "      <td>749</td>\n",
       "    </tr>\n",
       "    <tr>\n",
       "      <th>...</th>\n",
       "      <td>...</td>\n",
       "      <td>...</td>\n",
       "      <td>...</td>\n",
       "      <td>...</td>\n",
       "      <td>...</td>\n",
       "      <td>...</td>\n",
       "      <td>...</td>\n",
       "    </tr>\n",
       "    <tr>\n",
       "      <th>69543</th>\n",
       "      <td>대전태평</td>\n",
       "      <td>(암반)</td>\n",
       "      <td>20161231</td>\n",
       "      <td>19</td>\n",
       "      <td>16.2</td>\n",
       "      <td>44.49</td>\n",
       "      <td>725</td>\n",
       "    </tr>\n",
       "    <tr>\n",
       "      <th>69544</th>\n",
       "      <td>대전태평</td>\n",
       "      <td>(암반)</td>\n",
       "      <td>20161231</td>\n",
       "      <td>20</td>\n",
       "      <td>16.2</td>\n",
       "      <td>44.49</td>\n",
       "      <td>725</td>\n",
       "    </tr>\n",
       "    <tr>\n",
       "      <th>69545</th>\n",
       "      <td>대전태평</td>\n",
       "      <td>(암반)</td>\n",
       "      <td>20161231</td>\n",
       "      <td>21</td>\n",
       "      <td>16.2</td>\n",
       "      <td>44.49</td>\n",
       "      <td>725</td>\n",
       "    </tr>\n",
       "    <tr>\n",
       "      <th>69546</th>\n",
       "      <td>대전태평</td>\n",
       "      <td>(암반)</td>\n",
       "      <td>20161231</td>\n",
       "      <td>22</td>\n",
       "      <td>16.2</td>\n",
       "      <td>44.49</td>\n",
       "      <td>725</td>\n",
       "    </tr>\n",
       "    <tr>\n",
       "      <th>69547</th>\n",
       "      <td>대전태평</td>\n",
       "      <td>(암반)</td>\n",
       "      <td>20161231</td>\n",
       "      <td>23</td>\n",
       "      <td>16.2</td>\n",
       "      <td>44.49</td>\n",
       "      <td>725</td>\n",
       "    </tr>\n",
       "  </tbody>\n",
       "</table>\n",
       "<p>69548 rows × 7 columns</p>\n",
       "</div>"
      ],
      "text/plain": [
       "        관측소    구분        날짜  시간  수온(℃)  수위(el.m)  EC(㎲/㎝)\n",
       "0      대전태평  (암반)  20090101   0   16.1     44.47      749\n",
       "1      대전태평  (암반)  20090101   1   16.1     44.47      749\n",
       "2      대전태평  (암반)  20090101   2   16.1     44.47      749\n",
       "3      대전태평  (암반)  20090101   3   16.1     44.47      749\n",
       "4      대전태평  (암반)  20090101   4   16.1     44.47      749\n",
       "...     ...   ...       ...  ..    ...       ...      ...\n",
       "69543  대전태평  (암반)  20161231  19   16.2     44.49      725\n",
       "69544  대전태평  (암반)  20161231  20   16.2     44.49      725\n",
       "69545  대전태평  (암반)  20161231  21   16.2     44.49      725\n",
       "69546  대전태평  (암반)  20161231  22   16.2     44.49      725\n",
       "69547  대전태평  (암반)  20161231  23   16.2     44.49      725\n",
       "\n",
       "[69548 rows x 7 columns]"
      ]
     },
     "execution_count": 12,
     "metadata": {},
     "output_type": "execute_result"
    }
   ],
   "source": [
    "#코드 8-14\n",
    "df = df.reset_index(drop=True)\n",
    "df"
   ]
  },
  {
   "cell_type": "code",
   "execution_count": null,
   "metadata": {
    "id": "FBcpe_CVR46H"
   },
   "outputs": [],
   "source": [
    "#코드 8-15\n",
    "df.info()"
   ]
  },
  {
   "cell_type": "code",
   "execution_count": 11,
   "metadata": {},
   "outputs": [
    {
     "name": "stdout",
     "output_type": "stream",
     "text": [
      "<class 'pandas.core.frame.DataFrame'>\n",
      "RangeIndex: 69548 entries, 0 to 69547\n",
      "Data columns (total 7 columns):\n",
      " #   Column    Non-Null Count  Dtype  \n",
      "---  ------    --------------  -----  \n",
      " 0   관측소       69548 non-null  object \n",
      " 1   구분        69548 non-null  object \n",
      " 2   날짜        69548 non-null  int64  \n",
      " 3   시간        69548 non-null  int64  \n",
      " 4   수온(℃)     69548 non-null  float64\n",
      " 5   수위(el.m)  69548 non-null  float64\n",
      " 6   EC(㎲/㎝)   69548 non-null  int64  \n",
      "dtypes: float64(2), int64(3), object(2)\n",
      "memory usage: 3.7+ MB\n"
     ]
    }
   ],
   "source": [
    "final_df.info()"
   ]
  },
  {
   "cell_type": "code",
   "execution_count": null,
   "metadata": {},
   "outputs": [],
   "source": []
  },
  {
   "cell_type": "code",
   "execution_count": null,
   "metadata": {
    "id": "pyjONTAuTAlX"
   },
   "outputs": [
    {
     "data": {
      "text/html": [
       "<div>\n",
       "<style scoped>\n",
       "    .dataframe tbody tr th:only-of-type {\n",
       "        vertical-align: middle;\n",
       "    }\n",
       "\n",
       "    .dataframe tbody tr th {\n",
       "        vertical-align: top;\n",
       "    }\n",
       "\n",
       "    .dataframe thead th {\n",
       "        text-align: right;\n",
       "    }\n",
       "</style>\n",
       "<table border=\"1\" class=\"dataframe\">\n",
       "  <thead>\n",
       "    <tr style=\"text-align: right;\">\n",
       "      <th></th>\n",
       "      <th>관측소</th>\n",
       "      <th>구분</th>\n",
       "      <th>날짜</th>\n",
       "      <th>시간</th>\n",
       "      <th>수온(℃)</th>\n",
       "      <th>수위(el.m)</th>\n",
       "      <th>EC(㎲/㎝)</th>\n",
       "      <th>Date</th>\n",
       "    </tr>\n",
       "    <tr>\n",
       "      <th>Date</th>\n",
       "      <th></th>\n",
       "      <th></th>\n",
       "      <th></th>\n",
       "      <th></th>\n",
       "      <th></th>\n",
       "      <th></th>\n",
       "      <th></th>\n",
       "      <th></th>\n",
       "    </tr>\n",
       "  </thead>\n",
       "  <tbody>\n",
       "    <tr>\n",
       "      <th>2009-01-01 00:00:00</th>\n",
       "      <td>대전태평</td>\n",
       "      <td>(암반)</td>\n",
       "      <td>20090101</td>\n",
       "      <td>0</td>\n",
       "      <td>16.1</td>\n",
       "      <td>44.47</td>\n",
       "      <td>749</td>\n",
       "      <td>2009-01-01 00:00:00</td>\n",
       "    </tr>\n",
       "    <tr>\n",
       "      <th>2009-01-01 01:00:00</th>\n",
       "      <td>대전태평</td>\n",
       "      <td>(암반)</td>\n",
       "      <td>20090101</td>\n",
       "      <td>1</td>\n",
       "      <td>16.1</td>\n",
       "      <td>44.47</td>\n",
       "      <td>749</td>\n",
       "      <td>2009-01-01 01:00:00</td>\n",
       "    </tr>\n",
       "    <tr>\n",
       "      <th>2009-01-01 02:00:00</th>\n",
       "      <td>대전태평</td>\n",
       "      <td>(암반)</td>\n",
       "      <td>20090101</td>\n",
       "      <td>2</td>\n",
       "      <td>16.1</td>\n",
       "      <td>44.47</td>\n",
       "      <td>749</td>\n",
       "      <td>2009-01-01 02:00:00</td>\n",
       "    </tr>\n",
       "  </tbody>\n",
       "</table>\n",
       "</div>"
      ],
      "text/plain": [
       "                      관측소    구분        날짜  시간  수온(℃)  수위(el.m)  EC(㎲/㎝)  \\\n",
       "Date                                                                      \n",
       "2009-01-01 00:00:00  대전태평  (암반)  20090101   0   16.1     44.47      749   \n",
       "2009-01-01 01:00:00  대전태평  (암반)  20090101   1   16.1     44.47      749   \n",
       "2009-01-01 02:00:00  대전태평  (암반)  20090101   2   16.1     44.47      749   \n",
       "\n",
       "                                   Date  \n",
       "Date                                     \n",
       "2009-01-01 00:00:00 2009-01-01 00:00:00  \n",
       "2009-01-01 01:00:00 2009-01-01 01:00:00  \n",
       "2009-01-01 02:00:00 2009-01-01 02:00:00  "
      ]
     },
     "execution_count": 13,
     "metadata": {},
     "output_type": "execute_result"
    }
   ],
   "source": [
    "#코드 8-16\n",
    "df['Date'] = pd.to_datetime(df['날짜'],format='%Y%m%d') +\\\n",
    "             pd.to_timedelta(df['시간'].astype(int),unit='h') # 시 단위로 해석\n",
    "\n",
    "df.set_index(df['Date'], inplace=True)\n",
    "df.head(3)"
   ]
  },
  {
   "cell_type": "code",
   "execution_count": 14,
   "metadata": {
    "id": "Vq_ZpE36TAgH"
   },
   "outputs": [
    {
     "data": {
      "text/html": [
       "<div>\n",
       "<style scoped>\n",
       "    .dataframe tbody tr th:only-of-type {\n",
       "        vertical-align: middle;\n",
       "    }\n",
       "\n",
       "    .dataframe tbody tr th {\n",
       "        vertical-align: top;\n",
       "    }\n",
       "\n",
       "    .dataframe thead th {\n",
       "        text-align: right;\n",
       "    }\n",
       "</style>\n",
       "<table border=\"1\" class=\"dataframe\">\n",
       "  <thead>\n",
       "    <tr style=\"text-align: right;\">\n",
       "      <th></th>\n",
       "      <th>temp</th>\n",
       "      <th>level</th>\n",
       "      <th>EC</th>\n",
       "    </tr>\n",
       "    <tr>\n",
       "      <th>Date</th>\n",
       "      <th></th>\n",
       "      <th></th>\n",
       "      <th></th>\n",
       "    </tr>\n",
       "  </thead>\n",
       "  <tbody>\n",
       "    <tr>\n",
       "      <th>2009-01-01 00:00:00</th>\n",
       "      <td>16.1</td>\n",
       "      <td>44.47</td>\n",
       "      <td>749</td>\n",
       "    </tr>\n",
       "    <tr>\n",
       "      <th>2009-01-01 01:00:00</th>\n",
       "      <td>16.1</td>\n",
       "      <td>44.47</td>\n",
       "      <td>749</td>\n",
       "    </tr>\n",
       "    <tr>\n",
       "      <th>2009-01-01 02:00:00</th>\n",
       "      <td>16.1</td>\n",
       "      <td>44.47</td>\n",
       "      <td>749</td>\n",
       "    </tr>\n",
       "  </tbody>\n",
       "</table>\n",
       "</div>"
      ],
      "text/plain": [
       "                     temp  level   EC\n",
       "Date                                 \n",
       "2009-01-01 00:00:00  16.1  44.47  749\n",
       "2009-01-01 01:00:00  16.1  44.47  749\n",
       "2009-01-01 02:00:00  16.1  44.47  749"
      ]
     },
     "execution_count": 14,
     "metadata": {},
     "output_type": "execute_result"
    }
   ],
   "source": [
    "#코드 8-17\n",
    "df1 = df[['수온(℃)', '수위(el.m)','EC(㎲/㎝)']]\n",
    "df1.columns = ['temp', 'level', 'EC']\n",
    "df1.head(3)"
   ]
  },
  {
   "cell_type": "code",
   "execution_count": 15,
   "metadata": {
    "id": "Xtl7GaQuwmJP"
   },
   "outputs": [
    {
     "data": {
      "text/plain": [
       "temp     0\n",
       "level    0\n",
       "EC       0\n",
       "dtype: int64"
      ]
     },
     "execution_count": 15,
     "metadata": {},
     "output_type": "execute_result"
    }
   ],
   "source": [
    "#코드 8-18\n",
    "df1.isnull().sum()"
   ]
  },
  {
   "cell_type": "code",
   "execution_count": 16,
   "metadata": {
    "id": "cfH6gVFrmoBM"
   },
   "outputs": [],
   "source": [
    "#코드 8-19\n",
    "df1.to_csv('./대전지하수.csv', encoding='cp949')"
   ]
  },
  {
   "cell_type": "markdown",
   "metadata": {
    "id": "fS4qUGqu2vuE"
   },
   "source": [
    "### **2. 이상치 확인 및 제거**"
   ]
  },
  {
   "cell_type": "code",
   "execution_count": 17,
   "metadata": {
    "id": "yiaAR6r6mvKM"
   },
   "outputs": [
    {
     "data": {
      "text/html": [
       "<div>\n",
       "<style scoped>\n",
       "    .dataframe tbody tr th:only-of-type {\n",
       "        vertical-align: middle;\n",
       "    }\n",
       "\n",
       "    .dataframe tbody tr th {\n",
       "        vertical-align: top;\n",
       "    }\n",
       "\n",
       "    .dataframe thead th {\n",
       "        text-align: right;\n",
       "    }\n",
       "</style>\n",
       "<table border=\"1\" class=\"dataframe\">\n",
       "  <thead>\n",
       "    <tr style=\"text-align: right;\">\n",
       "      <th></th>\n",
       "      <th>temp</th>\n",
       "      <th>level</th>\n",
       "      <th>EC</th>\n",
       "    </tr>\n",
       "  </thead>\n",
       "  <tbody>\n",
       "    <tr>\n",
       "      <th>count</th>\n",
       "      <td>69548.000000</td>\n",
       "      <td>69548.000000</td>\n",
       "      <td>69548.000000</td>\n",
       "    </tr>\n",
       "    <tr>\n",
       "      <th>mean</th>\n",
       "      <td>16.262491</td>\n",
       "      <td>44.295353</td>\n",
       "      <td>727.024027</td>\n",
       "    </tr>\n",
       "    <tr>\n",
       "      <th>std</th>\n",
       "      <td>0.089778</td>\n",
       "      <td>2.539464</td>\n",
       "      <td>51.544590</td>\n",
       "    </tr>\n",
       "    <tr>\n",
       "      <th>min</th>\n",
       "      <td>15.800000</td>\n",
       "      <td>11.530000</td>\n",
       "      <td>13.000000</td>\n",
       "    </tr>\n",
       "    <tr>\n",
       "      <th>25%</th>\n",
       "      <td>16.200000</td>\n",
       "      <td>44.370000</td>\n",
       "      <td>722.000000</td>\n",
       "    </tr>\n",
       "    <tr>\n",
       "      <th>50%</th>\n",
       "      <td>16.300000</td>\n",
       "      <td>44.460000</td>\n",
       "      <td>730.000000</td>\n",
       "    </tr>\n",
       "    <tr>\n",
       "      <th>75%</th>\n",
       "      <td>16.300000</td>\n",
       "      <td>44.550000</td>\n",
       "      <td>742.000000</td>\n",
       "    </tr>\n",
       "    <tr>\n",
       "      <th>max</th>\n",
       "      <td>16.500000</td>\n",
       "      <td>45.900000</td>\n",
       "      <td>778.000000</td>\n",
       "    </tr>\n",
       "  </tbody>\n",
       "</table>\n",
       "</div>"
      ],
      "text/plain": [
       "               temp         level            EC\n",
       "count  69548.000000  69548.000000  69548.000000\n",
       "mean      16.262491     44.295353    727.024027\n",
       "std        0.089778      2.539464     51.544590\n",
       "min       15.800000     11.530000     13.000000\n",
       "25%       16.200000     44.370000    722.000000\n",
       "50%       16.300000     44.460000    730.000000\n",
       "75%       16.300000     44.550000    742.000000\n",
       "max       16.500000     45.900000    778.000000"
      ]
     },
     "execution_count": 17,
     "metadata": {},
     "output_type": "execute_result"
    }
   ],
   "source": [
    "#코드 8-20\n",
    "df = pd.read_csv('./대전지하수.csv', index_col='Date', parse_dates=True, encoding='cp949')\n",
    "df.describe()"
   ]
  },
  {
   "cell_type": "code",
   "execution_count": 18,
   "metadata": {
    "id": "iMigMyL8jor_"
   },
   "outputs": [
    {
     "data": {
      "image/png": "[encoded data removed]",
      "text/plain": [
       "<Figure size 1000x600 with 4 Axes>"
      ]
     },
     "metadata": {},
     "output_type": "display_data"
    }
   ],
   "source": [
    "#코드 8-21\n",
    "df.hist(bins=50, figsize=(10,6))\n",
    "plt.show()"
   ]
  },
  {
   "cell_type": "code",
   "execution_count": 19,
   "metadata": {
    "id": "nLxCOpqOjoy_"
   },
   "outputs": [
    {
     "data": {
      "text/plain": [
       "<Axes: >"
      ]
     },
     "execution_count": 19,
     "metadata": {},
     "output_type": "execute_result"
    },
    {
     "data": {
      "image/png": "[encoded data removed]",
      "text/plain": [
       "<Figure size 640x480 with 1 Axes>"
      ]
     },
     "metadata": {},
     "output_type": "display_data"
    }
   ],
   "source": [
    "#코드 8-22\n",
    "df.boxplot()"
   ]
  },
  {
   "cell_type": "code",
   "execution_count": 20,
   "metadata": {
    "id": "M6SiJmKL6U71"
   },
   "outputs": [
    {
     "data": {
      "image/png": "[encoded data removed]",
      "text/plain": [
       "<Figure size 640x480 with 3 Axes>"
      ]
     },
     "metadata": {},
     "output_type": "display_data"
    }
   ],
   "source": [
    "#코드 8-23\n",
    "plt.subplot(1, 3, 1)\n",
    "df.boxplot(column='temp', return_type='both')\n",
    "plt.subplot(1, 3, 2)\n",
    "df.boxplot(column='level', return_type='both')\n",
    "plt.subplot(1, 3, 3)\n",
    "df.boxplot(column='EC', return_type='both')\n",
    "plt.show()"
   ]
  },
  {
   "cell_type": "code",
   "execution_count": 21,
   "metadata": {
    "id": "4tByDhRk79FF"
   },
   "outputs": [
    {
     "data": {
      "image/png": "[encoded data removed]",
      "text/plain": [
       "<Figure size 640x480 with 3 Axes>"
      ]
     },
     "metadata": {},
     "output_type": "display_data"
    }
   ],
   "source": [
    "#코드 8-24\n",
    "plt.subplot(3, 1, 1)\n",
    "df['temp'].plot()\n",
    "plt.subplot(3, 1, 2)\n",
    "df['level'].plot()\n",
    "plt.subplot(3, 1, 3)\n",
    "df['EC'].plot()\n",
    "plt.show()"
   ]
  },
  {
   "cell_type": "code",
   "execution_count": 22,
   "metadata": {
    "id": "Rh_yng9D9oEL"
   },
   "outputs": [
    {
     "name": "stdout",
     "output_type": "stream",
     "text": [
      "0.17999999999999972\n"
     ]
    }
   ],
   "source": [
    "#코드 8-25\n",
    "q3_level = df['level'].quantile(q=0.75)\n",
    "q1_level = df['level'].quantile(q=0.25)\n",
    "iqr_level = q3_level - q1_level\n",
    "print(iqr_level)"
   ]
  },
  {
   "cell_type": "code",
   "execution_count": 23,
   "metadata": {
    "id": "Wgeve72Z_qB2"
   },
   "outputs": [
    {
     "name": "stdout",
     "output_type": "stream",
     "text": [
      "44.81999999999999 / 44.099999999999994\n",
      "4492\n",
      "1273\n"
     ]
    }
   ],
   "source": [
    "#코드 8-26\n",
    "upper_level = q3_level + 1.5 * iqr_level\n",
    "lower_level = q1_level - 1.5 * iqr_level\n",
    "print(upper_level, '/', lower_level)\n",
    "print((df['level'] > upper_level).sum())\n",
    "print((df['level'] < lower_level).sum())"
   ]
  },
  {
   "cell_type": "code",
   "execution_count": 24,
   "metadata": {
    "id": "lk42ZZcYP4Fy"
   },
   "outputs": [
    {
     "data": {
      "text/plain": [
       "<Axes: xlabel='Date'>"
      ]
     },
     "execution_count": 24,
     "metadata": {},
     "output_type": "execute_result"
    },
    {
     "data": {
      "image/png": "[encoded data removed]",
      "text/plain": [
       "<Figure size 640x480 with 1 Axes>"
      ]
     },
     "metadata": {},
     "output_type": "display_data"
    }
   ],
   "source": [
    "#코드 8-27\n",
    "df_iqr_level = df[(df['level'] < upper_level) & (df['level'] > lower_level)]\n",
    "df_iqr_level['level'].plot()"
   ]
  },
  {
   "cell_type": "code",
   "execution_count": 25,
   "metadata": {
    "id": "PghFCMh3kOzd"
   },
   "outputs": [
    {
     "name": "stdout",
     "output_type": "stream",
     "text": [
      "IQR: 0.10000000000000142\n",
      "16.450000000000003 / 16.049999999999997\n",
      "227\n",
      "15\n"
     ]
    }
   ],
   "source": [
    "#코드 8-28\n",
    "#사분위수와 IQR 구하기\n",
    "q3_temp = df['temp'].quantile(q=0.75)\n",
    "q1_temp = df['temp'].quantile(q=0.25)\n",
    "iqr_temp = q3_temp-q1_temp\n",
    "print('IQR:', iqr_temp)\n",
    "#지하수온 상한값, 하한값, 이상치 개수 구하기\n",
    "upper_temp = q3_temp + iqr_temp * 1.5\n",
    "lower_temp = q1_temp - iqr_temp * 1.5\n",
    "print(upper_temp, '/', lower_temp)\n",
    "print((df['temp'] > upper_temp).sum())\n",
    "print((df['temp'] < lower_temp).sum())"
   ]
  },
  {
   "cell_type": "code",
   "execution_count": 26,
   "metadata": {
    "id": "-yQYL3cpkSyM"
   },
   "outputs": [
    {
     "name": "stdout",
     "output_type": "stream",
     "text": [
      "IQR: 20.0\n",
      "772.0 / 692.0\n",
      "831\n",
      "788\n"
     ]
    }
   ],
   "source": [
    "#코드 8-29\n",
    "#사분위수와 IQR 구하기\n",
    "q3_ec = df['EC'].quantile(q=0.75)\n",
    "q1_ec = df['EC'].quantile(q=0.25)\n",
    "iqr_ec = q3_ec - q1_ec\n",
    "print('IQR:', iqr_ec)\n",
    "#지하수온 상한값, 하한값, 이상치 개수 구하기\n",
    "upper_ec = q3_ec + iqr_ec * 1.5\n",
    "lower_ec = q1_ec - iqr_ec * 1.5\n",
    "print(upper_ec, '/', lower_ec)\n",
    "print((df['EC'] > upper_ec).sum())\n",
    "print((df['EC'] < lower_ec).sum())"
   ]
  },
  {
   "cell_type": "code",
   "execution_count": 33,
   "metadata": {},
   "outputs": [
    {
     "name": "stdout",
     "output_type": "stream",
     "text": [
      "IQR: 20.0\n"
     ]
    }
   ],
   "source": [
    "desc = df['EC'].describe()\n",
    "iqr_ec2 = desc['75%'] - desc['25%']\n",
    "print('IQR:', iqr_ec)"
   ]
  },
  {
   "cell_type": "code",
   "execution_count": null,
   "metadata": {},
   "outputs": [
    {
     "name": "stdout",
     "output_type": "stream",
     "text": [
      "IQR: 20.0\n"
     ]
    }
   ],
   "source": [
    "from scipy.stats import iqr\n",
    "\n",
    "iqr_ec3 = iqr(df['EC'])\n",
    "print('IQR:', iqr_ec)"
   ]
  },
  {
   "cell_type": "code",
   "execution_count": 35,
   "metadata": {},
   "outputs": [
    {
     "name": "stdout",
     "output_type": "stream",
     "text": [
      "692.0 772.0\n"
     ]
    }
   ],
   "source": [
    "from scipy.stats import iqr\n",
    "\n",
    "q1, q3 = df['EC'].quantile([0.25, 0.75])\n",
    "iqr_ec = iqr(df['EC'])\n",
    "\n",
    "lower_bound = q1 - 1.5 * iqr_ec\n",
    "upper_bound = q3 + 1.5 * iqr_ec\n",
    "\n",
    "print(lower_bound, upper_bound)"
   ]
  },
  {
   "cell_type": "code",
   "execution_count": 37,
   "metadata": {},
   "outputs": [
    {
     "data": {
      "text/html": [
       "<div>\n",
       "<style scoped>\n",
       "    .dataframe tbody tr th:only-of-type {\n",
       "        vertical-align: middle;\n",
       "    }\n",
       "\n",
       "    .dataframe tbody tr th {\n",
       "        vertical-align: top;\n",
       "    }\n",
       "\n",
       "    .dataframe thead th {\n",
       "        text-align: right;\n",
       "    }\n",
       "</style>\n",
       "<table border=\"1\" class=\"dataframe\">\n",
       "  <thead>\n",
       "    <tr style=\"text-align: right;\">\n",
       "      <th></th>\n",
       "      <th>temp</th>\n",
       "      <th>level</th>\n",
       "      <th>EC</th>\n",
       "    </tr>\n",
       "    <tr>\n",
       "      <th>Date</th>\n",
       "      <th></th>\n",
       "      <th></th>\n",
       "      <th></th>\n",
       "    </tr>\n",
       "  </thead>\n",
       "  <tbody>\n",
       "    <tr>\n",
       "      <th>2013-03-25 15:00:00</th>\n",
       "      <td>16.4</td>\n",
       "      <td>44.49</td>\n",
       "      <td>773</td>\n",
       "    </tr>\n",
       "    <tr>\n",
       "      <th>2013-03-25 16:00:00</th>\n",
       "      <td>16.4</td>\n",
       "      <td>44.48</td>\n",
       "      <td>773</td>\n",
       "    </tr>\n",
       "    <tr>\n",
       "      <th>2013-03-25 17:00:00</th>\n",
       "      <td>16.4</td>\n",
       "      <td>44.50</td>\n",
       "      <td>773</td>\n",
       "    </tr>\n",
       "    <tr>\n",
       "      <th>2013-03-25 18:00:00</th>\n",
       "      <td>16.4</td>\n",
       "      <td>44.49</td>\n",
       "      <td>773</td>\n",
       "    </tr>\n",
       "    <tr>\n",
       "      <th>2013-03-25 19:00:00</th>\n",
       "      <td>16.4</td>\n",
       "      <td>44.49</td>\n",
       "      <td>773</td>\n",
       "    </tr>\n",
       "    <tr>\n",
       "      <th>...</th>\n",
       "      <td>...</td>\n",
       "      <td>...</td>\n",
       "      <td>...</td>\n",
       "    </tr>\n",
       "    <tr>\n",
       "      <th>2014-08-27 12:00:00</th>\n",
       "      <td>16.2</td>\n",
       "      <td>44.96</td>\n",
       "      <td>96</td>\n",
       "    </tr>\n",
       "    <tr>\n",
       "      <th>2014-08-27 11:00:00</th>\n",
       "      <td>16.2</td>\n",
       "      <td>44.96</td>\n",
       "      <td>81</td>\n",
       "    </tr>\n",
       "    <tr>\n",
       "      <th>2014-08-27 10:00:00</th>\n",
       "      <td>16.2</td>\n",
       "      <td>44.97</td>\n",
       "      <td>76</td>\n",
       "    </tr>\n",
       "    <tr>\n",
       "      <th>2014-08-27 08:00:00</th>\n",
       "      <td>16.2</td>\n",
       "      <td>44.97</td>\n",
       "      <td>52</td>\n",
       "    </tr>\n",
       "    <tr>\n",
       "      <th>2014-08-27 09:00:00</th>\n",
       "      <td>16.2</td>\n",
       "      <td>44.97</td>\n",
       "      <td>66</td>\n",
       "    </tr>\n",
       "  </tbody>\n",
       "</table>\n",
       "<p>1619 rows × 3 columns</p>\n",
       "</div>"
      ],
      "text/plain": [
       "                     temp  level   EC\n",
       "Date                                 \n",
       "2013-03-25 15:00:00  16.4  44.49  773\n",
       "2013-03-25 16:00:00  16.4  44.48  773\n",
       "2013-03-25 17:00:00  16.4  44.50  773\n",
       "2013-03-25 18:00:00  16.4  44.49  773\n",
       "2013-03-25 19:00:00  16.4  44.49  773\n",
       "...                   ...    ...  ...\n",
       "2014-08-27 12:00:00  16.2  44.96   96\n",
       "2014-08-27 11:00:00  16.2  44.96   81\n",
       "2014-08-27 10:00:00  16.2  44.97   76\n",
       "2014-08-27 08:00:00  16.2  44.97   52\n",
       "2014-08-27 09:00:00  16.2  44.97   66\n",
       "\n",
       "[1619 rows x 3 columns]"
      ]
     },
     "execution_count": 37,
     "metadata": {},
     "output_type": "execute_result"
    }
   ],
   "source": [
    "outliers = df[(df['EC'] < lower_bound) | (df['EC'] > upper_bound)]\n",
    "outliers"
   ]
  },
  {
   "cell_type": "code",
   "execution_count": null,
   "metadata": {
    "id": "gQ60LA4YkWy_"
   },
   "outputs": [],
   "source": [
    "#코드 8-30 이상치 제거\n",
    "df_iqr = df[(df['temp'] < upper_temp) & (df['temp'] > lower_temp) &\\\n",
    "            (df['level'] < upper_level) & (df['level'] > lower_level) &\\\n",
    "             (df['EC'] < upper_ec) & (df['EC'] > lower_ec)]"
   ]
  },
  {
   "cell_type": "code",
   "execution_count": 28,
   "metadata": {
    "id": "vN_zvRnnkYsC"
   },
   "outputs": [
    {
     "data": {
      "text/html": [
       "<div>\n",
       "<style scoped>\n",
       "    .dataframe tbody tr th:only-of-type {\n",
       "        vertical-align: middle;\n",
       "    }\n",
       "\n",
       "    .dataframe tbody tr th {\n",
       "        vertical-align: top;\n",
       "    }\n",
       "\n",
       "    .dataframe thead th {\n",
       "        text-align: right;\n",
       "    }\n",
       "</style>\n",
       "<table border=\"1\" class=\"dataframe\">\n",
       "  <thead>\n",
       "    <tr style=\"text-align: right;\">\n",
       "      <th></th>\n",
       "      <th>temp</th>\n",
       "      <th>level</th>\n",
       "      <th>EC</th>\n",
       "    </tr>\n",
       "  </thead>\n",
       "  <tbody>\n",
       "    <tr>\n",
       "      <th>count</th>\n",
       "      <td>61814.000000</td>\n",
       "      <td>61814.000000</td>\n",
       "      <td>61814.000000</td>\n",
       "    </tr>\n",
       "    <tr>\n",
       "      <th>mean</th>\n",
       "      <td>16.256793</td>\n",
       "      <td>44.459701</td>\n",
       "      <td>731.698612</td>\n",
       "    </tr>\n",
       "    <tr>\n",
       "      <th>std</th>\n",
       "      <td>0.089692</td>\n",
       "      <td>0.128256</td>\n",
       "      <td>13.882905</td>\n",
       "    </tr>\n",
       "    <tr>\n",
       "      <th>min</th>\n",
       "      <td>16.100000</td>\n",
       "      <td>44.100000</td>\n",
       "      <td>693.000000</td>\n",
       "    </tr>\n",
       "    <tr>\n",
       "      <th>25%</th>\n",
       "      <td>16.200000</td>\n",
       "      <td>44.370000</td>\n",
       "      <td>722.000000</td>\n",
       "    </tr>\n",
       "    <tr>\n",
       "      <th>50%</th>\n",
       "      <td>16.300000</td>\n",
       "      <td>44.450000</td>\n",
       "      <td>730.000000</td>\n",
       "    </tr>\n",
       "    <tr>\n",
       "      <th>75%</th>\n",
       "      <td>16.300000</td>\n",
       "      <td>44.520000</td>\n",
       "      <td>742.000000</td>\n",
       "    </tr>\n",
       "    <tr>\n",
       "      <th>max</th>\n",
       "      <td>16.400000</td>\n",
       "      <td>44.810000</td>\n",
       "      <td>771.000000</td>\n",
       "    </tr>\n",
       "  </tbody>\n",
       "</table>\n",
       "</div>"
      ],
      "text/plain": [
       "               temp         level            EC\n",
       "count  61814.000000  61814.000000  61814.000000\n",
       "mean      16.256793     44.459701    731.698612\n",
       "std        0.089692      0.128256     13.882905\n",
       "min       16.100000     44.100000    693.000000\n",
       "25%       16.200000     44.370000    722.000000\n",
       "50%       16.300000     44.450000    730.000000\n",
       "75%       16.300000     44.520000    742.000000\n",
       "max       16.400000     44.810000    771.000000"
      ]
     },
     "execution_count": 28,
     "metadata": {},
     "output_type": "execute_result"
    }
   ],
   "source": [
    "#코드 8-31\n",
    "df_iqr.describe()"
   ]
  },
  {
   "cell_type": "code",
   "execution_count": 29,
   "metadata": {
    "id": "BVcL5MkYkuFr"
   },
   "outputs": [
    {
     "data": {
      "image/png": "[encoded data removed]",
      "text/plain": [
       "<Figure size 1000x600 with 4 Axes>"
      ]
     },
     "metadata": {},
     "output_type": "display_data"
    }
   ],
   "source": [
    "#코드 8-32\n",
    "df_iqr.hist(bins=50, figsize=(10,6))\n",
    "plt.show()"
   ]
  },
  {
   "cell_type": "code",
   "execution_count": 30,
   "metadata": {
    "id": "8t2fHwJckwR9"
   },
   "outputs": [
    {
     "data": {
      "image/png": "[encoded data removed]",
      "text/plain": [
       "<Figure size 640x480 with 3 Axes>"
      ]
     },
     "metadata": {},
     "output_type": "display_data"
    }
   ],
   "source": [
    "#코드 8-33\n",
    "plt.subplot(1, 3, 1)\n",
    "df_iqr.boxplot(column='temp', return_type='both')\n",
    "plt.subplot(1, 3, 2)\n",
    "df_iqr.boxplot(column='level', return_type='both')\n",
    "plt.subplot(1, 3, 3)\n",
    "df_iqr.boxplot(column='EC', return_type='both')\n",
    "plt.show()"
   ]
  },
  {
   "cell_type": "code",
   "execution_count": 31,
   "metadata": {
    "id": "WGygVd6XkyGn"
   },
   "outputs": [
    {
     "data": {
      "image/png": "[encoded data removed]",
      "text/plain": [
       "<Figure size 640x480 with 3 Axes>"
      ]
     },
     "metadata": {},
     "output_type": "display_data"
    }
   ],
   "source": [
    "#코드 8-34\n",
    "plt.subplot(3, 1, 1)\n",
    "df_iqr['temp'].plot()\n",
    "plt.subplot(3, 1, 2)\n",
    "df_iqr['level'].plot()\n",
    "plt.subplot(3, 1, 3)\n",
    "df_iqr['EC'].plot()\n",
    "plt.show()"
   ]
  },
  {
   "cell_type": "code",
   "execution_count": 32,
   "metadata": {
    "id": "FVDeTGO8k1Ep"
   },
   "outputs": [],
   "source": [
    "#코드 8-35\n",
    "df_iqr.to_csv('대전지하수_정제.csv', encoding='cp949')"
   ]
  },
  {
   "cell_type": "markdown",
   "metadata": {
    "id": "IIwu-WjMnX8y"
   },
   "source": [
    "### **3. 표준화와 정규화**"
   ]
  },
  {
   "cell_type": "code",
   "execution_count": 38,
   "metadata": {
    "id": "druRtDZok2Iw"
   },
   "outputs": [
    {
     "data": {
      "text/html": [
       "<div>\n",
       "<style scoped>\n",
       "    .dataframe tbody tr th:only-of-type {\n",
       "        vertical-align: middle;\n",
       "    }\n",
       "\n",
       "    .dataframe tbody tr th {\n",
       "        vertical-align: top;\n",
       "    }\n",
       "\n",
       "    .dataframe thead th {\n",
       "        text-align: right;\n",
       "    }\n",
       "</style>\n",
       "<table border=\"1\" class=\"dataframe\">\n",
       "  <thead>\n",
       "    <tr style=\"text-align: right;\">\n",
       "      <th></th>\n",
       "      <th>Date</th>\n",
       "      <th>temp</th>\n",
       "      <th>level</th>\n",
       "      <th>EC</th>\n",
       "    </tr>\n",
       "  </thead>\n",
       "  <tbody>\n",
       "    <tr>\n",
       "      <th>0</th>\n",
       "      <td>2009-01-01 00:00:00</td>\n",
       "      <td>16.1</td>\n",
       "      <td>44.47</td>\n",
       "      <td>749</td>\n",
       "    </tr>\n",
       "    <tr>\n",
       "      <th>1</th>\n",
       "      <td>2009-01-01 01:00:00</td>\n",
       "      <td>16.1</td>\n",
       "      <td>44.47</td>\n",
       "      <td>749</td>\n",
       "    </tr>\n",
       "    <tr>\n",
       "      <th>2</th>\n",
       "      <td>2009-01-01 02:00:00</td>\n",
       "      <td>16.1</td>\n",
       "      <td>44.47</td>\n",
       "      <td>749</td>\n",
       "    </tr>\n",
       "    <tr>\n",
       "      <th>3</th>\n",
       "      <td>2009-01-01 03:00:00</td>\n",
       "      <td>16.1</td>\n",
       "      <td>44.47</td>\n",
       "      <td>749</td>\n",
       "    </tr>\n",
       "    <tr>\n",
       "      <th>4</th>\n",
       "      <td>2009-01-01 04:00:00</td>\n",
       "      <td>16.1</td>\n",
       "      <td>44.47</td>\n",
       "      <td>749</td>\n",
       "    </tr>\n",
       "  </tbody>\n",
       "</table>\n",
       "</div>"
      ],
      "text/plain": [
       "                  Date  temp  level   EC\n",
       "0  2009-01-01 00:00:00  16.1  44.47  749\n",
       "1  2009-01-01 01:00:00  16.1  44.47  749\n",
       "2  2009-01-01 02:00:00  16.1  44.47  749\n",
       "3  2009-01-01 03:00:00  16.1  44.47  749\n",
       "4  2009-01-01 04:00:00  16.1  44.47  749"
      ]
     },
     "execution_count": 38,
     "metadata": {},
     "output_type": "execute_result"
    }
   ],
   "source": [
    "#코드 8-36\n",
    "import pandas as pd\n",
    "import numpy as np\n",
    "import matplotlib.pyplot as plt\n",
    "\n",
    "df = pd.read_csv('./대전지하수_정제.csv')\n",
    "df.head()"
   ]
  },
  {
   "cell_type": "code",
   "execution_count": 39,
   "metadata": {
    "id": "fMBFhjVKk3P-"
   },
   "outputs": [
    {
     "data": {
      "text/html": [
       "<div>\n",
       "<style scoped>\n",
       "    .dataframe tbody tr th:only-of-type {\n",
       "        vertical-align: middle;\n",
       "    }\n",
       "\n",
       "    .dataframe tbody tr th {\n",
       "        vertical-align: top;\n",
       "    }\n",
       "\n",
       "    .dataframe thead th {\n",
       "        text-align: right;\n",
       "    }\n",
       "</style>\n",
       "<table border=\"1\" class=\"dataframe\">\n",
       "  <thead>\n",
       "    <tr style=\"text-align: right;\">\n",
       "      <th></th>\n",
       "      <th>level</th>\n",
       "      <th>EC</th>\n",
       "    </tr>\n",
       "  </thead>\n",
       "  <tbody>\n",
       "    <tr>\n",
       "      <th>count</th>\n",
       "      <td>61814.000000</td>\n",
       "      <td>61814.000000</td>\n",
       "    </tr>\n",
       "    <tr>\n",
       "      <th>mean</th>\n",
       "      <td>44.459701</td>\n",
       "      <td>731.698612</td>\n",
       "    </tr>\n",
       "    <tr>\n",
       "      <th>std</th>\n",
       "      <td>0.128256</td>\n",
       "      <td>13.882905</td>\n",
       "    </tr>\n",
       "    <tr>\n",
       "      <th>min</th>\n",
       "      <td>44.100000</td>\n",
       "      <td>693.000000</td>\n",
       "    </tr>\n",
       "    <tr>\n",
       "      <th>25%</th>\n",
       "      <td>44.370000</td>\n",
       "      <td>722.000000</td>\n",
       "    </tr>\n",
       "    <tr>\n",
       "      <th>50%</th>\n",
       "      <td>44.450000</td>\n",
       "      <td>730.000000</td>\n",
       "    </tr>\n",
       "    <tr>\n",
       "      <th>75%</th>\n",
       "      <td>44.520000</td>\n",
       "      <td>742.000000</td>\n",
       "    </tr>\n",
       "    <tr>\n",
       "      <th>max</th>\n",
       "      <td>44.810000</td>\n",
       "      <td>771.000000</td>\n",
       "    </tr>\n",
       "  </tbody>\n",
       "</table>\n",
       "</div>"
      ],
      "text/plain": [
       "              level            EC\n",
       "count  61814.000000  61814.000000\n",
       "mean      44.459701    731.698612\n",
       "std        0.128256     13.882905\n",
       "min       44.100000    693.000000\n",
       "25%       44.370000    722.000000\n",
       "50%       44.450000    730.000000\n",
       "75%       44.520000    742.000000\n",
       "max       44.810000    771.000000"
      ]
     },
     "execution_count": 39,
     "metadata": {},
     "output_type": "execute_result"
    }
   ],
   "source": [
    "#코드 8-37\n",
    "df = df[['level', 'EC']]\n",
    "df.describe()"
   ]
  },
  {
   "cell_type": "code",
   "execution_count": 40,
   "metadata": {
    "id": "1O4I-MYnk5RB"
   },
   "outputs": [
    {
     "data": {
      "image/png": "[encoded data removed]",
      "text/plain": [
       "<Figure size 640x480 with 2 Axes>"
      ]
     },
     "metadata": {},
     "output_type": "display_data"
    }
   ],
   "source": [
    "#코드 8-38\n",
    "df.hist()\n",
    "plt.show()"
   ]
  },
  {
   "cell_type": "code",
   "execution_count": 41,
   "metadata": {
    "id": "PmcqFGO8k77H"
   },
   "outputs": [
    {
     "data": {
      "text/html": [
       "<div>\n",
       "<style scoped>\n",
       "    .dataframe tbody tr th:only-of-type {\n",
       "        vertical-align: middle;\n",
       "    }\n",
       "\n",
       "    .dataframe tbody tr th {\n",
       "        vertical-align: top;\n",
       "    }\n",
       "\n",
       "    .dataframe thead th {\n",
       "        text-align: right;\n",
       "    }\n",
       "</style>\n",
       "<table border=\"1\" class=\"dataframe\">\n",
       "  <thead>\n",
       "    <tr style=\"text-align: right;\">\n",
       "      <th></th>\n",
       "      <th>level</th>\n",
       "      <th>EC</th>\n",
       "    </tr>\n",
       "  </thead>\n",
       "  <tbody>\n",
       "    <tr>\n",
       "      <th>0</th>\n",
       "      <td>44.47</td>\n",
       "      <td>749</td>\n",
       "    </tr>\n",
       "    <tr>\n",
       "      <th>1</th>\n",
       "      <td>44.47</td>\n",
       "      <td>749</td>\n",
       "    </tr>\n",
       "    <tr>\n",
       "      <th>2</th>\n",
       "      <td>44.47</td>\n",
       "      <td>749</td>\n",
       "    </tr>\n",
       "  </tbody>\n",
       "</table>\n",
       "</div>"
      ],
      "text/plain": [
       "   level   EC\n",
       "0  44.47  749\n",
       "1  44.47  749\n",
       "2  44.47  749"
      ]
     },
     "execution_count": 41,
     "metadata": {},
     "output_type": "execute_result"
    }
   ],
   "source": [
    "#코드 8-39\n",
    "df1 = df.copy()\n",
    "df1.head(3)"
   ]
  },
  {
   "cell_type": "code",
   "execution_count": 42,
   "metadata": {
    "id": "pHQ_V_Sjk8_c"
   },
   "outputs": [
    {
     "data": {
      "text/html": [
       "<div>\n",
       "<style scoped>\n",
       "    .dataframe tbody tr th:only-of-type {\n",
       "        vertical-align: middle;\n",
       "    }\n",
       "\n",
       "    .dataframe tbody tr th {\n",
       "        vertical-align: top;\n",
       "    }\n",
       "\n",
       "    .dataframe thead th {\n",
       "        text-align: right;\n",
       "    }\n",
       "</style>\n",
       "<table border=\"1\" class=\"dataframe\">\n",
       "  <thead>\n",
       "    <tr style=\"text-align: right;\">\n",
       "      <th></th>\n",
       "      <th>level</th>\n",
       "      <th>EC</th>\n",
       "      <th>level_z_score</th>\n",
       "      <th>EC_z_score</th>\n",
       "    </tr>\n",
       "  </thead>\n",
       "  <tbody>\n",
       "    <tr>\n",
       "      <th>0</th>\n",
       "      <td>44.47</td>\n",
       "      <td>749</td>\n",
       "      <td>0.0803</td>\n",
       "      <td>1.246237</td>\n",
       "    </tr>\n",
       "    <tr>\n",
       "      <th>1</th>\n",
       "      <td>44.47</td>\n",
       "      <td>749</td>\n",
       "      <td>0.0803</td>\n",
       "      <td>1.246237</td>\n",
       "    </tr>\n",
       "    <tr>\n",
       "      <th>2</th>\n",
       "      <td>44.47</td>\n",
       "      <td>749</td>\n",
       "      <td>0.0803</td>\n",
       "      <td>1.246237</td>\n",
       "    </tr>\n",
       "  </tbody>\n",
       "</table>\n",
       "</div>"
      ],
      "text/plain": [
       "   level   EC  level_z_score  EC_z_score\n",
       "0  44.47  749         0.0803    1.246237\n",
       "1  44.47  749         0.0803    1.246237\n",
       "2  44.47  749         0.0803    1.246237"
      ]
     },
     "execution_count": 42,
     "metadata": {},
     "output_type": "execute_result"
    }
   ],
   "source": [
    "#코드 8-40\n",
    "df1['level_z_score'] = (df1['level'] - df1['level'].mean()) / df1['level'].std()\n",
    "df1['EC_z_score'] = (df1['EC'] - df1['EC'].mean()) / df1['EC'].std()\n",
    "df1.head(3)"
   ]
  },
  {
   "cell_type": "code",
   "execution_count": 43,
   "metadata": {
    "id": "0TVljqfYlA9z"
   },
   "outputs": [
    {
     "data": {
      "text/html": [
       "<div>\n",
       "<style scoped>\n",
       "    .dataframe tbody tr th:only-of-type {\n",
       "        vertical-align: middle;\n",
       "    }\n",
       "\n",
       "    .dataframe tbody tr th {\n",
       "        vertical-align: top;\n",
       "    }\n",
       "\n",
       "    .dataframe thead th {\n",
       "        text-align: right;\n",
       "    }\n",
       "</style>\n",
       "<table border=\"1\" class=\"dataframe\">\n",
       "  <thead>\n",
       "    <tr style=\"text-align: right;\">\n",
       "      <th></th>\n",
       "      <th>level</th>\n",
       "      <th>EC</th>\n",
       "      <th>level_z_score</th>\n",
       "      <th>EC_z_score</th>\n",
       "    </tr>\n",
       "  </thead>\n",
       "  <tbody>\n",
       "    <tr>\n",
       "      <th>count</th>\n",
       "      <td>61814.000000</td>\n",
       "      <td>61814.000000</td>\n",
       "      <td>6.181400e+04</td>\n",
       "      <td>6.181400e+04</td>\n",
       "    </tr>\n",
       "    <tr>\n",
       "      <th>mean</th>\n",
       "      <td>44.459701</td>\n",
       "      <td>731.698612</td>\n",
       "      <td>6.867116e-14</td>\n",
       "      <td>-2.052521e-15</td>\n",
       "    </tr>\n",
       "    <tr>\n",
       "      <th>std</th>\n",
       "      <td>0.128256</td>\n",
       "      <td>13.882905</td>\n",
       "      <td>1.000000e+00</td>\n",
       "      <td>1.000000e+00</td>\n",
       "    </tr>\n",
       "    <tr>\n",
       "      <th>min</th>\n",
       "      <td>44.100000</td>\n",
       "      <td>693.000000</td>\n",
       "      <td>-2.804553e+00</td>\n",
       "      <td>-2.787501e+00</td>\n",
       "    </tr>\n",
       "    <tr>\n",
       "      <th>25%</th>\n",
       "      <td>44.370000</td>\n",
       "      <td>722.000000</td>\n",
       "      <td>-6.993901e-01</td>\n",
       "      <td>-6.986011e-01</td>\n",
       "    </tr>\n",
       "    <tr>\n",
       "      <th>50%</th>\n",
       "      <td>44.450000</td>\n",
       "      <td>730.000000</td>\n",
       "      <td>-7.563803e-02</td>\n",
       "      <td>-1.223528e-01</td>\n",
       "    </tr>\n",
       "    <tr>\n",
       "      <th>75%</th>\n",
       "      <td>44.520000</td>\n",
       "      <td>742.000000</td>\n",
       "      <td>4.701450e-01</td>\n",
       "      <td>7.420196e-01</td>\n",
       "    </tr>\n",
       "    <tr>\n",
       "      <th>max</th>\n",
       "      <td>44.810000</td>\n",
       "      <td>771.000000</td>\n",
       "      <td>2.731246e+00</td>\n",
       "      <td>2.830920e+00</td>\n",
       "    </tr>\n",
       "  </tbody>\n",
       "</table>\n",
       "</div>"
      ],
      "text/plain": [
       "              level            EC  level_z_score    EC_z_score\n",
       "count  61814.000000  61814.000000   6.181400e+04  6.181400e+04\n",
       "mean      44.459701    731.698612   6.867116e-14 -2.052521e-15\n",
       "std        0.128256     13.882905   1.000000e+00  1.000000e+00\n",
       "min       44.100000    693.000000  -2.804553e+00 -2.787501e+00\n",
       "25%       44.370000    722.000000  -6.993901e-01 -6.986011e-01\n",
       "50%       44.450000    730.000000  -7.563803e-02 -1.223528e-01\n",
       "75%       44.520000    742.000000   4.701450e-01  7.420196e-01\n",
       "max       44.810000    771.000000   2.731246e+00  2.830920e+00"
      ]
     },
     "execution_count": 43,
     "metadata": {},
     "output_type": "execute_result"
    }
   ],
   "source": [
    "#코드 8-41\n",
    "df1.describe()"
   ]
  },
  {
   "cell_type": "code",
   "execution_count": 44,
   "metadata": {
    "id": "jd0CM7LnlA4X"
   },
   "outputs": [
    {
     "data": {
      "image/png": "[encoded data removed]",
      "text/plain": [
       "<Figure size 800x500 with 4 Axes>"
      ]
     },
     "metadata": {},
     "output_type": "display_data"
    }
   ],
   "source": [
    "#코드 8-42\n",
    "df1.hist(figsize=(8,5))\n",
    "plt.show()"
   ]
  },
  {
   "cell_type": "code",
   "execution_count": 45,
   "metadata": {
    "id": "mzdO2ayVlAzf"
   },
   "outputs": [
    {
     "data": {
      "text/html": [
       "<div>\n",
       "<style scoped>\n",
       "    .dataframe tbody tr th:only-of-type {\n",
       "        vertical-align: middle;\n",
       "    }\n",
       "\n",
       "    .dataframe tbody tr th {\n",
       "        vertical-align: top;\n",
       "    }\n",
       "\n",
       "    .dataframe thead th {\n",
       "        text-align: right;\n",
       "    }\n",
       "</style>\n",
       "<table border=\"1\" class=\"dataframe\">\n",
       "  <thead>\n",
       "    <tr style=\"text-align: right;\">\n",
       "      <th></th>\n",
       "      <th>level</th>\n",
       "      <th>EC</th>\n",
       "    </tr>\n",
       "  </thead>\n",
       "  <tbody>\n",
       "    <tr>\n",
       "      <th>0</th>\n",
       "      <td>0.0803</td>\n",
       "      <td>1.246237</td>\n",
       "    </tr>\n",
       "    <tr>\n",
       "      <th>1</th>\n",
       "      <td>0.0803</td>\n",
       "      <td>1.246237</td>\n",
       "    </tr>\n",
       "    <tr>\n",
       "      <th>2</th>\n",
       "      <td>0.0803</td>\n",
       "      <td>1.246237</td>\n",
       "    </tr>\n",
       "  </tbody>\n",
       "</table>\n",
       "</div>"
      ],
      "text/plain": [
       "    level        EC\n",
       "0  0.0803  1.246237\n",
       "1  0.0803  1.246237\n",
       "2  0.0803  1.246237"
      ]
     },
     "execution_count": 45,
     "metadata": {},
     "output_type": "execute_result"
    }
   ],
   "source": [
    "#코드 8-43\n",
    "df2 = df.copy()\n",
    "df2_standard = (df2-df2.mean()) / df2.std()\n",
    "df2_standard.head(3)"
   ]
  },
  {
   "cell_type": "code",
   "execution_count": null,
   "metadata": {},
   "outputs": [
    {
     "data": {
      "text/html": [
       "<div>\n",
       "<style scoped>\n",
       "    .dataframe tbody tr th:only-of-type {\n",
       "        vertical-align: middle;\n",
       "    }\n",
       "\n",
       "    .dataframe tbody tr th {\n",
       "        vertical-align: top;\n",
       "    }\n",
       "\n",
       "    .dataframe thead th {\n",
       "        text-align: right;\n",
       "    }\n",
       "</style>\n",
       "<table border=\"1\" class=\"dataframe\">\n",
       "  <thead>\n",
       "    <tr style=\"text-align: right;\">\n",
       "      <th></th>\n",
       "      <th>level</th>\n",
       "      <th>EC</th>\n",
       "    </tr>\n",
       "  </thead>\n",
       "  <tbody>\n",
       "    <tr>\n",
       "      <th>0</th>\n",
       "      <td>0.080301</td>\n",
       "      <td>1.246247</td>\n",
       "    </tr>\n",
       "    <tr>\n",
       "      <th>1</th>\n",
       "      <td>0.080301</td>\n",
       "      <td>1.246247</td>\n",
       "    </tr>\n",
       "    <tr>\n",
       "      <th>2</th>\n",
       "      <td>0.080301</td>\n",
       "      <td>1.246247</td>\n",
       "    </tr>\n",
       "  </tbody>\n",
       "</table>\n",
       "</div>"
      ],
      "text/plain": [
       "      level        EC\n",
       "0  0.080301  1.246247\n",
       "1  0.080301  1.246247\n",
       "2  0.080301  1.246247"
      ]
     },
     "execution_count": 52,
     "metadata": {},
     "output_type": "execute_result"
    }
   ],
   "source": [
    "# standardScaler 사용해서 표준화화\n",
    "from sklearn.preprocessing import StandardScaler\n",
    "\n",
    "scaler = StandardScaler()\n",
    "df2_standard = pd.DataFrame(\n",
    "    scaler.fit_transform(df2),   # df2를 표준화\n",
    "    columns=df2.columns          # 컬럼 이름 유지\n",
    ")\n",
    "df2_standard.head(3)"
   ]
  },
  {
   "cell_type": "code",
   "execution_count": 46,
   "metadata": {
    "id": "NAIH4QpxlFce"
   },
   "outputs": [
    {
     "data": {
      "text/html": [
       "<div>\n",
       "<style scoped>\n",
       "    .dataframe tbody tr th:only-of-type {\n",
       "        vertical-align: middle;\n",
       "    }\n",
       "\n",
       "    .dataframe tbody tr th {\n",
       "        vertical-align: top;\n",
       "    }\n",
       "\n",
       "    .dataframe thead th {\n",
       "        text-align: right;\n",
       "    }\n",
       "</style>\n",
       "<table border=\"1\" class=\"dataframe\">\n",
       "  <thead>\n",
       "    <tr style=\"text-align: right;\">\n",
       "      <th></th>\n",
       "      <th>level</th>\n",
       "      <th>EC</th>\n",
       "      <th>level_minmax</th>\n",
       "      <th>EC_minmax</th>\n",
       "    </tr>\n",
       "  </thead>\n",
       "  <tbody>\n",
       "    <tr>\n",
       "      <th>0</th>\n",
       "      <td>44.47</td>\n",
       "      <td>749</td>\n",
       "      <td>0.521127</td>\n",
       "      <td>0.717949</td>\n",
       "    </tr>\n",
       "    <tr>\n",
       "      <th>1</th>\n",
       "      <td>44.47</td>\n",
       "      <td>749</td>\n",
       "      <td>0.521127</td>\n",
       "      <td>0.717949</td>\n",
       "    </tr>\n",
       "    <tr>\n",
       "      <th>2</th>\n",
       "      <td>44.47</td>\n",
       "      <td>749</td>\n",
       "      <td>0.521127</td>\n",
       "      <td>0.717949</td>\n",
       "    </tr>\n",
       "  </tbody>\n",
       "</table>\n",
       "</div>"
      ],
      "text/plain": [
       "   level   EC  level_minmax  EC_minmax\n",
       "0  44.47  749      0.521127   0.717949\n",
       "1  44.47  749      0.521127   0.717949\n",
       "2  44.47  749      0.521127   0.717949"
      ]
     },
     "execution_count": 46,
     "metadata": {},
     "output_type": "execute_result"
    }
   ],
   "source": [
    "#코드 8-44\n",
    "df3 = df.copy()\n",
    "\n",
    "df3['level_minmax'] = (df3['level']-df3['level'].min()) / (df3['level'].max()\\\n",
    "                                                           -df3['level'].min())\n",
    "df3['EC_minmax'] = (df3['EC'] - df3['EC'].min()) / (df3['EC'].max() - df3['EC'].min())\n",
    "df3.head(3)"
   ]
  },
  {
   "cell_type": "code",
   "execution_count": null,
   "metadata": {},
   "outputs": [
    {
     "data": {
      "text/html": [
       "<div>\n",
       "<style scoped>\n",
       "    .dataframe tbody tr th:only-of-type {\n",
       "        vertical-align: middle;\n",
       "    }\n",
       "\n",
       "    .dataframe tbody tr th {\n",
       "        vertical-align: top;\n",
       "    }\n",
       "\n",
       "    .dataframe thead th {\n",
       "        text-align: right;\n",
       "    }\n",
       "</style>\n",
       "<table border=\"1\" class=\"dataframe\">\n",
       "  <thead>\n",
       "    <tr style=\"text-align: right;\">\n",
       "      <th></th>\n",
       "      <th>level</th>\n",
       "      <th>EC</th>\n",
       "      <th>level_minmax</th>\n",
       "      <th>EC_minmax</th>\n",
       "    </tr>\n",
       "  </thead>\n",
       "  <tbody>\n",
       "    <tr>\n",
       "      <th>0</th>\n",
       "      <td>44.47</td>\n",
       "      <td>749</td>\n",
       "      <td>0.521127</td>\n",
       "      <td>0.717949</td>\n",
       "    </tr>\n",
       "    <tr>\n",
       "      <th>1</th>\n",
       "      <td>44.47</td>\n",
       "      <td>749</td>\n",
       "      <td>0.521127</td>\n",
       "      <td>0.717949</td>\n",
       "    </tr>\n",
       "    <tr>\n",
       "      <th>2</th>\n",
       "      <td>44.47</td>\n",
       "      <td>749</td>\n",
       "      <td>0.521127</td>\n",
       "      <td>0.717949</td>\n",
       "    </tr>\n",
       "  </tbody>\n",
       "</table>\n",
       "</div>"
      ],
      "text/plain": [
       "   level   EC  level_minmax  EC_minmax\n",
       "0  44.47  749      0.521127   0.717949\n",
       "1  44.47  749      0.521127   0.717949\n",
       "2  44.47  749      0.521127   0.717949"
      ]
     },
     "execution_count": 53,
     "metadata": {},
     "output_type": "execute_result"
    }
   ],
   "source": [
    "# MinMaxScaler 사용해서 정규화\n",
    "from sklearn.preprocessing import MinMaxScaler\n",
    "\n",
    "df4 = df.copy()\n",
    "\n",
    "scaler = MinMaxScaler()\n",
    "\n",
    "df4[['level_minmax', 'EC_minmax']] = scaler.fit_transform(df3[['level', 'EC']])\n",
    "\n",
    "df4.head(3)"
   ]
  },
  {
   "cell_type": "code",
   "execution_count": 47,
   "metadata": {
    "id": "0pTOcoPwlHfJ"
   },
   "outputs": [
    {
     "data": {
      "text/html": [
       "<div>\n",
       "<style scoped>\n",
       "    .dataframe tbody tr th:only-of-type {\n",
       "        vertical-align: middle;\n",
       "    }\n",
       "\n",
       "    .dataframe tbody tr th {\n",
       "        vertical-align: top;\n",
       "    }\n",
       "\n",
       "    .dataframe thead th {\n",
       "        text-align: right;\n",
       "    }\n",
       "</style>\n",
       "<table border=\"1\" class=\"dataframe\">\n",
       "  <thead>\n",
       "    <tr style=\"text-align: right;\">\n",
       "      <th></th>\n",
       "      <th>level</th>\n",
       "      <th>EC</th>\n",
       "      <th>level_minmax</th>\n",
       "      <th>EC_minmax</th>\n",
       "    </tr>\n",
       "  </thead>\n",
       "  <tbody>\n",
       "    <tr>\n",
       "      <th>count</th>\n",
       "      <td>61814.000000</td>\n",
       "      <td>61814.000000</td>\n",
       "      <td>61814.000000</td>\n",
       "      <td>61814.000000</td>\n",
       "    </tr>\n",
       "    <tr>\n",
       "      <th>mean</th>\n",
       "      <td>44.459701</td>\n",
       "      <td>731.698612</td>\n",
       "      <td>0.506621</td>\n",
       "      <td>0.496136</td>\n",
       "    </tr>\n",
       "    <tr>\n",
       "      <th>std</th>\n",
       "      <td>0.128256</td>\n",
       "      <td>13.882905</td>\n",
       "      <td>0.180642</td>\n",
       "      <td>0.177986</td>\n",
       "    </tr>\n",
       "    <tr>\n",
       "      <th>min</th>\n",
       "      <td>44.100000</td>\n",
       "      <td>693.000000</td>\n",
       "      <td>0.000000</td>\n",
       "      <td>0.000000</td>\n",
       "    </tr>\n",
       "    <tr>\n",
       "      <th>25%</th>\n",
       "      <td>44.370000</td>\n",
       "      <td>722.000000</td>\n",
       "      <td>0.380282</td>\n",
       "      <td>0.371795</td>\n",
       "    </tr>\n",
       "    <tr>\n",
       "      <th>50%</th>\n",
       "      <td>44.450000</td>\n",
       "      <td>730.000000</td>\n",
       "      <td>0.492958</td>\n",
       "      <td>0.474359</td>\n",
       "    </tr>\n",
       "    <tr>\n",
       "      <th>75%</th>\n",
       "      <td>44.520000</td>\n",
       "      <td>742.000000</td>\n",
       "      <td>0.591549</td>\n",
       "      <td>0.628205</td>\n",
       "    </tr>\n",
       "    <tr>\n",
       "      <th>max</th>\n",
       "      <td>44.810000</td>\n",
       "      <td>771.000000</td>\n",
       "      <td>1.000000</td>\n",
       "      <td>1.000000</td>\n",
       "    </tr>\n",
       "  </tbody>\n",
       "</table>\n",
       "</div>"
      ],
      "text/plain": [
       "              level            EC  level_minmax     EC_minmax\n",
       "count  61814.000000  61814.000000  61814.000000  61814.000000\n",
       "mean      44.459701    731.698612      0.506621      0.496136\n",
       "std        0.128256     13.882905      0.180642      0.177986\n",
       "min       44.100000    693.000000      0.000000      0.000000\n",
       "25%       44.370000    722.000000      0.380282      0.371795\n",
       "50%       44.450000    730.000000      0.492958      0.474359\n",
       "75%       44.520000    742.000000      0.591549      0.628205\n",
       "max       44.810000    771.000000      1.000000      1.000000"
      ]
     },
     "execution_count": 47,
     "metadata": {},
     "output_type": "execute_result"
    }
   ],
   "source": [
    "#코드 8-45\n",
    "df3.describe()"
   ]
  },
  {
   "cell_type": "code",
   "execution_count": 48,
   "metadata": {
    "id": "Z04E1t4clKx7"
   },
   "outputs": [
    {
     "data": {
      "image/png": "[encoded data removed]",
      "text/plain": [
       "<Figure size 800x600 with 4 Axes>"
      ]
     },
     "metadata": {},
     "output_type": "display_data"
    }
   ],
   "source": [
    "#코드 8-46\n",
    "df3.hist(figsize=(8,6))\n",
    "plt.show()"
   ]
  }
 ],
 "metadata": {
  "colab": {
   "authorship_tag": "ABX9TyOXq1W6pA/IzAWlhtjXg9t/",
   "provenance": []
  },
  "kernelspec": {
   "display_name": "py312tf2",
   "language": "python",
   "name": "python3"
  },
  "language_info": {
   "codemirror_mode": {
    "name": "ipython",
    "version": 3
   },
   "file_extension": ".py",
   "mimetype": "text/x-python",
   "name": "python",
   "nbconvert_exporter": "python",
   "pygments_lexer": "ipython3",
   "version": "3.12.9"
  }
 },
 "nbformat": 4,
 "nbformat_minor": 0
}
