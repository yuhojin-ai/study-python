{
 "cells": [
  {
   "cell_type": "markdown",
   "metadata": {
    "id": "H0eIznw_5Oqy"
   },
   "source": [
    "### **1. 로지스틱 회귀모형**"
   ]
  },
  {
   "cell_type": "markdown",
   "metadata": {
    "id": "PB3nVEWQ5ckR"
   },
   "source": [
    "### **2. 로지스틱 회귀분석의 해석**"
   ]
  },
  {
   "cell_type": "code",
   "execution_count": null,
   "metadata": {
    "id": "mqzE_olMlX8i"
   },
   "outputs": [
    {
     "name": "stdout",
     "output_type": "stream",
     "text": [
      "Optimization terminated successfully.\n",
      "         Current function value: 0.430873\n",
      "         Iterations 7\n",
      "                           Logit Regression Results                           \n",
      "==============================================================================\n",
      "Dep. Variable:                  sales   No. Observations:                   17\n",
      "Model:                          Logit   Df Residuals:                       15\n",
      "Method:                           MLE   Df Model:                            1\n",
      "Date:                Sun, 27 Apr 2025   Pseudo R-squ.:                  0.3768\n",
      "Time:                        17:18:12   Log-Likelihood:                -7.3248\n",
      "converged:                       True   LL-Null:                       -11.754\n",
      "Covariance Type:            nonrobust   LLR p-value:                  0.002917\n",
      "==============================================================================\n",
      "                 coef    std err          z      P>|z|      [0.025      0.975]\n",
      "------------------------------------------------------------------------------\n",
      "Intercept      6.5752      3.300      1.993      0.046       0.108      13.042\n",
      "price         -0.0016      0.001     -2.008      0.045      -0.003   -3.75e-05\n",
      "==============================================================================\n",
      "OR\n",
      "Intercept    717.058841\n",
      "price          0.998433\n",
      "dtype: float64\n"
     ]
    }
   ],
   "source": [
    "#코드 10-4\n",
    "import statsmodels.api as sm\n",
    "import pandas as pd\n",
    "import numpy as np\n",
    "\n",
    "sales = [1, 1, 1, 1, 1, 1, 1, 1, 1, 0, 0, 0, 0, 0, 0, 0, 0]\n",
    "price = [1500, 2000, 5000, 3000, 3500, 2500, 4000, 4500, 3000,\\\n",
    "         4500, 4000, 4500, 5500, 6500, 5000, 3500, 7000]\n",
    "data = {'sales': sales, 'price': price}\n",
    "df = pd.DataFrame(data)\n",
    "\n",
    "logis = sm.Logit.from_formula('sales ~ price', data=df).fit()\n",
    "print(logis.summary())\n",
    "print('OR')\n",
    "print(np.exp(logis.params)) # 로그 오즈값이라서 지수를 취해서 값을 구한다."
   ]
  }
 ],
 "metadata": {
  "colab": {
   "authorship_tag": "ABX9TyNOUe5Q25RA0COc2A3QGam7",
   "provenance": []
  },
  "kernelspec": {
   "display_name": "py312tf2",
   "language": "python",
   "name": "python3"
  },
  "language_info": {
   "codemirror_mode": {
    "name": "ipython",
    "version": 3
   },
   "file_extension": ".py",
   "mimetype": "text/x-python",
   "name": "python",
   "nbconvert_exporter": "python",
   "pygments_lexer": "ipython3",
   "version": "3.12.9"
  }
 },
 "nbformat": 4,
 "nbformat_minor": 0
}
