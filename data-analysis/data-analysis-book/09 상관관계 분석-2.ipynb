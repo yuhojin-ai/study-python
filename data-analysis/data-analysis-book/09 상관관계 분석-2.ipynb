{
 "cells": [
  {
   "cell_type": "markdown",
   "metadata": {
    "id": "gjVtxVZpKCgQ"
   },
   "source": [
    "### **1. 기준금리와 부동산 매매가격**"
   ]
  },
  {
   "cell_type": "code",
   "execution_count": 1,
   "metadata": {
    "id": "aUKgP5sCgtGg"
   },
   "outputs": [
    {
     "data": {
      "image/png": "[encoded data removed]",
      "text/plain": [
       "<Figure size 640x480 with 1 Axes>"
      ]
     },
     "metadata": {},
     "output_type": "display_data"
    }
   ],
   "source": [
    "#코드 9-7\n",
    "import pandas as pd\n",
    "import matplotlib.pyplot as plt\n",
    "\n",
    "realEstate = [83, 83, 83.5, 83.8, 83.9, 83.7, 84.3, 84.6, 85.2, 85.7, 85.7, 85.7, 86.3\n",
    "               , 86.8, 87.4, 87.4, 87.4, 87.4, 87.6, 88.2, 88.8, 89.4, 89.7, 89.9, 90.5\n",
    "               , 91.1, 92, 92.7, 93.3, 93.8, 94.7, 95.4, 96, 96.4, 96.4, 95.8, 95.7\n",
    "               , 95.8, 95.7, 95.7, 95.7, 96, 96.6, 97.2, 98.1, 98.8, 98.9, 98.6, 98.3\n",
    "               , 98.5, 98.7, 98.6, 98.9, 99.4, 100.1, 100.2, 100.3, 100.3, 100, 99.6\n",
    "               , 99.8, 100.1, 100.2, 100.2, 99.9, 99.7, 99.6, 100.8, 102.2, 102.4\n",
    "               , 101.6, 100.8, 100.3, 99.9, 99.2, 99, 98.8, 99.1, 99.6, 99.9, 100.3\n",
    "               , 100.8, 101.7, 102.7, 103.4, 104.7, 105.5, 105.5, 106.3, 108.3, 110.7\n",
    "               , 112, 112.9, 114.4, 117, 119.8, 122.9, 125.1, 126.7, 128.3, 130.5\n",
    "               , 133.4, 136.5, 139.7, 142.3, 143.8, 143, 141.6, 140.7, 140.6, 141.1\n",
    "               , 141.8, 140.5, 139.8, 136.1, 133.4, 130.6, 126.2, 121.1]\n",
    "interestRate = [2.75, 2.75, 2.75, 2.75, 2.5, 2.5, 2.5, 2.5, 2.5, 2.5, 2.5, 2.5, 2.5\n",
    "               , 2.5, 2.5, 2.5, 2.5, 2.5, 2.5, 2.25, 2.25, 2, 2, 2, 2, 2, 1.75, 1.75\n",
    "               , 1.75, 1.5, 1.5, 1.5, 1.5, 1.5, 1.5, 1.5, 1.5, 1.5, 1.5, 1.5, 1.5, 1.25\n",
    "               , 1.25, 1.25, 1.25, 1.25, 1.25, 1.25, 1.25, 1.25, 1.25, 1.25, 1.25, 1.25\n",
    "               , 1.25, 1.25, 1.25, 1.25, 1.5, 1.5, 1.5, 1.5, 1.5, 1.5, 1.5, 1.5, 1.5\n",
    "               , 1.5, 1.5, 1.5, 1.75, 1.75, 1.75, 1.75, 1.75, 1.75, 1.75, 1.75, 1.5\n",
    "               , 1.5, 1.5, 1.25, 1.25, 1.25, 1.25, 1.25, 0.75, 0.75, 0.5, 0.5, 0.5\n",
    "               , 0.5, 0.5, 0.5, 0.5, 0.5, 0.5, 0.5, 0.5, 0.5, 0.5, 0.5, 0.5\n",
    "               , 0.75, 0.75, 0.75, 1, 1, 1.25, 1.25, 1.25, 1.5, 1.75, 1.75, 2.25, 2.5, 2.5\n",
    "               , 3, 3.25]\n",
    "data = {'부동산':realEstate, '금리':interestRate}\n",
    "\n",
    "plt.scatter(data['부동산'], data['금리'])\n",
    "plt.show()"
   ]
  },
  {
   "cell_type": "code",
   "execution_count": 3,
   "metadata": {
    "id": "WW6hUlsqoNry"
   },
   "outputs": [
    {
     "name": "stdout",
     "output_type": "stream",
     "text": [
      "          부동산        금리\n",
      "부동산  1.000000 -0.497677\n",
      "금리  -0.497677  1.000000\n"
     ]
    }
   ],
   "source": [
    "#코드 9-8\n",
    "df = pd.DataFrame(data)\n",
    "coef = df.corr(method='pearson')\n",
    "print(coef)"
   ]
  },
  {
   "cell_type": "code",
   "execution_count": 4,
   "metadata": {
    "id": "QDh2yY5-_whR"
   },
   "outputs": [
    {
     "name": "stdout",
     "output_type": "stream",
     "text": [
      "          지수        금리\n",
      "지수  1.000000 -0.854603\n",
      "금리 -0.854603  1.000000\n"
     ]
    }
   ],
   "source": [
    "#코드 9-9\n",
    "originalData = {'부동산':realEstate, '금리':interestRate}\n",
    "\n",
    "realEstateIndexList = []\n",
    "interestList = []\n",
    "lastIndex = -1\n",
    "\n",
    "#부동산 지수가 143.8이 될 때까지만 리스트에 데이터 추가하기\n",
    "for key, value in originalData.items():\n",
    "  if key == '부동산':\n",
    "    for i in range(0, len(value)):\n",
    "      if value[i] == 143.8:\n",
    "        break\n",
    "      else:\n",
    "        realEstateIndexList.append(value[i])\n",
    "        lastIndex = i\n",
    "  else:\n",
    "    for i in range(0, lastIndex + 1):\n",
    "      interestList.append(value[i])\n",
    "\n",
    "data = {'지수':realEstateIndexList, '금리':interestList}\n",
    "df = pd.DataFrame(data)\n",
    "coef = df.corr(method='pearson')\n",
    "print(coef)"
   ]
  },
  {
   "cell_type": "markdown",
   "metadata": {
    "id": "2tddT4CTKP44"
   },
   "source": [
    "### **2. 영어 성적과 수학 성적**"
   ]
  },
  {
   "cell_type": "code",
   "execution_count": 5,
   "metadata": {
    "id": "431lcI5boUuA"
   },
   "outputs": [
    {
     "name": "stdout",
     "output_type": "stream",
     "text": [
      "          영어        수학\n",
      "영어  1.000000  0.818182\n",
      "수학  0.818182  1.000000\n"
     ]
    }
   ],
   "source": [
    "#코드 9-10\n",
    "import pandas as pd\n",
    "\n",
    "data = {'영어':[4, 2, 1, 3, 10, 8, 9, 7, 6, 5],\n",
    "        '수학':[2, 1, 3, 4, 8, 7, 10, 5, 9, 6]}\n",
    "df = pd.DataFrame(data)\n",
    "coef = df.corr(method='spearman')\n",
    "print(coef)"
   ]
  }
 ],
 "metadata": {
  "colab": {
   "authorship_tag": "ABX9TyM9iO0MLAWKH1X0bVYXh/xE",
   "provenance": []
  },
  "kernelspec": {
   "display_name": "py312tf2",
   "language": "python",
   "name": "python3"
  },
  "language_info": {
   "codemirror_mode": {
    "name": "ipython",
    "version": 3
   },
   "file_extension": ".py",
   "mimetype": "text/x-python",
   "name": "python",
   "nbconvert_exporter": "python",
   "pygments_lexer": "ipython3",
   "version": "3.12.9"
  }
 },
 "nbformat": 4,
 "nbformat_minor": 0
}
