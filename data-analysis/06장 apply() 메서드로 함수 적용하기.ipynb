{
 "cells": [
  {
   "cell_type": "markdown",
   "id": "e49d2d9d",
   "metadata": {},
   "source": [
    "## 06-1 간단한 함수 만들기"
   ]
  },
  {
   "cell_type": "markdown",
   "id": "2d5062ed",
   "metadata": {},
   "source": [
    "#### [Do It! 실습] 사용자 함수 만들기"
   ]
  },
  {
   "cell_type": "code",
   "execution_count": 8,
   "id": "c46b4250",
   "metadata": {},
   "outputs": [],
   "source": [
    "def my_sq(x):\n",
    "    return x ** 2"
   ]
  },
  {
   "cell_type": "code",
   "execution_count": 9,
   "id": "60c4e379",
   "metadata": {},
   "outputs": [],
   "source": [
    "def avg_2(x, y):\n",
    "    return (x + y) / 2"
   ]
  },
  {
   "cell_type": "code",
   "execution_count": 10,
   "id": "d1b6a3dc",
   "metadata": {},
   "outputs": [],
   "source": [
    "def avg_2(x, y):\n",
    "    \"\"\"두 숫자의 평균을 구하는 함수\n",
    "    \"\"\"\n",
    "    return (x + y) / 2"
   ]
  },
  {
   "cell_type": "code",
   "execution_count": 11,
   "id": "a59fde30",
   "metadata": {},
   "outputs": [
    {
     "name": "stdout",
     "output_type": "stream",
     "text": [
      "16\n"
     ]
    }
   ],
   "source": [
    "my_calc_1 = my_sq(4)\n",
    "print(my_calc_1)"
   ]
  },
  {
   "cell_type": "code",
   "execution_count": 12,
   "id": "9f16bbd0",
   "metadata": {},
   "outputs": [
    {
     "name": "stdout",
     "output_type": "stream",
     "text": [
      "15.0\n"
     ]
    }
   ],
   "source": [
    "my_calc_2 = avg_2(10, 20)\n",
    "print(my_calc_2)"
   ]
  },
  {
   "cell_type": "markdown",
   "id": "c401b58e",
   "metadata": {},
   "source": [
    "## 06-2 apply() 메서드 사용하기"
   ]
  },
  {
   "cell_type": "markdown",
   "id": "d7bab8ee",
   "metadata": {},
   "source": [
    "#### [Do It! 실습] 데이터프레임에 함수 적용하기"
   ]
  },
  {
   "cell_type": "code",
   "execution_count": 13,
   "id": "01a0da75",
   "metadata": {},
   "outputs": [
    {
     "name": "stdout",
     "output_type": "stream",
     "text": [
      "    a   b\n",
      "0  10  20\n",
      "1  20  30\n",
      "2  30  40\n"
     ]
    }
   ],
   "source": [
    "import pandas as pd\n",
    "\n",
    "df = pd.DataFrame({\"a\": [10, 20, 30], \n",
    "                   \"b\": [20, 30, 40]})\n",
    "print(df)"
   ]
  },
  {
   "cell_type": "code",
   "execution_count": 14,
   "id": "2f13a1d6",
   "metadata": {},
   "outputs": [
    {
     "name": "stdout",
     "output_type": "stream",
     "text": [
      "0    100\n",
      "1    400\n",
      "2    900\n",
      "Name: a, dtype: int64\n"
     ]
    }
   ],
   "source": [
    "print(df['a'] ** 2)"
   ]
  },
  {
   "cell_type": "markdown",
   "id": "c2df540f",
   "metadata": {},
   "source": [
    "### 시리즈에 함수 적용하기"
   ]
  },
  {
   "cell_type": "markdown",
   "id": "80bc3d1c",
   "metadata": {},
   "source": [
    "#### [Do It! 실습] 시리즈에 함수 적용하기"
   ]
  },
  {
   "cell_type": "code",
   "execution_count": 15,
   "id": "b5d4c443",
   "metadata": {},
   "outputs": [
    {
     "name": "stdout",
     "output_type": "stream",
     "text": [
      "<class 'pandas.core.series.Series'>\n"
     ]
    }
   ],
   "source": [
    "print(type(df['a']))"
   ]
  },
  {
   "cell_type": "code",
   "execution_count": 16,
   "id": "3629195d",
   "metadata": {},
   "outputs": [
    {
     "name": "stdout",
     "output_type": "stream",
     "text": [
      "<class 'pandas.core.series.Series'>\n"
     ]
    }
   ],
   "source": [
    "print(type(df.iloc[0]))"
   ]
  },
  {
   "cell_type": "code",
   "execution_count": 17,
   "id": "7aeeeb45",
   "metadata": {},
   "outputs": [
    {
     "name": "stdout",
     "output_type": "stream",
     "text": [
      "0    100\n",
      "1    400\n",
      "2    900\n",
      "Name: a, dtype: int64\n"
     ]
    }
   ],
   "source": [
    "print(my_sq(df['a']))"
   ]
  },
  {
   "cell_type": "code",
   "execution_count": 18,
   "id": "bd3a28e1",
   "metadata": {},
   "outputs": [
    {
     "name": "stdout",
     "output_type": "stream",
     "text": [
      "0    100\n",
      "1    400\n",
      "2    900\n",
      "Name: a, dtype: int64\n"
     ]
    }
   ],
   "source": [
    "sq = df['a'].apply(my_sq)\n",
    "print(sq)"
   ]
  },
  {
   "cell_type": "markdown",
   "id": "742eb394",
   "metadata": {},
   "source": [
    "#### [Do It! 실습] 사용자 함수 만들어 데이터프레임에 적용하기"
   ]
  },
  {
   "cell_type": "code",
   "execution_count": 19,
   "id": "7d03bed0",
   "metadata": {},
   "outputs": [],
   "source": [
    "def my_exp(x, e):\n",
    "    return x ** e"
   ]
  },
  {
   "cell_type": "code",
   "execution_count": 20,
   "id": "66da0e64",
   "metadata": {},
   "outputs": [
    {
     "name": "stdout",
     "output_type": "stream",
     "text": [
      "8\n"
     ]
    }
   ],
   "source": [
    "cubed = my_exp(2, 3)\n",
    "\n",
    "print(cubed)"
   ]
  },
  {
   "cell_type": "code",
   "execution_count": null,
   "id": "98b03ff3",
   "metadata": {},
   "outputs": [],
   "source": [
    "# my_exp(2)  # 오류"
   ]
  },
  {
   "cell_type": "code",
   "execution_count": 21,
   "id": "87040008",
   "metadata": {},
   "outputs": [
    {
     "name": "stdout",
     "output_type": "stream",
     "text": [
      "0    100\n",
      "1    400\n",
      "2    900\n",
      "Name: a, dtype: int64\n"
     ]
    }
   ],
   "source": [
    "ex = df['a'].apply(my_exp, e=2)\n",
    "print(ex)"
   ]
  },
  {
   "cell_type": "code",
   "execution_count": 22,
   "id": "187b56b0",
   "metadata": {},
   "outputs": [
    {
     "name": "stdout",
     "output_type": "stream",
     "text": [
      "0     1000\n",
      "1     8000\n",
      "2    27000\n",
      "Name: a, dtype: int64\n"
     ]
    }
   ],
   "source": [
    "ex = df['a'].apply(my_exp, e=3)\n",
    "print(ex)"
   ]
  },
  {
   "cell_type": "markdown",
   "id": "08c035a5",
   "metadata": {},
   "source": [
    "### 데이터프레임에 함수 적용하기"
   ]
  },
  {
   "cell_type": "code",
   "execution_count": 23,
   "id": "975f9910",
   "metadata": {},
   "outputs": [
    {
     "name": "stdout",
     "output_type": "stream",
     "text": [
      "    a   b\n",
      "0  10  20\n",
      "1  20  30\n",
      "2  30  40\n"
     ]
    }
   ],
   "source": [
    "df = pd.DataFrame({\"a\": [10, 20, 30], \n",
    "                   \"b\": [20, 30, 40]})\n",
    "print(df)"
   ]
  },
  {
   "cell_type": "code",
   "execution_count": 24,
   "id": "ef66836b",
   "metadata": {},
   "outputs": [],
   "source": [
    "def print_me(x):\n",
    "    print(x)"
   ]
  },
  {
   "cell_type": "markdown",
   "id": "ee8863c0",
   "metadata": {},
   "source": [
    "#### [Do It! 실습] 열 단위로 함수 적용하기"
   ]
  },
  {
   "cell_type": "code",
   "execution_count": 25,
   "id": "02963ba8",
   "metadata": {},
   "outputs": [
    {
     "name": "stdout",
     "output_type": "stream",
     "text": [
      "0    10\n",
      "1    20\n",
      "2    30\n",
      "Name: a, dtype: int64\n",
      "0    20\n",
      "1    30\n",
      "2    40\n",
      "Name: b, dtype: int64\n"
     ]
    },
    {
     "data": {
      "text/plain": [
       "a    None\n",
       "b    None\n",
       "dtype: object"
      ]
     },
     "execution_count": 25,
     "metadata": {},
     "output_type": "execute_result"
    }
   ],
   "source": [
    "df.apply(print_me, axis=0)"
   ]
  },
  {
   "cell_type": "code",
   "execution_count": null,
   "id": "4ada6954",
   "metadata": {},
   "outputs": [
    {
     "name": "stdout",
     "output_type": "stream",
     "text": [
      "a    10\n",
      "b    20\n",
      "Name: 0, dtype: int64\n",
      "a    20\n",
      "b    30\n",
      "Name: 1, dtype: int64\n",
      "a    30\n",
      "b    40\n",
      "Name: 2, dtype: int64\n"
     ]
    },
    {
     "data": {
      "text/plain": [
       "0    None\n",
       "1    None\n",
       "2    None\n",
       "dtype: object"
      ]
     },
     "execution_count": 29,
     "metadata": {},
     "output_type": "execute_result"
    }
   ],
   "source": [
    "df.apply(print_me, axis=1)\n",
    "# axis = 0: 세로 방향, 열 기준\n",
    "# axis = 1: 가로 방향, 행 기준준"
   ]
  },
  {
   "cell_type": "code",
   "execution_count": 26,
   "id": "cb7913df",
   "metadata": {},
   "outputs": [
    {
     "name": "stdout",
     "output_type": "stream",
     "text": [
      "0    10\n",
      "1    20\n",
      "2    30\n",
      "Name: a, dtype: int64\n"
     ]
    }
   ],
   "source": [
    "print(df['a'])"
   ]
  },
  {
   "cell_type": "code",
   "execution_count": 27,
   "id": "6b32c69c",
   "metadata": {},
   "outputs": [
    {
     "name": "stdout",
     "output_type": "stream",
     "text": [
      "0    20\n",
      "1    30\n",
      "2    40\n",
      "Name: b, dtype: int64\n"
     ]
    }
   ],
   "source": [
    "print(df['b'])"
   ]
  },
  {
   "cell_type": "code",
   "execution_count": 28,
   "id": "bd74d215",
   "metadata": {},
   "outputs": [],
   "source": [
    "def avg_3(x, y, z):\n",
    "    return (x + y + z) / 3"
   ]
  },
  {
   "cell_type": "code",
   "execution_count": null,
   "id": "d0162ba8",
   "metadata": {},
   "outputs": [],
   "source": [
    "# print(df.apply(avg_3))  # 오류"
   ]
  },
  {
   "cell_type": "code",
   "execution_count": 30,
   "id": "0a9d3438",
   "metadata": {},
   "outputs": [],
   "source": [
    "def avg_3_apply(col):\n",
    "    x = col[0]\n",
    "    y = col[1]\n",
    "    z = col[2]\n",
    "    return (x + y + z) / 3"
   ]
  },
  {
   "cell_type": "code",
   "execution_count": 31,
   "id": "459b91cc",
   "metadata": {},
   "outputs": [
    {
     "name": "stdout",
     "output_type": "stream",
     "text": [
      "a    20.0\n",
      "b    30.0\n",
      "dtype: float64\n"
     ]
    }
   ],
   "source": [
    "print(df.apply(avg_3_apply))"
   ]
  },
  {
   "cell_type": "markdown",
   "id": "4cac7313",
   "metadata": {},
   "source": [
    "#### [Do It! 실습] 행 단위로 함수 적용하기"
   ]
  },
  {
   "cell_type": "code",
   "execution_count": null,
   "id": "90bdc6cf",
   "metadata": {},
   "outputs": [],
   "source": [
    "# print(df.apply(avg_3_apply, axis=1))  # 오류"
   ]
  },
  {
   "cell_type": "code",
   "execution_count": 32,
   "id": "8d97a4ff",
   "metadata": {},
   "outputs": [],
   "source": [
    "def avg_2_apply(row):\n",
    "    x = row[0]\n",
    "    y = row[1]\n",
    "    return (x + y) / 2"
   ]
  },
  {
   "cell_type": "code",
   "execution_count": 33,
   "id": "9fc98c82",
   "metadata": {},
   "outputs": [
    {
     "name": "stdout",
     "output_type": "stream",
     "text": [
      "0    15.0\n",
      "1    25.0\n",
      "2    35.0\n",
      "dtype: float64\n"
     ]
    },
    {
     "name": "stderr",
     "output_type": "stream",
     "text": [
      "C:\\Users\\asia\\AppData\\Local\\Temp\\ipykernel_9888\\646818405.py:2: FutureWarning: Series.__getitem__ treating keys as positions is deprecated. In a future version, integer keys will always be treated as labels (consistent with DataFrame behavior). To access a value by position, use `ser.iloc[pos]`\n",
      "  x = row[0]\n",
      "C:\\Users\\asia\\AppData\\Local\\Temp\\ipykernel_9888\\646818405.py:3: FutureWarning: Series.__getitem__ treating keys as positions is deprecated. In a future version, integer keys will always be treated as labels (consistent with DataFrame behavior). To access a value by position, use `ser.iloc[pos]`\n",
      "  y = row[1]\n"
     ]
    }
   ],
   "source": [
    "print(df.apply(avg_2_apply, axis=1))"
   ]
  },
  {
   "cell_type": "markdown",
   "id": "9cd5a2c2",
   "metadata": {},
   "source": [
    "## 06-3 람다 함수 사용하기 "
   ]
  },
  {
   "cell_type": "markdown",
   "id": "0d627195",
   "metadata": {},
   "source": [
    "#### [Do It! 실습] 데이터프레임에 람다 함수 사용하기"
   ]
  },
  {
   "cell_type": "code",
   "execution_count": 34,
   "id": "96f89619",
   "metadata": {},
   "outputs": [
    {
     "name": "stdout",
     "output_type": "stream",
     "text": [
      "    a   b\n",
      "0  10  20\n",
      "1  20  30\n",
      "2  30  40\n"
     ]
    }
   ],
   "source": [
    "df = pd.DataFrame({'a': [10, 20, 30],\n",
    "                   'b': [20, 30, 40]})\n",
    "print(df)"
   ]
  },
  {
   "cell_type": "code",
   "execution_count": 35,
   "id": "e10228fc",
   "metadata": {},
   "outputs": [
    {
     "name": "stdout",
     "output_type": "stream",
     "text": [
      "    a   b  a_sq\n",
      "0  10  20   100\n",
      "1  20  30   400\n",
      "2  30  40   900\n"
     ]
    }
   ],
   "source": [
    "def my_sq(x):\n",
    "    return x ** 2\n",
    "\n",
    "df['a_sq'] = df['a'].apply(my_sq)\n",
    "print(df)"
   ]
  },
  {
   "cell_type": "code",
   "execution_count": 36,
   "id": "8d9e0f32",
   "metadata": {},
   "outputs": [
    {
     "name": "stdout",
     "output_type": "stream",
     "text": [
      "    a   b  a_sq  a_sq_lamb\n",
      "0  10  20   100        100\n",
      "1  20  30   400        400\n",
      "2  30  40   900        900\n"
     ]
    }
   ],
   "source": [
    "df['a_sq_lamb'] = df['a'].apply(lambda x: x ** 2)\n",
    "print(df)"
   ]
  },
  {
   "cell_type": "markdown",
   "id": "24d20c98",
   "metadata": {},
   "source": [
    "## 06-4 벡터화된 함수 사용하기"
   ]
  },
  {
   "cell_type": "markdown",
   "id": "84e98017",
   "metadata": {},
   "source": [
    "#### [Do It! 실습] 벡터화된 함수 사용하기"
   ]
  },
  {
   "cell_type": "code",
   "execution_count": 44,
   "id": "c3daca75",
   "metadata": {},
   "outputs": [
    {
     "name": "stdout",
     "output_type": "stream",
     "text": [
      "    a   b\n",
      "0  10  20\n",
      "1  20  30\n",
      "2  30  40\n"
     ]
    }
   ],
   "source": [
    "df = pd.DataFrame({\"a\": [10, 20, 30], \n",
    "                   \"b\": [20, 30, 40]})\n",
    "print(df)"
   ]
  },
  {
   "cell_type": "code",
   "execution_count": 45,
   "id": "33412891",
   "metadata": {},
   "outputs": [],
   "source": [
    "def avg_2(x, y):\n",
    "    return (x + y) / 2"
   ]
  },
  {
   "cell_type": "code",
   "execution_count": 46,
   "id": "cd0c4d8f",
   "metadata": {},
   "outputs": [
    {
     "name": "stdout",
     "output_type": "stream",
     "text": [
      "0    15.0\n",
      "1    25.0\n",
      "2    35.0\n",
      "dtype: float64\n"
     ]
    }
   ],
   "source": [
    "print(avg_2(df['a'], df['b']))"
   ]
  },
  {
   "cell_type": "code",
   "execution_count": 58,
   "id": "86633375",
   "metadata": {},
   "outputs": [],
   "source": [
    "import numpy as np\n",
    "\n",
    "def avg_2_mod(x, y):\n",
    "    if (x == 20): # {10, 20, 30} == 20 이라는 뜻\n",
    "        return(np.nan)\n",
    "    else:\n",
    "        return (x + y) / 2"
   ]
  },
  {
   "cell_type": "code",
   "execution_count": null,
   "id": "12e9cfd6",
   "metadata": {},
   "outputs": [],
   "source": [
    "# print(avg_2_mod(df['a'], df['b']))  # 오류"
   ]
  },
  {
   "cell_type": "code",
   "execution_count": 59,
   "id": "9f42888e",
   "metadata": {},
   "outputs": [
    {
     "name": "stdout",
     "output_type": "stream",
     "text": [
      "15.0\n"
     ]
    }
   ],
   "source": [
    "print(avg_2_mod(10, 20))"
   ]
  },
  {
   "cell_type": "code",
   "execution_count": 60,
   "id": "27d5807b",
   "metadata": {
    "scrolled": true
   },
   "outputs": [
    {
     "name": "stdout",
     "output_type": "stream",
     "text": [
      "nan\n"
     ]
    }
   ],
   "source": [
    "print(avg_2_mod(20, 30))"
   ]
  },
  {
   "cell_type": "markdown",
   "id": "e0ec9d9b",
   "metadata": {},
   "source": [
    "### 넘파이와 넘바로 벡터화하기"
   ]
  },
  {
   "cell_type": "markdown",
   "id": "c8968f34",
   "metadata": {},
   "source": [
    "#### [Do It! 실습] 넘파이로 벡터화하기"
   ]
  },
  {
   "cell_type": "code",
   "execution_count": 67,
   "id": "3e61e390",
   "metadata": {},
   "outputs": [],
   "source": [
    "import numpy as np\n",
    "\n",
    "avg_2_mod_vec = np.vectorize(avg_2_mod)"
   ]
  },
  {
   "cell_type": "code",
   "execution_count": 68,
   "id": "2f9776c4",
   "metadata": {},
   "outputs": [
    {
     "name": "stdout",
     "output_type": "stream",
     "text": [
      "[15. nan 35.]\n"
     ]
    }
   ],
   "source": [
    "print(avg_2_mod_vec(df['a'], df['b']))"
   ]
  },
  {
   "cell_type": "code",
   "execution_count": null,
   "id": "4fec5510",
   "metadata": {},
   "outputs": [
    {
     "name": "stdout",
     "output_type": "stream",
     "text": [
      "[15. nan 35.]\n"
     ]
    }
   ],
   "source": [
    "@np.vectorize # 새 함수를 안 만들어도 됨됨\n",
    "def v_avg_2_mod(x, y):\n",
    "    if (x == 20):\n",
    "        return(np.nan)\n",
    "    else:\n",
    "        return (x + y) / 2\n",
    "\n",
    "print(v_avg_2_mod(df['a'], df['b']))"
   ]
  },
  {
   "cell_type": "markdown",
   "id": "ffe8fe59",
   "metadata": {},
   "source": [
    "#### [Do It! 실습] 넘바로 벡터화하기"
   ]
  },
  {
   "cell_type": "code",
   "execution_count": null,
   "id": "0511a50e",
   "metadata": {},
   "outputs": [],
   "source": [
    "import numba\n",
    "\n",
    "# Numba는 타입에 민감하기 때문에 타입 안정성을 위해 int(x)처럼 명시\n",
    "@numba.vectorize\n",
    "def v_avg_2_numba(x, y):\n",
    "    if (int(x) == 20):\n",
    "        return(np.nan)\n",
    "    else:\n",
    "        return (x + y) / 2"
   ]
  },
  {
   "cell_type": "code",
   "execution_count": null,
   "id": "8a70ed56",
   "metadata": {},
   "outputs": [],
   "source": [
    "# print(v_avg_2_numba(df['a'], df['b']))  # 오류\n",
    "# df['a']와 df['b']는 Pandas Series 객체이고,\n",
    "# @numba.vectorize로 만든 함수는 NumPy 배열 (np.ndarray)만 처리 가능"
   ]
  },
  {
   "cell_type": "code",
   "execution_count": null,
   "id": "1d2a0776",
   "metadata": {},
   "outputs": [],
   "source": [
    "print(v_avg_2_numba(df['a'].values, df['b'].values))\n",
    "# df['a'].values or .to_numpy()"
   ]
  },
  {
   "cell_type": "code",
   "execution_count": null,
   "id": "e86cb0f1",
   "metadata": {},
   "outputs": [],
   "source": []
  }
 ],
 "metadata": {
  "kernelspec": {
   "display_name": "py312tf2",
   "language": "python",
   "name": "python3"
  },
  "language_info": {
   "codemirror_mode": {
    "name": "ipython",
    "version": 3
   },
   "file_extension": ".py",
   "mimetype": "text/x-python",
   "name": "python",
   "nbconvert_exporter": "python",
   "pygments_lexer": "ipython3",
   "version": "3.12.9"
  },
  "toc": {
   "base_numbering": 1,
   "nav_menu": {},
   "number_sections": false,
   "sideBar": false,
   "skip_h1_title": false,
   "title_cell": "Table of Contents",
   "title_sidebar": "Contents",
   "toc_cell": false,
   "toc_position": {
    "height": "1098px",
    "left": "1021.87px",
    "top": "110.233px",
    "width": "212.133px"
   },
   "toc_section_display": true,
   "toc_window_display": true
  }
 },
 "nbformat": 4,
 "nbformat_minor": 5
}
