{
 "cells": [
  {
   "cell_type": "code",
   "execution_count": 2,
   "id": "c64a3009-bc82-4ac3-950f-b109f528983d",
   "metadata": {},
   "outputs": [],
   "source": [
    "# 데이터셋 불러오기"
   ]
  },
  {
   "cell_type": "code",
   "execution_count": 3,
   "id": "3c918e02",
   "metadata": {},
   "outputs": [],
   "source": [
    "import pandas as pd"
   ]
  },
  {
   "cell_type": "code",
   "execution_count": null,
   "id": "3d23d724-36ae-4c4a-bba3-ac1daf99c5fa",
   "metadata": {},
   "outputs": [],
   "source": []
  }
 ],
 "metadata": {
  "kernelspec": {
   "display_name": "Python 3 (ipykernel)",
   "language": "python",
   "name": "python3"
  },
  "language_info": {
   "codemirror_mode": {
    "name": "ipython",
    "version": 3
   },
   "file_extension": ".py",
   "mimetype": "text/x-python",
   "name": "python",
   "nbconvert_exporter": "python",
   "pygments_lexer": "ipython3",
   "version": "3.12.9"
  }
 },
 "nbformat": 4,
 "nbformat_minor": 5
}
