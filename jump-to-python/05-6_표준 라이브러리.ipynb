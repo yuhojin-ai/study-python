{
 "cells": [
  {
   "cell_type": "code",
   "execution_count": 2,
   "id": "de9ca468",
   "metadata": {},
   "outputs": [],
   "source": [
    "# functools.reduce\n",
    "import functools\n",
    "\n",
    "data = [1, 2, 3, 4, 5]\n",
    "result = functools.reduce(lambda x, y: x + y, data)"
   ]
  },
  {
   "cell_type": "code",
   "execution_count": 3,
   "id": "cea36cf8",
   "metadata": {},
   "outputs": [
    {
     "name": "stderr",
     "output_type": "stream",
     "text": [
      "<>:5: SyntaxWarning: 'tuple' object is not callable; perhaps you missed a comma?\n",
      "<>:5: SyntaxWarning: 'tuple' object is not callable; perhaps you missed a comma?\n",
      "C:\\Users\\asia\\AppData\\Local\\Temp\\ipykernel_18124\\1762556832.py:5: SyntaxWarning: 'tuple' object is not callable; perhaps you missed a comma?\n",
      "  (\"jane\", 22, 'A')\n"
     ]
    },
    {
     "ename": "TypeError",
     "evalue": "'tuple' object is not callable",
     "output_type": "error",
     "traceback": [
      "\u001b[1;31m---------------------------------------------------------------------------\u001b[0m",
      "\u001b[1;31mTypeError\u001b[0m                                 Traceback (most recent call last)",
      "Cell \u001b[1;32mIn[3], line 5\u001b[0m\n\u001b[0;32m      1\u001b[0m \u001b[38;5;66;03m# operator.itemgetter\u001b[39;00m\n\u001b[0;32m      2\u001b[0m \u001b[38;5;28;01mfrom\u001b[39;00m \u001b[38;5;21;01moperator\u001b[39;00m \u001b[38;5;28;01mimport\u001b[39;00m itemgetter\n\u001b[0;32m      4\u001b[0m students \u001b[38;5;241m=\u001b[39m [\n\u001b[1;32m----> 5\u001b[0m     (\u001b[38;5;124m\"\u001b[39m\u001b[38;5;124mjane\u001b[39m\u001b[38;5;124m\"\u001b[39m, \u001b[38;5;241m22\u001b[39m, \u001b[38;5;124m'\u001b[39m\u001b[38;5;124mA\u001b[39m\u001b[38;5;124m'\u001b[39m)\n\u001b[0;32m      6\u001b[0m     (\u001b[38;5;124m\"\u001b[39m\u001b[38;5;124mjane\u001b[39m\u001b[38;5;124m\"\u001b[39m, \u001b[38;5;241m22\u001b[39m, \u001b[38;5;124m'\u001b[39m\u001b[38;5;124mA\u001b[39m\u001b[38;5;124m'\u001b[39m)\n\u001b[0;32m      7\u001b[0m     (\u001b[38;5;124m\"\u001b[39m\u001b[38;5;124mjane\u001b[39m\u001b[38;5;124m\"\u001b[39m, \u001b[38;5;241m22\u001b[39m, \u001b[38;5;124m'\u001b[39m\u001b[38;5;124mA\u001b[39m\u001b[38;5;124m'\u001b[39m)\n\u001b[0;32m      8\u001b[0m ]\n",
      "\u001b[1;31mTypeError\u001b[0m: 'tuple' object is not callable"
     ]
    }
   ],
   "source": [
    "# operator.itemgetter\n",
    "from operator import itemgetter\n",
    "\n",
    "students = [\n",
    "    (\"jane\", 22, 'A')\n",
    "    (\"jane\", 22, 'A')\n",
    "    (\"jane\", 22, 'A')\n",
    "]"
   ]
  },
  {
   "cell_type": "code",
   "execution_count": null,
   "id": "974cb789",
   "metadata": {},
   "outputs": [],
   "source": [
    "# shutil\n",
    "import shutil\n",
    "\n",
    "shutil.copy(\"\",\"\")"
   ]
  },
  {
   "cell_type": "code",
   "execution_count": null,
   "id": "174a2a70",
   "metadata": {},
   "outputs": [],
   "source": [
    "# glob: 특정 디렉터리 안의 파일 이름을 읽어서 리스트로 리턴\n",
    "# *,?등 메타 문자를 써서 원하는 파일만 읽을 수 있음음\n",
    "import glob\n",
    "glob.glob()"
   ]
  },
  {
   "cell_type": "code",
   "execution_count": 4,
   "id": "f369cb23",
   "metadata": {},
   "outputs": [],
   "source": [
    "# pickle: 객체의 형태를 그대로 유지하면서 파일에 저장하고 불러옴\n",
    "# pickle.dump: 딕셔너리 객체를 그대로 파일에 저장"
   ]
  },
  {
   "cell_type": "code",
   "execution_count": null,
   "id": "cd1d68c8",
   "metadata": {},
   "outputs": [],
   "source": []
  },
  {
   "cell_type": "code",
   "execution_count": 5,
   "id": "effaafbe",
   "metadata": {},
   "outputs": [
    {
     "data": {
      "text/plain": [
       "environ{'ALLUSERSPROFILE': 'C:\\\\ProgramData',\n",
       "        'APPDATA': 'C:\\\\Users\\\\asia\\\\AppData\\\\Roaming',\n",
       "        'CHROME_CRASHPAD_PIPE_NAME': '\\\\\\\\.\\\\pipe\\\\crashpad_19816_NIGDRTHZQJTIFUQN',\n",
       "        'COMMONPROGRAMFILES': 'C:\\\\Program Files\\\\Common Files',\n",
       "        'COMMONPROGRAMFILES(X86)': 'C:\\\\Program Files (x86)\\\\Common Files',\n",
       "        'COMMONPROGRAMW6432': 'C:\\\\Program Files\\\\Common Files',\n",
       "        'COMPUTERNAME': 'ASIAE',\n",
       "        'COMSPEC': 'C:\\\\WINDOWS\\\\system32\\\\cmd.exe',\n",
       "        'CONDA_ALLOW_SOFTLINKS': 'false',\n",
       "        'CONDA_DEFAULT_ENV': 'py312tf2',\n",
       "        'CONDA_EXE': 'C:\\\\anaconda3\\\\Scripts\\\\conda.exe',\n",
       "        'CONDA_EXES': '\"C:\\\\anaconda3\\\\condabin\\\\..\\\\Scripts\\\\conda.exe\"  ',\n",
       "        'CONDA_PREFIX': 'C:\\\\anaconda3\\\\envs\\\\py312tf2',\n",
       "        'CONDA_PROMPT_MODIFIER': '(py312tf2) ',\n",
       "        'CONDA_PYTHON_EXE': 'C:\\\\anaconda3\\\\python.exe',\n",
       "        'CONDA_ROOT': 'C:\\\\anaconda3',\n",
       "        'CONDA_SHLVL': '1',\n",
       "        'DRIVERDATA': 'C:\\\\Windows\\\\System32\\\\Drivers\\\\DriverData',\n",
       "        'EFC_13296_1592913036': '1',\n",
       "        'ELECTRON_RUN_AS_NODE': '1',\n",
       "        'HOMEDRIVE': 'C:',\n",
       "        'HOMEPATH': '\\\\Users\\\\asia',\n",
       "        'JPY_INTERRUPT_EVENT': '2208',\n",
       "        'LOCALAPPDATA': 'C:\\\\Users\\\\asia\\\\AppData\\\\Local',\n",
       "        'LOGONSERVER': '\\\\\\\\ASIAE',\n",
       "        'NUMBER_OF_PROCESSORS': '28',\n",
       "        'ONEDRIVE': 'C:\\\\Users\\\\asia\\\\OneDrive',\n",
       "        'ORIGINAL_XDG_CURRENT_DESKTOP': 'undefined',\n",
       "        'OS': 'Windows_NT',\n",
       "        'PATH': 'c:\\\\anaconda3\\\\envs\\\\py312tf2;C:\\\\anaconda3\\\\envs\\\\py312tf2;C:\\\\anaconda3\\\\envs\\\\py312tf2\\\\Library\\\\mingw-w64\\\\bin;C:\\\\anaconda3\\\\envs\\\\py312tf2\\\\Library\\\\usr\\\\bin;C:\\\\anaconda3\\\\envs\\\\py312tf2\\\\Library\\\\bin;C:\\\\anaconda3\\\\envs\\\\py312tf2\\\\Scripts;C:\\\\anaconda3\\\\envs\\\\py312tf2\\\\bin;C:\\\\anaconda3\\\\condabin;C:\\\\WINDOWS\\\\system32;C:\\\\WINDOWS;C:\\\\WINDOWS\\\\System32\\\\Wbem;C:\\\\WINDOWS\\\\System32\\\\WindowsPowerShell\\\\v1.0;C:\\\\WINDOWS\\\\System32\\\\OpenSSH;C:\\\\anaconda3;C:\\\\anaconda3\\\\Library\\\\bin;C:\\\\anaconda3\\\\Library;C:\\\\anaconda3\\\\Scripts;C:\\\\Program Files\\\\Git\\\\cmd;C:\\\\Users\\\\asia\\\\AppData\\\\Local\\\\Programs\\\\Python\\\\Python313\\\\Scripts;C:\\\\Users\\\\asia\\\\AppData\\\\Local\\\\Programs\\\\Python\\\\Python313;C:\\\\Users\\\\asia\\\\AppData\\\\Local\\\\Programs\\\\Python\\\\Launcher;C:\\\\Users\\\\asia\\\\AppData\\\\Local\\\\Microsoft\\\\WindowsApps;C:\\\\Users\\\\asia\\\\AppData\\\\Local\\\\Programs\\\\Microsoft VS Code\\\\bin;.',\n",
       "        'PATHEXT': '.COM;.EXE;.BAT;.CMD;.VBS;.VBE;.JS;.JSE;.WSF;.WSH;.MSC',\n",
       "        'PROCESSOR_ARCHITECTURE': 'AMD64',\n",
       "        'PROCESSOR_IDENTIFIER': 'Intel64 Family 6 Model 183 Stepping 1, GenuineIntel',\n",
       "        'PROCESSOR_LEVEL': '6',\n",
       "        'PROCESSOR_REVISION': 'b701',\n",
       "        'PROGRAMDATA': 'C:\\\\ProgramData',\n",
       "        'PROGRAMFILES': 'C:\\\\Program Files',\n",
       "        'PROGRAMFILES(X86)': 'C:\\\\Program Files (x86)',\n",
       "        'PROGRAMW6432': 'C:\\\\Program Files',\n",
       "        'PROMPT': '(py312tf2) $P$G',\n",
       "        'PSMODULEPATH': 'C:\\\\Program Files\\\\WindowsPowerShell\\\\Modules;C:\\\\WINDOWS\\\\system32\\\\WindowsPowerShell\\\\v1.0\\\\Modules',\n",
       "        'PUBLIC': 'C:\\\\Users\\\\Public',\n",
       "        'PYDEVD_IPYTHON_COMPATIBLE_DEBUGGING': '1',\n",
       "        'PYTHONIOENCODING': 'utf-8',\n",
       "        'PYTHONUNBUFFERED': '1',\n",
       "        'PYTHONUTF8': '1',\n",
       "        'PYTHON_FROZEN_MODULES': 'on',\n",
       "        'SESSIONNAME': 'Console',\n",
       "        'SSL_CERT_FILE': 'C:\\\\anaconda3\\\\envs\\\\py312tf2\\\\Library\\\\ssl\\\\cacert.pem',\n",
       "        'SYSTEMDRIVE': 'C:',\n",
       "        'SYSTEMROOT': 'C:\\\\WINDOWS',\n",
       "        'TEMP': 'C:\\\\Users\\\\asia\\\\AppData\\\\Local\\\\Temp',\n",
       "        'TMP': 'C:\\\\Users\\\\asia\\\\AppData\\\\Local\\\\Temp',\n",
       "        'USERDOMAIN': 'asiae',\n",
       "        'USERDOMAIN_ROAMINGPROFILE': 'asiae',\n",
       "        'USERNAME': 'asia',\n",
       "        'USERPROFILE': 'C:\\\\Users\\\\asia',\n",
       "        'VSCODE_CODE_CACHE_PATH': 'C:\\\\Users\\\\asia\\\\AppData\\\\Roaming\\\\Code\\\\CachedData\\\\4949701c880d4bdb949e3c0e6b400288da7f474b',\n",
       "        'VSCODE_CRASH_REPORTER_PROCESS_TYPE': 'extensionHost',\n",
       "        'VSCODE_CWD': 'C:\\\\Users\\\\asia\\\\AppData\\\\Local\\\\Programs\\\\Microsoft VS Code',\n",
       "        'VSCODE_ESM_ENTRYPOINT': 'vs/workbench/api/node/extensionHostProcess',\n",
       "        'VSCODE_HANDLES_UNCAUGHT_ERRORS': 'true',\n",
       "        'VSCODE_IPC_HOOK': '\\\\\\\\.\\\\pipe\\\\7a33cca3-1.99.2-main-sock',\n",
       "        'VSCODE_L10N_BUNDLE_LOCATION': '',\n",
       "        'VSCODE_NLS_CONFIG': '{\"userLocale\":\"en-us\",\"osLocale\":\"ko\",\"resolvedLanguage\":\"en\",\"defaultMessagesFile\":\"C:\\\\\\\\Users\\\\\\\\asia\\\\\\\\AppData\\\\\\\\Local\\\\\\\\Programs\\\\\\\\Microsoft VS Code\\\\\\\\resources\\\\\\\\app\\\\\\\\out\\\\\\\\nls.messages.json\",\"locale\":\"en-us\",\"availableLanguages\":{}}',\n",
       "        'VSCODE_PID': '19816',\n",
       "        'WINDIR': 'C:\\\\WINDOWS',\n",
       "        '_CONDA_OLD_CHCP': '949',\n",
       "        '__CONDA_OPENSLL_CERT_FILE_SET': '\"1\"',\n",
       "        'PYDEVD_USE_FRAME_EVAL': 'NO',\n",
       "        'TERM': 'xterm-color',\n",
       "        'CLICOLOR': '1',\n",
       "        'FORCE_COLOR': '1',\n",
       "        'CLICOLOR_FORCE': '1',\n",
       "        'PAGER': 'cat',\n",
       "        'GIT_PAGER': 'cat',\n",
       "        'MPLBACKEND': 'module://matplotlib_inline.backend_inline'}"
      ]
     },
     "execution_count": 5,
     "metadata": {},
     "output_type": "execute_result"
    }
   ],
   "source": [
    "# os\n",
    "import os\n",
    "os.environ"
   ]
  },
  {
   "cell_type": "code",
   "execution_count": null,
   "id": "ca9eac62",
   "metadata": {},
   "outputs": [],
   "source": [
    "# threading: 크롤링할 때 자주 쓰임\n",
    "import time\n",
    "\n",
    "threds = []"
   ]
  }
 ],
 "metadata": {
  "kernelspec": {
   "display_name": "py312tf2",
   "language": "python",
   "name": "python3"
  },
  "language_info": {
   "codemirror_mode": {
    "name": "ipython",
    "version": 3
   },
   "file_extension": ".py",
   "mimetype": "text/x-python",
   "name": "python",
   "nbconvert_exporter": "python",
   "pygments_lexer": "ipython3",
   "version": "3.12.9"
  }
 },
 "nbformat": 4,
 "nbformat_minor": 5
}
