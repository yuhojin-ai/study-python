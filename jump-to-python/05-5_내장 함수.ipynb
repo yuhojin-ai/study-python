{
 "cells": [
  {
   "cell_type": "code",
   "execution_count": 3,
   "id": "6857b11f",
   "metadata": {},
   "outputs": [
    {
     "name": "stdout",
     "output_type": "stream",
     "text": [
      "3\n",
      "3\n",
      "1.2\n"
     ]
    }
   ],
   "source": [
    "# abs(x): 절댓값 반환\n",
    "print(abs(3))\n",
    "print(abs(-3))\n",
    "print(abs(-1.2))"
   ]
  },
  {
   "cell_type": "code",
   "execution_count": null,
   "id": "2a88caf2",
   "metadata": {},
   "outputs": [
    {
     "name": "stdout",
     "output_type": "stream",
     "text": [
      "True\n",
      "False\n",
      "True\n",
      "False\n",
      "True\n"
     ]
    }
   ],
   "source": [
    "# all(iterable): 모든 요소가 True면 True\n",
    "print(all([1, 2, 3]))\n",
    "print(all([1, 0, 3])) # 숫자 0은 False\n",
    "print(all([])) # all()은 **iterable이 비어있으면 True**를 반환\n",
    "print(all([\"a\", \"b\", \"\"])) # 빈문자열은 False\n",
    "nums = [2, 4, 6, 8]\n",
    "result = all(n % 2 == 0 for n in nums) # 모두 짝수인지 판별\n",
    "print(result)"
   ]
  },
  {
   "cell_type": "code",
   "execution_count": null,
   "id": "f8d972f4",
   "metadata": {},
   "outputs": [
    {
     "name": "stdout",
     "output_type": "stream",
     "text": [
      "True\n",
      "False\n",
      "False\n",
      "True\n"
     ]
    }
   ],
   "source": [
    "# any(iterable): 하나라도 True면 True\n",
    "print(any([1, 2, 3, 0]))\n",
    "print(any([0, \"\"]))\n",
    "print(any([]))\n",
    "# 음수 판별\n",
    "numbers = [3, 7, -2, 10]\n",
    "has_negative = any(n < 0 for n in numbers)\n",
    "print(has_negative)\n",
    "# 빈 값 확인\n",
    "inputs = [\"name\", \"\", \"email\"]\n",
    "print(any(i == \"\" for i in inputs))  # True"
   ]
  },
  {
   "cell_type": "code",
   "execution_count": 27,
   "id": "2fc00c8d",
   "metadata": {},
   "outputs": [
    {
     "name": "stdout",
     "output_type": "stream",
     "text": [
      "a\n",
      "A\n",
      "가\n",
      "A B C D E F G H I J K L M N O P Q R S T U V W X Y Z "
     ]
    }
   ],
   "source": [
    "# chr(i): 유니코드 정수 → 문자 \n",
    "# 유효한 유니코드 범위(보통 0 ~ 1,114,111)\n",
    "print(chr(97)) # a\n",
    "print(chr(65)) # A\n",
    "print(chr(44032)) # 가가\n",
    "# 알파벳 생성\n",
    "for i in range(65, 91):  # 65~90: A~Z\n",
    "    print(chr(i), end=\" \")"
   ]
  },
  {
   "cell_type": "code",
   "execution_count": null,
   "id": "8ffd866e",
   "metadata": {},
   "outputs": [
    {
     "name": "stdout",
     "output_type": "stream",
     "text": [
      "['__add__', '__class__', '__class_getitem__', '__contains__', '__delattr__', '__delitem__', '__dir__', '__doc__', '__eq__', '__format__', '__ge__', '__getattribute__', '__getitem__', '__getstate__', '__gt__', '__hash__', '__iadd__', '__imul__', '__init__', '__init_subclass__', '__iter__', '__le__', '__len__', '__lt__', '__mul__', '__ne__', '__new__', '__reduce__', '__reduce_ex__', '__repr__', '__reversed__', '__rmul__', '__setattr__', '__setitem__', '__sizeof__', '__str__', '__subclasshook__', 'append', 'clear', 'copy', 'count', 'extend', 'index', 'insert', 'pop', 'remove', 'reverse', 'sort']\n",
      "['__class__', '__class_getitem__', '__contains__', '__delattr__', '__delitem__', '__dir__', '__doc__', '__eq__', '__format__', '__ge__', '__getattribute__', '__getitem__', '__getstate__', '__gt__', '__hash__', '__init__', '__init_subclass__', '__ior__', '__iter__', '__le__', '__len__', '__lt__', '__ne__', '__new__', '__or__', '__reduce__', '__reduce_ex__', '__repr__', '__reversed__', '__ror__', '__setattr__', '__setitem__', '__sizeof__', '__str__', '__subclasshook__', 'clear', 'copy', 'fromkeys', 'get', 'items', 'keys', 'pop', 'popitem', 'setdefault', 'update', 'values']\n"
     ]
    }
   ],
   "source": [
    "# dir(obj): 객체가 가진 속성과 메서드 목록\n",
    "print(dir([1, 2, 3])) # 리스트 객체가 가진 속성과 메서드 목록\n",
    "print(dir({'1':'a'})) # 딕셔너리 객체가 가진 기능들"
   ]
  },
  {
   "cell_type": "code",
   "execution_count": null,
   "id": "57e3c71f",
   "metadata": {},
   "outputs": [
    {
     "data": {
      "text/plain": [
       "(2, 1)"
      ]
     },
     "execution_count": 1,
     "metadata": {},
     "output_type": "execute_result"
    }
   ],
   "source": [
    "# divmod(a, b): 몫과 나머지 튜플로 반환 ((a // b, a % b))\n",
    "# 시간을 분/초, 시/분으로 나눌 때때\n",
    "divmod(7, 3)"
   ]
  },
  {
   "cell_type": "code",
   "execution_count": null,
   "id": "d67c91a9",
   "metadata": {},
   "outputs": [
    {
     "name": "stdout",
     "output_type": "stream",
     "text": [
      "0 body\n",
      "1 foo\n",
      "2 bar\n"
     ]
    }
   ],
   "source": [
    "# enumerate(iterable, start=0): 인덱스와 값을 튜플로 반환하는 반복자\n",
    "for i, name in enumerate(['body', 'foo', 'bar']):\n",
    "    print(i, name)"
   ]
  },
  {
   "cell_type": "code",
   "execution_count": null,
   "id": "213b713e",
   "metadata": {},
   "outputs": [
    {
     "name": "stdout",
     "output_type": "stream",
     "text": [
      "3\n",
      "hia\n",
      "(1, 1)\n",
      "50\n",
      "결과: 2\n"
     ]
    }
   ],
   "source": [
    "# eval(expression[, globals[, locals]]): 문자열로 된 표현식 실행\n",
    "# 전역/지역 변수 환경(보통 생략)\n",
    "print(eval('1 + 2'))\n",
    "print(eval(\"'hi' + 'a'\"))\n",
    "print(eval('divmod(4, 3)'))\n",
    "# 변수도 가능능\n",
    "x = 10\n",
    "print(eval('x * 5'))\n",
    "\n",
    "# 계산기\n",
    "expr = input(\"계산식 입력: \")  # 예: 3 * (4 + 2)\n",
    "print(\"결과:\", eval(expr))\n",
    "\n",
    "# 신뢰할 수 없는 입력에는 절대 eval() 쓰지 않는다.\n",
    "#eval(\"__import__('os').system('rm -rf /')\")\n",
    "\n",
    "# 수학 표현식 계산\tast.literal_eval() (단순한 값만 실행 가능)\n",
    "# 파서 직접 만들기\tsympy, math 모듈 등 활용\n",
    "# 표현식만 계산\teval() 사용 시 사전 정의된 globals 제한하기"
   ]
  },
  {
   "cell_type": "code",
   "execution_count": 15,
   "id": "27d1e6b3",
   "metadata": {},
   "outputs": [
    {
     "name": "stdout",
     "output_type": "stream",
     "text": [
      "[1, 2, 6]\n",
      "<filter object at 0x000001B97D628E20>\n",
      "['apple', 'banana', 'cherry']\n"
     ]
    }
   ],
   "source": [
    "# filter(func, iterable): 조건에 맞는 요소만 걸러냄\n",
    "# 함수, 반복 가능한 데이터터\n",
    "# 보통 list()로 감싸서 확인\n",
    "\n",
    "# def positive(l):\n",
    "#     result = []\n",
    "#     for i in l:\n",
    "#         if i > 0:\n",
    "#             result.append(i)\n",
    "#     return result\n",
    "# print(positive([1, -3, 2, -1, 5]))\n",
    "\n",
    "# 위 코드 filter 사용\n",
    "def positive(x):\n",
    "    return x > 0\n",
    "print(list(filter(positive, [1, -3, 2, 0, -5, 6])))\n",
    "\n",
    "# lambda 사용\n",
    "list(filter(lambda x: x > 0, [1, -3, 2, 0, -5, 6]))\n",
    "print(filter(lambda x: x > 0, [1, -3, 2, 0, -5, 6]))\n",
    "# 문자열에서 빈 문자열 제거\n",
    "words = [\"apple\", \"\", \"banana\", \"\", \"cherry\"]\n",
    "non_empty = filter(None, words)\n",
    "print(list(non_empty))  # ['apple', 'banana', 'cherry']"
   ]
  },
  {
   "cell_type": "code",
   "execution_count": null,
   "id": "9e2d2122",
   "metadata": {},
   "outputs": [
    {
     "data": {
      "text/plain": [
       "'0x3'"
      ]
     },
     "execution_count": 14,
     "metadata": {},
     "output_type": "execute_result"
    }
   ],
   "source": [
    "# hex(x): 6진수 문자열 반환 (0x...)\n",
    "print(hex(234))\n",
    "print(hex(3))\n",
    "\n",
    "# 16진수를 정수로 변환\n",
    "print(int('0xff', 16))\n",
    "print(int('3e8', 16))\n",
    "\n",
    "# 비트 연산, 하드웨어 제어, 네트워크 프로그래밍 등에서 자주 사용\n",
    "# 디버깅할 때 숫자를 16진수로 보기도 좋음"
   ]
  },
  {
   "cell_type": "code",
   "execution_count": 18,
   "id": "c4f9210f",
   "metadata": {},
   "outputs": [
    {
     "name": "stdout",
     "output_type": "stream",
     "text": [
      "140719828642296\n",
      "140719828642296\n",
      "140719828642296\n",
      "140719828642328\n"
     ]
    },
    {
     "data": {
      "text/plain": [
       "True"
      ]
     },
     "execution_count": 18,
     "metadata": {},
     "output_type": "execute_result"
    }
   ],
   "source": [
    "# id(obj): 객체의 메모리 주소 반환\n",
    "a = 3\n",
    "print(id(3))\n",
    "print(id(a))\n",
    "b = a\n",
    "print(id(b))\n",
    "\n",
    "print(id(4))\n",
    "\n",
    "# 변수들이 같은 객체를 가리키는지 확인\n",
    "a is b  # True or False (id(a) == id(b))"
   ]
  },
  {
   "cell_type": "code",
   "execution_count": 20,
   "id": "39fbed78",
   "metadata": {},
   "outputs": [
    {
     "name": "stdout",
     "output_type": "stream",
     "text": [
      "안녕하세요, 호진\n",
      "32\n",
      "x: 1\n",
      "y: 4\n"
     ]
    }
   ],
   "source": [
    "# input(prompt): 사용자 입력 받기 (문자열)\n",
    "# 반환값: 문자열(str) 형태\n",
    "\n",
    "name = input(\"이름을 입력하세요: \")\n",
    "print(\"안녕하세요,\", name)\n",
    "\n",
    "# 숫자 입력 받기\n",
    "age = int(input(\"나이를 입력하세요: \"))\n",
    "print(age + 1)\n",
    "\n",
    "# 여러 개 입력 받기(split()활용)\n",
    "x, y = input(\"두 수를 입력하세요: \").split()\n",
    "print(\"x:\", x)\n",
    "print(\"y:\", y)\n",
    "\n",
    "# map()활용해서 숫자로 변경\n",
    "x, y = map(int, input(\"두 수를 입력하세요: \").split())"
   ]
  },
  {
   "cell_type": "code",
   "execution_count": 22,
   "id": "a5067ae4",
   "metadata": {},
   "outputs": [
    {
     "name": "stdout",
     "output_type": "stream",
     "text": [
      "5\n",
      "3\n",
      "26\n"
     ]
    }
   ],
   "source": [
    "# int(x): 정수형으로 변환\n",
    "print(int('5'))\n",
    "\n",
    "# radix진수로 표현된 문자열 10진수로 변환\n",
    "print(int('11', 2))\n",
    "print(int('1A', 16))"
   ]
  },
  {
   "cell_type": "code",
   "execution_count": null,
   "id": "15046d47",
   "metadata": {},
   "outputs": [
    {
     "name": "stdout",
     "output_type": "stream",
     "text": [
      "True\n"
     ]
    }
   ],
   "source": [
    "# isinstance(obj, class): 객체가 특정 클래스의 인스턴스인지 확인\n",
    "# 상속 관계에서도 True\n",
    "class Person: pass\n",
    "a = Person()\n",
    "print(isinstance(a, Person))\n",
    "\n",
    "isinstance(5, int)         # True\n",
    "isinstance(\"hello\", str)   # True\n",
    "isinstance(3.14, float)    # True\n",
    "isinstance([1, 2, 3], list) # True\n",
    "\n",
    "#여러 자료형 중 하나일 경우\n",
    "x = 3.14\n",
    "isinstance(x, (int, float))  # True → 둘 중 하나라도 맞으면 True\n",
    "\n",
    "# 타입 검사해서 조건 분기할 때\n",
    "# 숫자/문자/리스트 처리 다르게 하고 싶을 때\n",
    "# 사용자 입력이나 데이터 검증 로직 만들 때\n"
   ]
  },
  {
   "cell_type": "code",
   "execution_count": null,
   "id": "e55059b2",
   "metadata": {},
   "outputs": [
    {
     "name": "stdout",
     "output_type": "stream",
     "text": [
      "6\n",
      "3\n",
      "2\n"
     ]
    }
   ],
   "source": [
    "# len(obj): 요소 개수 반환 (길이)\n",
    "# len() 숫자에는 쓸 수 없다\n",
    "print(len(\"python\"))\n",
    "print(len([1, 2, 3]))\n",
    "print(len((1, 'a'))) # 키 기준"
   ]
  },
  {
   "cell_type": "code",
   "execution_count": 33,
   "id": "57b3ecb0",
   "metadata": {},
   "outputs": [
    {
     "name": "stdout",
     "output_type": "stream",
     "text": [
      "['p', 'y', 't', 'h', 'o', 'n']\n",
      "[1, 2, 3]\n",
      "[10, 20, 30]\n",
      "['a', 'b']\n",
      "[('a', 1), ('b', 2)]\n"
     ]
    }
   ],
   "source": [
    "# list(iterable): 리스트로 변환\n",
    "print(list(\"python\"))\n",
    "print(list((1, 2, 3)))\n",
    "print(list({10, 20, 30})) # 집합(set)은 순서가 보장되지 않음\n",
    "print(list({\"a\": 1, \"b\": 2})) # 키만 가져옴\n",
    "print(list({\"a\": 1, \"b\": 2}.items())) #  (key, value)형태로 가져옴옴"
   ]
  },
  {
   "cell_type": "code",
   "execution_count": 36,
   "id": "fac1750f",
   "metadata": {},
   "outputs": [
    {
     "name": "stdout",
     "output_type": "stream",
     "text": [
      "[2, 4, 6, 8]\n",
      "[2, 4, 6, 8]\n"
     ]
    }
   ],
   "source": [
    "# map(func, iterable): 모든 요소에 함수 적용\n",
    "def two_times(x):\n",
    "    return x * 2\n",
    "print(list(map(two_times,[1, 2, 3, 4])))\n",
    "\n",
    "# lambda 활용\n",
    "print(list(map(lambda a: a*2, [1, 2, 3, 4])))"
   ]
  },
  {
   "cell_type": "code",
   "execution_count": null,
   "id": "2045177c",
   "metadata": {},
   "outputs": [
    {
     "name": "stdout",
     "output_type": "stream",
     "text": [
      "3\n",
      "y\n",
      "banana\n",
      "민수\n"
     ]
    }
   ],
   "source": [
    "# max(iterable): 최댓값\n",
    "print(max([1, 2, 3]))\n",
    "print(max(\"python\")) # 유니코드 값이 가장 큰 문자 리턴\n",
    "# 길이가 가장 긴 문자열 찾기\n",
    "words = ['apple', 'banana', 'kiwi']\n",
    "print(max(words, key=len))\n",
    "\n",
    "scores = {'철수': 90, '영희': 85, '민수': 95}\n",
    "print(max(scores, key=scores.get))\n",
    "\n",
    "# 빈 리스트에서 max()는 에러"
   ]
  },
  {
   "cell_type": "code",
   "execution_count": 40,
   "id": "07031c97",
   "metadata": {},
   "outputs": [
    {
     "name": "stdout",
     "output_type": "stream",
     "text": [
      "1\n",
      "h\n",
      "kiwi\n",
      "영희\n"
     ]
    }
   ],
   "source": [
    "# min(iterable)\t최솟값\n",
    "print(min([1, 2, 3]))\n",
    "print(min(\"python\")) # 유니코드 값이 가장 짧은 문자 리턴\n",
    "# 길이가 가장 짧은 문자열 찾기\n",
    "words = ['apple', 'banana', 'kiwi']\n",
    "print(min(words, key=len))\n",
    "\n",
    "scores = {'철수': 90, '영희': 85, '민수': 95}\n",
    "print(min(scores, key=scores.get))\n",
    "\n",
    "# 빈 리스트에서 max()는 에러"
   ]
  },
  {
   "cell_type": "code",
   "execution_count": null,
   "id": "5959a9ec",
   "metadata": {},
   "outputs": [],
   "source": [
    "# oct(x): 8진수 문자열 반환 (0o...)\n",
    "print(oct(34))\n",
    "print(oct(12345))\n",
    "\n",
    "# 파일 권한 표현 (Linux)\n",
    "# chmod 755 같은 명령어에서 755는 사실 8진수야 → 권한을 비트로 표현할 때 사용됨.\n",
    "# 비트 연산이나 시스템 프로그래밍에서 진수 변환할 때\n",
    "# 디버깅할 때도 숫자를 다양한 진수로 보고 싶을 수 있음"
   ]
  },
  {
   "cell_type": "code",
   "execution_count": null,
   "id": "9e817f08",
   "metadata": {},
   "outputs": [],
   "source": [
    "# open(file, mode='r', encoding=None): 파일 열기\n",
    "# 파일 읽기\n",
    "# f = open('data.txt', 'r', encoding='utf-8')\n",
    "# content = f.read()\n",
    "# f.close()\n",
    "# print(content)\n",
    "\n",
    "# # 쓰기 \n",
    "# f = open('data.txt', 'w', encoding='utf-8')\n",
    "# f.write(\"안녕하세요!\")\n",
    "# f.close()\n",
    "\n",
    "# # 추가\n",
    "# f = open('data.txt', 'a', encoding='utf-8')\n",
    "# f.write(\"\\n추가된 문장입니다.\")\n",
    "# f.close()\n",
    "\n",
    "# # with 사용 close() 안써도 자동으로 닫아준다\n",
    "# with open('data.txt', 'r', encoding='utf-8') as f:\n",
    "#     print(f.read())\n",
    "\n",
    "# 'r'\t읽기 전용 (기본값, 파일 없으면 에러)\n",
    "# 'w'\t쓰기 (기존 내용 삭제, 파일 없으면 새로 만듦)\n",
    "# 'a'\t추가 (기존 내용 뒤에 덧붙임)\n",
    "# 'b'\t바이너리 모드 (예: 'rb', 'wb')\n",
    "# '+'\t읽기와 쓰기 둘 다 (예: 'r+', 'w+')"
   ]
  },
  {
   "cell_type": "code",
   "execution_count": 42,
   "id": "e4b16b50",
   "metadata": {},
   "outputs": [
    {
     "name": "stdout",
     "output_type": "stream",
     "text": [
      "97\n",
      "44032\n",
      "128516\n"
     ]
    }
   ],
   "source": [
    "# ord(c): 문자 → 유니코드 정수\n",
    "# chr()함수와 반대로 작동\n",
    "# 기호, 이모지 가능\n",
    "print(ord('a'))\n",
    "print(ord('가'))\n",
    "print(ord('😄'))"
   ]
  },
  {
   "cell_type": "code",
   "execution_count": null,
   "id": "16d57ac5",
   "metadata": {},
   "outputs": [
    {
     "name": "stdout",
     "output_type": "stream",
     "text": [
      "16\n",
      "27\n",
      "3\n"
     ]
    }
   ],
   "source": [
    "# pow(x, y): x의 y제곱 (x ** y)\n",
    "print(pow(2, 4))\n",
    "print(pow(3, 3))\n",
    "# 모듈러 제곱\n",
    "print(pow(2, 3, 5))\n",
    "# 일반 계산보다 속도가 훨씬 빠르기 때문에 큰 수 계산할 때 자주 사용"
   ]
  },
  {
   "cell_type": "code",
   "execution_count": null,
   "id": "ecd85376",
   "metadata": {},
   "outputs": [
    {
     "name": "stdout",
     "output_type": "stream",
     "text": [
      "[0, 1, 2, 3, 4]\n",
      "[5, 6, 7, 8, 9]\n",
      "[1, 3, 5, 7, 9]\n"
     ]
    }
   ],
   "source": [
    "# range(start, stop, step): 숫자 범위 생성\n",
    "# stop은 포함되지 않는다\n",
    "\n",
    "# 인수가 하나일 경우\n",
    "print(list(range(5)))\n",
    "# 인수가 2개일 경우\n",
    "print(list(range(5, 10)))\n",
    "# 인수가 3개일 경우\n",
    "print(list(range(1, 10, 2)))"
   ]
  },
  {
   "cell_type": "code",
   "execution_count": 60,
   "id": "022a6b4f",
   "metadata": {},
   "outputs": [
    {
     "name": "stdout",
     "output_type": "stream",
     "text": [
      "5\n",
      "4\n",
      "3.17\n",
      "2\n",
      "4\n"
     ]
    }
   ],
   "source": [
    "# round(number[, ndigits]): 반올림\n",
    "# ndigits (선택): 소수점 아래 몇 자리까지 남길지\n",
    "print(round(4.6))\n",
    "print(round(4.2))\n",
    "print(round(3.165, 2))\n",
    "print(round(2.5)) # 짝수쪽으로 반올림\n",
    "print(round(3.5)) # 짝수쪽으로 반올림"
   ]
  },
  {
   "cell_type": "code",
   "execution_count": null,
   "id": "43da9dc2",
   "metadata": {},
   "outputs": [
    {
     "name": "stdout",
     "output_type": "stream",
     "text": [
      "[1, 2, 3]\n",
      "['a', 'b', 'c']\n",
      "['e', 'o', 'r', 'z']\n",
      "['a', 'b', 'c']\n"
     ]
    }
   ],
   "source": [
    "# sorted(iterable, key=None, reverse=False): 정렬된 리스트 반환\n",
    "print(sorted([3, 1, 2]))\n",
    "print(sorted(['a', 'c', 'b']))\n",
    "print(sorted(\"zero\"))\n",
    "\n",
    "d = {'b': 2, 'a': 1, 'c': 3} # 딕셔너리 key 정리\n",
    "print(sorted(d))"
   ]
  },
  {
   "cell_type": "code",
   "execution_count": 67,
   "id": "9ce31267",
   "metadata": {},
   "outputs": [
    {
     "data": {
      "text/plain": [
       "'3'"
      ]
     },
     "execution_count": 67,
     "metadata": {},
     "output_type": "execute_result"
    }
   ],
   "source": [
    "# str(x): 문자열로 변환\n",
    "str(3)"
   ]
  },
  {
   "cell_type": "code",
   "execution_count": 71,
   "id": "c40d0182",
   "metadata": {},
   "outputs": [
    {
     "name": "stdout",
     "output_type": "stream",
     "text": [
      "6\n",
      "16\n"
     ]
    }
   ],
   "source": [
    "# sum(iterable): 요소 총\n",
    "print(sum([1, 2, 3]))\n",
    "\n",
    "# start 인자 활용\n",
    "print(sum([1, 2, 3], 10))"
   ]
  },
  {
   "cell_type": "code",
   "execution_count": 73,
   "id": "e2bf63e4",
   "metadata": {},
   "outputs": [
    {
     "name": "stdout",
     "output_type": "stream",
     "text": [
      "('a', 'b', 'c')\n",
      "(1, 2, 3)\n",
      "(1, 2, 3)\n",
      "('a', 'b')\n"
     ]
    }
   ],
   "source": [
    "# tuple(iterable): 튜플로 변환\n",
    "print(tuple(\"abc\"))\n",
    "print(tuple([1, 2, 3]))\n",
    "print(tuple((1, 2, 3)))\n",
    "print(tuple({'a': 1, 'b': 2})) # 딕셔너리 는 Key만"
   ]
  },
  {
   "cell_type": "code",
   "execution_count": 76,
   "id": "88f1fdce",
   "metadata": {},
   "outputs": [
    {
     "name": "stdout",
     "output_type": "stream",
     "text": [
      "<class 'str'>\n",
      "<class 'list'>\n",
      "<class '__main__.Dog'>\n"
     ]
    }
   ],
   "source": [
    "# type(obj): 객체의 타입 반환\n",
    "print(type(\"abc\"))\n",
    "print(type([]))\n",
    "\n",
    "class Dog:\n",
    "    pass\n",
    "\n",
    "d = Dog()\n",
    "print(type(d))"
   ]
  },
  {
   "cell_type": "code",
   "execution_count": null,
   "id": "1cdf3e0f",
   "metadata": {},
   "outputs": [
    {
     "name": "stdout",
     "output_type": "stream",
     "text": [
      "[(1, 4), (2, 5), (3, 6)]\n",
      "[(1, 4, 7), (2, 5, 8), (3, 6, 9)]\n",
      "[('a', 'd'), ('b', 'e'), ('c', 'f')]\n",
      "[(1, 'a'), (2, 'b')]\n",
      "('a', 'b', 'c')\n",
      "(1, 2, 3)\n"
     ]
    }
   ],
   "source": [
    "# zip(*iterables)\t여러 iterable을 병렬로 묶기 (튜플)\n",
    "print(list(zip([1, 2, 3], [4, 5, 6])))\n",
    "print(list(zip([1, 2, 3], [4, 5, 6], [7, 8, 9])))\n",
    "print(list(zip(\"abc\", \"def\")))\n",
    "\n",
    "# 길이가 다른 경우 짧은 쪽에 맞춰짐 \n",
    "a = [1, 2, 3]\n",
    "b = ['a', 'b']\n",
    "print(list(zip(a, b)))\n",
    "\n",
    "# * 언패킹으로 역전환\n",
    "zipped = [('a', 1), ('b', 2), ('c', 3)]\n",
    "letters, numbers = zip(*zipped)\n",
    "print(letters)  # ('a', 'b', 'c')\n",
    "print(numbers)  # (1, 2, 3)\n",
    "\n",
    "# 두 리스트를 동시에 순회할 때\n",
    "# 리스트끼리 묶어서 딕셔너리 만들 때"
   ]
  }
 ],
 "metadata": {
  "kernelspec": {
   "display_name": "py312tf2",
   "language": "python",
   "name": "python3"
  },
  "language_info": {
   "codemirror_mode": {
    "name": "ipython",
    "version": 3
   },
   "file_extension": ".py",
   "mimetype": "text/x-python",
   "name": "python",
   "nbconvert_exporter": "python",
   "pygments_lexer": "ipython3",
   "version": "3.12.9"
  }
 },
 "nbformat": 4,
 "nbformat_minor": 5
}
